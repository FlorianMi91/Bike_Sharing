{
 "cells": [
  {
   "cell_type": "code",
   "execution_count": 22,
   "metadata": {},
   "outputs": [],
   "source": [
    "import pandas as pd\n",
    "import numpy as np\n",
    "from lightgbm import LGBMRegressor\n",
    "import matplotlib.pyplot as plt\n",
    "from sklearn.ensemble import RandomForestRegressor\n",
    "from sklearn.pipeline import make_pipeline\n",
    "from sklearn.compose import make_column_transformer\n",
    "from sklearn.preprocessing import StandardScaler, PolynomialFeatures, MinMaxScaler, RobustScaler, OneHotEncoder\n",
    "from sklearn.metrics import r2_score"
   ]
  },
  {
   "cell_type": "code",
   "execution_count": 23,
   "metadata": {},
   "outputs": [],
   "source": [
    "df = pd.read_csv(\"Datas/data_rudy.csv\")"
   ]
  },
  {
   "cell_type": "code",
   "execution_count": 24,
   "metadata": {},
   "outputs": [
    {
     "data": {
      "text/html": [
       "<div>\n",
       "<style scoped>\n",
       "    .dataframe tbody tr th:only-of-type {\n",
       "        vertical-align: middle;\n",
       "    }\n",
       "\n",
       "    .dataframe tbody tr th {\n",
       "        vertical-align: top;\n",
       "    }\n",
       "\n",
       "    .dataframe thead th {\n",
       "        text-align: right;\n",
       "    }\n",
       "</style>\n",
       "<table border=\"1\" class=\"dataframe\">\n",
       "  <thead>\n",
       "    <tr style=\"text-align: right;\">\n",
       "      <th></th>\n",
       "      <th>datetime</th>\n",
       "      <th>season</th>\n",
       "      <th>holiday</th>\n",
       "      <th>workingday</th>\n",
       "      <th>weather</th>\n",
       "      <th>temp</th>\n",
       "      <th>humidity</th>\n",
       "      <th>windspeed</th>\n",
       "      <th>count</th>\n",
       "      <th>day</th>\n",
       "      <th>month</th>\n",
       "      <th>day_number</th>\n",
       "      <th>year</th>\n",
       "      <th>hour</th>\n",
       "    </tr>\n",
       "  </thead>\n",
       "  <tbody>\n",
       "    <tr>\n",
       "      <th>0</th>\n",
       "      <td>2011-01-01 00:00:00</td>\n",
       "      <td>1</td>\n",
       "      <td>0</td>\n",
       "      <td>0</td>\n",
       "      <td>1</td>\n",
       "      <td>9.84</td>\n",
       "      <td>81</td>\n",
       "      <td>0.0</td>\n",
       "      <td>16</td>\n",
       "      <td>Saturday</td>\n",
       "      <td>1</td>\n",
       "      <td>0</td>\n",
       "      <td>2011</td>\n",
       "      <td>0</td>\n",
       "    </tr>\n",
       "  </tbody>\n",
       "</table>\n",
       "</div>"
      ],
      "text/plain": [
       "              datetime  season  holiday  workingday  weather  temp  humidity  \\\n",
       "0  2011-01-01 00:00:00       1        0           0        1  9.84        81   \n",
       "\n",
       "   windspeed  count       day  month  day_number  year  hour  \n",
       "0        0.0     16  Saturday      1           0  2011     0  "
      ]
     },
     "execution_count": 24,
     "metadata": {},
     "output_type": "execute_result"
    }
   ],
   "source": [
    "df.head(1)"
   ]
  },
  {
   "cell_type": "markdown",
   "metadata": {},
   "source": [
    "## Train Test Split"
   ]
  },
  {
   "cell_type": "code",
   "execution_count": null,
   "metadata": {},
   "outputs": [],
   "source": [
    "# Split des données avant (train) et après(test) Septembre 2012"
   ]
  },
  {
   "cell_type": "code",
   "execution_count": 25,
   "metadata": {},
   "outputs": [],
   "source": [
    "X_train = df[(df.month <=  8) | (df.year == 2011)].drop([\"datetime\",\"count\"], axis=1)\n",
    "X_test = df[(df.month >  8) & (df.year == 2012)].drop([\"datetime\",\"count\"], axis=1)\n",
    "y_train = np.log1p(df[(df.month <=  8) | (df.year == 2011)][\"count\"])\n",
    "y_test = np.log1p(df[(df.month >  8) & (df.year == 2012)][\"count\"])"
   ]
  },
  {
   "cell_type": "markdown",
   "metadata": {},
   "source": [
    "## Pipelines"
   ]
  },
  {
   "cell_type": "code",
   "execution_count": 26,
   "metadata": {},
   "outputs": [],
   "source": [
    "one_hot_features = [\"weather\", \"holiday\", \"workingday\", \"season\", \"month\", \"day\", \"year\"]\n",
    "standard_feature = [\"temp\", \"humidity\", \"windspeed\", \"day_number\", \"hour\"]\n",
    "\n",
    "one_hot_pipeline = make_pipeline(OneHotEncoder(handle_unknown=\"ignore\"))\n",
    "standard_pipeline = make_pipeline(StandardScaler())\n",
    "\n",
    "processor = make_column_transformer((one_hot_pipeline, one_hot_features), (standard_pipeline, standard_feature))"
   ]
  },
  {
   "cell_type": "code",
   "execution_count": 27,
   "metadata": {},
   "outputs": [],
   "source": [
    "rfr = make_pipeline(processor, RandomForestRegressor(bootstrap=False, ccp_alpha=0.0, criterion='squared_error',\n",
    "                      max_depth=10, max_features='log2', max_leaf_nodes=None,\n",
    "                      max_samples=None, min_impurity_decrease=0, min_samples_leaf=6,\n",
    "                      min_samples_split=9, min_weight_fraction_leaf=0.0,\n",
    "                      n_estimators=150, random_state=1))\n",
    "                      \n",
    "lgbm = make_pipeline(processor, LGBMRegressor())"
   ]
  },
  {
   "cell_type": "markdown",
   "metadata": {},
   "source": [
    "## Scoring des modèle"
   ]
  },
  {
   "cell_type": "code",
   "execution_count": 36,
   "metadata": {},
   "outputs": [
    {
     "name": "stdout",
     "output_type": "stream",
     "text": [
      "0.7247767401632359\n",
      "Score R2 : 0.7247767401632359\n"
     ]
    }
   ],
   "source": [
    "rfr.fit(X_train, y_train)\n",
    "y_pred = rfr.predict(X_test)\n",
    "print(rfr.score(X_test, y_test))\n",
    "\n",
    "print(\"Score R2 :\", r2_score(y_test, y_pred))"
   ]
  },
  {
   "cell_type": "code",
   "execution_count": 29,
   "metadata": {},
   "outputs": [
    {
     "name": "stdout",
     "output_type": "stream",
     "text": [
      "0.948016894587881\n",
      "Score R2 : 0.948016894587881\n"
     ]
    }
   ],
   "source": [
    "lgbm.fit(X_train, y_train)\n",
    "yl_pred = lgbm.predict(X_test)\n",
    "print(lgbm.score(X_test, y_test))\n",
    "\n",
    "print(\"Score R2 :\", r2_score(y_test, yl_pred))"
   ]
  },
  {
   "cell_type": "code",
   "execution_count": 30,
   "metadata": {},
   "outputs": [],
   "source": [
    "from sklearn.model_selection import learning_curve"
   ]
  },
  {
   "cell_type": "code",
   "execution_count": 31,
   "metadata": {},
   "outputs": [],
   "source": [
    "train_size, train_score, val_score = learning_curve(rfr, X_train, y_train, train_sizes=np.linspace(0.1,1,50), scoring=\"r2\")\n",
    "\n",
    "plt.plot(train_size, train_score.mean(axis=1))\n",
    "plt.plot(train_size, val_score.mean(axis=1))"
   ]
  },
  {
   "cell_type": "code",
   "execution_count": 32,
   "metadata": {},
   "outputs": [
    {
     "data": {
      "text/plain": [
       "[<matplotlib.lines.Line2D at 0x217bf583640>]"
      ]
     },
     "execution_count": 32,
     "metadata": {},
     "output_type": "execute_result"
    },
    {
     "data": {
      "image/png": "[encoded data removed]",
      "text/plain": [
       "<Figure size 432x288 with 1 Axes>"
      ]
     },
     "metadata": {
      "needs_background": "light"
     },
     "output_type": "display_data"
    }
   ],
   "source": [
    "train_size, train_score, val_score = learning_curve(lgbm, X_train, y_train, train_sizes=np.linspace(0.1,1,50))\n",
    "\n",
    "plt.plot(train_size, train_score.mean(axis=1))\n",
    "plt.plot(train_size, val_score.mean(axis=1))"
   ]
  },
  {
   "cell_type": "markdown",
   "metadata": {},
   "source": [
    "## Test de toutes les métriques"
   ]
  },
  {
   "cell_type": "code",
   "execution_count": 33,
   "metadata": {},
   "outputs": [],
   "source": [
    "from sklearn.metrics import r2_score, mean_absolute_error, mean_squared_error, median_absolute_error"
   ]
  },
  {
   "cell_type": "code",
   "execution_count": 39,
   "metadata": {},
   "outputs": [],
   "source": [
    "def metrics(y_test, y_pred):\n",
    "    print(\"r2 :\", r2_score(y_test,y_pred))\n",
    "    print(\"MAE :\", mean_absolute_error(np.exp(y_test),np.exp(y_pred)))\n",
    "    print(\"MSE :\", mean_squared_error(np.exp(y_test),np.exp(y_pred)))\n",
    "    print(\"MeAE :\", median_absolute_error(np.exp(y_test),np.exp(y_pred)))"
   ]
  },
  {
   "cell_type": "code",
   "execution_count": 50,
   "metadata": {},
   "outputs": [
    {
     "name": "stdout",
     "output_type": "stream",
     "text": [
      "         RFR :\n",
      "r2 : 0.7247767401632359\n",
      "MAE : 120.7623719069108\n",
      "MSE : 36383.27398641483\n",
      "MeAE : 55.53945366802648\n"
     ]
    }
   ],
   "source": [
    "print(\"         RFR :\")\n",
    "metrics(y_test=y_test, y_pred=y_pred)"
   ]
  },
  {
   "cell_type": "code",
   "execution_count": 51,
   "metadata": {},
   "outputs": [
    {
     "name": "stdout",
     "output_type": "stream",
     "text": [
      "         LGBM :\n",
      "r2 : 0.948016894587881\n",
      "MAE : 43.976077195121846\n",
      "MSE : 5229.002819851781\n",
      "MeAE : 22.53345571492821\n"
     ]
    }
   ],
   "source": [
    "print(\"         LGBM :\")\n",
    "metrics(y_test=y_test, y_pred=yl_pred)"
   ]
  },
  {
   "cell_type": "code",
   "execution_count": 64,
   "metadata": {},
   "outputs": [
    {
     "data": {
      "text/plain": [
       "Text(0, 0.5, 'Y prédit')"
      ]
     },
     "execution_count": 64,
     "metadata": {},
     "output_type": "execute_result"
    },
    {
     "data": {
      "image/png": "[encoded data removed]",
      "text/plain": [
       "<Figure size 432x288 with 1 Axes>"
      ]
     },
     "metadata": {
      "needs_background": "light"
     },
     "output_type": "display_data"
    }
   ],
   "source": [
    "plt.scatter(np.exp(yl_pred), np.exp(y_test))\n",
    "plt.plot(np.exp(y_test), np.exp(y_test), c=\"r\")\n",
    "plt.xlabel(\"Y réel\")\n",
    "plt.ylabel(\"Y prédit\")"
   ]
  },
  {
   "cell_type": "code",
   "execution_count": null,
   "metadata": {},
   "outputs": [],
   "source": [
    "# Le modèle LightGBM a tendance à surévaluer le nombre d'utilisateurs de 45 en moyenne par heure."
   ]
  },
  {
   "cell_type": "code",
   "execution_count": 54,
   "metadata": {},
   "outputs": [
    {
     "name": "stdout",
     "output_type": "stream",
     "text": [
      "236.06612844582838\n"
     ]
    }
   ],
   "source": [
    "print(max(np.exp(yl_pred)-np.exp(y_test)))"
   ]
  },
  {
   "cell_type": "markdown",
   "metadata": {},
   "source": [
    "## Prédictions"
   ]
  },
  {
   "cell_type": "code",
   "execution_count": null,
   "metadata": {},
   "outputs": [],
   "source": [
    "def make_prediction(y, model):\n",
    "    pred = np.array(y)\n",
    "    data_pred = pd.DataFrame(pred, columns=list(X_train.columns))\n",
    "    for col in list(data_pred.columns):\n",
    "        try:\n",
    "            data_pred[col] = data_pred[col].astype(float)\n",
    "        except:\n",
    "            pass\n",
    "    return np.exp(model.predict(data_pred))"
   ]
  },
  {
   "cell_type": "code",
   "execution_count": null,
   "metadata": {},
   "outputs": [
    {
     "name": "stdout",
     "output_type": "stream",
     "text": [
      "[265.88365233 227.81748469 285.7554653 ]\n",
      "[338.14838561 211.94094152 338.14838561]\n"
     ]
    }
   ],
   "source": [
    "print(make_prediction(y=[[4, 1, 0, 1, 25, 30, 20, \"Monday\", 4, 4370, 2022, 10],\n",
    "                [4, 1, 0, 1, 25, 30, 20, \"Monday\", 4, 360, 2011, 10],\n",
    "                [4, 1, 0, 1, 25, 30, 20, \"Monday\", 4, 725, 2012, 10]], model=rfr))\n",
    "                \n",
    "print(make_prediction(y=[[4, 1, 0, 1, 25, 30, 20, \"Monday\", 4, 4370, 2022, 10],\n",
    "                [4, 1, 0, 1, 25, 30, 20, \"Monday\", 4, 360, 2011, 10],\n",
    "                [4, 1, 0, 1, 25, 30, 20, \"Monday\", 4, 725, 2012, 10]],model=lgbm))"
   ]
  },
  {
   "cell_type": "markdown",
   "metadata": {},
   "source": [
    "## Comparaison des données avec de grands écarts"
   ]
  },
  {
   "cell_type": "code",
   "execution_count": 113,
   "metadata": {},
   "outputs": [],
   "source": [
    "df_pred = X_test\n",
    "df_pred[\"y_reel\"] = np.exp(np.array(y_test))\n",
    "df_pred[\"y_pred\"] = np.exp(yl_pred)\n",
    "df_pred[\"Ecart\"] = abs(df_pred[\"y_reel\"]- df_pred[\"y_pred\"])"
   ]
  },
  {
   "cell_type": "code",
   "execution_count": 116,
   "metadata": {},
   "outputs": [
    {
     "data": {
      "text/html": [
       "<div>\n",
       "<style scoped>\n",
       "    .dataframe tbody tr th:only-of-type {\n",
       "        vertical-align: middle;\n",
       "    }\n",
       "\n",
       "    .dataframe tbody tr th {\n",
       "        vertical-align: top;\n",
       "    }\n",
       "\n",
       "    .dataframe thead th {\n",
       "        text-align: right;\n",
       "    }\n",
       "</style>\n",
       "<table border=\"1\" class=\"dataframe\">\n",
       "  <thead>\n",
       "    <tr style=\"text-align: right;\">\n",
       "      <th></th>\n",
       "      <th>season</th>\n",
       "      <th>holiday</th>\n",
       "      <th>workingday</th>\n",
       "      <th>weather</th>\n",
       "      <th>temp</th>\n",
       "      <th>humidity</th>\n",
       "      <th>windspeed</th>\n",
       "      <th>month</th>\n",
       "      <th>day_number</th>\n",
       "      <th>year</th>\n",
       "      <th>hour</th>\n",
       "      <th>y_pred</th>\n",
       "      <th>y_reel</th>\n",
       "      <th>Ecart</th>\n",
       "    </tr>\n",
       "  </thead>\n",
       "  <tbody>\n",
       "    <tr>\n",
       "      <th>count</th>\n",
       "      <td>56.000000</td>\n",
       "      <td>56.000000</td>\n",
       "      <td>56.000000</td>\n",
       "      <td>56.000000</td>\n",
       "      <td>56.000000</td>\n",
       "      <td>56.000000</td>\n",
       "      <td>56.000000</td>\n",
       "      <td>56.000000</td>\n",
       "      <td>56.000000</td>\n",
       "      <td>56.0</td>\n",
       "      <td>56.000000</td>\n",
       "      <td>56.000000</td>\n",
       "      <td>56.000000</td>\n",
       "      <td>56.000000</td>\n",
       "    </tr>\n",
       "    <tr>\n",
       "      <th>mean</th>\n",
       "      <td>3.803571</td>\n",
       "      <td>0.035714</td>\n",
       "      <td>0.839286</td>\n",
       "      <td>1.892857</td>\n",
       "      <td>21.466429</td>\n",
       "      <td>70.410714</td>\n",
       "      <td>12.625432</td>\n",
       "      <td>10.250000</td>\n",
       "      <td>655.196429</td>\n",
       "      <td>2012.0</td>\n",
       "      <td>12.982143</td>\n",
       "      <td>424.839891</td>\n",
       "      <td>676.821429</td>\n",
       "      <td>260.412470</td>\n",
       "    </tr>\n",
       "    <tr>\n",
       "      <th>std</th>\n",
       "      <td>0.400892</td>\n",
       "      <td>0.187256</td>\n",
       "      <td>0.370591</td>\n",
       "      <td>0.778777</td>\n",
       "      <td>4.804610</td>\n",
       "      <td>17.291907</td>\n",
       "      <td>8.317612</td>\n",
       "      <td>0.958218</td>\n",
       "      <td>29.483074</td>\n",
       "      <td>0.0</td>\n",
       "      <td>4.908216</td>\n",
       "      <td>175.161140</td>\n",
       "      <td>181.669941</td>\n",
       "      <td>60.312067</td>\n",
       "    </tr>\n",
       "    <tr>\n",
       "      <th>min</th>\n",
       "      <td>3.000000</td>\n",
       "      <td>0.000000</td>\n",
       "      <td>0.000000</td>\n",
       "      <td>1.000000</td>\n",
       "      <td>12.300000</td>\n",
       "      <td>28.000000</td>\n",
       "      <td>0.000000</td>\n",
       "      <td>9.000000</td>\n",
       "      <td>610.000000</td>\n",
       "      <td>2012.0</td>\n",
       "      <td>0.000000</td>\n",
       "      <td>24.715554</td>\n",
       "      <td>234.000000</td>\n",
       "      <td>200.634316</td>\n",
       "    </tr>\n",
       "    <tr>\n",
       "      <th>25%</th>\n",
       "      <td>4.000000</td>\n",
       "      <td>0.000000</td>\n",
       "      <td>1.000000</td>\n",
       "      <td>1.000000</td>\n",
       "      <td>17.835000</td>\n",
       "      <td>57.750000</td>\n",
       "      <td>7.001500</td>\n",
       "      <td>10.000000</td>\n",
       "      <td>640.000000</td>\n",
       "      <td>2012.0</td>\n",
       "      <td>8.000000</td>\n",
       "      <td>270.384534</td>\n",
       "      <td>560.750000</td>\n",
       "      <td>214.592904</td>\n",
       "    </tr>\n",
       "    <tr>\n",
       "      <th>50%</th>\n",
       "      <td>4.000000</td>\n",
       "      <td>0.000000</td>\n",
       "      <td>1.000000</td>\n",
       "      <td>2.000000</td>\n",
       "      <td>21.320000</td>\n",
       "      <td>75.000000</td>\n",
       "      <td>11.001400</td>\n",
       "      <td>10.000000</td>\n",
       "      <td>649.000000</td>\n",
       "      <td>2012.0</td>\n",
       "      <td>14.500000</td>\n",
       "      <td>464.568792</td>\n",
       "      <td>722.500000</td>\n",
       "      <td>244.822531</td>\n",
       "    </tr>\n",
       "    <tr>\n",
       "      <th>75%</th>\n",
       "      <td>4.000000</td>\n",
       "      <td>0.000000</td>\n",
       "      <td>1.000000</td>\n",
       "      <td>2.250000</td>\n",
       "      <td>25.420000</td>\n",
       "      <td>84.000000</td>\n",
       "      <td>17.498725</td>\n",
       "      <td>11.000000</td>\n",
       "      <td>671.500000</td>\n",
       "      <td>2012.0</td>\n",
       "      <td>17.000000</td>\n",
       "      <td>548.466014</td>\n",
       "      <td>812.000000</td>\n",
       "      <td>286.632244</td>\n",
       "    </tr>\n",
       "    <tr>\n",
       "      <th>max</th>\n",
       "      <td>4.000000</td>\n",
       "      <td>1.000000</td>\n",
       "      <td>1.000000</td>\n",
       "      <td>3.000000</td>\n",
       "      <td>31.160000</td>\n",
       "      <td>94.000000</td>\n",
       "      <td>36.997400</td>\n",
       "      <td>12.000000</td>\n",
       "      <td>716.000000</td>\n",
       "      <td>2012.0</td>\n",
       "      <td>21.000000</td>\n",
       "      <td>768.209625</td>\n",
       "      <td>971.000000</td>\n",
       "      <td>471.007702</td>\n",
       "    </tr>\n",
       "  </tbody>\n",
       "</table>\n",
       "</div>"
      ],
      "text/plain": [
       "          season    holiday  workingday    weather       temp   humidity  \\\n",
       "count  56.000000  56.000000   56.000000  56.000000  56.000000  56.000000   \n",
       "mean    3.803571   0.035714    0.839286   1.892857  21.466429  70.410714   \n",
       "std     0.400892   0.187256    0.370591   0.778777   4.804610  17.291907   \n",
       "min     3.000000   0.000000    0.000000   1.000000  12.300000  28.000000   \n",
       "25%     4.000000   0.000000    1.000000   1.000000  17.835000  57.750000   \n",
       "50%     4.000000   0.000000    1.000000   2.000000  21.320000  75.000000   \n",
       "75%     4.000000   0.000000    1.000000   2.250000  25.420000  84.000000   \n",
       "max     4.000000   1.000000    1.000000   3.000000  31.160000  94.000000   \n",
       "\n",
       "       windspeed      month  day_number    year       hour      y_pred  \\\n",
       "count  56.000000  56.000000   56.000000    56.0  56.000000   56.000000   \n",
       "mean   12.625432  10.250000  655.196429  2012.0  12.982143  424.839891   \n",
       "std     8.317612   0.958218   29.483074     0.0   4.908216  175.161140   \n",
       "min     0.000000   9.000000  610.000000  2012.0   0.000000   24.715554   \n",
       "25%     7.001500  10.000000  640.000000  2012.0   8.000000  270.384534   \n",
       "50%    11.001400  10.000000  649.000000  2012.0  14.500000  464.568792   \n",
       "75%    17.498725  11.000000  671.500000  2012.0  17.000000  548.466014   \n",
       "max    36.997400  12.000000  716.000000  2012.0  21.000000  768.209625   \n",
       "\n",
       "           y_reel       Ecart  \n",
       "count   56.000000   56.000000  \n",
       "mean   676.821429  260.412470  \n",
       "std    181.669941   60.312067  \n",
       "min    234.000000  200.634316  \n",
       "25%    560.750000  214.592904  \n",
       "50%    722.500000  244.822531  \n",
       "75%    812.000000  286.632244  \n",
       "max    971.000000  471.007702  "
      ]
     },
     "execution_count": 116,
     "metadata": {},
     "output_type": "execute_result"
    }
   ],
   "source": [
    "df_pred[df_pred[\"Ecart\"] > 200].describe()"
   ]
  },
  {
   "cell_type": "code",
   "execution_count": null,
   "metadata": {},
   "outputs": [],
   "source": [
    "# Les valeurs d'humidité sont élevées en moyenne (70.4 %) pour de grands écarts de prédiction."
   ]
  }
 ],
 "metadata": {
  "interpreter": {
   "hash": "e8e72ecd218193d245fb3b010d45ad55dac7ff54b5052aa4883c6a911d9d65f6"
  },
  "kernelspec": {
   "display_name": "Python 3.9.7 ('rb_ds')",
   "language": "python",
   "name": "python3"
  },
  "language_info": {
   "codemirror_mode": {
    "name": "ipython",
    "version": 3
   },
   "file_extension": ".py",
   "mimetype": "text/x-python",
   "name": "python",
   "nbconvert_exporter": "python",
   "pygments_lexer": "ipython3",
   "version": "3.10.2"
  },
  "orig_nbformat": 4
 },
 "nbformat": 4,
 "nbformat_minor": 2
}
