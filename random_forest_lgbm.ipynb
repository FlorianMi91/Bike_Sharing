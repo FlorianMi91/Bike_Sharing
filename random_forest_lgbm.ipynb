{
 "cells": [
  {
   "cell_type": "code",
   "execution_count": 252,
   "metadata": {},
   "outputs": [],
   "source": [
    "import pandas as pd\n",
    "import numpy as np\n",
    "from lightgbm import LGBMRegressor\n",
    "import matplotlib.pyplot as plt\n",
    "from sklearn.ensemble import RandomForestRegressor\n",
    "from sklearn.pipeline import make_pipeline\n",
    "from sklearn.compose import make_column_transformer\n",
    "from sklearn.preprocessing import StandardScaler, PolynomialFeatures, MinMaxScaler, RobustScaler, OneHotEncoder\n",
    "from sklearn.metrics import r2_score"
   ]
  },
  {
   "cell_type": "code",
   "execution_count": 231,
   "metadata": {},
   "outputs": [],
   "source": [
    "df = pd.read_csv(\"Datas/data_rudy.csv\")"
   ]
  },
  {
   "cell_type": "code",
   "execution_count": 232,
   "metadata": {},
   "outputs": [
    {
     "data": {
      "text/html": [
       "<div>\n",
       "<style scoped>\n",
       "    .dataframe tbody tr th:only-of-type {\n",
       "        vertical-align: middle;\n",
       "    }\n",
       "\n",
       "    .dataframe tbody tr th {\n",
       "        vertical-align: top;\n",
       "    }\n",
       "\n",
       "    .dataframe thead th {\n",
       "        text-align: right;\n",
       "    }\n",
       "</style>\n",
       "<table border=\"1\" class=\"dataframe\">\n",
       "  <thead>\n",
       "    <tr style=\"text-align: right;\">\n",
       "      <th></th>\n",
       "      <th>datetime</th>\n",
       "      <th>season</th>\n",
       "      <th>holiday</th>\n",
       "      <th>workingday</th>\n",
       "      <th>weather</th>\n",
       "      <th>temp</th>\n",
       "      <th>humidity</th>\n",
       "      <th>windspeed</th>\n",
       "      <th>count</th>\n",
       "      <th>day</th>\n",
       "      <th>month</th>\n",
       "      <th>day_number</th>\n",
       "      <th>year</th>\n",
       "      <th>hour</th>\n",
       "    </tr>\n",
       "  </thead>\n",
       "  <tbody>\n",
       "    <tr>\n",
       "      <th>0</th>\n",
       "      <td>2011-01-01 00:00:00</td>\n",
       "      <td>1</td>\n",
       "      <td>0</td>\n",
       "      <td>0</td>\n",
       "      <td>1</td>\n",
       "      <td>9.84</td>\n",
       "      <td>81</td>\n",
       "      <td>0.0</td>\n",
       "      <td>16</td>\n",
       "      <td>Saturday</td>\n",
       "      <td>1</td>\n",
       "      <td>0</td>\n",
       "      <td>2011</td>\n",
       "      <td>0</td>\n",
       "    </tr>\n",
       "  </tbody>\n",
       "</table>\n",
       "</div>"
      ],
      "text/plain": [
       "              datetime  season  holiday  workingday  weather  temp  humidity  \\\n",
       "0  2011-01-01 00:00:00       1        0           0        1  9.84        81   \n",
       "\n",
       "   windspeed  count       day  month  day_number  year  hour  \n",
       "0        0.0     16  Saturday      1           0  2011     0  "
      ]
     },
     "execution_count": 232,
     "metadata": {},
     "output_type": "execute_result"
    }
   ],
   "source": [
    "df.head(1)"
   ]
  },
  {
   "cell_type": "markdown",
   "metadata": {},
   "source": [
    "## Train Test Split"
   ]
  },
  {
   "cell_type": "markdown",
   "metadata": {},
   "source": [
    "Split des données avant (train) et après(test) Septembre 2012"
   ]
  },
  {
   "cell_type": "code",
   "execution_count": 233,
   "metadata": {},
   "outputs": [],
   "source": [
    "X_train = df[(df.month <=  8) | (df.year == 2011)].drop([\"datetime\",\"count\"], axis=1)\n",
    "X_test = df[(df.month >  8) & (df.year == 2012)].drop([\"datetime\",\"count\"], axis=1)\n",
    "y_train = np.log1p(df[(df.month <=  8) | (df.year == 2011)][\"count\"])\n",
    "y_test = np.log1p(df[(df.month >  8) & (df.year == 2012)][\"count\"])"
   ]
  },
  {
   "cell_type": "markdown",
   "metadata": {},
   "source": [
    "## Pipelines"
   ]
  },
  {
   "cell_type": "code",
   "execution_count": 234,
   "metadata": {},
   "outputs": [],
   "source": [
    "one_hot_features = [\"weather\", \"holiday\", \"workingday\", \"season\", \"month\", \"day\", \"year\"]\n",
    "standard_feature = [\"temp\", \"humidity\", \"windspeed\", \"day_number\", \"hour\"]\n",
    "\n",
    "one_hot_pipeline = make_pipeline(OneHotEncoder(handle_unknown=\"ignore\"))\n",
    "standard_pipeline = make_pipeline(StandardScaler())\n",
    "\n",
    "processor = make_column_transformer((one_hot_pipeline, one_hot_features), (standard_pipeline, standard_feature))"
   ]
  },
  {
   "cell_type": "code",
   "execution_count": 235,
   "metadata": {},
   "outputs": [],
   "source": [
    "rfr = make_pipeline(processor, RandomForestRegressor(bootstrap=False, ccp_alpha=0.0, criterion='squared_error',\n",
    "                      max_depth=10, max_features='log2', max_leaf_nodes=None,\n",
    "                      max_samples=None, min_impurity_decrease=0, min_samples_leaf=6,\n",
    "                      min_samples_split=9, min_weight_fraction_leaf=0.0,\n",
    "                      n_estimators=150, random_state=1))\n",
    "                      \n",
    "lgbm = make_pipeline(processor, LGBMRegressor())"
   ]
  },
  {
   "cell_type": "markdown",
   "metadata": {},
   "source": [
    "## Scoring des modèle"
   ]
  },
  {
   "cell_type": "code",
   "execution_count": 238,
   "metadata": {},
   "outputs": [
    {
     "name": "stdout",
     "output_type": "stream",
     "text": [
      "0.7247767401632359\n",
      "Score R2 : 0.7247767401632359\n"
     ]
    }
   ],
   "source": [
    "rfr.fit(X_train, y_train)\n",
    "y_pred = rfr.predict(X_test)\n",
    "print(rfr.score(X_test, y_test))\n",
    "\n",
    "print(\"Score R2 :\", r2_score(y_test, y_pred))"
   ]
  },
  {
   "cell_type": "code",
   "execution_count": 239,
   "metadata": {},
   "outputs": [
    {
     "name": "stdout",
     "output_type": "stream",
     "text": [
      "0.948016894587881\n",
      "Score R2 : 0.948016894587881\n"
     ]
    }
   ],
   "source": [
    "lgbm.fit(X_train, y_train)\n",
    "yl_pred = lgbm.predict(X_test)\n",
    "print(lgbm.score(X_test, y_test))\n",
    "\n",
    "print(\"Score R2 :\", r2_score(y_test, yl_pred))"
   ]
  },
  {
   "cell_type": "code",
   "execution_count": null,
   "metadata": {},
   "outputs": [],
   "source": [
    "from sklearn.model_selection import learning_curve"
   ]
  },
  {
   "cell_type": "code",
   "execution_count": 257,
   "metadata": {},
   "outputs": [
    {
     "data": {
      "text/plain": [
       "[<matplotlib.lines.Line2D at 0x1f8f66033a0>]"
      ]
     },
     "execution_count": 257,
     "metadata": {},
     "output_type": "execute_result"
    },
    {
     "data": {
      "image/png": "[encoded data removed]",
      "text/plain": [
       "<Figure size 432x288 with 1 Axes>"
      ]
     },
     "metadata": {
      "needs_background": "light"
     },
     "output_type": "display_data"
    }
   ],
   "source": [
    "train_size, train_score, val_score = learning_curve(rfr, X_train, y_train, train_sizes=np.linspace(0.1,1,50), scoring=\"r2\")\n",
    "\n",
    "plt.plot(train_size, train_score.mean(axis=1))\n",
    "plt.plot(train_size, val_score.mean(axis=1))"
   ]
  },
  {
   "cell_type": "code",
   "execution_count": 256,
   "metadata": {},
   "outputs": [
    {
     "data": {
      "text/plain": [
       "[<matplotlib.lines.Line2D at 0x1f8f65b5360>]"
      ]
     },
     "execution_count": 256,
     "metadata": {},
     "output_type": "execute_result"
    },
    {
     "data": {
      "image/png": "[encoded data removed]",
      "text/plain": [
       "<Figure size 432x288 with 1 Axes>"
      ]
     },
     "metadata": {
      "needs_background": "light"
     },
     "output_type": "display_data"
    }
   ],
   "source": [
    "train_size, train_score, val_score = learning_curve(lgbm, X_train, y_train, train_sizes=np.linspace(0.1,1,50))\n",
    "\n",
    "plt.plot(train_size, train_score.mean(axis=1))\n",
    "plt.plot(train_size, val_score.mean(axis=1))"
   ]
  },
  {
   "cell_type": "markdown",
   "metadata": {},
   "source": [
    "## Prédictions"
   ]
  },
  {
   "cell_type": "code",
   "execution_count": 249,
   "metadata": {},
   "outputs": [],
   "source": [
    "def make_prediction(y, model):\n",
    "    pred = np.array(y)\n",
    "    data_pred = pd.DataFrame(pred, columns=list(X_train.columns))\n",
    "    for col in list(data_pred.columns):\n",
    "        try:\n",
    "            data_pred[col] = data_pred[col].astype(float)\n",
    "        except:\n",
    "            pass\n",
    "    return np.exp(model.predict(data_pred))"
   ]
  },
  {
   "cell_type": "code",
   "execution_count": 250,
   "metadata": {},
   "outputs": [
    {
     "name": "stdout",
     "output_type": "stream",
     "text": [
      "[265.88365233 227.81748469 285.7554653 ]\n",
      "[338.14838561 211.94094152 338.14838561]\n"
     ]
    }
   ],
   "source": [
    "print(make_prediction(y=[[4, 1, 0, 1, 25, 30, 20, \"Monday\", 4, 4370, 2022, 10],\n",
    "                [4, 1, 0, 1, 25, 30, 20, \"Monday\", 4, 360, 2011, 10],\n",
    "                [4, 1, 0, 1, 25, 30, 20, \"Monday\", 4, 725, 2012, 10]], model=rfr))\n",
    "                \n",
    "print(make_prediction(y=[[4, 1, 0, 1, 25, 30, 20, \"Monday\", 4, 4370, 2022, 10],\n",
    "                [4, 1, 0, 1, 25, 30, 20, \"Monday\", 4, 360, 2011, 10],\n",
    "                [4, 1, 0, 1, 25, 30, 20, \"Monday\", 4, 725, 2012, 10]],model=lgbm))"
   ]
  }
 ],
 "metadata": {
  "interpreter": {
   "hash": "e8e72ecd218193d245fb3b010d45ad55dac7ff54b5052aa4883c6a911d9d65f6"
  },
  "kernelspec": {
   "display_name": "Python 3.9.7 ('rb_ds')",
   "language": "python",
   "name": "python3"
  },
  "language_info": {
   "codemirror_mode": {
    "name": "ipython",
    "version": 3
   },
   "file_extension": ".py",
   "mimetype": "text/x-python",
   "name": "python",
   "nbconvert_exporter": "python",
   "pygments_lexer": "ipython3",
   "version": "3.10.2"
  },
  "orig_nbformat": 4
 },
 "nbformat": 4,
 "nbformat_minor": 2
}
