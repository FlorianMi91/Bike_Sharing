{
 "cells": [
  {
   "cell_type": "code",
   "execution_count": 14,
   "metadata": {},
   "outputs": [],
   "source": [
    "from meteofrance_api import MeteoFranceClient\n",
    "from datetime import datetime"
   ]
  },
  {
   "cell_type": "code",
   "execution_count": 15,
   "metadata": {},
   "outputs": [],
   "source": [
    "client = MeteoFranceClient()\n",
    "weather_forecast = client.get_forecast(latitude=50.62925, longitude=3.057256) # Météo de Lille"
   ]
  },
  {
   "cell_type": "markdown",
   "metadata": {},
   "source": [
    "Méthodes :\n",
    "* position => dictionnaire propre aux coordonnées lat et lon\n",
    "* updated_on => date|heure de mise à jour \n",
    "* daily_forecast => météo des 15j \n",
    "* probability_forecast => probabilité de pluie toutes les 3 et 6h\n",
    "* forecast => météo heure/heure puis toutes les 3h\n",
    "* today_forecast => météo globale de la journée\n",
    "* current_forecast => météo à l'heure actuelle\n",
    "* timestamp_to_locale_time(timestamp) => transforme les timestamp en date"
   ]
  },
  {
   "cell_type": "code",
   "execution_count": 73,
   "metadata": {},
   "outputs": [
    {
     "data": {
      "text/plain": [
       "'14 15 16 17 18 19 20 21 22 23 0 1 2 3 4 5 6 7 8 9 10 11 12 13 14 15 16 17 18 19 20 21 22 23 0 1 2 5 8 11 14 17 20 23 2 5 8 11 14 17 20 2 8 14 20 2 8 14 20 2 8 14 20 2 8 14 20 2 8 14 20 2 8 14 20 2 '"
      ]
     },
     "execution_count": 73,
     "metadata": {},
     "output_type": "execute_result"
    }
   ],
   "source": [
    "hours = \"\"\n",
    "for i in range(len(weather_forecast.forecast)):\n",
    "    hours += f'{datetime.fromtimestamp(weather_forecast.forecast[i][\"dt\"]).hour} '\n",
    "hours"
   ]
  },
  {
   "cell_type": "code",
   "execution_count": 104,
   "metadata": {},
   "outputs": [
    {
     "data": {
      "text/plain": [
       "{'dt': 1648382400,\n",
       " 'T': {'value': 13.9, 'windchill': 12.9},\n",
       " 'humidity': 75,\n",
       " 'sea_level': 1030.4,\n",
       " 'wind': {'speed': 4, 'gust': 0, 'direction': 25, 'icon': 'NNE'},\n",
       " 'rain': {'1h': 0},\n",
       " 'snow': {'1h': 0},\n",
       " 'iso0': 2600,\n",
       " 'rain snow limit': 'Non pertinent',\n",
       " 'clouds': 10,\n",
       " 'weather': {'icon': 'p1j', 'desc': 'Ensoleillé'}}"
      ]
     },
     "execution_count": 104,
     "metadata": {},
     "output_type": "execute_result"
    }
   ],
   "source": [
    "weather_forecast.forecast[0]"
   ]
  },
  {
   "cell_type": "markdown",
   "metadata": {},
   "source": [
    "* dt => timestamp à transformer en datetime (day, day_number, month, year, hour)\n",
    "* T => 'value': temp en °C et 'windchill' : atemp en °C\n",
    "* humidity => humidity en %\n",
    "* wind => windspeed\n",
    "* rain, snow, clouds et weather.desc => weather"
   ]
  }
 ],
 "metadata": {
  "interpreter": {
   "hash": "74619d792d5d4d65d6124bbedaa9aa5da80fe23b3d27d5f90ce8d6d08d086268"
  },
  "kernelspec": {
   "display_name": "Python 3.10.2 ('rb_ds')",
   "language": "python",
   "name": "python3"
  },
  "language_info": {
   "codemirror_mode": {
    "name": "ipython",
    "version": 3
   },
   "file_extension": ".py",
   "mimetype": "text/x-python",
   "name": "python",
   "nbconvert_exporter": "python",
   "pygments_lexer": "ipython3",
   "version": "3.10.2"
  },
  "orig_nbformat": 4
 },
 "nbformat": 4,
 "nbformat_minor": 2
}
