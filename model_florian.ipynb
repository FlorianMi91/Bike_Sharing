{
 "cells": [
  {
   "cell_type": "code",
   "execution_count": 157,
   "metadata": {},
   "outputs": [],
   "source": [
    "import pandas as pd\n",
    "import numpy as np\n",
    "import matplotlib.pyplot as plt\n",
    "from pycaret.regression import *\n",
    "from xgboost import XGBRegressor, plot_importance\n",
    "from sklearn.preprocessing import StandardScaler, OneHotEncoder\n",
    "from sklearn.pipeline import make_pipeline\n",
    "from sklearn.compose import make_column_transformer\n",
    "from sklearn.model_selection import train_test_split"
   ]
  },
  {
   "cell_type": "code",
   "execution_count": 94,
   "metadata": {},
   "outputs": [],
   "source": [
    "import plotly.express as px"
   ]
  },
  {
   "cell_type": "code",
   "execution_count": 2,
   "metadata": {},
   "outputs": [],
   "source": [
    "df = pd.read_csv(\"Datas/data_frame_florian.csv\")"
   ]
  },
  {
   "cell_type": "code",
   "execution_count": 39,
   "metadata": {},
   "outputs": [
    {
     "data": {
      "text/html": [
       "<div>\n",
       "<style scoped>\n",
       "    .dataframe tbody tr th:only-of-type {\n",
       "        vertical-align: middle;\n",
       "    }\n",
       "\n",
       "    .dataframe tbody tr th {\n",
       "        vertical-align: top;\n",
       "    }\n",
       "\n",
       "    .dataframe thead th {\n",
       "        text-align: right;\n",
       "    }\n",
       "</style>\n",
       "<table border=\"1\" class=\"dataframe\">\n",
       "  <thead>\n",
       "    <tr style=\"text-align: right;\">\n",
       "      <th></th>\n",
       "      <th>season</th>\n",
       "      <th>holiday</th>\n",
       "      <th>workingday</th>\n",
       "      <th>weather</th>\n",
       "      <th>temp</th>\n",
       "      <th>humidity</th>\n",
       "      <th>windspeed</th>\n",
       "      <th>count</th>\n",
       "      <th>heure</th>\n",
       "    </tr>\n",
       "  </thead>\n",
       "  <tbody>\n",
       "    <tr>\n",
       "      <th>0</th>\n",
       "      <td>1</td>\n",
       "      <td>0</td>\n",
       "      <td>0</td>\n",
       "      <td>1</td>\n",
       "      <td>9.84</td>\n",
       "      <td>81</td>\n",
       "      <td>0.0</td>\n",
       "      <td>16</td>\n",
       "      <td>0</td>\n",
       "    </tr>\n",
       "    <tr>\n",
       "      <th>1</th>\n",
       "      <td>1</td>\n",
       "      <td>0</td>\n",
       "      <td>0</td>\n",
       "      <td>1</td>\n",
       "      <td>9.02</td>\n",
       "      <td>80</td>\n",
       "      <td>0.0</td>\n",
       "      <td>40</td>\n",
       "      <td>1</td>\n",
       "    </tr>\n",
       "    <tr>\n",
       "      <th>2</th>\n",
       "      <td>1</td>\n",
       "      <td>0</td>\n",
       "      <td>0</td>\n",
       "      <td>1</td>\n",
       "      <td>9.02</td>\n",
       "      <td>80</td>\n",
       "      <td>0.0</td>\n",
       "      <td>32</td>\n",
       "      <td>2</td>\n",
       "    </tr>\n",
       "    <tr>\n",
       "      <th>3</th>\n",
       "      <td>1</td>\n",
       "      <td>0</td>\n",
       "      <td>0</td>\n",
       "      <td>1</td>\n",
       "      <td>9.84</td>\n",
       "      <td>75</td>\n",
       "      <td>0.0</td>\n",
       "      <td>13</td>\n",
       "      <td>3</td>\n",
       "    </tr>\n",
       "    <tr>\n",
       "      <th>4</th>\n",
       "      <td>1</td>\n",
       "      <td>0</td>\n",
       "      <td>0</td>\n",
       "      <td>1</td>\n",
       "      <td>9.84</td>\n",
       "      <td>75</td>\n",
       "      <td>0.0</td>\n",
       "      <td>1</td>\n",
       "      <td>4</td>\n",
       "    </tr>\n",
       "  </tbody>\n",
       "</table>\n",
       "</div>"
      ],
      "text/plain": [
       "   season  holiday  workingday  weather  temp  humidity  windspeed  count  \\\n",
       "0       1        0           0        1  9.84        81        0.0     16   \n",
       "1       1        0           0        1  9.02        80        0.0     40   \n",
       "2       1        0           0        1  9.02        80        0.0     32   \n",
       "3       1        0           0        1  9.84        75        0.0     13   \n",
       "4       1        0           0        1  9.84        75        0.0      1   \n",
       "\n",
       "   heure  \n",
       "0      0  \n",
       "1      1  \n",
       "2      2  \n",
       "3      3  \n",
       "4      4  "
      ]
     },
     "execution_count": 39,
     "metadata": {},
     "output_type": "execute_result"
    }
   ],
   "source": [
    "df.head()"
   ]
  },
  {
   "cell_type": "markdown",
   "metadata": {},
   "source": [
    "# pycaret"
   ]
  },
  {
   "cell_type": "code",
   "execution_count": 10,
   "metadata": {},
   "outputs": [
    {
     "data": {
      "text/html": [
       "<style type=\"text/css\">\n",
       "#T_13afd_row42_col1 {\n",
       "  background-color: lightgreen;\n",
       "}\n",
       "</style>\n",
       "<table id=\"T_13afd_\">\n",
       "  <thead>\n",
       "    <tr>\n",
       "      <th class=\"blank level0\" >&nbsp;</th>\n",
       "      <th class=\"col_heading level0 col0\" >Description</th>\n",
       "      <th class=\"col_heading level0 col1\" >Value</th>\n",
       "    </tr>\n",
       "  </thead>\n",
       "  <tbody>\n",
       "    <tr>\n",
       "      <th id=\"T_13afd_level0_row0\" class=\"row_heading level0 row0\" >0</th>\n",
       "      <td id=\"T_13afd_row0_col0\" class=\"data row0 col0\" >session_id</td>\n",
       "      <td id=\"T_13afd_row0_col1\" class=\"data row0 col1\" >1554</td>\n",
       "    </tr>\n",
       "    <tr>\n",
       "      <th id=\"T_13afd_level0_row1\" class=\"row_heading level0 row1\" >1</th>\n",
       "      <td id=\"T_13afd_row1_col0\" class=\"data row1 col0\" >Target</td>\n",
       "      <td id=\"T_13afd_row1_col1\" class=\"data row1 col1\" >count</td>\n",
       "    </tr>\n",
       "    <tr>\n",
       "      <th id=\"T_13afd_level0_row2\" class=\"row_heading level0 row2\" >2</th>\n",
       "      <td id=\"T_13afd_row2_col0\" class=\"data row2 col0\" >Original Data</td>\n",
       "      <td id=\"T_13afd_row2_col1\" class=\"data row2 col1\" >(10886, 10)</td>\n",
       "    </tr>\n",
       "    <tr>\n",
       "      <th id=\"T_13afd_level0_row3\" class=\"row_heading level0 row3\" >3</th>\n",
       "      <td id=\"T_13afd_row3_col0\" class=\"data row3 col0\" >Missing Values</td>\n",
       "      <td id=\"T_13afd_row3_col1\" class=\"data row3 col1\" >False</td>\n",
       "    </tr>\n",
       "    <tr>\n",
       "      <th id=\"T_13afd_level0_row4\" class=\"row_heading level0 row4\" >4</th>\n",
       "      <td id=\"T_13afd_row4_col0\" class=\"data row4 col0\" >Numeric Features</td>\n",
       "      <td id=\"T_13afd_row4_col1\" class=\"data row4 col1\" >5</td>\n",
       "    </tr>\n",
       "    <tr>\n",
       "      <th id=\"T_13afd_level0_row5\" class=\"row_heading level0 row5\" >5</th>\n",
       "      <td id=\"T_13afd_row5_col0\" class=\"data row5 col0\" >Categorical Features</td>\n",
       "      <td id=\"T_13afd_row5_col1\" class=\"data row5 col1\" >4</td>\n",
       "    </tr>\n",
       "    <tr>\n",
       "      <th id=\"T_13afd_level0_row6\" class=\"row_heading level0 row6\" >6</th>\n",
       "      <td id=\"T_13afd_row6_col0\" class=\"data row6 col0\" >Ordinal Features</td>\n",
       "      <td id=\"T_13afd_row6_col1\" class=\"data row6 col1\" >False</td>\n",
       "    </tr>\n",
       "    <tr>\n",
       "      <th id=\"T_13afd_level0_row7\" class=\"row_heading level0 row7\" >7</th>\n",
       "      <td id=\"T_13afd_row7_col0\" class=\"data row7 col0\" >High Cardinality Features</td>\n",
       "      <td id=\"T_13afd_row7_col1\" class=\"data row7 col1\" >False</td>\n",
       "    </tr>\n",
       "    <tr>\n",
       "      <th id=\"T_13afd_level0_row8\" class=\"row_heading level0 row8\" >8</th>\n",
       "      <td id=\"T_13afd_row8_col0\" class=\"data row8 col0\" >High Cardinality Method</td>\n",
       "      <td id=\"T_13afd_row8_col1\" class=\"data row8 col1\" >None</td>\n",
       "    </tr>\n",
       "    <tr>\n",
       "      <th id=\"T_13afd_level0_row9\" class=\"row_heading level0 row9\" >9</th>\n",
       "      <td id=\"T_13afd_row9_col0\" class=\"data row9 col0\" >Transformed Train Set</td>\n",
       "      <td id=\"T_13afd_row9_col1\" class=\"data row9 col1\" >(7620, 14)</td>\n",
       "    </tr>\n",
       "    <tr>\n",
       "      <th id=\"T_13afd_level0_row10\" class=\"row_heading level0 row10\" >10</th>\n",
       "      <td id=\"T_13afd_row10_col0\" class=\"data row10 col0\" >Transformed Test Set</td>\n",
       "      <td id=\"T_13afd_row10_col1\" class=\"data row10 col1\" >(3266, 14)</td>\n",
       "    </tr>\n",
       "    <tr>\n",
       "      <th id=\"T_13afd_level0_row11\" class=\"row_heading level0 row11\" >11</th>\n",
       "      <td id=\"T_13afd_row11_col0\" class=\"data row11 col0\" >Shuffle Train-Test</td>\n",
       "      <td id=\"T_13afd_row11_col1\" class=\"data row11 col1\" >True</td>\n",
       "    </tr>\n",
       "    <tr>\n",
       "      <th id=\"T_13afd_level0_row12\" class=\"row_heading level0 row12\" >12</th>\n",
       "      <td id=\"T_13afd_row12_col0\" class=\"data row12 col0\" >Stratify Train-Test</td>\n",
       "      <td id=\"T_13afd_row12_col1\" class=\"data row12 col1\" >False</td>\n",
       "    </tr>\n",
       "    <tr>\n",
       "      <th id=\"T_13afd_level0_row13\" class=\"row_heading level0 row13\" >13</th>\n",
       "      <td id=\"T_13afd_row13_col0\" class=\"data row13 col0\" >Fold Generator</td>\n",
       "      <td id=\"T_13afd_row13_col1\" class=\"data row13 col1\" >KFold</td>\n",
       "    </tr>\n",
       "    <tr>\n",
       "      <th id=\"T_13afd_level0_row14\" class=\"row_heading level0 row14\" >14</th>\n",
       "      <td id=\"T_13afd_row14_col0\" class=\"data row14 col0\" >Fold Number</td>\n",
       "      <td id=\"T_13afd_row14_col1\" class=\"data row14 col1\" >10</td>\n",
       "    </tr>\n",
       "    <tr>\n",
       "      <th id=\"T_13afd_level0_row15\" class=\"row_heading level0 row15\" >15</th>\n",
       "      <td id=\"T_13afd_row15_col0\" class=\"data row15 col0\" >CPU Jobs</td>\n",
       "      <td id=\"T_13afd_row15_col1\" class=\"data row15 col1\" >-1</td>\n",
       "    </tr>\n",
       "    <tr>\n",
       "      <th id=\"T_13afd_level0_row16\" class=\"row_heading level0 row16\" >16</th>\n",
       "      <td id=\"T_13afd_row16_col0\" class=\"data row16 col0\" >Use GPU</td>\n",
       "      <td id=\"T_13afd_row16_col1\" class=\"data row16 col1\" >False</td>\n",
       "    </tr>\n",
       "    <tr>\n",
       "      <th id=\"T_13afd_level0_row17\" class=\"row_heading level0 row17\" >17</th>\n",
       "      <td id=\"T_13afd_row17_col0\" class=\"data row17 col0\" >Log Experiment</td>\n",
       "      <td id=\"T_13afd_row17_col1\" class=\"data row17 col1\" >False</td>\n",
       "    </tr>\n",
       "    <tr>\n",
       "      <th id=\"T_13afd_level0_row18\" class=\"row_heading level0 row18\" >18</th>\n",
       "      <td id=\"T_13afd_row18_col0\" class=\"data row18 col0\" >Experiment Name</td>\n",
       "      <td id=\"T_13afd_row18_col1\" class=\"data row18 col1\" >reg-default-name</td>\n",
       "    </tr>\n",
       "    <tr>\n",
       "      <th id=\"T_13afd_level0_row19\" class=\"row_heading level0 row19\" >19</th>\n",
       "      <td id=\"T_13afd_row19_col0\" class=\"data row19 col0\" >USI</td>\n",
       "      <td id=\"T_13afd_row19_col1\" class=\"data row19 col1\" >d0f2</td>\n",
       "    </tr>\n",
       "    <tr>\n",
       "      <th id=\"T_13afd_level0_row20\" class=\"row_heading level0 row20\" >20</th>\n",
       "      <td id=\"T_13afd_row20_col0\" class=\"data row20 col0\" >Imputation Type</td>\n",
       "      <td id=\"T_13afd_row20_col1\" class=\"data row20 col1\" >simple</td>\n",
       "    </tr>\n",
       "    <tr>\n",
       "      <th id=\"T_13afd_level0_row21\" class=\"row_heading level0 row21\" >21</th>\n",
       "      <td id=\"T_13afd_row21_col0\" class=\"data row21 col0\" >Iterative Imputation Iteration</td>\n",
       "      <td id=\"T_13afd_row21_col1\" class=\"data row21 col1\" >None</td>\n",
       "    </tr>\n",
       "    <tr>\n",
       "      <th id=\"T_13afd_level0_row22\" class=\"row_heading level0 row22\" >22</th>\n",
       "      <td id=\"T_13afd_row22_col0\" class=\"data row22 col0\" >Numeric Imputer</td>\n",
       "      <td id=\"T_13afd_row22_col1\" class=\"data row22 col1\" >mean</td>\n",
       "    </tr>\n",
       "    <tr>\n",
       "      <th id=\"T_13afd_level0_row23\" class=\"row_heading level0 row23\" >23</th>\n",
       "      <td id=\"T_13afd_row23_col0\" class=\"data row23 col0\" >Iterative Imputation Numeric Model</td>\n",
       "      <td id=\"T_13afd_row23_col1\" class=\"data row23 col1\" >None</td>\n",
       "    </tr>\n",
       "    <tr>\n",
       "      <th id=\"T_13afd_level0_row24\" class=\"row_heading level0 row24\" >24</th>\n",
       "      <td id=\"T_13afd_row24_col0\" class=\"data row24 col0\" >Categorical Imputer</td>\n",
       "      <td id=\"T_13afd_row24_col1\" class=\"data row24 col1\" >constant</td>\n",
       "    </tr>\n",
       "    <tr>\n",
       "      <th id=\"T_13afd_level0_row25\" class=\"row_heading level0 row25\" >25</th>\n",
       "      <td id=\"T_13afd_row25_col0\" class=\"data row25 col0\" >Iterative Imputation Categorical Model</td>\n",
       "      <td id=\"T_13afd_row25_col1\" class=\"data row25 col1\" >None</td>\n",
       "    </tr>\n",
       "    <tr>\n",
       "      <th id=\"T_13afd_level0_row26\" class=\"row_heading level0 row26\" >26</th>\n",
       "      <td id=\"T_13afd_row26_col0\" class=\"data row26 col0\" >Unknown Categoricals Handling</td>\n",
       "      <td id=\"T_13afd_row26_col1\" class=\"data row26 col1\" >least_frequent</td>\n",
       "    </tr>\n",
       "    <tr>\n",
       "      <th id=\"T_13afd_level0_row27\" class=\"row_heading level0 row27\" >27</th>\n",
       "      <td id=\"T_13afd_row27_col0\" class=\"data row27 col0\" >Normalize</td>\n",
       "      <td id=\"T_13afd_row27_col1\" class=\"data row27 col1\" >False</td>\n",
       "    </tr>\n",
       "    <tr>\n",
       "      <th id=\"T_13afd_level0_row28\" class=\"row_heading level0 row28\" >28</th>\n",
       "      <td id=\"T_13afd_row28_col0\" class=\"data row28 col0\" >Normalize Method</td>\n",
       "      <td id=\"T_13afd_row28_col1\" class=\"data row28 col1\" >None</td>\n",
       "    </tr>\n",
       "    <tr>\n",
       "      <th id=\"T_13afd_level0_row29\" class=\"row_heading level0 row29\" >29</th>\n",
       "      <td id=\"T_13afd_row29_col0\" class=\"data row29 col0\" >Transformation</td>\n",
       "      <td id=\"T_13afd_row29_col1\" class=\"data row29 col1\" >False</td>\n",
       "    </tr>\n",
       "    <tr>\n",
       "      <th id=\"T_13afd_level0_row30\" class=\"row_heading level0 row30\" >30</th>\n",
       "      <td id=\"T_13afd_row30_col0\" class=\"data row30 col0\" >Transformation Method</td>\n",
       "      <td id=\"T_13afd_row30_col1\" class=\"data row30 col1\" >None</td>\n",
       "    </tr>\n",
       "    <tr>\n",
       "      <th id=\"T_13afd_level0_row31\" class=\"row_heading level0 row31\" >31</th>\n",
       "      <td id=\"T_13afd_row31_col0\" class=\"data row31 col0\" >PCA</td>\n",
       "      <td id=\"T_13afd_row31_col1\" class=\"data row31 col1\" >False</td>\n",
       "    </tr>\n",
       "    <tr>\n",
       "      <th id=\"T_13afd_level0_row32\" class=\"row_heading level0 row32\" >32</th>\n",
       "      <td id=\"T_13afd_row32_col0\" class=\"data row32 col0\" >PCA Method</td>\n",
       "      <td id=\"T_13afd_row32_col1\" class=\"data row32 col1\" >None</td>\n",
       "    </tr>\n",
       "    <tr>\n",
       "      <th id=\"T_13afd_level0_row33\" class=\"row_heading level0 row33\" >33</th>\n",
       "      <td id=\"T_13afd_row33_col0\" class=\"data row33 col0\" >PCA Components</td>\n",
       "      <td id=\"T_13afd_row33_col1\" class=\"data row33 col1\" >None</td>\n",
       "    </tr>\n",
       "    <tr>\n",
       "      <th id=\"T_13afd_level0_row34\" class=\"row_heading level0 row34\" >34</th>\n",
       "      <td id=\"T_13afd_row34_col0\" class=\"data row34 col0\" >Ignore Low Variance</td>\n",
       "      <td id=\"T_13afd_row34_col1\" class=\"data row34 col1\" >False</td>\n",
       "    </tr>\n",
       "    <tr>\n",
       "      <th id=\"T_13afd_level0_row35\" class=\"row_heading level0 row35\" >35</th>\n",
       "      <td id=\"T_13afd_row35_col0\" class=\"data row35 col0\" >Combine Rare Levels</td>\n",
       "      <td id=\"T_13afd_row35_col1\" class=\"data row35 col1\" >False</td>\n",
       "    </tr>\n",
       "    <tr>\n",
       "      <th id=\"T_13afd_level0_row36\" class=\"row_heading level0 row36\" >36</th>\n",
       "      <td id=\"T_13afd_row36_col0\" class=\"data row36 col0\" >Rare Level Threshold</td>\n",
       "      <td id=\"T_13afd_row36_col1\" class=\"data row36 col1\" >None</td>\n",
       "    </tr>\n",
       "    <tr>\n",
       "      <th id=\"T_13afd_level0_row37\" class=\"row_heading level0 row37\" >37</th>\n",
       "      <td id=\"T_13afd_row37_col0\" class=\"data row37 col0\" >Numeric Binning</td>\n",
       "      <td id=\"T_13afd_row37_col1\" class=\"data row37 col1\" >False</td>\n",
       "    </tr>\n",
       "    <tr>\n",
       "      <th id=\"T_13afd_level0_row38\" class=\"row_heading level0 row38\" >38</th>\n",
       "      <td id=\"T_13afd_row38_col0\" class=\"data row38 col0\" >Remove Outliers</td>\n",
       "      <td id=\"T_13afd_row38_col1\" class=\"data row38 col1\" >False</td>\n",
       "    </tr>\n",
       "    <tr>\n",
       "      <th id=\"T_13afd_level0_row39\" class=\"row_heading level0 row39\" >39</th>\n",
       "      <td id=\"T_13afd_row39_col0\" class=\"data row39 col0\" >Outliers Threshold</td>\n",
       "      <td id=\"T_13afd_row39_col1\" class=\"data row39 col1\" >None</td>\n",
       "    </tr>\n",
       "    <tr>\n",
       "      <th id=\"T_13afd_level0_row40\" class=\"row_heading level0 row40\" >40</th>\n",
       "      <td id=\"T_13afd_row40_col0\" class=\"data row40 col0\" >Remove Multicollinearity</td>\n",
       "      <td id=\"T_13afd_row40_col1\" class=\"data row40 col1\" >False</td>\n",
       "    </tr>\n",
       "    <tr>\n",
       "      <th id=\"T_13afd_level0_row41\" class=\"row_heading level0 row41\" >41</th>\n",
       "      <td id=\"T_13afd_row41_col0\" class=\"data row41 col0\" >Multicollinearity Threshold</td>\n",
       "      <td id=\"T_13afd_row41_col1\" class=\"data row41 col1\" >None</td>\n",
       "    </tr>\n",
       "    <tr>\n",
       "      <th id=\"T_13afd_level0_row42\" class=\"row_heading level0 row42\" >42</th>\n",
       "      <td id=\"T_13afd_row42_col0\" class=\"data row42 col0\" >Remove Perfect Collinearity</td>\n",
       "      <td id=\"T_13afd_row42_col1\" class=\"data row42 col1\" >True</td>\n",
       "    </tr>\n",
       "    <tr>\n",
       "      <th id=\"T_13afd_level0_row43\" class=\"row_heading level0 row43\" >43</th>\n",
       "      <td id=\"T_13afd_row43_col0\" class=\"data row43 col0\" >Clustering</td>\n",
       "      <td id=\"T_13afd_row43_col1\" class=\"data row43 col1\" >False</td>\n",
       "    </tr>\n",
       "    <tr>\n",
       "      <th id=\"T_13afd_level0_row44\" class=\"row_heading level0 row44\" >44</th>\n",
       "      <td id=\"T_13afd_row44_col0\" class=\"data row44 col0\" >Clustering Iteration</td>\n",
       "      <td id=\"T_13afd_row44_col1\" class=\"data row44 col1\" >None</td>\n",
       "    </tr>\n",
       "    <tr>\n",
       "      <th id=\"T_13afd_level0_row45\" class=\"row_heading level0 row45\" >45</th>\n",
       "      <td id=\"T_13afd_row45_col0\" class=\"data row45 col0\" >Polynomial Features</td>\n",
       "      <td id=\"T_13afd_row45_col1\" class=\"data row45 col1\" >False</td>\n",
       "    </tr>\n",
       "    <tr>\n",
       "      <th id=\"T_13afd_level0_row46\" class=\"row_heading level0 row46\" >46</th>\n",
       "      <td id=\"T_13afd_row46_col0\" class=\"data row46 col0\" >Polynomial Degree</td>\n",
       "      <td id=\"T_13afd_row46_col1\" class=\"data row46 col1\" >None</td>\n",
       "    </tr>\n",
       "    <tr>\n",
       "      <th id=\"T_13afd_level0_row47\" class=\"row_heading level0 row47\" >47</th>\n",
       "      <td id=\"T_13afd_row47_col0\" class=\"data row47 col0\" >Trignometry Features</td>\n",
       "      <td id=\"T_13afd_row47_col1\" class=\"data row47 col1\" >False</td>\n",
       "    </tr>\n",
       "    <tr>\n",
       "      <th id=\"T_13afd_level0_row48\" class=\"row_heading level0 row48\" >48</th>\n",
       "      <td id=\"T_13afd_row48_col0\" class=\"data row48 col0\" >Polynomial Threshold</td>\n",
       "      <td id=\"T_13afd_row48_col1\" class=\"data row48 col1\" >None</td>\n",
       "    </tr>\n",
       "    <tr>\n",
       "      <th id=\"T_13afd_level0_row49\" class=\"row_heading level0 row49\" >49</th>\n",
       "      <td id=\"T_13afd_row49_col0\" class=\"data row49 col0\" >Group Features</td>\n",
       "      <td id=\"T_13afd_row49_col1\" class=\"data row49 col1\" >False</td>\n",
       "    </tr>\n",
       "    <tr>\n",
       "      <th id=\"T_13afd_level0_row50\" class=\"row_heading level0 row50\" >50</th>\n",
       "      <td id=\"T_13afd_row50_col0\" class=\"data row50 col0\" >Feature Selection</td>\n",
       "      <td id=\"T_13afd_row50_col1\" class=\"data row50 col1\" >False</td>\n",
       "    </tr>\n",
       "    <tr>\n",
       "      <th id=\"T_13afd_level0_row51\" class=\"row_heading level0 row51\" >51</th>\n",
       "      <td id=\"T_13afd_row51_col0\" class=\"data row51 col0\" >Feature Selection Method</td>\n",
       "      <td id=\"T_13afd_row51_col1\" class=\"data row51 col1\" >classic</td>\n",
       "    </tr>\n",
       "    <tr>\n",
       "      <th id=\"T_13afd_level0_row52\" class=\"row_heading level0 row52\" >52</th>\n",
       "      <td id=\"T_13afd_row52_col0\" class=\"data row52 col0\" >Features Selection Threshold</td>\n",
       "      <td id=\"T_13afd_row52_col1\" class=\"data row52 col1\" >None</td>\n",
       "    </tr>\n",
       "    <tr>\n",
       "      <th id=\"T_13afd_level0_row53\" class=\"row_heading level0 row53\" >53</th>\n",
       "      <td id=\"T_13afd_row53_col0\" class=\"data row53 col0\" >Feature Interaction</td>\n",
       "      <td id=\"T_13afd_row53_col1\" class=\"data row53 col1\" >False</td>\n",
       "    </tr>\n",
       "    <tr>\n",
       "      <th id=\"T_13afd_level0_row54\" class=\"row_heading level0 row54\" >54</th>\n",
       "      <td id=\"T_13afd_row54_col0\" class=\"data row54 col0\" >Feature Ratio</td>\n",
       "      <td id=\"T_13afd_row54_col1\" class=\"data row54 col1\" >False</td>\n",
       "    </tr>\n",
       "    <tr>\n",
       "      <th id=\"T_13afd_level0_row55\" class=\"row_heading level0 row55\" >55</th>\n",
       "      <td id=\"T_13afd_row55_col0\" class=\"data row55 col0\" >Interaction Threshold</td>\n",
       "      <td id=\"T_13afd_row55_col1\" class=\"data row55 col1\" >None</td>\n",
       "    </tr>\n",
       "    <tr>\n",
       "      <th id=\"T_13afd_level0_row56\" class=\"row_heading level0 row56\" >56</th>\n",
       "      <td id=\"T_13afd_row56_col0\" class=\"data row56 col0\" >Transform Target</td>\n",
       "      <td id=\"T_13afd_row56_col1\" class=\"data row56 col1\" >False</td>\n",
       "    </tr>\n",
       "    <tr>\n",
       "      <th id=\"T_13afd_level0_row57\" class=\"row_heading level0 row57\" >57</th>\n",
       "      <td id=\"T_13afd_row57_col0\" class=\"data row57 col0\" >Transform Target Method</td>\n",
       "      <td id=\"T_13afd_row57_col1\" class=\"data row57 col1\" >box-cox</td>\n",
       "    </tr>\n",
       "  </tbody>\n",
       "</table>\n"
      ],
      "text/plain": [
       "<pandas.io.formats.style.Styler at 0x7f9f118fd460>"
      ]
     },
     "metadata": {},
     "output_type": "display_data"
    }
   ],
   "source": [
    "model_pc = setup(data=df,target=\"count\")"
   ]
  },
  {
   "cell_type": "code",
   "execution_count": 11,
   "metadata": {},
   "outputs": [
    {
     "data": {
      "text/html": [
       "<style type=\"text/css\">\n",
       "#T_2fa74_ th {\n",
       "  text-align: left;\n",
       "}\n",
       "#T_2fa74_row0_col0, #T_2fa74_row0_col5, #T_2fa74_row0_col6, #T_2fa74_row1_col0, #T_2fa74_row1_col1, #T_2fa74_row1_col2, #T_2fa74_row1_col3, #T_2fa74_row1_col4, #T_2fa74_row1_col5, #T_2fa74_row1_col6, #T_2fa74_row2_col0, #T_2fa74_row2_col1, #T_2fa74_row2_col2, #T_2fa74_row2_col3, #T_2fa74_row2_col4, #T_2fa74_row3_col0, #T_2fa74_row3_col1, #T_2fa74_row3_col2, #T_2fa74_row3_col3, #T_2fa74_row3_col4, #T_2fa74_row3_col5, #T_2fa74_row3_col6, #T_2fa74_row4_col0, #T_2fa74_row4_col1, #T_2fa74_row4_col2, #T_2fa74_row4_col3, #T_2fa74_row4_col4, #T_2fa74_row4_col5, #T_2fa74_row4_col6, #T_2fa74_row5_col0, #T_2fa74_row5_col1, #T_2fa74_row5_col2, #T_2fa74_row5_col3, #T_2fa74_row5_col4, #T_2fa74_row5_col5, #T_2fa74_row5_col6, #T_2fa74_row6_col0, #T_2fa74_row6_col1, #T_2fa74_row6_col2, #T_2fa74_row6_col3, #T_2fa74_row6_col4, #T_2fa74_row6_col5, #T_2fa74_row6_col6, #T_2fa74_row7_col0, #T_2fa74_row7_col1, #T_2fa74_row7_col2, #T_2fa74_row7_col3, #T_2fa74_row7_col4, #T_2fa74_row7_col5, #T_2fa74_row7_col6, #T_2fa74_row8_col0, #T_2fa74_row8_col1, #T_2fa74_row8_col2, #T_2fa74_row8_col3, #T_2fa74_row8_col4, #T_2fa74_row8_col5, #T_2fa74_row8_col6, #T_2fa74_row9_col0, #T_2fa74_row9_col1, #T_2fa74_row9_col2, #T_2fa74_row9_col3, #T_2fa74_row9_col4, #T_2fa74_row9_col5, #T_2fa74_row9_col6, #T_2fa74_row10_col0, #T_2fa74_row10_col1, #T_2fa74_row10_col2, #T_2fa74_row10_col3, #T_2fa74_row10_col4, #T_2fa74_row10_col5, #T_2fa74_row10_col6, #T_2fa74_row11_col0, #T_2fa74_row11_col1, #T_2fa74_row11_col2, #T_2fa74_row11_col3, #T_2fa74_row11_col4, #T_2fa74_row11_col5, #T_2fa74_row11_col6, #T_2fa74_row12_col0, #T_2fa74_row12_col1, #T_2fa74_row12_col2, #T_2fa74_row12_col3, #T_2fa74_row12_col4, #T_2fa74_row12_col5, #T_2fa74_row12_col6, #T_2fa74_row13_col0, #T_2fa74_row13_col1, #T_2fa74_row13_col2, #T_2fa74_row13_col3, #T_2fa74_row13_col4, #T_2fa74_row13_col5, #T_2fa74_row13_col6, #T_2fa74_row14_col0, #T_2fa74_row14_col1, #T_2fa74_row14_col2, #T_2fa74_row14_col3, #T_2fa74_row14_col4, #T_2fa74_row14_col5, #T_2fa74_row14_col6, #T_2fa74_row15_col0, #T_2fa74_row15_col1, #T_2fa74_row15_col2, #T_2fa74_row15_col3, #T_2fa74_row15_col4, #T_2fa74_row15_col5, #T_2fa74_row15_col6, #T_2fa74_row16_col0, #T_2fa74_row16_col1, #T_2fa74_row16_col2, #T_2fa74_row16_col3, #T_2fa74_row16_col4, #T_2fa74_row16_col5, #T_2fa74_row16_col6, #T_2fa74_row17_col0, #T_2fa74_row17_col1, #T_2fa74_row17_col2, #T_2fa74_row17_col3, #T_2fa74_row17_col4, #T_2fa74_row17_col5, #T_2fa74_row17_col6, #T_2fa74_row18_col0, #T_2fa74_row18_col1, #T_2fa74_row18_col2, #T_2fa74_row18_col3, #T_2fa74_row18_col4, #T_2fa74_row18_col5, #T_2fa74_row18_col6 {\n",
       "  text-align: left;\n",
       "}\n",
       "#T_2fa74_row0_col1, #T_2fa74_row0_col2, #T_2fa74_row0_col3, #T_2fa74_row0_col4, #T_2fa74_row2_col5, #T_2fa74_row2_col6 {\n",
       "  text-align: left;\n",
       "  background-color: yellow;\n",
       "}\n",
       "#T_2fa74_row0_col7, #T_2fa74_row1_col7, #T_2fa74_row2_col7, #T_2fa74_row3_col7, #T_2fa74_row4_col7, #T_2fa74_row5_col7, #T_2fa74_row6_col7, #T_2fa74_row7_col7, #T_2fa74_row8_col7, #T_2fa74_row9_col7, #T_2fa74_row10_col7, #T_2fa74_row11_col7, #T_2fa74_row12_col7, #T_2fa74_row13_col7, #T_2fa74_row14_col7, #T_2fa74_row17_col7, #T_2fa74_row18_col7 {\n",
       "  text-align: left;\n",
       "  background-color: lightgrey;\n",
       "}\n",
       "#T_2fa74_row15_col7, #T_2fa74_row16_col7 {\n",
       "  text-align: left;\n",
       "  background-color: yellow;\n",
       "  background-color: lightgrey;\n",
       "}\n",
       "</style>\n",
       "<table id=\"T_2fa74_\">\n",
       "  <thead>\n",
       "    <tr>\n",
       "      <th class=\"blank level0\" >&nbsp;</th>\n",
       "      <th class=\"col_heading level0 col0\" >Model</th>\n",
       "      <th class=\"col_heading level0 col1\" >MAE</th>\n",
       "      <th class=\"col_heading level0 col2\" >MSE</th>\n",
       "      <th class=\"col_heading level0 col3\" >RMSE</th>\n",
       "      <th class=\"col_heading level0 col4\" >R2</th>\n",
       "      <th class=\"col_heading level0 col5\" >RMSLE</th>\n",
       "      <th class=\"col_heading level0 col6\" >MAPE</th>\n",
       "      <th class=\"col_heading level0 col7\" >TT (Sec)</th>\n",
       "    </tr>\n",
       "  </thead>\n",
       "  <tbody>\n",
       "    <tr>\n",
       "      <th id=\"T_2fa74_level0_row0\" class=\"row_heading level0 row0\" >lightgbm</th>\n",
       "      <td id=\"T_2fa74_row0_col0\" class=\"data row0 col0\" >Light Gradient Boosting Machine</td>\n",
       "      <td id=\"T_2fa74_row0_col1\" class=\"data row0 col1\" >46.4723</td>\n",
       "      <td id=\"T_2fa74_row0_col2\" class=\"data row0 col2\" >4665.6666</td>\n",
       "      <td id=\"T_2fa74_row0_col3\" class=\"data row0 col3\" >68.1756</td>\n",
       "      <td id=\"T_2fa74_row0_col4\" class=\"data row0 col4\" >0.8544</td>\n",
       "      <td id=\"T_2fa74_row0_col5\" class=\"data row0 col5\" >0.4662</td>\n",
       "      <td id=\"T_2fa74_row0_col6\" class=\"data row0 col6\" >0.5161</td>\n",
       "      <td id=\"T_2fa74_row0_col7\" class=\"data row0 col7\" >0.1470</td>\n",
       "    </tr>\n",
       "    <tr>\n",
       "      <th id=\"T_2fa74_level0_row1\" class=\"row_heading level0 row1\" >xgboost</th>\n",
       "      <td id=\"T_2fa74_row1_col0\" class=\"data row1 col0\" >Extreme Gradient Boosting</td>\n",
       "      <td id=\"T_2fa74_row1_col1\" class=\"data row1 col1\" >46.8919</td>\n",
       "      <td id=\"T_2fa74_row1_col2\" class=\"data row1 col2\" >4802.6399</td>\n",
       "      <td id=\"T_2fa74_row1_col3\" class=\"data row1 col3\" >69.2062</td>\n",
       "      <td id=\"T_2fa74_row1_col4\" class=\"data row1 col4\" >0.8499</td>\n",
       "      <td id=\"T_2fa74_row1_col5\" class=\"data row1 col5\" >0.5248</td>\n",
       "      <td id=\"T_2fa74_row1_col6\" class=\"data row1 col6\" >0.5512</td>\n",
       "      <td id=\"T_2fa74_row1_col7\" class=\"data row1 col7\" >57.3730</td>\n",
       "    </tr>\n",
       "    <tr>\n",
       "      <th id=\"T_2fa74_level0_row2\" class=\"row_heading level0 row2\" >rf</th>\n",
       "      <td id=\"T_2fa74_row2_col0\" class=\"data row2 col0\" >Random Forest Regressor</td>\n",
       "      <td id=\"T_2fa74_row2_col1\" class=\"data row2 col1\" >46.9835</td>\n",
       "      <td id=\"T_2fa74_row2_col2\" class=\"data row2 col2\" >5061.6922</td>\n",
       "      <td id=\"T_2fa74_row2_col3\" class=\"data row2 col3\" >71.0117</td>\n",
       "      <td id=\"T_2fa74_row2_col4\" class=\"data row2 col4\" >0.8418</td>\n",
       "      <td id=\"T_2fa74_row2_col5\" class=\"data row2 col5\" >0.4329</td>\n",
       "      <td id=\"T_2fa74_row2_col6\" class=\"data row2 col6\" >0.4434</td>\n",
       "      <td id=\"T_2fa74_row2_col7\" class=\"data row2 col7\" >0.5170</td>\n",
       "    </tr>\n",
       "    <tr>\n",
       "      <th id=\"T_2fa74_level0_row3\" class=\"row_heading level0 row3\" >et</th>\n",
       "      <td id=\"T_2fa74_row3_col0\" class=\"data row3 col0\" >Extra Trees Regressor</td>\n",
       "      <td id=\"T_2fa74_row3_col1\" class=\"data row3 col1\" >47.6544</td>\n",
       "      <td id=\"T_2fa74_row3_col2\" class=\"data row3 col2\" >5362.3959</td>\n",
       "      <td id=\"T_2fa74_row3_col3\" class=\"data row3 col3\" >73.0886</td>\n",
       "      <td id=\"T_2fa74_row3_col4\" class=\"data row3 col4\" >0.8324</td>\n",
       "      <td id=\"T_2fa74_row3_col5\" class=\"data row3 col5\" >0.4405</td>\n",
       "      <td id=\"T_2fa74_row3_col6\" class=\"data row3 col6\" >0.4494</td>\n",
       "      <td id=\"T_2fa74_row3_col7\" class=\"data row3 col7\" >0.4220</td>\n",
       "    </tr>\n",
       "    <tr>\n",
       "      <th id=\"T_2fa74_level0_row4\" class=\"row_heading level0 row4\" >gbr</th>\n",
       "      <td id=\"T_2fa74_row4_col0\" class=\"data row4 col0\" >Gradient Boosting Regressor</td>\n",
       "      <td id=\"T_2fa74_row4_col1\" class=\"data row4 col1\" >57.9211</td>\n",
       "      <td id=\"T_2fa74_row4_col2\" class=\"data row4 col2\" >7155.6422</td>\n",
       "      <td id=\"T_2fa74_row4_col3\" class=\"data row4 col3\" >84.4636</td>\n",
       "      <td id=\"T_2fa74_row4_col4\" class=\"data row4 col4\" >0.7762</td>\n",
       "      <td id=\"T_2fa74_row4_col5\" class=\"data row4 col5\" >0.6562</td>\n",
       "      <td id=\"T_2fa74_row4_col6\" class=\"data row4 col6\" >0.8847</td>\n",
       "      <td id=\"T_2fa74_row4_col7\" class=\"data row4 col7\" >0.1550</td>\n",
       "    </tr>\n",
       "    <tr>\n",
       "      <th id=\"T_2fa74_level0_row5\" class=\"row_heading level0 row5\" >dt</th>\n",
       "      <td id=\"T_2fa74_row5_col0\" class=\"data row5 col0\" >Decision Tree Regressor</td>\n",
       "      <td id=\"T_2fa74_row5_col1\" class=\"data row5 col1\" >60.9916</td>\n",
       "      <td id=\"T_2fa74_row5_col2\" class=\"data row5 col2\" >9518.2946</td>\n",
       "      <td id=\"T_2fa74_row5_col3\" class=\"data row5 col3\" >97.4206</td>\n",
       "      <td id=\"T_2fa74_row5_col4\" class=\"data row5 col4\" >0.7019</td>\n",
       "      <td id=\"T_2fa74_row5_col5\" class=\"data row5 col5\" >0.5511</td>\n",
       "      <td id=\"T_2fa74_row5_col6\" class=\"data row5 col6\" >0.5258</td>\n",
       "      <td id=\"T_2fa74_row5_col7\" class=\"data row5 col7\" >0.0170</td>\n",
       "    </tr>\n",
       "    <tr>\n",
       "      <th id=\"T_2fa74_level0_row6\" class=\"row_heading level0 row6\" >ada</th>\n",
       "      <td id=\"T_2fa74_row6_col0\" class=\"data row6 col0\" >AdaBoost Regressor</td>\n",
       "      <td id=\"T_2fa74_row6_col1\" class=\"data row6 col1\" >91.9719</td>\n",
       "      <td id=\"T_2fa74_row6_col2\" class=\"data row6 col2\" >13504.7697</td>\n",
       "      <td id=\"T_2fa74_row6_col3\" class=\"data row6 col3\" >116.1151</td>\n",
       "      <td id=\"T_2fa74_row6_col4\" class=\"data row6 col4\" >0.5764</td>\n",
       "      <td id=\"T_2fa74_row6_col5\" class=\"data row6 col5\" >1.0140</td>\n",
       "      <td id=\"T_2fa74_row6_col6\" class=\"data row6 col6\" >2.3493</td>\n",
       "      <td id=\"T_2fa74_row6_col7\" class=\"data row6 col7\" >0.1110</td>\n",
       "    </tr>\n",
       "    <tr>\n",
       "      <th id=\"T_2fa74_level0_row7\" class=\"row_heading level0 row7\" >knn</th>\n",
       "      <td id=\"T_2fa74_row7_col0\" class=\"data row7 col0\" >K Neighbors Regressor</td>\n",
       "      <td id=\"T_2fa74_row7_col1\" class=\"data row7 col1\" >86.1317</td>\n",
       "      <td id=\"T_2fa74_row7_col2\" class=\"data row7 col2\" >15818.6448</td>\n",
       "      <td id=\"T_2fa74_row7_col3\" class=\"data row7 col3\" >125.6354</td>\n",
       "      <td id=\"T_2fa74_row7_col4\" class=\"data row7 col4\" >0.5052</td>\n",
       "      <td id=\"T_2fa74_row7_col5\" class=\"data row7 col5\" >0.8912</td>\n",
       "      <td id=\"T_2fa74_row7_col6\" class=\"data row7 col6\" >1.7102</td>\n",
       "      <td id=\"T_2fa74_row7_col7\" class=\"data row7 col7\" >0.0180</td>\n",
       "    </tr>\n",
       "    <tr>\n",
       "      <th id=\"T_2fa74_level0_row8\" class=\"row_heading level0 row8\" >br</th>\n",
       "      <td id=\"T_2fa74_row8_col0\" class=\"data row8 col0\" >Bayesian Ridge</td>\n",
       "      <td id=\"T_2fa74_row8_col1\" class=\"data row8 col1\" >106.5706</td>\n",
       "      <td id=\"T_2fa74_row8_col2\" class=\"data row8 col2\" >20967.0774</td>\n",
       "      <td id=\"T_2fa74_row8_col3\" class=\"data row8 col3\" >144.7058</td>\n",
       "      <td id=\"T_2fa74_row8_col4\" class=\"data row8 col4\" >0.3436</td>\n",
       "      <td id=\"T_2fa74_row8_col5\" class=\"data row8 col5\" >1.2039</td>\n",
       "      <td id=\"T_2fa74_row8_col6\" class=\"data row8 col6\" >3.1394</td>\n",
       "      <td id=\"T_2fa74_row8_col7\" class=\"data row8 col7\" >0.0090</td>\n",
       "    </tr>\n",
       "    <tr>\n",
       "      <th id=\"T_2fa74_level0_row9\" class=\"row_heading level0 row9\" >ridge</th>\n",
       "      <td id=\"T_2fa74_row9_col0\" class=\"data row9 col0\" >Ridge Regression</td>\n",
       "      <td id=\"T_2fa74_row9_col1\" class=\"data row9 col1\" >106.6117</td>\n",
       "      <td id=\"T_2fa74_row9_col2\" class=\"data row9 col2\" >20967.4389</td>\n",
       "      <td id=\"T_2fa74_row9_col3\" class=\"data row9 col3\" >144.7059</td>\n",
       "      <td id=\"T_2fa74_row9_col4\" class=\"data row9 col4\" >0.3436</td>\n",
       "      <td id=\"T_2fa74_row9_col5\" class=\"data row9 col5\" >1.2043</td>\n",
       "      <td id=\"T_2fa74_row9_col6\" class=\"data row9 col6\" >3.1443</td>\n",
       "      <td id=\"T_2fa74_row9_col7\" class=\"data row9 col7\" >0.0090</td>\n",
       "    </tr>\n",
       "    <tr>\n",
       "      <th id=\"T_2fa74_level0_row10\" class=\"row_heading level0 row10\" >lr</th>\n",
       "      <td id=\"T_2fa74_row10_col0\" class=\"data row10 col0\" >Linear Regression</td>\n",
       "      <td id=\"T_2fa74_row10_col1\" class=\"data row10 col1\" >106.6127</td>\n",
       "      <td id=\"T_2fa74_row10_col2\" class=\"data row10 col2\" >20967.4944</td>\n",
       "      <td id=\"T_2fa74_row10_col3\" class=\"data row10 col3\" >144.7061</td>\n",
       "      <td id=\"T_2fa74_row10_col4\" class=\"data row10 col4\" >0.3436</td>\n",
       "      <td id=\"T_2fa74_row10_col5\" class=\"data row10 col5\" >1.2043</td>\n",
       "      <td id=\"T_2fa74_row10_col6\" class=\"data row10 col6\" >3.1444</td>\n",
       "      <td id=\"T_2fa74_row10_col7\" class=\"data row10 col7\" >0.3770</td>\n",
       "    </tr>\n",
       "    <tr>\n",
       "      <th id=\"T_2fa74_level0_row11\" class=\"row_heading level0 row11\" >lar</th>\n",
       "      <td id=\"T_2fa74_row11_col0\" class=\"data row11 col0\" >Least Angle Regression</td>\n",
       "      <td id=\"T_2fa74_row11_col1\" class=\"data row11 col1\" >106.6802</td>\n",
       "      <td id=\"T_2fa74_row11_col2\" class=\"data row11 col2\" >20993.9983</td>\n",
       "      <td id=\"T_2fa74_row11_col3\" class=\"data row11 col3\" >144.7938</td>\n",
       "      <td id=\"T_2fa74_row11_col4\" class=\"data row11 col4\" >0.3428</td>\n",
       "      <td id=\"T_2fa74_row11_col5\" class=\"data row11 col5\" >1.2040</td>\n",
       "      <td id=\"T_2fa74_row11_col6\" class=\"data row11 col6\" >3.1449</td>\n",
       "      <td id=\"T_2fa74_row11_col7\" class=\"data row11 col7\" >0.0100</td>\n",
       "    </tr>\n",
       "    <tr>\n",
       "      <th id=\"T_2fa74_level0_row12\" class=\"row_heading level0 row12\" >lasso</th>\n",
       "      <td id=\"T_2fa74_row12_col0\" class=\"data row12 col0\" >Lasso Regression</td>\n",
       "      <td id=\"T_2fa74_row12_col1\" class=\"data row12 col1\" >106.5506</td>\n",
       "      <td id=\"T_2fa74_row12_col2\" class=\"data row12 col2\" >20998.1704</td>\n",
       "      <td id=\"T_2fa74_row12_col3\" class=\"data row12 col3\" >144.8168</td>\n",
       "      <td id=\"T_2fa74_row12_col4\" class=\"data row12 col4\" >0.3425</td>\n",
       "      <td id=\"T_2fa74_row12_col5\" class=\"data row12 col5\" >1.2003</td>\n",
       "      <td id=\"T_2fa74_row12_col6\" class=\"data row12 col6\" >3.1338</td>\n",
       "      <td id=\"T_2fa74_row12_col7\" class=\"data row12 col7\" >0.0100</td>\n",
       "    </tr>\n",
       "    <tr>\n",
       "      <th id=\"T_2fa74_level0_row13\" class=\"row_heading level0 row13\" >en</th>\n",
       "      <td id=\"T_2fa74_row13_col0\" class=\"data row13 col0\" >Elastic Net</td>\n",
       "      <td id=\"T_2fa74_row13_col1\" class=\"data row13 col1\" >107.2217</td>\n",
       "      <td id=\"T_2fa74_row13_col2\" class=\"data row13 col2\" >21377.9919</td>\n",
       "      <td id=\"T_2fa74_row13_col3\" class=\"data row13 col3\" >146.1344</td>\n",
       "      <td id=\"T_2fa74_row13_col4\" class=\"data row13 col4\" >0.3305</td>\n",
       "      <td id=\"T_2fa74_row13_col5\" class=\"data row13 col5\" >1.1940</td>\n",
       "      <td id=\"T_2fa74_row13_col6\" class=\"data row13 col6\" >3.1477</td>\n",
       "      <td id=\"T_2fa74_row13_col7\" class=\"data row13 col7\" >0.0090</td>\n",
       "    </tr>\n",
       "    <tr>\n",
       "      <th id=\"T_2fa74_level0_row14\" class=\"row_heading level0 row14\" >huber</th>\n",
       "      <td id=\"T_2fa74_row14_col0\" class=\"data row14 col0\" >Huber Regressor</td>\n",
       "      <td id=\"T_2fa74_row14_col1\" class=\"data row14 col1\" >102.2220</td>\n",
       "      <td id=\"T_2fa74_row14_col2\" class=\"data row14 col2\" >21893.2293</td>\n",
       "      <td id=\"T_2fa74_row14_col3\" class=\"data row14 col3\" >147.8248</td>\n",
       "      <td id=\"T_2fa74_row14_col4\" class=\"data row14 col4\" >0.3152</td>\n",
       "      <td id=\"T_2fa74_row14_col5\" class=\"data row14 col5\" >1.1341</td>\n",
       "      <td id=\"T_2fa74_row14_col6\" class=\"data row14 col6\" >2.4793</td>\n",
       "      <td id=\"T_2fa74_row14_col7\" class=\"data row14 col7\" >0.0660</td>\n",
       "    </tr>\n",
       "    <tr>\n",
       "      <th id=\"T_2fa74_level0_row15\" class=\"row_heading level0 row15\" >omp</th>\n",
       "      <td id=\"T_2fa74_row15_col0\" class=\"data row15 col0\" >Orthogonal Matching Pursuit</td>\n",
       "      <td id=\"T_2fa74_row15_col1\" class=\"data row15 col1\" >125.7841</td>\n",
       "      <td id=\"T_2fa74_row15_col2\" class=\"data row15 col2\" >27404.1708</td>\n",
       "      <td id=\"T_2fa74_row15_col3\" class=\"data row15 col3\" >165.4551</td>\n",
       "      <td id=\"T_2fa74_row15_col4\" class=\"data row15 col4\" >0.1419</td>\n",
       "      <td id=\"T_2fa74_row15_col5\" class=\"data row15 col5\" >1.4102</td>\n",
       "      <td id=\"T_2fa74_row15_col6\" class=\"data row15 col6\" >5.4652</td>\n",
       "      <td id=\"T_2fa74_row15_col7\" class=\"data row15 col7\" >0.0080</td>\n",
       "    </tr>\n",
       "    <tr>\n",
       "      <th id=\"T_2fa74_level0_row16\" class=\"row_heading level0 row16\" >llar</th>\n",
       "      <td id=\"T_2fa74_row16_col0\" class=\"data row16 col0\" >Lasso Least Angle Regression</td>\n",
       "      <td id=\"T_2fa74_row16_col1\" class=\"data row16 col1\" >140.6487</td>\n",
       "      <td id=\"T_2fa74_row16_col2\" class=\"data row16 col2\" >31997.9307</td>\n",
       "      <td id=\"T_2fa74_row16_col3\" class=\"data row16 col3\" >178.8056</td>\n",
       "      <td id=\"T_2fa74_row16_col4\" class=\"data row16 col4\" >-0.0021</td>\n",
       "      <td id=\"T_2fa74_row16_col5\" class=\"data row16 col5\" >1.5574</td>\n",
       "      <td id=\"T_2fa74_row16_col6\" class=\"data row16 col6\" >7.6325</td>\n",
       "      <td id=\"T_2fa74_row16_col7\" class=\"data row16 col7\" >0.0080</td>\n",
       "    </tr>\n",
       "    <tr>\n",
       "      <th id=\"T_2fa74_level0_row17\" class=\"row_heading level0 row17\" >dummy</th>\n",
       "      <td id=\"T_2fa74_row17_col0\" class=\"data row17 col0\" >Dummy Regressor</td>\n",
       "      <td id=\"T_2fa74_row17_col1\" class=\"data row17 col1\" >140.6487</td>\n",
       "      <td id=\"T_2fa74_row17_col2\" class=\"data row17 col2\" >31997.9307</td>\n",
       "      <td id=\"T_2fa74_row17_col3\" class=\"data row17 col3\" >178.8056</td>\n",
       "      <td id=\"T_2fa74_row17_col4\" class=\"data row17 col4\" >-0.0021</td>\n",
       "      <td id=\"T_2fa74_row17_col5\" class=\"data row17 col5\" >1.5574</td>\n",
       "      <td id=\"T_2fa74_row17_col6\" class=\"data row17 col6\" >7.6325</td>\n",
       "      <td id=\"T_2fa74_row17_col7\" class=\"data row17 col7\" >0.0090</td>\n",
       "    </tr>\n",
       "    <tr>\n",
       "      <th id=\"T_2fa74_level0_row18\" class=\"row_heading level0 row18\" >par</th>\n",
       "      <td id=\"T_2fa74_row18_col0\" class=\"data row18 col0\" >Passive Aggressive Regressor</td>\n",
       "      <td id=\"T_2fa74_row18_col1\" class=\"data row18 col1\" >141.3248</td>\n",
       "      <td id=\"T_2fa74_row18_col2\" class=\"data row18 col2\" >36238.9801</td>\n",
       "      <td id=\"T_2fa74_row18_col3\" class=\"data row18 col3\" >184.1105</td>\n",
       "      <td id=\"T_2fa74_row18_col4\" class=\"data row18 col4\" >-0.1549</td>\n",
       "      <td id=\"T_2fa74_row18_col5\" class=\"data row18 col5\" >1.3984</td>\n",
       "      <td id=\"T_2fa74_row18_col6\" class=\"data row18 col6\" >5.1430</td>\n",
       "      <td id=\"T_2fa74_row18_col7\" class=\"data row18 col7\" >0.0230</td>\n",
       "    </tr>\n",
       "  </tbody>\n",
       "</table>\n"
      ],
      "text/plain": [
       "<pandas.io.formats.style.Styler at 0x7f9f34c368e0>"
      ]
     },
     "metadata": {},
     "output_type": "display_data"
    }
   ],
   "source": [
    "best_model = compare_models()"
   ]
  },
  {
   "cell_type": "markdown",
   "metadata": {},
   "source": [
    "# XGBoost"
   ]
  },
  {
   "cell_type": "code",
   "execution_count": 3,
   "metadata": {},
   "outputs": [],
   "source": [
    "y = df.pop(\"count\")\n",
    "X = df\n",
    "X_train, X_test, y_train, y_test = train_test_split(X, y, test_size=0.2, random_state = 1)\n",
    "\n"
   ]
  },
  {
   "cell_type": "code",
   "execution_count": 4,
   "metadata": {},
   "outputs": [
    {
     "data": {
      "text/html": [
       "<div>\n",
       "<style scoped>\n",
       "    .dataframe tbody tr th:only-of-type {\n",
       "        vertical-align: middle;\n",
       "    }\n",
       "\n",
       "    .dataframe tbody tr th {\n",
       "        vertical-align: top;\n",
       "    }\n",
       "\n",
       "    .dataframe thead th {\n",
       "        text-align: right;\n",
       "    }\n",
       "</style>\n",
       "<table border=\"1\" class=\"dataframe\">\n",
       "  <thead>\n",
       "    <tr style=\"text-align: right;\">\n",
       "      <th></th>\n",
       "      <th>season</th>\n",
       "      <th>holiday</th>\n",
       "      <th>workingday</th>\n",
       "      <th>weather</th>\n",
       "      <th>temp</th>\n",
       "      <th>humidity</th>\n",
       "      <th>windspeed</th>\n",
       "      <th>heure</th>\n",
       "    </tr>\n",
       "  </thead>\n",
       "  <tbody>\n",
       "    <tr>\n",
       "      <th>0</th>\n",
       "      <td>1</td>\n",
       "      <td>0</td>\n",
       "      <td>0</td>\n",
       "      <td>1</td>\n",
       "      <td>9.84</td>\n",
       "      <td>81</td>\n",
       "      <td>0.0</td>\n",
       "      <td>0</td>\n",
       "    </tr>\n",
       "    <tr>\n",
       "      <th>1</th>\n",
       "      <td>1</td>\n",
       "      <td>0</td>\n",
       "      <td>0</td>\n",
       "      <td>1</td>\n",
       "      <td>9.02</td>\n",
       "      <td>80</td>\n",
       "      <td>0.0</td>\n",
       "      <td>1</td>\n",
       "    </tr>\n",
       "    <tr>\n",
       "      <th>2</th>\n",
       "      <td>1</td>\n",
       "      <td>0</td>\n",
       "      <td>0</td>\n",
       "      <td>1</td>\n",
       "      <td>9.02</td>\n",
       "      <td>80</td>\n",
       "      <td>0.0</td>\n",
       "      <td>2</td>\n",
       "    </tr>\n",
       "    <tr>\n",
       "      <th>3</th>\n",
       "      <td>1</td>\n",
       "      <td>0</td>\n",
       "      <td>0</td>\n",
       "      <td>1</td>\n",
       "      <td>9.84</td>\n",
       "      <td>75</td>\n",
       "      <td>0.0</td>\n",
       "      <td>3</td>\n",
       "    </tr>\n",
       "    <tr>\n",
       "      <th>4</th>\n",
       "      <td>1</td>\n",
       "      <td>0</td>\n",
       "      <td>0</td>\n",
       "      <td>1</td>\n",
       "      <td>9.84</td>\n",
       "      <td>75</td>\n",
       "      <td>0.0</td>\n",
       "      <td>4</td>\n",
       "    </tr>\n",
       "  </tbody>\n",
       "</table>\n",
       "</div>"
      ],
      "text/plain": [
       "   season  holiday  workingday  weather  temp  humidity  windspeed  heure\n",
       "0       1        0           0        1  9.84        81        0.0      0\n",
       "1       1        0           0        1  9.02        80        0.0      1\n",
       "2       1        0           0        1  9.02        80        0.0      2\n",
       "3       1        0           0        1  9.84        75        0.0      3\n",
       "4       1        0           0        1  9.84        75        0.0      4"
      ]
     },
     "execution_count": 4,
     "metadata": {},
     "output_type": "execute_result"
    }
   ],
   "source": [
    "df.head()"
   ]
  },
  {
   "cell_type": "code",
   "execution_count": 5,
   "metadata": {},
   "outputs": [],
   "source": [
    "xgb = XGBRegressor()\n",
    "cat_feature = [\"season\",\"weather\"]\n",
    "cat_pip = make_pipeline(OneHotEncoder())\n",
    "num_feature = [\"temp\",\"humidity\",\"windspeed\",\"heure\"]\n",
    "num_pip = make_pipeline(StandardScaler())\n",
    "preprocessor = make_column_transformer((cat_pip,cat_feature),(num_pip,num_feature),remainder=\"passthrough\")\n",
    "\n",
    "pip = make_pipeline(preprocessor,xgb)"
   ]
  },
  {
   "cell_type": "code",
   "execution_count": 6,
   "metadata": {},
   "outputs": [],
   "source": [
    "\n",
    "model_xgb = pip.fit(X_train,y_train)"
   ]
  },
  {
   "cell_type": "code",
   "execution_count": 7,
   "metadata": {},
   "outputs": [
    {
     "data": {
      "text/plain": [
       "0.8588667899172001"
      ]
     },
     "execution_count": 7,
     "metadata": {},
     "output_type": "execute_result"
    }
   ],
   "source": [
    "model_xgb.score(X_test,y_test)"
   ]
  },
  {
   "cell_type": "code",
   "execution_count": 8,
   "metadata": {},
   "outputs": [
    {
     "data": {
      "text/plain": [
       "XGBRegressor(base_score=0.5, booster='gbtree', colsample_bylevel=1,\n",
       "             colsample_bynode=1, colsample_bytree=1, enable_categorical=False,\n",
       "             gamma=0, gpu_id=-1, importance_type=None,\n",
       "             interaction_constraints='', learning_rate=0.300000012,\n",
       "             max_delta_step=0, max_depth=6, min_child_weight=1, missing=nan,\n",
       "             monotone_constraints='()', n_estimators=100, n_jobs=8,\n",
       "             num_parallel_tree=1, predictor='auto', random_state=0, reg_alpha=0,\n",
       "             reg_lambda=1, scale_pos_weight=1, subsample=1, tree_method='exact',\n",
       "             validate_parameters=1, verbosity=None)"
      ]
     },
     "execution_count": 8,
     "metadata": {},
     "output_type": "execute_result"
    }
   ],
   "source": [
    "model_xgb[1]"
   ]
  },
  {
   "cell_type": "code",
   "execution_count": 54,
   "metadata": {},
   "outputs": [
    {
     "data": {
      "text/plain": [
       "<AxesSubplot:title={'center':'Feature importance'}, xlabel='F score', ylabel='Features'>"
      ]
     },
     "execution_count": 54,
     "metadata": {},
     "output_type": "execute_result"
    },
    {
     "data": {
      "image/png": "[encoded data removed]",
      "text/plain": [
       "<Figure size 576x396 with 1 Axes>"
      ]
     },
     "metadata": {},
     "output_type": "display_data"
    }
   ],
   "source": [
    "plot_importance(model_xgb[1])"
   ]
  },
  {
   "cell_type": "code",
   "execution_count": 80,
   "metadata": {},
   "outputs": [
    {
     "data": {
      "text/plain": [
       "{'f0': 117.0,\n",
       " 'f1': 149.0,\n",
       " 'f2': 70.0,\n",
       " 'f3': 108.0,\n",
       " 'f4': 104.0,\n",
       " 'f5': 84.0,\n",
       " 'f6': 65.0,\n",
       " 'f8': 1175.0,\n",
       " 'f9': 1110.0,\n",
       " 'f10': 802.0,\n",
       " 'f11': 1171.0,\n",
       " 'f12': 101.0,\n",
       " 'f13': 270.0}"
      ]
     },
     "execution_count": 80,
     "metadata": {},
     "output_type": "execute_result"
    }
   ],
   "source": [
    "xgb_score = model_xgb[1].get_booster().get_fscore()\n",
    "xgb_score"
   ]
  },
  {
   "cell_type": "code",
   "execution_count": 48,
   "metadata": {},
   "outputs": [
    {
     "data": {
      "text/plain": [
       "('pipeline-2',\n",
       " Pipeline(steps=[('standardscaler', StandardScaler())]),\n",
       " ['temp', 'humidity', 'windspeed', 'heure'])"
      ]
     },
     "execution_count": 48,
     "metadata": {},
     "output_type": "execute_result"
    }
   ],
   "source": [
    "model_xgb[0].transformers_[1]"
   ]
  },
  {
   "cell_type": "code",
   "execution_count": 40,
   "metadata": {},
   "outputs": [
    {
     "data": {
      "text/plain": [
       "array(['season_1', 'season_2', 'season_3', 'season_4', 'weather_1',\n",
       "       'weather_2', 'weather_3', 'weather_4'], dtype=object)"
      ]
     },
     "execution_count": 40,
     "metadata": {},
     "output_type": "execute_result"
    }
   ],
   "source": [
    "model_xgb[0].transformers_[0][1][\"onehotencoder\"].get_feature_names(cat_feature)\n"
   ]
  },
  {
   "cell_type": "code",
   "execution_count": 44,
   "metadata": {},
   "outputs": [
    {
     "data": {
      "text/plain": [
       "('remainder', 'passthrough', [1, 2])"
      ]
     },
     "execution_count": 44,
     "metadata": {},
     "output_type": "execute_result"
    }
   ],
   "source": [
    "model_xgb[0].transformers_[2]\n"
   ]
  },
  {
   "cell_type": "code",
   "execution_count": 49,
   "metadata": {},
   "outputs": [
    {
     "data": {
      "text/html": [
       "<div>\n",
       "<style scoped>\n",
       "    .dataframe tbody tr th:only-of-type {\n",
       "        vertical-align: middle;\n",
       "    }\n",
       "\n",
       "    .dataframe tbody tr th {\n",
       "        vertical-align: top;\n",
       "    }\n",
       "\n",
       "    .dataframe thead th {\n",
       "        text-align: right;\n",
       "    }\n",
       "</style>\n",
       "<table border=\"1\" class=\"dataframe\">\n",
       "  <thead>\n",
       "    <tr style=\"text-align: right;\">\n",
       "      <th></th>\n",
       "      <th>season</th>\n",
       "      <th>holiday</th>\n",
       "      <th>workingday</th>\n",
       "      <th>weather</th>\n",
       "      <th>temp</th>\n",
       "      <th>humidity</th>\n",
       "      <th>windspeed</th>\n",
       "      <th>heure</th>\n",
       "    </tr>\n",
       "  </thead>\n",
       "  <tbody>\n",
       "    <tr>\n",
       "      <th>0</th>\n",
       "      <td>1</td>\n",
       "      <td>0</td>\n",
       "      <td>0</td>\n",
       "      <td>1</td>\n",
       "      <td>9.84</td>\n",
       "      <td>81</td>\n",
       "      <td>0.0</td>\n",
       "      <td>0</td>\n",
       "    </tr>\n",
       "    <tr>\n",
       "      <th>1</th>\n",
       "      <td>1</td>\n",
       "      <td>0</td>\n",
       "      <td>0</td>\n",
       "      <td>1</td>\n",
       "      <td>9.02</td>\n",
       "      <td>80</td>\n",
       "      <td>0.0</td>\n",
       "      <td>1</td>\n",
       "    </tr>\n",
       "    <tr>\n",
       "      <th>2</th>\n",
       "      <td>1</td>\n",
       "      <td>0</td>\n",
       "      <td>0</td>\n",
       "      <td>1</td>\n",
       "      <td>9.02</td>\n",
       "      <td>80</td>\n",
       "      <td>0.0</td>\n",
       "      <td>2</td>\n",
       "    </tr>\n",
       "    <tr>\n",
       "      <th>3</th>\n",
       "      <td>1</td>\n",
       "      <td>0</td>\n",
       "      <td>0</td>\n",
       "      <td>1</td>\n",
       "      <td>9.84</td>\n",
       "      <td>75</td>\n",
       "      <td>0.0</td>\n",
       "      <td>3</td>\n",
       "    </tr>\n",
       "    <tr>\n",
       "      <th>4</th>\n",
       "      <td>1</td>\n",
       "      <td>0</td>\n",
       "      <td>0</td>\n",
       "      <td>1</td>\n",
       "      <td>9.84</td>\n",
       "      <td>75</td>\n",
       "      <td>0.0</td>\n",
       "      <td>4</td>\n",
       "    </tr>\n",
       "  </tbody>\n",
       "</table>\n",
       "</div>"
      ],
      "text/plain": [
       "   season  holiday  workingday  weather  temp  humidity  windspeed  heure\n",
       "0       1        0           0        1  9.84        81        0.0      0\n",
       "1       1        0           0        1  9.02        80        0.0      1\n",
       "2       1        0           0        1  9.02        80        0.0      2\n",
       "3       1        0           0        1  9.84        75        0.0      3\n",
       "4       1        0           0        1  9.84        75        0.0      4"
      ]
     },
     "execution_count": 49,
     "metadata": {},
     "output_type": "execute_result"
    }
   ],
   "source": [
    "X.head()"
   ]
  },
  {
   "cell_type": "code",
   "execution_count": 124,
   "metadata": {},
   "outputs": [
    {
     "data": {
      "text/plain": [
       "('pipeline-1',\n",
       " Pipeline(steps=[('onehotencoder', OneHotEncoder())]),\n",
       " ['season', 'weather', 'year'])"
      ]
     },
     "execution_count": 124,
     "metadata": {},
     "output_type": "execute_result"
    }
   ],
   "source": [
    "model_xgb[0].transformers_[0]"
   ]
  },
  {
   "cell_type": "code",
   "execution_count": 81,
   "metadata": {},
   "outputs": [
    {
     "data": {
      "text/plain": [
       "13"
      ]
     },
     "execution_count": 81,
     "metadata": {},
     "output_type": "execute_result"
    }
   ],
   "source": [
    "liste_feature = ['season_1', 'season_2', 'season_3', 'season_4', 'weather_1','weather_2', 'weather_3','temp', 'humidity', 'windspeed', 'heure',\"holiday\",\"workingday\"]\n",
    "len(liste_feature)\n",
    "len(list(xgb_score.values()))"
   ]
  },
  {
   "cell_type": "code",
   "execution_count": 83,
   "metadata": {},
   "outputs": [
    {
     "data": {
      "text/plain": [
       "([<matplotlib.axis.YTick at 0x7f24d636abb0>,\n",
       "  <matplotlib.axis.YTick at 0x7f24d6371b80>,\n",
       "  <matplotlib.axis.YTick at 0x7f24d62f5910>,\n",
       "  <matplotlib.axis.YTick at 0x7f24d63882e0>,\n",
       "  <matplotlib.axis.YTick at 0x7f24dc38c880>,\n",
       "  <matplotlib.axis.YTick at 0x7f24d63987f0>,\n",
       "  <matplotlib.axis.YTick at 0x7f24d6398a00>,\n",
       "  <matplotlib.axis.YTick at 0x7f24d638fd30>,\n",
       "  <matplotlib.axis.YTick at 0x7f24d63f8fd0>,\n",
       "  <matplotlib.axis.YTick at 0x7f24d638f2b0>,\n",
       "  <matplotlib.axis.YTick at 0x7f24d63981f0>,\n",
       "  <matplotlib.axis.YTick at 0x7f24d63f8a30>,\n",
       "  <matplotlib.axis.YTick at 0x7f24d63f8d60>],\n",
       " [Text(0, 0, 'season_1'),\n",
       "  Text(0, 1, 'season_2'),\n",
       "  Text(0, 2, 'season_3'),\n",
       "  Text(0, 3, 'season_4'),\n",
       "  Text(0, 4, 'weather_1'),\n",
       "  Text(0, 5, 'weather_2'),\n",
       "  Text(0, 6, 'weather_3'),\n",
       "  Text(0, 7, 'temp'),\n",
       "  Text(0, 8, 'humidity'),\n",
       "  Text(0, 9, 'windspeed'),\n",
       "  Text(0, 10, 'heure'),\n",
       "  Text(0, 11, 'holiday'),\n",
       "  Text(0, 12, 'workingday')])"
      ]
     },
     "execution_count": 83,
     "metadata": {},
     "output_type": "execute_result"
    },
    {
     "data": {
      "image/png": "[encoded data removed]",
      "text/plain": [
       "<Figure size 1440x720 with 1 Axes>"
      ]
     },
     "metadata": {},
     "output_type": "display_data"
    }
   ],
   "source": [
    "fig = plt.figure(figsize=(20,10))\n",
    "y_pos = range(0,len(liste_feature))\n",
    "\n",
    "plt.barh(y_pos,list(xgb_score.values()))\n",
    "plt.yticks(y_pos,liste_feature)"
   ]
  },
  {
   "cell_type": "code",
   "execution_count": 75,
   "metadata": {},
   "outputs": [
    {
     "data": {
      "text/plain": [
       "[117.0,\n",
       " 149.0,\n",
       " 70.0,\n",
       " 108.0,\n",
       " 104.0,\n",
       " 84.0,\n",
       " 65.0,\n",
       " 1175.0,\n",
       " 1110.0,\n",
       " 802.0,\n",
       " 1171.0,\n",
       " 101.0,\n",
       " 270.0]"
      ]
     },
     "execution_count": 75,
     "metadata": {},
     "output_type": "execute_result"
    }
   ],
   "source": [
    "list(xgb_score.values())"
   ]
  },
  {
   "cell_type": "markdown",
   "metadata": {},
   "source": [
    "XGBoost avec les bons train/test"
   ]
  },
  {
   "cell_type": "code",
   "execution_count": 163,
   "metadata": {},
   "outputs": [
    {
     "data": {
      "text/plain": [
       "0       2011-01-01 00:00:00\n",
       "1       2011-01-01 01:00:00\n",
       "2       2011-01-01 02:00:00\n",
       "3       2011-01-01 03:00:00\n",
       "4       2011-01-01 04:00:00\n",
       "               ...         \n",
       "9034    2012-08-19 19:00:00\n",
       "9035    2012-08-19 20:00:00\n",
       "9036    2012-08-19 21:00:00\n",
       "9037    2012-08-19 22:00:00\n",
       "9038    2012-08-19 23:00:00\n",
       "Name: datetime, Length: 9039, dtype: object"
      ]
     },
     "execution_count": 163,
     "metadata": {},
     "output_type": "execute_result"
    }
   ],
   "source": [
    "X_test = pd.read_csv(\"Datas/data_frame_test_florian.csv\")\n",
    "X_train = pd.read_csv(\"Datas/data_frame_train_florian.csv\")\n",
    "date = X_test.pop(\"datetime\")\n",
    "X_train.pop(\"datetime\")"
   ]
  },
  {
   "cell_type": "code",
   "execution_count": 111,
   "metadata": {},
   "outputs": [
    {
     "data": {
      "text/html": [
       "<div>\n",
       "<style scoped>\n",
       "    .dataframe tbody tr th:only-of-type {\n",
       "        vertical-align: middle;\n",
       "    }\n",
       "\n",
       "    .dataframe tbody tr th {\n",
       "        vertical-align: top;\n",
       "    }\n",
       "\n",
       "    .dataframe thead th {\n",
       "        text-align: right;\n",
       "    }\n",
       "</style>\n",
       "<table border=\"1\" class=\"dataframe\">\n",
       "  <thead>\n",
       "    <tr style=\"text-align: right;\">\n",
       "      <th></th>\n",
       "      <th>season</th>\n",
       "      <th>holiday</th>\n",
       "      <th>workingday</th>\n",
       "      <th>weather</th>\n",
       "      <th>temp</th>\n",
       "      <th>humidity</th>\n",
       "      <th>windspeed</th>\n",
       "      <th>count</th>\n",
       "      <th>heure</th>\n",
       "      <th>month</th>\n",
       "      <th>year</th>\n",
       "    </tr>\n",
       "  </thead>\n",
       "  <tbody>\n",
       "    <tr>\n",
       "      <th>0</th>\n",
       "      <td>3</td>\n",
       "      <td>0</td>\n",
       "      <td>0</td>\n",
       "      <td>1</td>\n",
       "      <td>30.34</td>\n",
       "      <td>62</td>\n",
       "      <td>7.0015</td>\n",
       "      <td>168</td>\n",
       "      <td>0</td>\n",
       "      <td>9</td>\n",
       "      <td>2012</td>\n",
       "    </tr>\n",
       "    <tr>\n",
       "      <th>1</th>\n",
       "      <td>3</td>\n",
       "      <td>0</td>\n",
       "      <td>0</td>\n",
       "      <td>1</td>\n",
       "      <td>29.52</td>\n",
       "      <td>74</td>\n",
       "      <td>8.9981</td>\n",
       "      <td>79</td>\n",
       "      <td>1</td>\n",
       "      <td>9</td>\n",
       "      <td>2012</td>\n",
       "    </tr>\n",
       "    <tr>\n",
       "      <th>2</th>\n",
       "      <td>3</td>\n",
       "      <td>0</td>\n",
       "      <td>0</td>\n",
       "      <td>1</td>\n",
       "      <td>28.70</td>\n",
       "      <td>70</td>\n",
       "      <td>11.0014</td>\n",
       "      <td>69</td>\n",
       "      <td>2</td>\n",
       "      <td>9</td>\n",
       "      <td>2012</td>\n",
       "    </tr>\n",
       "    <tr>\n",
       "      <th>3</th>\n",
       "      <td>3</td>\n",
       "      <td>0</td>\n",
       "      <td>0</td>\n",
       "      <td>1</td>\n",
       "      <td>28.70</td>\n",
       "      <td>70</td>\n",
       "      <td>7.0015</td>\n",
       "      <td>35</td>\n",
       "      <td>3</td>\n",
       "      <td>9</td>\n",
       "      <td>2012</td>\n",
       "    </tr>\n",
       "    <tr>\n",
       "      <th>4</th>\n",
       "      <td>3</td>\n",
       "      <td>0</td>\n",
       "      <td>0</td>\n",
       "      <td>1</td>\n",
       "      <td>28.70</td>\n",
       "      <td>70</td>\n",
       "      <td>0.0000</td>\n",
       "      <td>12</td>\n",
       "      <td>4</td>\n",
       "      <td>9</td>\n",
       "      <td>2012</td>\n",
       "    </tr>\n",
       "  </tbody>\n",
       "</table>\n",
       "</div>"
      ],
      "text/plain": [
       "   season  holiday  workingday  weather   temp  humidity  windspeed  count  \\\n",
       "0       3        0           0        1  30.34        62     7.0015    168   \n",
       "1       3        0           0        1  29.52        74     8.9981     79   \n",
       "2       3        0           0        1  28.70        70    11.0014     69   \n",
       "3       3        0           0        1  28.70        70     7.0015     35   \n",
       "4       3        0           0        1  28.70        70     0.0000     12   \n",
       "\n",
       "   heure  month  year  \n",
       "0      0      9  2012  \n",
       "1      1      9  2012  \n",
       "2      2      9  2012  \n",
       "3      3      9  2012  \n",
       "4      4      9  2012  "
      ]
     },
     "execution_count": 111,
     "metadata": {},
     "output_type": "execute_result"
    }
   ],
   "source": [
    "X_test.head()"
   ]
  },
  {
   "cell_type": "code",
   "execution_count": 164,
   "metadata": {},
   "outputs": [],
   "source": [
    "y_train = X_train.pop(\"count\")\n",
    "y_test = X_test.pop(\"count\")"
   ]
  },
  {
   "cell_type": "code",
   "execution_count": 194,
   "metadata": {},
   "outputs": [
    {
     "data": {
      "text/html": [
       "<div>\n",
       "<style scoped>\n",
       "    .dataframe tbody tr th:only-of-type {\n",
       "        vertical-align: middle;\n",
       "    }\n",
       "\n",
       "    .dataframe tbody tr th {\n",
       "        vertical-align: top;\n",
       "    }\n",
       "\n",
       "    .dataframe thead th {\n",
       "        text-align: right;\n",
       "    }\n",
       "</style>\n",
       "<table border=\"1\" class=\"dataframe\">\n",
       "  <thead>\n",
       "    <tr style=\"text-align: right;\">\n",
       "      <th></th>\n",
       "      <th>season</th>\n",
       "      <th>holiday</th>\n",
       "      <th>workingday</th>\n",
       "      <th>weather</th>\n",
       "      <th>temp</th>\n",
       "      <th>humidity</th>\n",
       "      <th>windspeed</th>\n",
       "      <th>heure</th>\n",
       "      <th>month</th>\n",
       "      <th>year</th>\n",
       "    </tr>\n",
       "  </thead>\n",
       "  <tbody>\n",
       "    <tr>\n",
       "      <th>0</th>\n",
       "      <td>1</td>\n",
       "      <td>0</td>\n",
       "      <td>0</td>\n",
       "      <td>1</td>\n",
       "      <td>9.84</td>\n",
       "      <td>81</td>\n",
       "      <td>0.0</td>\n",
       "      <td>0</td>\n",
       "      <td>1</td>\n",
       "      <td>2011</td>\n",
       "    </tr>\n",
       "    <tr>\n",
       "      <th>1</th>\n",
       "      <td>1</td>\n",
       "      <td>0</td>\n",
       "      <td>0</td>\n",
       "      <td>1</td>\n",
       "      <td>9.02</td>\n",
       "      <td>80</td>\n",
       "      <td>0.0</td>\n",
       "      <td>1</td>\n",
       "      <td>1</td>\n",
       "      <td>2011</td>\n",
       "    </tr>\n",
       "    <tr>\n",
       "      <th>2</th>\n",
       "      <td>1</td>\n",
       "      <td>0</td>\n",
       "      <td>0</td>\n",
       "      <td>1</td>\n",
       "      <td>9.02</td>\n",
       "      <td>80</td>\n",
       "      <td>0.0</td>\n",
       "      <td>2</td>\n",
       "      <td>1</td>\n",
       "      <td>2011</td>\n",
       "    </tr>\n",
       "    <tr>\n",
       "      <th>3</th>\n",
       "      <td>1</td>\n",
       "      <td>0</td>\n",
       "      <td>0</td>\n",
       "      <td>1</td>\n",
       "      <td>9.84</td>\n",
       "      <td>75</td>\n",
       "      <td>0.0</td>\n",
       "      <td>3</td>\n",
       "      <td>1</td>\n",
       "      <td>2011</td>\n",
       "    </tr>\n",
       "    <tr>\n",
       "      <th>4</th>\n",
       "      <td>1</td>\n",
       "      <td>0</td>\n",
       "      <td>0</td>\n",
       "      <td>1</td>\n",
       "      <td>9.84</td>\n",
       "      <td>75</td>\n",
       "      <td>0.0</td>\n",
       "      <td>4</td>\n",
       "      <td>1</td>\n",
       "      <td>2011</td>\n",
       "    </tr>\n",
       "  </tbody>\n",
       "</table>\n",
       "</div>"
      ],
      "text/plain": [
       "   season  holiday  workingday  weather  temp  humidity  windspeed  heure  \\\n",
       "0       1        0           0        1  9.84        81        0.0      0   \n",
       "1       1        0           0        1  9.02        80        0.0      1   \n",
       "2       1        0           0        1  9.02        80        0.0      2   \n",
       "3       1        0           0        1  9.84        75        0.0      3   \n",
       "4       1        0           0        1  9.84        75        0.0      4   \n",
       "\n",
       "   month  year  \n",
       "0      1  2011  \n",
       "1      1  2011  \n",
       "2      1  2011  \n",
       "3      1  2011  \n",
       "4      1  2011  "
      ]
     },
     "execution_count": 194,
     "metadata": {},
     "output_type": "execute_result"
    }
   ],
   "source": [
    "X_train.head()"
   ]
  },
  {
   "cell_type": "code",
   "execution_count": 120,
   "metadata": {},
   "outputs": [],
   "source": [
    "xgb = XGBRegressor()\n",
    "cat_feature = [\"season\",\"weather\",\"year\"]\n",
    "cat_pip = make_pipeline(OneHotEncoder())\n",
    "num_feature = [\"temp\",\"humidity\",\"windspeed\",\"heure\",\"month\"]\n",
    "num_pip = make_pipeline(StandardScaler())\n",
    "preprocessor = make_column_transformer((cat_pip,cat_feature),(num_pip,num_feature),remainder=\"passthrough\")\n",
    "\n",
    "pip = make_pipeline(preprocessor,xgb)"
   ]
  },
  {
   "cell_type": "code",
   "execution_count": 165,
   "metadata": {},
   "outputs": [
    {
     "data": {
      "text/plain": [
       "0.9006326610144423"
      ]
     },
     "execution_count": 165,
     "metadata": {},
     "output_type": "execute_result"
    }
   ],
   "source": [
    "model_xgb = pip.fit(X_train,y_train)\n",
    "model_xgb.score(X_test,y_test)\n"
   ]
  },
  {
   "cell_type": "code",
   "execution_count": 116,
   "metadata": {},
   "outputs": [
    {
     "data": {
      "text/plain": [
       "<matplotlib.collections.PathCollection at 0x7f24d38a8850>"
      ]
     },
     "execution_count": 116,
     "metadata": {},
     "output_type": "execute_result"
    },
    {
     "data": {
      "image/png": "[encoded data removed]",
      "text/plain": [
       "<Figure size 576x396 with 1 Axes>"
      ]
     },
     "metadata": {},
     "output_type": "display_data"
    }
   ],
   "source": [
    "res = y_test - model_xgb.predict(X_test)\n",
    "\n",
    "plt.scatter(range(0,len(res)),res)"
   ]
  },
  {
   "cell_type": "code",
   "execution_count": 117,
   "metadata": {},
   "outputs": [
    {
     "data": {
      "application/vnd.plotly.v1+json": {
       "config": {
        "plotlyServerURL": "https://plot.ly"
       },
       "data": [
        {
         "customdata": [
          [
           0,
           62,
           30.34,
           "2012-09-01 00:00:00"
          ],
          [
           1,
           74,
           29.52,
           "2012-09-01 01:00:00"
          ],
          [
           2,
           70,
           28.7,
           "2012-09-01 02:00:00"
          ],
          [
           3,
           70,
           28.7,
           "2012-09-01 03:00:00"
          ],
          [
           4,
           70,
           28.7,
           "2012-09-01 04:00:00"
          ],
          [
           5,
           79,
           27.88,
           "2012-09-01 05:00:00"
          ],
          [
           6,
           79,
           27.88,
           "2012-09-01 06:00:00"
          ],
          [
           7,
           58,
           30.34,
           "2012-09-01 07:00:00"
          ],
          [
           8,
           58,
           31.16,
           "2012-09-01 08:00:00"
          ],
          [
           9,
           58,
           31.16,
           "2012-09-01 09:00:00"
          ],
          [
           10,
           55,
           31.98,
           "2012-09-01 10:00:00"
          ],
          [
           11,
           55,
           32.8,
           "2012-09-01 11:00:00"
          ],
          [
           12,
           55,
           32.8,
           "2012-09-01 12:00:00"
          ],
          [
           13,
           52,
           33.62,
           "2012-09-01 13:00:00"
          ],
          [
           14,
           44,
           35.26,
           "2012-09-01 14:00:00"
          ],
          [
           15,
           44,
           35.26,
           "2012-09-01 15:00:00"
          ],
          [
           16,
           49,
           34.44,
           "2012-09-01 16:00:00"
          ],
          [
           17,
           52,
           33.62,
           "2012-09-01 17:00:00"
          ],
          [
           18,
           52,
           33.62,
           "2012-09-01 18:00:00"
          ],
          [
           19,
           62,
           31.98,
           "2012-09-01 19:00:00"
          ],
          [
           20,
           67,
           31.16,
           "2012-09-01 20:00:00"
          ],
          [
           21,
           89,
           26.24,
           "2012-09-01 21:00:00"
          ],
          [
           22,
           89,
           27.06,
           "2012-09-01 22:00:00"
          ],
          [
           23,
           89,
           27.06,
           "2012-09-01 23:00:00"
          ],
          [
           0,
           89,
           27.06,
           "2012-09-02 00:00:00"
          ],
          [
           1,
           89,
           27.06,
           "2012-09-02 01:00:00"
          ],
          [
           2,
           89,
           27.06,
           "2012-09-02 02:00:00"
          ],
          [
           3,
           89,
           27.06,
           "2012-09-02 03:00:00"
          ],
          [
           4,
           89,
           27.06,
           "2012-09-02 04:00:00"
          ],
          [
           5,
           89,
           27.06,
           "2012-09-02 05:00:00"
          ],
          [
           6,
           89,
           27.06,
           "2012-09-02 06:00:00"
          ],
          [
           7,
           94,
           27.06,
           "2012-09-02 07:00:00"
          ],
          [
           8,
           89,
           27.88,
           "2012-09-02 08:00:00"
          ],
          [
           9,
           84,
           28.7,
           "2012-09-02 09:00:00"
          ],
          [
           10,
           79,
           29.52,
           "2012-09-02 10:00:00"
          ],
          [
           11,
           70,
           30.34,
           "2012-09-02 11:00:00"
          ],
          [
           12,
           70,
           30.34,
           "2012-09-02 12:00:00"
          ],
          [
           13,
           74,
           29.52,
           "2012-09-02 13:00:00"
          ],
          [
           14,
           79,
           29.52,
           "2012-09-02 14:00:00"
          ],
          [
           15,
           74,
           30.34,
           "2012-09-02 15:00:00"
          ],
          [
           16,
           70,
           30.34,
           "2012-09-02 16:00:00"
          ],
          [
           17,
           66,
           31.16,
           "2012-09-02 17:00:00"
          ],
          [
           18,
           74,
           30.34,
           "2012-09-02 18:00:00"
          ],
          [
           19,
           84,
           28.7,
           "2012-09-02 19:00:00"
          ],
          [
           20,
           84,
           28.7,
           "2012-09-02 20:00:00"
          ],
          [
           21,
           70,
           28.7,
           "2012-09-02 21:00:00"
          ],
          [
           22,
           83,
           27.88,
           "2012-09-02 22:00:00"
          ],
          [
           23,
           89,
           27.06,
           "2012-09-02 23:00:00"
          ],
          [
           0,
           94,
           27.06,
           "2012-09-03 00:00:00"
          ],
          [
           1,
           89,
           27.88,
           "2012-09-03 01:00:00"
          ],
          [
           2,
           89,
           27.06,
           "2012-09-03 02:00:00"
          ],
          [
           3,
           89,
           27.06,
           "2012-09-03 03:00:00"
          ],
          [
           4,
           89,
           27.06,
           "2012-09-03 04:00:00"
          ],
          [
           5,
           89,
           27.06,
           "2012-09-03 05:00:00"
          ],
          [
           6,
           94,
           27.06,
           "2012-09-03 06:00:00"
          ],
          [
           7,
           85,
           27.88,
           "2012-09-03 07:00:00"
          ],
          [
           8,
           84,
           28.7,
           "2012-09-03 08:00:00"
          ],
          [
           9,
           84,
           28.7,
           "2012-09-03 09:00:00"
          ],
          [
           10,
           74,
           30.34,
           "2012-09-03 10:00:00"
          ],
          [
           11,
           70,
           30.34,
           "2012-09-03 11:00:00"
          ],
          [
           12,
           62,
           31.16,
           "2012-09-03 12:00:00"
          ],
          [
           13,
           66,
           31.16,
           "2012-09-03 13:00:00"
          ],
          [
           14,
           70,
           30.34,
           "2012-09-03 14:00:00"
          ],
          [
           15,
           70,
           30.34,
           "2012-09-03 15:00:00"
          ],
          [
           16,
           70,
           30.34,
           "2012-09-03 16:00:00"
          ],
          [
           17,
           70,
           30.34,
           "2012-09-03 17:00:00"
          ],
          [
           18,
           66,
           30.34,
           "2012-09-03 18:00:00"
          ],
          [
           19,
           74,
           29.52,
           "2012-09-03 19:00:00"
          ],
          [
           20,
           76,
           29.52,
           "2012-09-03 20:00:00"
          ],
          [
           21,
           76,
           29.52,
           "2012-09-03 21:00:00"
          ],
          [
           22,
           84,
           28.7,
           "2012-09-03 22:00:00"
          ],
          [
           23,
           84,
           28.7,
           "2012-09-03 23:00:00"
          ],
          [
           0,
           84,
           28.7,
           "2012-09-04 00:00:00"
          ],
          [
           1,
           82,
           27.88,
           "2012-09-04 01:00:00"
          ],
          [
           2,
           82,
           27.88,
           "2012-09-04 02:00:00"
          ],
          [
           3,
           89,
           27.06,
           "2012-09-04 03:00:00"
          ],
          [
           4,
           89,
           27.06,
           "2012-09-04 04:00:00"
          ],
          [
           5,
           89,
           27.06,
           "2012-09-04 05:00:00"
          ],
          [
           6,
           89,
           27.88,
           "2012-09-04 06:00:00"
          ],
          [
           7,
           89,
           27.88,
           "2012-09-04 07:00:00"
          ],
          [
           8,
           84,
           28.7,
           "2012-09-04 08:00:00"
          ],
          [
           9,
           79,
           29.52,
           "2012-09-04 09:00:00"
          ],
          [
           10,
           74,
           29.52,
           "2012-09-04 10:00:00"
          ],
          [
           11,
           70,
           30.34,
           "2012-09-04 11:00:00"
          ],
          [
           12,
           70,
           31.16,
           "2012-09-04 12:00:00"
          ],
          [
           13,
           55,
           32.8,
           "2012-09-04 13:00:00"
          ],
          [
           14,
           55,
           32.8,
           "2012-09-04 14:00:00"
          ],
          [
           15,
           59,
           32.8,
           "2012-09-04 15:00:00"
          ],
          [
           16,
           70,
           31.16,
           "2012-09-04 16:00:00"
          ],
          [
           17,
           70,
           31.16,
           "2012-09-04 17:00:00"
          ],
          [
           18,
           75,
           31.16,
           "2012-09-04 18:00:00"
          ],
          [
           19,
           70,
           31.16,
           "2012-09-04 19:00:00"
          ],
          [
           20,
           70,
           30.34,
           "2012-09-04 20:00:00"
          ],
          [
           21,
           74,
           30.34,
           "2012-09-04 21:00:00"
          ],
          [
           22,
           70,
           30.34,
           "2012-09-04 22:00:00"
          ],
          [
           23,
           74,
           29.52,
           "2012-09-04 23:00:00"
          ],
          [
           0,
           74,
           29.52,
           "2012-09-05 00:00:00"
          ],
          [
           1,
           84,
           28.7,
           "2012-09-05 01:00:00"
          ],
          [
           2,
           84,
           28.7,
           "2012-09-05 02:00:00"
          ],
          [
           3,
           79,
           28.7,
           "2012-09-05 03:00:00"
          ],
          [
           4,
           79,
           28.7,
           "2012-09-05 04:00:00"
          ],
          [
           5,
           79,
           28.7,
           "2012-09-05 05:00:00"
          ],
          [
           6,
           79,
           28.7,
           "2012-09-05 06:00:00"
          ],
          [
           7,
           79,
           28.7,
           "2012-09-05 07:00:00"
          ],
          [
           8,
           74,
           29.52,
           "2012-09-05 08:00:00"
          ],
          [
           9,
           70,
           30.34,
           "2012-09-05 09:00:00"
          ],
          [
           10,
           70,
           31.16,
           "2012-09-05 10:00:00"
          ],
          [
           11,
           62,
           31.98,
           "2012-09-05 11:00:00"
          ],
          [
           12,
           70,
           31.98,
           "2012-09-05 12:00:00"
          ],
          [
           13,
           63,
           32.8,
           "2012-09-05 13:00:00"
          ],
          [
           14,
           56,
           33.62,
           "2012-09-05 14:00:00"
          ],
          [
           15,
           70,
           31.98,
           "2012-09-05 15:00:00"
          ],
          [
           16,
           70,
           31.16,
           "2012-09-05 16:00:00"
          ],
          [
           17,
           66,
           31.16,
           "2012-09-05 17:00:00"
          ],
          [
           18,
           75,
           31.16,
           "2012-09-05 18:00:00"
          ],
          [
           19,
           70,
           30.34,
           "2012-09-05 19:00:00"
          ],
          [
           20,
           84,
           29.52,
           "2012-09-05 20:00:00"
          ],
          [
           21,
           79,
           29.52,
           "2012-09-05 21:00:00"
          ],
          [
           22,
           79,
           29.52,
           "2012-09-05 22:00:00"
          ],
          [
           23,
           84,
           28.7,
           "2012-09-05 23:00:00"
          ],
          [
           0,
           84,
           28.7,
           "2012-09-06 00:00:00"
          ],
          [
           1,
           84,
           28.7,
           "2012-09-06 01:00:00"
          ],
          [
           2,
           79,
           29.52,
           "2012-09-06 02:00:00"
          ],
          [
           3,
           84,
           28.7,
           "2012-09-06 03:00:00"
          ],
          [
           4,
           84,
           28.7,
           "2012-09-06 04:00:00"
          ],
          [
           5,
           84,
           28.7,
           "2012-09-06 05:00:00"
          ],
          [
           6,
           84,
           28.7,
           "2012-09-06 06:00:00"
          ],
          [
           7,
           84,
           28.7,
           "2012-09-06 07:00:00"
          ],
          [
           8,
           79,
           28.7,
           "2012-09-06 08:00:00"
          ],
          [
           9,
           94,
           27.06,
           "2012-09-06 09:00:00"
          ],
          [
           10,
           94,
           27.06,
           "2012-09-06 10:00:00"
          ],
          [
           11,
           84,
           28.7,
           "2012-09-06 11:00:00"
          ],
          [
           12,
           79,
           29.52,
           "2012-09-06 12:00:00"
          ],
          [
           13,
           79,
           29.52,
           "2012-09-06 13:00:00"
          ],
          [
           14,
           74,
           30.34,
           "2012-09-06 14:00:00"
          ],
          [
           15,
           66,
           30.34,
           "2012-09-06 15:00:00"
          ],
          [
           16,
           70,
           30.34,
           "2012-09-06 16:00:00"
          ],
          [
           17,
           70,
           30.34,
           "2012-09-06 17:00:00"
          ],
          [
           18,
           70,
           29.52,
           "2012-09-06 18:00:00"
          ],
          [
           19,
           74,
           27.88,
           "2012-09-06 19:00:00"
          ],
          [
           20,
           78,
           27.06,
           "2012-09-06 20:00:00"
          ],
          [
           21,
           89,
           26.24,
           "2012-09-06 21:00:00"
          ],
          [
           22,
           89,
           26.24,
           "2012-09-06 22:00:00"
          ],
          [
           23,
           89,
           26.24,
           "2012-09-06 23:00:00"
          ],
          [
           0,
           89,
           26.24,
           "2012-09-07 00:00:00"
          ],
          [
           1,
           88,
           25.42,
           "2012-09-07 01:00:00"
          ],
          [
           2,
           83,
           25.42,
           "2012-09-07 02:00:00"
          ],
          [
           3,
           83,
           25.42,
           "2012-09-07 03:00:00"
          ],
          [
           4,
           88,
           25.42,
           "2012-09-07 04:00:00"
          ],
          [
           5,
           88,
           25.42,
           "2012-09-07 05:00:00"
          ],
          [
           6,
           88,
           25.42,
           "2012-09-07 06:00:00"
          ],
          [
           7,
           89,
           26.24,
           "2012-09-07 07:00:00"
          ],
          [
           8,
           83,
           27.06,
           "2012-09-07 08:00:00"
          ],
          [
           9,
           79,
           28.7,
           "2012-09-07 09:00:00"
          ],
          [
           10,
           74,
           29.52,
           "2012-09-07 10:00:00"
          ],
          [
           11,
           62,
           31.16,
           "2012-09-07 11:00:00"
          ],
          [
           12,
           59,
           31.98,
           "2012-09-07 12:00:00"
          ],
          [
           13,
           59,
           32.8,
           "2012-09-07 13:00:00"
          ],
          [
           14,
           59,
           32.8,
           "2012-09-07 14:00:00"
          ],
          [
           15,
           55,
           32.8,
           "2012-09-07 15:00:00"
          ],
          [
           16,
           55,
           32.8,
           "2012-09-07 16:00:00"
          ],
          [
           17,
           59,
           31.98,
           "2012-09-07 17:00:00"
          ],
          [
           18,
           62,
           31.16,
           "2012-09-07 18:00:00"
          ],
          [
           19,
           62,
           30.34,
           "2012-09-07 19:00:00"
          ],
          [
           20,
           66,
           29.52,
           "2012-09-07 20:00:00"
          ],
          [
           21,
           74,
           28.7,
           "2012-09-07 21:00:00"
          ],
          [
           22,
           74,
           28.7,
           "2012-09-07 22:00:00"
          ],
          [
           23,
           89,
           27.06,
           "2012-09-07 23:00:00"
          ],
          [
           0,
           89,
           27.06,
           "2012-09-08 00:00:00"
          ],
          [
           1,
           89,
           27.06,
           "2012-09-08 01:00:00"
          ],
          [
           2,
           89,
           27.06,
           "2012-09-08 02:00:00"
          ],
          [
           3,
           89,
           27.06,
           "2012-09-08 03:00:00"
          ],
          [
           4,
           94,
           27.06,
           "2012-09-08 04:00:00"
          ],
          [
           5,
           94,
           27.06,
           "2012-09-08 05:00:00"
          ],
          [
           6,
           89,
           27.06,
           "2012-09-08 06:00:00"
          ],
          [
           7,
           89,
           27.06,
           "2012-09-08 07:00:00"
          ],
          [
           8,
           79,
           28.7,
           "2012-09-08 08:00:00"
          ],
          [
           9,
           74,
           28.7,
           "2012-09-08 09:00:00"
          ],
          [
           10,
           70,
           30.34,
           "2012-09-08 10:00:00"
          ],
          [
           11,
           62,
           31.16,
           "2012-09-08 11:00:00"
          ],
          [
           12,
           55,
           32.8,
           "2012-09-08 12:00:00"
          ],
          [
           13,
           52,
           33.62,
           "2012-09-08 13:00:00"
          ],
          [
           14,
           52,
           33.62,
           "2012-09-08 14:00:00"
          ],
          [
           15,
           88,
           22.96,
           "2012-09-08 15:00:00"
          ],
          [
           16,
           88,
           22.96,
           "2012-09-08 16:00:00"
          ],
          [
           17,
           83,
           23.78,
           "2012-09-08 17:00:00"
          ],
          [
           18,
           83,
           23.78,
           "2012-09-08 18:00:00"
          ],
          [
           19,
           88,
           23.78,
           "2012-09-08 19:00:00"
          ],
          [
           20,
           88,
           23.78,
           "2012-09-08 20:00:00"
          ],
          [
           21,
           83,
           24.6,
           "2012-09-08 21:00:00"
          ],
          [
           22,
           78,
           23.78,
           "2012-09-08 22:00:00"
          ],
          [
           23,
           73,
           23.78,
           "2012-09-08 23:00:00"
          ],
          [
           0,
           73,
           22.96,
           "2012-09-09 00:00:00"
          ],
          [
           1,
           73,
           22.96,
           "2012-09-09 01:00:00"
          ],
          [
           2,
           77,
           22.14,
           "2012-09-09 02:00:00"
          ],
          [
           3,
           73,
           22.14,
           "2012-09-09 03:00:00"
          ],
          [
           4,
           77,
           21.32,
           "2012-09-09 04:00:00"
          ],
          [
           5,
           77,
           21.32,
           "2012-09-09 05:00:00"
          ],
          [
           6,
           77,
           21.32,
           "2012-09-09 06:00:00"
          ],
          [
           7,
           73,
           22.14,
           "2012-09-09 07:00:00"
          ],
          [
           8,
           68,
           23.78,
           "2012-09-09 08:00:00"
          ],
          [
           9,
           61,
           25.42,
           "2012-09-09 09:00:00"
          ],
          [
           10,
           57,
           26.24,
           "2012-09-09 10:00:00"
          ],
          [
           11,
           47,
           27.06,
           "2012-09-09 11:00:00"
          ],
          [
           12,
           47,
           27.06,
           "2012-09-09 12:00:00"
          ],
          [
           13,
           39,
           27.88,
           "2012-09-09 13:00:00"
          ],
          [
           14,
           30,
           29.52,
           "2012-09-09 14:00:00"
          ],
          [
           15,
           32,
           29.52,
           "2012-09-09 15:00:00"
          ],
          [
           16,
           36,
           27.88,
           "2012-09-09 16:00:00"
          ],
          [
           17,
           37,
           28.7,
           "2012-09-09 17:00:00"
          ],
          [
           18,
           36,
           27.06,
           "2012-09-09 18:00:00"
          ],
          [
           19,
           36,
           27.06,
           "2012-09-09 19:00:00"
          ],
          [
           20,
           41,
           25.42,
           "2012-09-09 20:00:00"
          ],
          [
           21,
           46,
           24.6,
           "2012-09-09 21:00:00"
          ],
          [
           22,
           49,
           23.78,
           "2012-09-09 22:00:00"
          ],
          [
           23,
           52,
           22.96,
           "2012-09-09 23:00:00"
          ],
          [
           0,
           52,
           22.96,
           "2012-09-10 00:00:00"
          ],
          [
           1,
           60,
           22.14,
           "2012-09-10 01:00:00"
          ],
          [
           2,
           60,
           22.14,
           "2012-09-10 02:00:00"
          ],
          [
           3,
           68,
           21.32,
           "2012-09-10 03:00:00"
          ],
          [
           4,
           68,
           21.32,
           "2012-09-10 04:00:00"
          ],
          [
           5,
           72,
           20.5,
           "2012-09-10 05:00:00"
          ],
          [
           6,
           72,
           20.5,
           "2012-09-10 06:00:00"
          ],
          [
           7,
           68,
           21.32,
           "2012-09-10 07:00:00"
          ],
          [
           8,
           60,
           22.96,
           "2012-09-10 08:00:00"
          ],
          [
           9,
           53,
           24.6,
           "2012-09-10 09:00:00"
          ],
          [
           10,
           50,
           25.42,
           "2012-09-10 10:00:00"
          ],
          [
           11,
           43,
           25.42,
           "2012-09-10 11:00:00"
          ],
          [
           12,
           44,
           26.24,
           "2012-09-10 12:00:00"
          ],
          [
           13,
           38,
           26.24,
           "2012-09-10 13:00:00"
          ],
          [
           14,
           36,
           27.06,
           "2012-09-10 14:00:00"
          ],
          [
           15,
           31,
           27.06,
           "2012-09-10 15:00:00"
          ],
          [
           16,
           34,
           27.06,
           "2012-09-10 16:00:00"
          ],
          [
           17,
           34,
           27.06,
           "2012-09-10 17:00:00"
          ],
          [
           18,
           35,
           25.42,
           "2012-09-10 18:00:00"
          ],
          [
           19,
           38,
           25.42,
           "2012-09-10 19:00:00"
          ],
          [
           20,
           40,
           24.6,
           "2012-09-10 20:00:00"
          ],
          [
           21,
           49,
           22.96,
           "2012-09-10 21:00:00"
          ],
          [
           22,
           52,
           22.14,
           "2012-09-10 22:00:00"
          ],
          [
           23,
           52,
           22.14,
           "2012-09-10 23:00:00"
          ],
          [
           0,
           59,
           21.32,
           "2012-09-11 00:00:00"
          ],
          [
           1,
           63,
           20.5,
           "2012-09-11 01:00:00"
          ],
          [
           2,
           77,
           19.68,
           "2012-09-11 02:00:00"
          ],
          [
           3,
           67,
           19.68,
           "2012-09-11 03:00:00"
          ],
          [
           4,
           72,
           19.68,
           "2012-09-11 04:00:00"
          ],
          [
           5,
           72,
           18.86,
           "2012-09-11 05:00:00"
          ],
          [
           6,
           77,
           18.86,
           "2012-09-11 06:00:00"
          ],
          [
           7,
           72,
           20.5,
           "2012-09-11 07:00:00"
          ],
          [
           8,
           68,
           22.14,
           "2012-09-11 08:00:00"
          ],
          [
           9,
           49,
           24.6,
           "2012-09-11 09:00:00"
          ],
          [
           10,
           38,
           25.42,
           "2012-09-11 10:00:00"
          ],
          [
           11,
           33,
           26.24,
           "2012-09-11 11:00:00"
          ],
          [
           12,
           33,
           26.24,
           "2012-09-11 12:00:00"
          ],
          [
           13,
           29,
           27.06,
           "2012-09-11 13:00:00"
          ],
          [
           14,
           30,
           27.88,
           "2012-09-11 14:00:00"
          ],
          [
           15,
           28,
           28.7,
           "2012-09-11 15:00:00"
          ],
          [
           16,
           28,
           28.7,
           "2012-09-11 16:00:00"
          ],
          [
           17,
           28,
           28.7,
           "2012-09-11 17:00:00"
          ],
          [
           18,
           36,
           26.24,
           "2012-09-11 18:00:00"
          ],
          [
           19,
           41,
           25.42,
           "2012-09-11 19:00:00"
          ],
          [
           20,
           56,
           23.78,
           "2012-09-11 20:00:00"
          ],
          [
           21,
           60,
           22.96,
           "2012-09-11 21:00:00"
          ],
          [
           22,
           64,
           22.96,
           "2012-09-11 22:00:00"
          ],
          [
           23,
           68,
           22.14,
           "2012-09-11 23:00:00"
          ],
          [
           0,
           72,
           21.32,
           "2012-09-12 00:00:00"
          ],
          [
           1,
           72,
           21.32,
           "2012-09-12 01:00:00"
          ],
          [
           2,
           72,
           21.32,
           "2012-09-12 02:00:00"
          ],
          [
           3,
           77,
           20.5,
           "2012-09-12 03:00:00"
          ],
          [
           4,
           72,
           20.5,
           "2012-09-12 04:00:00"
          ],
          [
           5,
           72,
           20.5,
           "2012-09-12 05:00:00"
          ],
          [
           6,
           72,
           20.5,
           "2012-09-12 06:00:00"
          ],
          [
           7,
           72,
           21.32,
           "2012-09-12 07:00:00"
          ],
          [
           8,
           64,
           22.96,
           "2012-09-12 08:00:00"
          ],
          [
           9,
           64,
           24.6,
           "2012-09-12 09:00:00"
          ],
          [
           10,
           61,
           25.42,
           "2012-09-12 10:00:00"
          ],
          [
           11,
           50,
           27.06,
           "2012-09-12 11:00:00"
          ],
          [
           12,
           36,
           27.88,
           "2012-09-12 12:00:00"
          ],
          [
           13,
           34,
           28.7,
           "2012-09-12 13:00:00"
          ],
          [
           14,
           37,
           28.7,
           "2012-09-12 14:00:00"
          ],
          [
           15,
           37,
           29.52,
           "2012-09-12 15:00:00"
          ],
          [
           16,
           37,
           29.52,
           "2012-09-12 16:00:00"
          ],
          [
           17,
           41,
           28.7,
           "2012-09-12 17:00:00"
          ],
          [
           18,
           44,
           27.06,
           "2012-09-12 18:00:00"
          ],
          [
           19,
           50,
           26.24,
           "2012-09-12 19:00:00"
          ],
          [
           20,
           57,
           25.42,
           "2012-09-12 20:00:00"
          ],
          [
           21,
           60,
           24.6,
           "2012-09-12 21:00:00"
          ],
          [
           22,
           64,
           22.96,
           "2012-09-12 22:00:00"
          ],
          [
           23,
           68,
           22.96,
           "2012-09-12 23:00:00"
          ],
          [
           0,
           73,
           22.96,
           "2012-09-13 00:00:00"
          ],
          [
           1,
           77,
           22.14,
           "2012-09-13 01:00:00"
          ],
          [
           2,
           77,
           22.14,
           "2012-09-13 02:00:00"
          ],
          [
           3,
           83,
           21.32,
           "2012-09-13 03:00:00"
          ],
          [
           4,
           83,
           21.32,
           "2012-09-13 04:00:00"
          ],
          [
           5,
           83,
           21.32,
           "2012-09-13 05:00:00"
          ],
          [
           6,
           82,
           20.5,
           "2012-09-13 06:00:00"
          ],
          [
           7,
           77,
           22.14,
           "2012-09-13 07:00:00"
          ],
          [
           8,
           73,
           22.96,
           "2012-09-13 08:00:00"
          ],
          [
           9,
           64,
           24.6,
           "2012-09-13 09:00:00"
          ],
          [
           10,
           61,
           26.24,
           "2012-09-13 10:00:00"
          ],
          [
           11,
           50,
           27.06,
           "2012-09-13 11:00:00"
          ],
          [
           12,
           44,
           27.88,
           "2012-09-13 12:00:00"
          ],
          [
           13,
           42,
           28.7,
           "2012-09-13 13:00:00"
          ],
          [
           14,
           39,
           29.52,
           "2012-09-13 14:00:00"
          ],
          [
           15,
           42,
           29.52,
           "2012-09-13 15:00:00"
          ],
          [
           16,
           39,
           29.52,
           "2012-09-13 16:00:00"
          ],
          [
           17,
           42,
           29.52,
           "2012-09-13 17:00:00"
          ],
          [
           18,
           57,
           27.88,
           "2012-09-13 18:00:00"
          ],
          [
           19,
           65,
           26.24,
           "2012-09-13 19:00:00"
          ],
          [
           20,
           69,
           25.42,
           "2012-09-13 20:00:00"
          ],
          [
           21,
           65,
           25.42,
           "2012-09-13 21:00:00"
          ],
          [
           22,
           69,
           24.6,
           "2012-09-13 22:00:00"
          ],
          [
           23,
           73,
           23.78,
           "2012-09-13 23:00:00"
          ],
          [
           0,
           73,
           22.96,
           "2012-09-14 00:00:00"
          ],
          [
           1,
           73,
           22.96,
           "2012-09-14 01:00:00"
          ],
          [
           2,
           73,
           22.96,
           "2012-09-14 02:00:00"
          ],
          [
           3,
           77,
           22.14,
           "2012-09-14 03:00:00"
          ],
          [
           4,
           77,
           22.14,
           "2012-09-14 04:00:00"
          ],
          [
           5,
           83,
           22.14,
           "2012-09-14 05:00:00"
          ],
          [
           6,
           88,
           22.14,
           "2012-09-14 06:00:00"
          ],
          [
           7,
           88,
           22.96,
           "2012-09-14 07:00:00"
          ],
          [
           8,
           78,
           24.6,
           "2012-09-14 08:00:00"
          ],
          [
           9,
           78,
           25.42,
           "2012-09-14 09:00:00"
          ],
          [
           10,
           65,
           27.88,
           "2012-09-14 10:00:00"
          ],
          [
           11,
           61,
           27.88,
           "2012-09-14 11:00:00"
          ],
          [
           12,
           54,
           28.7,
           "2012-09-14 12:00:00"
          ],
          [
           13,
           54,
           28.7,
           "2012-09-14 13:00:00"
          ],
          [
           14,
           45,
           29.52,
           "2012-09-14 14:00:00"
          ],
          [
           15,
           48,
           29.52,
           "2012-09-14 15:00:00"
          ],
          [
           16,
           51,
           29.52,
           "2012-09-14 16:00:00"
          ],
          [
           17,
           51,
           29.52,
           "2012-09-14 17:00:00"
          ],
          [
           18,
           45,
           29.52,
           "2012-09-14 18:00:00"
          ],
          [
           19,
           57,
           27.88,
           "2012-09-14 19:00:00"
          ],
          [
           20,
           61,
           27.06,
           "2012-09-14 20:00:00"
          ],
          [
           21,
           73,
           26.24,
           "2012-09-14 21:00:00"
          ],
          [
           22,
           83,
           25.42,
           "2012-09-14 22:00:00"
          ],
          [
           23,
           78,
           25.42,
           "2012-09-14 23:00:00"
          ],
          [
           0,
           83,
           24.6,
           "2012-09-15 00:00:00"
          ],
          [
           1,
           73,
           24.6,
           "2012-09-15 01:00:00"
          ],
          [
           2,
           78,
           23.78,
           "2012-09-15 02:00:00"
          ],
          [
           3,
           73,
           24.6,
           "2012-09-15 03:00:00"
          ],
          [
           4,
           69,
           24.6,
           "2012-09-15 04:00:00"
          ],
          [
           5,
           60,
           23.78,
           "2012-09-15 05:00:00"
          ],
          [
           6,
           49,
           22.14,
           "2012-09-15 06:00:00"
          ],
          [
           7,
           52,
           22.14,
           "2012-09-15 07:00:00"
          ],
          [
           8,
           49,
           22.96,
           "2012-09-15 08:00:00"
          ],
          [
           9,
           43,
           24.6,
           "2012-09-15 09:00:00"
          ],
          [
           10,
           41,
           25.42,
           "2012-09-15 10:00:00"
          ],
          [
           11,
           38,
           26.24,
           "2012-09-15 11:00:00"
          ],
          [
           12,
           36,
           27.06,
           "2012-09-15 12:00:00"
          ],
          [
           13,
           36,
           27.88,
           "2012-09-15 13:00:00"
          ],
          [
           14,
           34,
           27.88,
           "2012-09-15 14:00:00"
          ],
          [
           15,
           34,
           27.88,
           "2012-09-15 15:00:00"
          ],
          [
           16,
           36,
           27.06,
           "2012-09-15 16:00:00"
          ],
          [
           17,
           36,
           27.06,
           "2012-09-15 17:00:00"
          ],
          [
           18,
           36,
           26.24,
           "2012-09-15 18:00:00"
          ],
          [
           19,
           41,
           25.42,
           "2012-09-15 19:00:00"
          ],
          [
           20,
           43,
           24.6,
           "2012-09-15 20:00:00"
          ],
          [
           21,
           52,
           22.96,
           "2012-09-15 21:00:00"
          ],
          [
           22,
           52,
           22.96,
           "2012-09-15 22:00:00"
          ],
          [
           23,
           60,
           22.14,
           "2012-09-15 23:00:00"
          ],
          [
           0,
           64,
           22.14,
           "2012-09-16 00:00:00"
          ],
          [
           1,
           64,
           22.14,
           "2012-09-16 01:00:00"
          ],
          [
           2,
           63,
           21.32,
           "2012-09-16 02:00:00"
          ],
          [
           3,
           68,
           20.5,
           "2012-09-16 03:00:00"
          ],
          [
           4,
           72,
           20.5,
           "2012-09-16 04:00:00"
          ],
          [
           5,
           72,
           20.5,
           "2012-09-16 05:00:00"
          ],
          [
           6,
           72,
           20.5,
           "2012-09-16 06:00:00"
          ],
          [
           7,
           77,
           20.5,
           "2012-09-16 07:00:00"
          ],
          [
           8,
           64,
           22.14,
           "2012-09-16 08:00:00"
          ],
          [
           9,
           60,
           23.78,
           "2012-09-16 09:00:00"
          ],
          [
           10,
           50,
           25.42,
           "2012-09-16 10:00:00"
          ],
          [
           11,
           47,
           26.24,
           "2012-09-16 11:00:00"
          ],
          [
           12,
           44,
           27.06,
           "2012-09-16 12:00:00"
          ],
          [
           13,
           41,
           26.24,
           "2012-09-16 13:00:00"
          ],
          [
           14,
           39,
           27.06,
           "2012-09-16 14:00:00"
          ],
          [
           15,
           41,
           26.24,
           "2012-09-16 15:00:00"
          ],
          [
           16,
           44,
           26.24,
           "2012-09-16 16:00:00"
          ],
          [
           17,
           41,
           27.06,
           "2012-09-16 17:00:00"
          ],
          [
           18,
           50,
           25.42,
           "2012-09-16 18:00:00"
          ],
          [
           19,
           50,
           25.42,
           "2012-09-16 19:00:00"
          ],
          [
           20,
           53,
           24.6,
           "2012-09-16 20:00:00"
          ],
          [
           21,
           56,
           24.6,
           "2012-09-16 21:00:00"
          ],
          [
           22,
           68,
           22.96,
           "2012-09-16 22:00:00"
          ],
          [
           23,
           68,
           22.14,
           "2012-09-16 23:00:00"
          ],
          [
           0,
           68,
           22.14,
           "2012-09-17 00:00:00"
          ],
          [
           1,
           72,
           21.32,
           "2012-09-17 01:00:00"
          ],
          [
           2,
           72,
           21.32,
           "2012-09-17 02:00:00"
          ],
          [
           3,
           77,
           20.5,
           "2012-09-17 03:00:00"
          ],
          [
           4,
           77,
           20.5,
           "2012-09-17 04:00:00"
          ],
          [
           5,
           82,
           19.68,
           "2012-09-17 05:00:00"
          ],
          [
           6,
           82,
           19.68,
           "2012-09-17 06:00:00"
          ],
          [
           7,
           77,
           21.32,
           "2012-09-17 07:00:00"
          ],
          [
           8,
           77,
           22.14,
           "2012-09-17 08:00:00"
          ],
          [
           9,
           68,
           23.78,
           "2012-09-17 09:00:00"
          ],
          [
           10,
           65,
           25.42,
           "2012-09-17 10:00:00"
          ],
          [
           11,
           69,
           25.42,
           "2012-09-17 11:00:00"
          ],
          [
           12,
           69,
           25.42,
           "2012-09-17 12:00:00"
          ],
          [
           13,
           65,
           26.24,
           "2012-09-17 13:00:00"
          ],
          [
           14,
           65,
           26.24,
           "2012-09-17 14:00:00"
          ],
          [
           15,
           65,
           26.24,
           "2012-09-17 15:00:00"
          ],
          [
           16,
           69,
           26.24,
           "2012-09-17 16:00:00"
          ],
          [
           17,
           65,
           26.24,
           "2012-09-17 17:00:00"
          ],
          [
           18,
           73,
           25.42,
           "2012-09-17 18:00:00"
          ],
          [
           19,
           73,
           25.42,
           "2012-09-17 19:00:00"
          ],
          [
           20,
           73,
           25.42,
           "2012-09-17 20:00:00"
          ],
          [
           21,
           83,
           25.42,
           "2012-09-17 21:00:00"
          ],
          [
           22,
           83,
           25.42,
           "2012-09-17 22:00:00"
          ],
          [
           23,
           94,
           24.6,
           "2012-09-17 23:00:00"
          ],
          [
           0,
           94,
           24.6,
           "2012-09-18 00:00:00"
          ],
          [
           1,
           94,
           24.6,
           "2012-09-18 01:00:00"
          ],
          [
           2,
           94,
           24.6,
           "2012-09-18 02:00:00"
          ],
          [
           3,
           94,
           25.42,
           "2012-09-18 03:00:00"
          ],
          [
           4,
           94,
           25.42,
           "2012-09-18 04:00:00"
          ],
          [
           5,
           89,
           26.24,
           "2012-09-18 05:00:00"
          ],
          [
           6,
           89,
           26.24,
           "2012-09-18 06:00:00"
          ],
          [
           7,
           89,
           26.24,
           "2012-09-18 07:00:00"
          ],
          [
           8,
           83,
           27.06,
           "2012-09-18 08:00:00"
          ],
          [
           9,
           83,
           27.06,
           "2012-09-18 09:00:00"
          ],
          [
           10,
           79,
           27.88,
           "2012-09-18 10:00:00"
          ],
          [
           11,
           79,
           27.88,
           "2012-09-18 11:00:00"
          ],
          [
           12,
           83,
           27.88,
           "2012-09-18 12:00:00"
          ],
          [
           13,
           74,
           28.7,
           "2012-09-18 13:00:00"
          ],
          [
           14,
           94,
           24.6,
           "2012-09-18 14:00:00"
          ],
          [
           15,
           88,
           24.6,
           "2012-09-18 15:00:00"
          ],
          [
           16,
           88,
           24.6,
           "2012-09-18 16:00:00"
          ],
          [
           17,
           88,
           24.6,
           "2012-09-18 17:00:00"
          ],
          [
           18,
           88,
           24.6,
           "2012-09-18 18:00:00"
          ],
          [
           19,
           88,
           24.6,
           "2012-09-18 19:00:00"
          ],
          [
           20,
           88,
           24.6,
           "2012-09-18 20:00:00"
          ],
          [
           21,
           88,
           24.6,
           "2012-09-18 21:00:00"
          ],
          [
           22,
           83,
           23.78,
           "2012-09-18 22:00:00"
          ],
          [
           23,
           83,
           22.96,
           "2012-09-18 23:00:00"
          ],
          [
           0,
           68,
           22.96,
           "2012-09-19 00:00:00"
          ],
          [
           1,
           68,
           22.14,
           "2012-09-19 01:00:00"
          ],
          [
           2,
           64,
           22.14,
           "2012-09-19 02:00:00"
          ],
          [
           3,
           63,
           21.32,
           "2012-09-19 03:00:00"
          ],
          [
           4,
           68,
           21.32,
           "2012-09-19 04:00:00"
          ],
          [
           5,
           68,
           21.32,
           "2012-09-19 05:00:00"
          ],
          [
           6,
           63,
           21.32,
           "2012-09-19 06:00:00"
          ],
          [
           7,
           63,
           21.32,
           "2012-09-19 07:00:00"
          ],
          [
           8,
           59,
           21.32,
           "2012-09-19 08:00:00"
          ],
          [
           9,
           60,
           22.14,
           "2012-09-19 09:00:00"
          ],
          [
           10,
           52,
           22.96,
           "2012-09-19 10:00:00"
          ],
          [
           11,
           43,
           24.6,
           "2012-09-19 11:00:00"
          ],
          [
           12,
           43,
           24.6,
           "2012-09-19 12:00:00"
          ],
          [
           13,
           40,
           24.6,
           "2012-09-19 13:00:00"
          ],
          [
           14,
           38,
           25.42,
           "2012-09-19 14:00:00"
          ],
          [
           15,
           35,
           25.42,
           "2012-09-19 15:00:00"
          ],
          [
           16,
           35,
           25.42,
           "2012-09-19 16:00:00"
          ],
          [
           17,
           38,
           24.6,
           "2012-09-19 17:00:00"
          ],
          [
           18,
           40,
           23.78,
           "2012-09-19 18:00:00"
          ],
          [
           19,
           43,
           22.96,
           "2012-09-19 19:00:00"
          ],
          [
           20,
           48,
           21.32,
           "2012-09-19 20:00:00"
          ],
          [
           21,
           59,
           20.5,
           "2012-09-19 21:00:00"
          ],
          [
           22,
           63,
           20.5,
           "2012-09-19 22:00:00"
          ],
          [
           23,
           67,
           19.68,
           "2012-09-19 23:00:00"
          ],
          [
           0,
           72,
           18.86,
           "2012-10-01 00:00:00"
          ],
          [
           1,
           77,
           18.04,
           "2012-10-01 01:00:00"
          ],
          [
           2,
           72,
           18.86,
           "2012-10-01 02:00:00"
          ],
          [
           3,
           77,
           18.04,
           "2012-10-01 03:00:00"
          ],
          [
           4,
           82,
           17.22,
           "2012-10-01 04:00:00"
          ],
          [
           5,
           77,
           18.04,
           "2012-10-01 05:00:00"
          ],
          [
           6,
           77,
           18.04,
           "2012-10-01 06:00:00"
          ],
          [
           7,
           77,
           18.04,
           "2012-10-01 07:00:00"
          ],
          [
           8,
           77,
           18.86,
           "2012-10-01 08:00:00"
          ],
          [
           9,
           63,
           21.32,
           "2012-10-01 09:00:00"
          ],
          [
           10,
           56,
           22.14,
           "2012-10-01 10:00:00"
          ],
          [
           11,
           46,
           23.78,
           "2012-10-01 11:00:00"
          ],
          [
           12,
           43,
           24.6,
           "2012-10-01 12:00:00"
          ],
          [
           13,
           43,
           24.6,
           "2012-10-01 13:00:00"
          ],
          [
           14,
           43,
           24.6,
           "2012-10-01 14:00:00"
          ],
          [
           15,
           43,
           25.42,
           "2012-10-01 15:00:00"
          ],
          [
           16,
           46,
           25.42,
           "2012-10-01 16:00:00"
          ],
          [
           17,
           60,
           22.96,
           "2012-10-01 17:00:00"
          ],
          [
           18,
           64,
           22.96,
           "2012-10-01 18:00:00"
          ],
          [
           19,
           68,
           22.14,
           "2012-10-01 19:00:00"
          ],
          [
           20,
           68,
           22.14,
           "2012-10-01 20:00:00"
          ],
          [
           21,
           73,
           22.14,
           "2012-10-01 21:00:00"
          ],
          [
           22,
           77,
           22.14,
           "2012-10-01 22:00:00"
          ],
          [
           23,
           77,
           22.14,
           "2012-10-01 23:00:00"
          ],
          [
           0,
           73,
           22.96,
           "2012-10-02 00:00:00"
          ],
          [
           1,
           77,
           22.14,
           "2012-10-02 01:00:00"
          ],
          [
           2,
           77,
           22.14,
           "2012-10-02 02:00:00"
          ],
          [
           3,
           88,
           22.14,
           "2012-10-02 03:00:00"
          ],
          [
           4,
           83,
           22.96,
           "2012-10-02 04:00:00"
          ],
          [
           5,
           83,
           22.96,
           "2012-10-02 05:00:00"
          ],
          [
           6,
           83,
           23.78,
           "2012-10-02 06:00:00"
          ],
          [
           7,
           83,
           23.78,
           "2012-10-02 07:00:00"
          ],
          [
           8,
           88,
           24.6,
           "2012-10-02 08:00:00"
          ],
          [
           9,
           88,
           23.78,
           "2012-10-02 09:00:00"
          ],
          [
           10,
           88,
           23.78,
           "2012-10-02 10:00:00"
          ],
          [
           11,
           94,
           23.78,
           "2012-10-02 11:00:00"
          ],
          [
           12,
           88,
           24.6,
           "2012-10-02 12:00:00"
          ],
          [
           13,
           88,
           24.6,
           "2012-10-02 13:00:00"
          ],
          [
           14,
           88,
           24.6,
           "2012-10-02 14:00:00"
          ],
          [
           15,
           83,
           25.42,
           "2012-10-02 15:00:00"
          ],
          [
           16,
           88,
           25.42,
           "2012-10-02 16:00:00"
          ],
          [
           17,
           88,
           25.42,
           "2012-10-02 17:00:00"
          ],
          [
           18,
           94,
           25.42,
           "2012-10-02 18:00:00"
          ],
          [
           19,
           94,
           25.42,
           "2012-10-02 19:00:00"
          ],
          [
           20,
           94,
           25.42,
           "2012-10-02 20:00:00"
          ],
          [
           21,
           94,
           25.42,
           "2012-10-02 21:00:00"
          ],
          [
           22,
           94,
           25.42,
           "2012-10-02 22:00:00"
          ],
          [
           23,
           94,
           25.42,
           "2012-10-02 23:00:00"
          ],
          [
           0,
           94,
           25.42,
           "2012-10-03 00:00:00"
          ],
          [
           1,
           94,
           25.42,
           "2012-10-03 01:00:00"
          ],
          [
           2,
           94,
           25.42,
           "2012-10-03 02:00:00"
          ],
          [
           3,
           94,
           24.6,
           "2012-10-03 03:00:00"
          ],
          [
           4,
           100,
           24.6,
           "2012-10-03 04:00:00"
          ],
          [
           5,
           94,
           25.42,
           "2012-10-03 05:00:00"
          ],
          [
           6,
           94,
           24.6,
           "2012-10-03 06:00:00"
          ],
          [
           7,
           94,
           24.6,
           "2012-10-03 07:00:00"
          ],
          [
           8,
           88,
           25.42,
           "2012-10-03 08:00:00"
          ],
          [
           9,
           83,
           25.42,
           "2012-10-03 09:00:00"
          ],
          [
           10,
           78,
           27.06,
           "2012-10-03 10:00:00"
          ],
          [
           11,
           78,
           27.06,
           "2012-10-03 11:00:00"
          ],
          [
           12,
           70,
           28.7,
           "2012-10-03 12:00:00"
          ],
          [
           13,
           74,
           28.7,
           "2012-10-03 13:00:00"
          ],
          [
           14,
           70,
           29.52,
           "2012-10-03 14:00:00"
          ],
          [
           15,
           62,
           29.52,
           "2012-10-03 15:00:00"
          ],
          [
           16,
           58,
           29.52,
           "2012-10-03 16:00:00"
          ],
          [
           17,
           65,
           28.7,
           "2012-10-03 17:00:00"
          ],
          [
           18,
           65,
           28.7,
           "2012-10-03 18:00:00"
          ],
          [
           19,
           65,
           28.7,
           "2012-10-03 19:00:00"
          ],
          [
           20,
           65,
           28.7,
           "2012-10-03 20:00:00"
          ],
          [
           21,
           74,
           27.06,
           "2012-10-03 21:00:00"
          ],
          [
           22,
           74,
           27.06,
           "2012-10-03 22:00:00"
          ],
          [
           23,
           78,
           27.06,
           "2012-10-03 23:00:00"
          ],
          [
           0,
           89,
           26.24,
           "2012-10-04 00:00:00"
          ],
          [
           1,
           94,
           25.42,
           "2012-10-04 01:00:00"
          ],
          [
           2,
           89,
           26.24,
           "2012-10-04 02:00:00"
          ],
          [
           3,
           88,
           25.42,
           "2012-10-04 03:00:00"
          ],
          [
           4,
           89,
           26.24,
           "2012-10-04 04:00:00"
          ],
          [
           5,
           89,
           26.24,
           "2012-10-04 05:00:00"
          ],
          [
           6,
           94,
           25.42,
           "2012-10-04 06:00:00"
          ],
          [
           7,
           89,
           26.24,
           "2012-10-04 07:00:00"
          ],
          [
           8,
           89,
           26.24,
           "2012-10-04 08:00:00"
          ],
          [
           9,
           89,
           26.24,
           "2012-10-04 09:00:00"
          ],
          [
           10,
           83,
           27.06,
           "2012-10-04 10:00:00"
          ],
          [
           11,
           70,
           28.7,
           "2012-10-04 11:00:00"
          ],
          [
           12,
           54,
           29.52,
           "2012-10-04 12:00:00"
          ],
          [
           13,
           58,
           29.52,
           "2012-10-04 13:00:00"
          ],
          [
           14,
           61,
           28.7,
           "2012-10-04 14:00:00"
          ],
          [
           15,
           54,
           29.52,
           "2012-10-04 15:00:00"
          ],
          [
           16,
           54,
           28.7,
           "2012-10-04 16:00:00"
          ],
          [
           17,
           51,
           28.7,
           "2012-10-04 17:00:00"
          ],
          [
           18,
           57,
           27.06,
           "2012-10-04 18:00:00"
          ],
          [
           19,
           57,
           27.06,
           "2012-10-04 19:00:00"
          ],
          [
           20,
           65,
           26.24,
           "2012-10-04 20:00:00"
          ],
          [
           21,
           69,
           25.42,
           "2012-10-04 21:00:00"
          ],
          [
           22,
           47,
           26.24,
           "2012-10-04 22:00:00"
          ],
          [
           23,
           56,
           24.6,
           "2012-10-04 23:00:00"
          ],
          [
           0,
           73,
           22.96,
           "2012-10-05 00:00:00"
          ],
          [
           1,
           68,
           22.14,
           "2012-10-05 01:00:00"
          ],
          [
           2,
           73,
           22.14,
           "2012-10-05 02:00:00"
          ],
          [
           3,
           73,
           22.14,
           "2012-10-05 03:00:00"
          ],
          [
           4,
           77,
           22.14,
           "2012-10-05 04:00:00"
          ],
          [
           5,
           77,
           21.32,
           "2012-10-05 05:00:00"
          ],
          [
           6,
           83,
           21.32,
           "2012-10-05 06:00:00"
          ],
          [
           7,
           83,
           21.32,
           "2012-10-05 07:00:00"
          ],
          [
           8,
           64,
           23.78,
           "2012-10-05 08:00:00"
          ],
          [
           9,
           60,
           24.6,
           "2012-10-05 09:00:00"
          ],
          [
           10,
           54,
           27.06,
           "2012-10-05 10:00:00"
          ],
          [
           11,
           48,
           28.7,
           "2012-10-05 11:00:00"
          ],
          [
           12,
           42,
           29.52,
           "2012-10-05 12:00:00"
          ],
          [
           13,
           48,
           28.7,
           "2012-10-05 13:00:00"
          ],
          [
           14,
           37,
           30.34,
           "2012-10-05 14:00:00"
          ],
          [
           15,
           39,
           29.52,
           "2012-10-05 15:00:00"
          ],
          [
           16,
           37,
           29.52,
           "2012-10-05 16:00:00"
          ],
          [
           17,
           42,
           28.7,
           "2012-10-05 17:00:00"
          ],
          [
           18,
           57,
           26.24,
           "2012-10-05 18:00:00"
          ],
          [
           19,
           73,
           25.42,
           "2012-10-05 19:00:00"
          ],
          [
           20,
           78,
           24.6,
           "2012-10-05 20:00:00"
          ],
          [
           21,
           69,
           24.6,
           "2012-10-05 21:00:00"
          ],
          [
           22,
           73,
           24.6,
           "2012-10-05 22:00:00"
          ],
          [
           23,
           78,
           23.78,
           "2012-10-05 23:00:00"
          ],
          [
           0,
           83,
           22.96,
           "2012-10-06 00:00:00"
          ],
          [
           1,
           83,
           22.96,
           "2012-10-06 01:00:00"
          ],
          [
           2,
           78,
           22.96,
           "2012-10-06 02:00:00"
          ],
          [
           3,
           77,
           22.14,
           "2012-10-06 03:00:00"
          ],
          [
           4,
           83,
           22.14,
           "2012-10-06 04:00:00"
          ],
          [
           5,
           83,
           22.14,
           "2012-10-06 05:00:00"
          ],
          [
           6,
           88,
           22.14,
           "2012-10-06 06:00:00"
          ],
          [
           7,
           83,
           22.14,
           "2012-10-06 07:00:00"
          ],
          [
           8,
           83,
           22.96,
           "2012-10-06 08:00:00"
          ],
          [
           9,
           73,
           24.6,
           "2012-10-06 09:00:00"
          ],
          [
           10,
           69,
           25.42,
           "2012-10-06 10:00:00"
          ],
          [
           11,
           65,
           26.24,
           "2012-10-06 11:00:00"
          ],
          [
           12,
           54,
           28.7,
           "2012-10-06 12:00:00"
          ],
          [
           13,
           57,
           26.24,
           "2012-10-06 13:00:00"
          ],
          [
           14,
           56,
           24.6,
           "2012-10-06 14:00:00"
          ],
          [
           15,
           46,
           24.6,
           "2012-10-06 15:00:00"
          ],
          [
           16,
           43,
           24.6,
           "2012-10-06 16:00:00"
          ],
          [
           17,
           49,
           22.14,
           "2012-10-06 17:00:00"
          ],
          [
           18,
           48,
           21.32,
           "2012-10-06 18:00:00"
          ],
          [
           19,
           55,
           19.68,
           "2012-10-06 19:00:00"
          ],
          [
           20,
           55,
           19.68,
           "2012-10-06 20:00:00"
          ],
          [
           21,
           59,
           18.86,
           "2012-10-06 21:00:00"
          ],
          [
           22,
           62,
           18.04,
           "2012-10-06 22:00:00"
          ],
          [
           23,
           62,
           18.04,
           "2012-10-06 23:00:00"
          ],
          [
           0,
           62,
           18.04,
           "2012-10-07 00:00:00"
          ],
          [
           1,
           54,
           18.04,
           "2012-10-07 01:00:00"
          ],
          [
           2,
           62,
           17.22,
           "2012-10-07 02:00:00"
          ],
          [
           3,
           62,
           18.04,
           "2012-10-07 03:00:00"
          ],
          [
           4,
           54,
           18.04,
           "2012-10-07 04:00:00"
          ],
          [
           5,
           54,
           18.04,
           "2012-10-07 05:00:00"
          ],
          [
           6,
           54,
           18.04,
           "2012-10-07 06:00:00"
          ],
          [
           7,
           58,
           17.22,
           "2012-10-07 07:00:00"
          ],
          [
           8,
           67,
           17.22,
           "2012-10-07 08:00:00"
          ],
          [
           9,
           71,
           16.4,
           "2012-10-07 09:00:00"
          ],
          [
           10,
           67,
           17.22,
           "2012-10-07 10:00:00"
          ],
          [
           11,
           71,
           17.22,
           "2012-10-07 11:00:00"
          ],
          [
           12,
           71,
           17.22,
           "2012-10-07 12:00:00"
          ],
          [
           13,
           72,
           18.04,
           "2012-10-07 13:00:00"
          ],
          [
           14,
           67,
           18.04,
           "2012-10-07 14:00:00"
          ],
          [
           15,
           77,
           17.22,
           "2012-10-07 15:00:00"
          ],
          [
           16,
           82,
           16.4,
           "2012-10-07 16:00:00"
          ],
          [
           17,
           82,
           16.4,
           "2012-10-07 17:00:00"
          ],
          [
           18,
           82,
           16.4,
           "2012-10-07 18:00:00"
          ],
          [
           19,
           82,
           16.4,
           "2012-10-07 19:00:00"
          ],
          [
           20,
           82,
           16.4,
           "2012-10-07 20:00:00"
          ],
          [
           21,
           87,
           15.58,
           "2012-10-07 21:00:00"
          ],
          [
           22,
           87,
           15.58,
           "2012-10-07 22:00:00"
          ],
          [
           23,
           93,
           14.76,
           "2012-10-07 23:00:00"
          ],
          [
           0,
           76,
           15.58,
           "2012-10-08 00:00:00"
          ],
          [
           1,
           87,
           13.94,
           "2012-10-08 01:00:00"
          ],
          [
           2,
           81,
           13.94,
           "2012-10-08 02:00:00"
          ],
          [
           3,
           81,
           13.94,
           "2012-10-08 03:00:00"
          ],
          [
           4,
           87,
           13.12,
           "2012-10-08 04:00:00"
          ],
          [
           5,
           76,
           13.94,
           "2012-10-08 05:00:00"
          ],
          [
           6,
           76,
           13.94,
           "2012-10-08 06:00:00"
          ],
          [
           7,
           76,
           13.94,
           "2012-10-08 07:00:00"
          ],
          [
           8,
           71,
           14.76,
           "2012-10-08 08:00:00"
          ],
          [
           9,
           66,
           15.58,
           "2012-10-08 09:00:00"
          ],
          [
           10,
           68,
           15.58,
           "2012-10-08 10:00:00"
          ],
          [
           11,
           62,
           16.4,
           "2012-10-08 11:00:00"
          ],
          [
           12,
           63,
           17.22,
           "2012-10-08 12:00:00"
          ],
          [
           13,
           62,
           17.22,
           "2012-10-08 13:00:00"
          ],
          [
           14,
           58,
           17.22,
           "2012-10-08 14:00:00"
          ],
          [
           15,
           58,
           17.22,
           "2012-10-08 15:00:00"
          ],
          [
           16,
           58,
           17.22,
           "2012-10-08 16:00:00"
          ],
          [
           17,
           66,
           17.22,
           "2012-10-08 17:00:00"
          ],
          [
           18,
           66,
           17.22,
           "2012-10-08 18:00:00"
          ],
          [
           19,
           71,
           16.4,
           "2012-10-08 19:00:00"
          ],
          [
           20,
           71,
           16.4,
           "2012-10-08 20:00:00"
          ],
          [
           21,
           76,
           16.4,
           "2012-10-08 21:00:00"
          ],
          [
           22,
           76,
           16.4,
           "2012-10-08 22:00:00"
          ],
          [
           23,
           71,
           16.4,
           "2012-10-08 23:00:00"
          ],
          [
           0,
           82,
           15.58,
           "2012-10-09 00:00:00"
          ],
          [
           1,
           87,
           14.76,
           "2012-10-09 01:00:00"
          ],
          [
           2,
           87,
           14.76,
           "2012-10-09 02:00:00"
          ],
          [
           3,
           87,
           14.76,
           "2012-10-09 03:00:00"
          ],
          [
           4,
           87,
           14.76,
           "2012-10-09 04:00:00"
          ],
          [
           5,
           82,
           15.58,
           "2012-10-09 05:00:00"
          ],
          [
           6,
           82,
           15.58,
           "2012-10-09 06:00:00"
          ],
          [
           7,
           83,
           15.58,
           "2012-10-09 07:00:00"
          ],
          [
           8,
           80,
           17.22,
           "2012-10-09 08:00:00"
          ],
          [
           9,
           77,
           17.22,
           "2012-10-09 09:00:00"
          ],
          [
           10,
           75,
           18.04,
           "2012-10-09 10:00:00"
          ],
          [
           11,
           69,
           19.68,
           "2012-10-09 11:00:00"
          ],
          [
           12,
           69,
           19.68,
           "2012-10-09 12:00:00"
          ],
          [
           13,
           67,
           20.5,
           "2012-10-09 13:00:00"
          ],
          [
           14,
           64,
           22.14,
           "2012-10-09 14:00:00"
          ],
          [
           15,
           63,
           21.32,
           "2012-10-09 15:00:00"
          ],
          [
           16,
           72,
           20.5,
           "2012-10-09 16:00:00"
          ],
          [
           17,
           68,
           21.32,
           "2012-10-09 17:00:00"
          ],
          [
           18,
           72,
           20.5,
           "2012-10-09 18:00:00"
          ],
          [
           19,
           72,
           20.5,
           "2012-10-09 19:00:00"
          ],
          [
           20,
           72,
           20.5,
           "2012-10-09 20:00:00"
          ],
          [
           21,
           77,
           19.68,
           "2012-10-09 21:00:00"
          ],
          [
           22,
           77,
           19.68,
           "2012-10-09 22:00:00"
          ],
          [
           23,
           77,
           19.68,
           "2012-10-09 23:00:00"
          ],
          [
           0,
           88,
           18.86,
           "2012-10-10 00:00:00"
          ],
          [
           1,
           88,
           18.86,
           "2012-10-10 01:00:00"
          ],
          [
           2,
           88,
           18.86,
           "2012-10-10 02:00:00"
          ],
          [
           3,
           88,
           18.86,
           "2012-10-10 03:00:00"
          ],
          [
           4,
           88,
           18.86,
           "2012-10-10 04:00:00"
          ],
          [
           5,
           88,
           18.86,
           "2012-10-10 05:00:00"
          ],
          [
           6,
           88,
           18.86,
           "2012-10-10 06:00:00"
          ],
          [
           7,
           82,
           18.86,
           "2012-10-10 07:00:00"
          ],
          [
           8,
           77,
           20.5,
           "2012-10-10 08:00:00"
          ],
          [
           9,
           60,
           22.14,
           "2012-10-10 09:00:00"
          ],
          [
           10,
           52,
           22.96,
           "2012-10-10 10:00:00"
          ],
          [
           11,
           52,
           22.14,
           "2012-10-10 11:00:00"
          ],
          [
           12,
           56,
           22.14,
           "2012-10-10 12:00:00"
          ],
          [
           13,
           49,
           22.96,
           "2012-10-10 13:00:00"
          ],
          [
           14,
           40,
           24.6,
           "2012-10-10 14:00:00"
          ],
          [
           15,
           40,
           24.6,
           "2012-10-10 15:00:00"
          ],
          [
           16,
           40,
           24.6,
           "2012-10-10 16:00:00"
          ],
          [
           17,
           43,
           23.78,
           "2012-10-10 17:00:00"
          ],
          [
           18,
           49,
           22.96,
           "2012-10-10 18:00:00"
          ],
          [
           19,
           46,
           22.96,
           "2012-10-10 19:00:00"
          ],
          [
           20,
           48,
           21.32,
           "2012-10-10 20:00:00"
          ],
          [
           21,
           51,
           20.5,
           "2012-10-10 21:00:00"
          ],
          [
           22,
           55,
           18.86,
           "2012-10-10 22:00:00"
          ],
          [
           23,
           58,
           18.04,
           "2012-10-10 23:00:00"
          ],
          [
           0,
           51,
           18.04,
           "2012-10-11 00:00:00"
          ],
          [
           1,
           47,
           18.04,
           "2012-10-11 01:00:00"
          ],
          [
           2,
           50,
           17.22,
           "2012-10-11 02:00:00"
          ],
          [
           3,
           47,
           17.22,
           "2012-10-11 03:00:00"
          ],
          [
           4,
           50,
           16.4,
           "2012-10-11 04:00:00"
          ],
          [
           5,
           50,
           14.76,
           "2012-10-11 05:00:00"
          ],
          [
           6,
           50,
           14.76,
           "2012-10-11 06:00:00"
          ],
          [
           7,
           50,
           14.76,
           "2012-10-11 07:00:00"
          ],
          [
           8,
           46,
           15.58,
           "2012-10-11 08:00:00"
          ],
          [
           9,
           43,
           16.4,
           "2012-10-11 09:00:00"
          ],
          [
           10,
           41,
           18.04,
           "2012-10-11 10:00:00"
          ],
          [
           11,
           36,
           18.86,
           "2012-10-11 11:00:00"
          ],
          [
           12,
           36,
           18.86,
           "2012-10-11 12:00:00"
          ],
          [
           13,
           31,
           20.5,
           "2012-10-11 13:00:00"
          ],
          [
           14,
           32,
           21.32,
           "2012-10-11 14:00:00"
          ],
          [
           15,
           34,
           21.32,
           "2012-10-11 15:00:00"
          ],
          [
           16,
           36,
           20.5,
           "2012-10-11 16:00:00"
          ],
          [
           17,
           39,
           20.5,
           "2012-10-11 17:00:00"
          ],
          [
           18,
           44,
           18.86,
           "2012-10-11 18:00:00"
          ],
          [
           19,
           51,
           18.04,
           "2012-10-11 19:00:00"
          ],
          [
           20,
           62,
           17.22,
           "2012-10-11 20:00:00"
          ],
          [
           21,
           62,
           17.22,
           "2012-10-11 21:00:00"
          ],
          [
           22,
           66,
           16.4,
           "2012-10-11 22:00:00"
          ],
          [
           23,
           58,
           17.22,
           "2012-10-11 23:00:00"
          ],
          [
           0,
           66,
           16.4,
           "2012-10-12 00:00:00"
          ],
          [
           1,
           66,
           16.4,
           "2012-10-12 01:00:00"
          ],
          [
           2,
           66,
           16.4,
           "2012-10-12 02:00:00"
          ],
          [
           3,
           76,
           14.76,
           "2012-10-12 03:00:00"
          ],
          [
           4,
           76,
           14.76,
           "2012-10-12 04:00:00"
          ],
          [
           5,
           81,
           14.76,
           "2012-10-12 05:00:00"
          ],
          [
           6,
           81,
           13.94,
           "2012-10-12 06:00:00"
          ],
          [
           7,
           81,
           14.76,
           "2012-10-12 07:00:00"
          ],
          [
           8,
           71,
           17.22,
           "2012-10-12 08:00:00"
          ],
          [
           9,
           39,
           20.5,
           "2012-10-12 09:00:00"
          ],
          [
           10,
           36,
           21.32,
           "2012-10-12 10:00:00"
          ],
          [
           11,
           37,
           22.14,
           "2012-10-12 11:00:00"
          ],
          [
           12,
           39,
           22.14,
           "2012-10-12 12:00:00"
          ],
          [
           13,
           37,
           22.96,
           "2012-10-12 13:00:00"
          ],
          [
           14,
           37,
           22.96,
           "2012-10-12 14:00:00"
          ],
          [
           15,
           42,
           21.32,
           "2012-10-12 15:00:00"
          ],
          [
           16,
           41,
           18.86,
           "2012-10-12 16:00:00"
          ],
          [
           17,
           38,
           18.86,
           "2012-10-12 17:00:00"
          ],
          [
           18,
           38,
           18.04,
           "2012-10-12 18:00:00"
          ],
          [
           19,
           41,
           17.22,
           "2012-10-12 19:00:00"
          ],
          [
           20,
           47,
           17.22,
           "2012-10-12 20:00:00"
          ],
          [
           21,
           54,
           16.4,
           "2012-10-12 21:00:00"
          ],
          [
           22,
           47,
           16.4,
           "2012-10-12 22:00:00"
          ],
          [
           23,
           57,
           14.76,
           "2012-10-12 23:00:00"
          ],
          [
           0,
           57,
           14.76,
           "2012-10-13 00:00:00"
          ],
          [
           1,
           53,
           13.94,
           "2012-10-13 01:00:00"
          ],
          [
           2,
           53,
           13.94,
           "2012-10-13 02:00:00"
          ],
          [
           3,
           66,
           13.12,
           "2012-10-13 03:00:00"
          ],
          [
           4,
           65,
           12.3,
           "2012-10-13 04:00:00"
          ],
          [
           5,
           61,
           12.3,
           "2012-10-13 05:00:00"
          ],
          [
           6,
           61,
           12.3,
           "2012-10-13 06:00:00"
          ],
          [
           7,
           61,
           12.3,
           "2012-10-13 07:00:00"
          ],
          [
           8,
           53,
           13.94,
           "2012-10-13 08:00:00"
          ],
          [
           9,
           50,
           14.76,
           "2012-10-13 09:00:00"
          ],
          [
           10,
           43,
           16.4,
           "2012-10-13 10:00:00"
          ],
          [
           11,
           35,
           17.22,
           "2012-10-13 11:00:00"
          ],
          [
           12,
           35,
           18.04,
           "2012-10-13 12:00:00"
          ],
          [
           13,
           36,
           18.86,
           "2012-10-13 13:00:00"
          ],
          [
           14,
           33,
           19.68,
           "2012-10-13 14:00:00"
          ],
          [
           15,
           36,
           20.5,
           "2012-10-13 15:00:00"
          ],
          [
           16,
           31,
           20.5,
           "2012-10-13 16:00:00"
          ],
          [
           17,
           38,
           18.86,
           "2012-10-13 17:00:00"
          ],
          [
           18,
           44,
           18.86,
           "2012-10-13 18:00:00"
          ],
          [
           19,
           44,
           18.04,
           "2012-10-13 19:00:00"
          ],
          [
           20,
           54,
           16.4,
           "2012-10-13 20:00:00"
          ],
          [
           21,
           58,
           16.4,
           "2012-10-13 21:00:00"
          ],
          [
           22,
           62,
           16.4,
           "2012-10-13 22:00:00"
          ],
          [
           23,
           58,
           17.22,
           "2012-10-13 23:00:00"
          ],
          [
           0,
           71,
           16.4,
           "2012-10-14 00:00:00"
          ],
          [
           1,
           77,
           17.22,
           "2012-10-14 01:00:00"
          ],
          [
           2,
           76,
           16.4,
           "2012-10-14 02:00:00"
          ],
          [
           3,
           77,
           17.22,
           "2012-10-14 03:00:00"
          ],
          [
           4,
           77,
           17.22,
           "2012-10-14 04:00:00"
          ],
          [
           5,
           82,
           16.4,
           "2012-10-14 05:00:00"
          ],
          [
           6,
           82,
           16.4,
           "2012-10-14 06:00:00"
          ],
          [
           7,
           82,
           17.22,
           "2012-10-14 07:00:00"
          ],
          [
           8,
           77,
           18.04,
           "2012-10-14 08:00:00"
          ],
          [
           9,
           67,
           19.68,
           "2012-10-14 09:00:00"
          ],
          [
           10,
           56,
           22.14,
           "2012-10-14 10:00:00"
          ],
          [
           11,
           52,
           22.96,
           "2012-10-14 11:00:00"
          ],
          [
           12,
           46,
           25.42,
           "2012-10-14 12:00:00"
          ],
          [
           13,
           41,
           26.24,
           "2012-10-14 13:00:00"
          ],
          [
           14,
           39,
           27.06,
           "2012-10-14 14:00:00"
          ],
          [
           15,
           39,
           27.06,
           "2012-10-14 15:00:00"
          ],
          [
           16,
           41,
           26.24,
           "2012-10-14 16:00:00"
          ],
          [
           17,
           44,
           26.24,
           "2012-10-14 17:00:00"
          ],
          [
           18,
           60,
           23.78,
           "2012-10-14 18:00:00"
          ],
          [
           19,
           64,
           22.96,
           "2012-10-14 19:00:00"
          ],
          [
           20,
           73,
           22.14,
           "2012-10-14 20:00:00"
          ],
          [
           21,
           73,
           22.96,
           "2012-10-14 21:00:00"
          ],
          [
           22,
           73,
           22.96,
           "2012-10-14 22:00:00"
          ],
          [
           23,
           68,
           22.96,
           "2012-10-14 23:00:00"
          ],
          [
           0,
           73,
           22.96,
           "2012-10-15 00:00:00"
          ],
          [
           1,
           64,
           23.78,
           "2012-10-15 01:00:00"
          ],
          [
           2,
           64,
           23.78,
           "2012-10-15 02:00:00"
          ],
          [
           3,
           73,
           22.96,
           "2012-10-15 03:00:00"
          ],
          [
           4,
           68,
           22.96,
           "2012-10-15 04:00:00"
          ],
          [
           5,
           73,
           22.96,
           "2012-10-15 05:00:00"
          ],
          [
           6,
           73,
           22.96,
           "2012-10-15 06:00:00"
          ],
          [
           7,
           68,
           23.78,
           "2012-10-15 07:00:00"
          ],
          [
           8,
           64,
           24.6,
           "2012-10-15 08:00:00"
          ],
          [
           9,
           69,
           24.6,
           "2012-10-15 09:00:00"
          ],
          [
           10,
           73,
           24.6,
           "2012-10-15 10:00:00"
          ],
          [
           11,
           73,
           24.6,
           "2012-10-15 11:00:00"
          ],
          [
           12,
           78,
           24.6,
           "2012-10-15 12:00:00"
          ],
          [
           13,
           88,
           22.96,
           "2012-10-15 13:00:00"
          ],
          [
           14,
           78,
           24.6,
           "2012-10-15 14:00:00"
          ],
          [
           15,
           78,
           24.6,
           "2012-10-15 15:00:00"
          ],
          [
           16,
           64,
           22.96,
           "2012-10-15 16:00:00"
          ],
          [
           17,
           64,
           22.96,
           "2012-10-15 17:00:00"
          ],
          [
           18,
           77,
           22.14,
           "2012-10-15 18:00:00"
          ],
          [
           19,
           83,
           21.32,
           "2012-10-15 19:00:00"
          ],
          [
           20,
           72,
           21.32,
           "2012-10-15 20:00:00"
          ],
          [
           21,
           59,
           21.32,
           "2012-10-15 21:00:00"
          ],
          [
           22,
           59,
           20.5,
           "2012-10-15 22:00:00"
          ],
          [
           23,
           63,
           18.86,
           "2012-10-15 23:00:00"
          ],
          [
           0,
           63,
           18.86,
           "2012-10-16 00:00:00"
          ],
          [
           1,
           67,
           18.04,
           "2012-10-16 01:00:00"
          ],
          [
           2,
           67,
           18.04,
           "2012-10-16 02:00:00"
          ],
          [
           3,
           67,
           17.22,
           "2012-10-16 03:00:00"
          ],
          [
           4,
           67,
           17.22,
           "2012-10-16 04:00:00"
          ],
          [
           5,
           67,
           17.22,
           "2012-10-16 05:00:00"
          ],
          [
           6,
           67,
           17.22,
           "2012-10-16 06:00:00"
          ],
          [
           7,
           67,
           17.22,
           "2012-10-16 07:00:00"
          ],
          [
           8,
           62,
           18.04,
           "2012-10-16 08:00:00"
          ],
          [
           9,
           55,
           19.68,
           "2012-10-16 09:00:00"
          ],
          [
           10,
           48,
           20.5,
           "2012-10-16 10:00:00"
          ],
          [
           11,
           45,
           20.5,
           "2012-10-16 11:00:00"
          ],
          [
           12,
           45,
           21.32,
           "2012-10-16 12:00:00"
          ],
          [
           13,
           45,
           21.32,
           "2012-10-16 13:00:00"
          ],
          [
           14,
           39,
           22.14,
           "2012-10-16 14:00:00"
          ],
          [
           15,
           41,
           22.14,
           "2012-10-16 15:00:00"
          ],
          [
           16,
           39,
           22.14,
           "2012-10-16 16:00:00"
          ],
          [
           17,
           39,
           21.32,
           "2012-10-16 17:00:00"
          ],
          [
           18,
           42,
           20.5,
           "2012-10-16 18:00:00"
          ],
          [
           19,
           48,
           19.68,
           "2012-10-16 19:00:00"
          ],
          [
           20,
           55,
           18.86,
           "2012-10-16 20:00:00"
          ],
          [
           21,
           63,
           18.86,
           "2012-10-16 21:00:00"
          ],
          [
           22,
           71,
           16.4,
           "2012-10-16 22:00:00"
          ],
          [
           23,
           71,
           16.4,
           "2012-10-16 23:00:00"
          ],
          [
           0,
           76,
           15.58,
           "2012-10-17 00:00:00"
          ],
          [
           1,
           76,
           15.58,
           "2012-10-17 01:00:00"
          ],
          [
           2,
           76,
           15.58,
           "2012-10-17 02:00:00"
          ],
          [
           3,
           87,
           14.76,
           "2012-10-17 03:00:00"
          ],
          [
           4,
           81,
           14.76,
           "2012-10-17 04:00:00"
          ],
          [
           5,
           81,
           14.76,
           "2012-10-17 05:00:00"
          ],
          [
           6,
           82,
           15.58,
           "2012-10-17 06:00:00"
          ],
          [
           7,
           81,
           14.76,
           "2012-10-17 07:00:00"
          ],
          [
           8,
           76,
           16.4,
           "2012-10-17 08:00:00"
          ],
          [
           9,
           77,
           17.22,
           "2012-10-17 09:00:00"
          ],
          [
           10,
           67,
           18.86,
           "2012-10-17 10:00:00"
          ],
          [
           11,
           51,
           20.5,
           "2012-10-17 11:00:00"
          ],
          [
           12,
           48,
           21.32,
           "2012-10-17 12:00:00"
          ],
          [
           13,
           49,
           22.14,
           "2012-10-17 13:00:00"
          ],
          [
           14,
           43,
           22.96,
           "2012-10-17 14:00:00"
          ],
          [
           15,
           43,
           23.78,
           "2012-10-17 15:00:00"
          ],
          [
           16,
           52,
           22.96,
           "2012-10-17 16:00:00"
          ],
          [
           17,
           56,
           22.14,
           "2012-10-17 17:00:00"
          ],
          [
           18,
           59,
           21.32,
           "2012-10-17 18:00:00"
          ],
          [
           19,
           72,
           20.5,
           "2012-10-17 19:00:00"
          ],
          [
           20,
           72,
           20.5,
           "2012-10-17 20:00:00"
          ],
          [
           21,
           82,
           18.86,
           "2012-10-17 21:00:00"
          ],
          [
           22,
           88,
           18.86,
           "2012-10-17 22:00:00"
          ],
          [
           23,
           88,
           18.86,
           "2012-10-17 23:00:00"
          ],
          [
           0,
           88,
           18.86,
           "2012-10-18 00:00:00"
          ],
          [
           1,
           82,
           18.86,
           "2012-10-18 01:00:00"
          ],
          [
           2,
           82,
           18.86,
           "2012-10-18 02:00:00"
          ],
          [
           3,
           88,
           18.04,
           "2012-10-18 03:00:00"
          ],
          [
           4,
           88,
           18.04,
           "2012-10-18 04:00:00"
          ],
          [
           5,
           82,
           18.04,
           "2012-10-18 05:00:00"
          ],
          [
           6,
           88,
           18.04,
           "2012-10-18 06:00:00"
          ],
          [
           7,
           88,
           18.04,
           "2012-10-18 07:00:00"
          ],
          [
           8,
           82,
           18.86,
           "2012-10-18 08:00:00"
          ],
          [
           9,
           77,
           20.5,
           "2012-10-18 09:00:00"
          ],
          [
           10,
           68,
           21.32,
           "2012-10-18 10:00:00"
          ],
          [
           11,
           56,
           22.96,
           "2012-10-18 11:00:00"
          ],
          [
           12,
           53,
           24.6,
           "2012-10-18 12:00:00"
          ],
          [
           13,
           53,
           25.42,
           "2012-10-18 13:00:00"
          ],
          [
           14,
           50,
           25.42,
           "2012-10-18 14:00:00"
          ],
          [
           15,
           60,
           24.6,
           "2012-10-18 15:00:00"
          ],
          [
           16,
           56,
           24.6,
           "2012-10-18 16:00:00"
          ],
          [
           17,
           64,
           23.78,
           "2012-10-18 17:00:00"
          ],
          [
           18,
           64,
           22.96,
           "2012-10-18 18:00:00"
          ],
          [
           19,
           68,
           22.96,
           "2012-10-18 19:00:00"
          ],
          [
           20,
           68,
           22.96,
           "2012-10-18 20:00:00"
          ],
          [
           21,
           77,
           22.14,
           "2012-10-18 21:00:00"
          ],
          [
           22,
           83,
           22.14,
           "2012-10-18 22:00:00"
          ],
          [
           23,
           83,
           22.14,
           "2012-10-18 23:00:00"
          ],
          [
           0,
           83,
           22.96,
           "2012-10-19 00:00:00"
          ],
          [
           1,
           88,
           22.14,
           "2012-10-19 01:00:00"
          ],
          [
           2,
           88,
           22.14,
           "2012-10-19 02:00:00"
          ],
          [
           3,
           83,
           22.96,
           "2012-10-19 03:00:00"
          ],
          [
           4,
           83,
           22.96,
           "2012-10-19 04:00:00"
          ],
          [
           5,
           88,
           22.14,
           "2012-10-19 05:00:00"
          ],
          [
           6,
           94,
           22.14,
           "2012-10-19 06:00:00"
          ],
          [
           7,
           94,
           22.14,
           "2012-10-19 07:00:00"
          ],
          [
           8,
           94,
           22.14,
           "2012-10-19 08:00:00"
          ],
          [
           9,
           94,
           22.14,
           "2012-10-19 09:00:00"
          ],
          [
           10,
           88,
           23.78,
           "2012-10-19 10:00:00"
          ],
          [
           11,
           83,
           24.6,
           "2012-10-19 11:00:00"
          ],
          [
           12,
           69,
           26.24,
           "2012-10-19 12:00:00"
          ],
          [
           13,
           73,
           25.42,
           "2012-10-19 13:00:00"
          ],
          [
           14,
           61,
           27.06,
           "2012-10-19 14:00:00"
          ],
          [
           15,
           65,
           26.24,
           "2012-10-19 15:00:00"
          ],
          [
           16,
           69,
           25.42,
           "2012-10-19 16:00:00"
          ],
          [
           17,
           69,
           25.42,
           "2012-10-19 17:00:00"
          ],
          [
           18,
           83,
           22.96,
           "2012-10-19 18:00:00"
          ],
          [
           19,
           88,
           22.14,
           "2012-10-19 19:00:00"
          ],
          [
           20,
           77,
           21.32,
           "2012-10-19 20:00:00"
          ],
          [
           21,
           77,
           20.5,
           "2012-10-19 21:00:00"
          ],
          [
           22,
           77,
           20.5,
           "2012-10-19 22:00:00"
          ],
          [
           23,
           88,
           18.86,
           "2012-10-19 23:00:00"
          ],
          [
           0,
           57,
           14.76,
           "2012-11-01 00:00:00"
          ],
          [
           1,
           75,
           12.3,
           "2012-11-01 01:00:00"
          ],
          [
           2,
           66,
           13.12,
           "2012-11-01 02:00:00"
          ],
          [
           3,
           61,
           13.94,
           "2012-11-01 03:00:00"
          ],
          [
           4,
           66,
           13.94,
           "2012-11-01 04:00:00"
          ],
          [
           5,
           66,
           13.94,
           "2012-11-01 05:00:00"
          ],
          [
           6,
           61,
           13.94,
           "2012-11-01 06:00:00"
          ],
          [
           7,
           57,
           14.76,
           "2012-11-01 07:00:00"
          ],
          [
           8,
           56,
           14.76,
           "2012-11-01 08:00:00"
          ],
          [
           9,
           57,
           14.76,
           "2012-11-01 09:00:00"
          ],
          [
           10,
           62,
           14.76,
           "2012-11-01 10:00:00"
          ],
          [
           11,
           62,
           14.76,
           "2012-11-01 11:00:00"
          ],
          [
           12,
           62,
           15.58,
           "2012-11-01 12:00:00"
          ],
          [
           13,
           58,
           16.4,
           "2012-11-01 13:00:00"
          ],
          [
           14,
           50,
           16.4,
           "2012-11-01 14:00:00"
          ],
          [
           15,
           54,
           16.4,
           "2012-11-01 15:00:00"
          ],
          [
           16,
           54,
           16.4,
           "2012-11-01 16:00:00"
          ],
          [
           17,
           50,
           16.4,
           "2012-11-01 17:00:00"
          ],
          [
           18,
           50,
           16.4,
           "2012-11-01 18:00:00"
          ],
          [
           19,
           50,
           16.4,
           "2012-11-01 19:00:00"
          ],
          [
           20,
           54,
           15.58,
           "2012-11-01 20:00:00"
          ],
          [
           21,
           54,
           15.58,
           "2012-11-01 21:00:00"
          ],
          [
           22,
           57,
           14.76,
           "2012-11-01 22:00:00"
          ],
          [
           23,
           57,
           13.94,
           "2012-11-01 23:00:00"
          ],
          [
           0,
           57,
           13.94,
           "2012-11-02 00:00:00"
          ],
          [
           1,
           66,
           13.12,
           "2012-11-02 01:00:00"
          ],
          [
           2,
           66,
           13.12,
           "2012-11-02 02:00:00"
          ],
          [
           3,
           70,
           12.3,
           "2012-11-02 03:00:00"
          ],
          [
           4,
           70,
           12.3,
           "2012-11-02 04:00:00"
          ],
          [
           5,
           66,
           13.12,
           "2012-11-02 05:00:00"
          ],
          [
           6,
           70,
           12.3,
           "2012-11-02 06:00:00"
          ],
          [
           7,
           70,
           12.3,
           "2012-11-02 07:00:00"
          ],
          [
           8,
           57,
           13.12,
           "2012-11-02 08:00:00"
          ],
          [
           9,
           53,
           13.94,
           "2012-11-02 09:00:00"
          ],
          [
           10,
           46,
           15.58,
           "2012-11-02 10:00:00"
          ],
          [
           11,
           41,
           17.22,
           "2012-11-02 11:00:00"
          ],
          [
           12,
           41,
           17.22,
           "2012-11-02 12:00:00"
          ],
          [
           13,
           43,
           16.4,
           "2012-11-02 13:00:00"
          ],
          [
           14,
           40,
           16.4,
           "2012-11-02 14:00:00"
          ],
          [
           15,
           40,
           16.4,
           "2012-11-02 15:00:00"
          ],
          [
           16,
           40,
           15.58,
           "2012-11-02 16:00:00"
          ],
          [
           17,
           40,
           15.58,
           "2012-11-02 17:00:00"
          ],
          [
           18,
           43,
           15.58,
           "2012-11-02 18:00:00"
          ],
          [
           19,
           43,
           15.58,
           "2012-11-02 19:00:00"
          ],
          [
           20,
           46,
           14.76,
           "2012-11-02 20:00:00"
          ],
          [
           21,
           46,
           14.76,
           "2012-11-02 21:00:00"
          ],
          [
           22,
           46,
           14.76,
           "2012-11-02 22:00:00"
          ],
          [
           23,
           53,
           13.94,
           "2012-11-02 23:00:00"
          ],
          [
           0,
           53,
           13.94,
           "2012-11-03 00:00:00"
          ],
          [
           1,
           49,
           13.94,
           "2012-11-03 01:00:00"
          ],
          [
           2,
           49,
           13.94,
           "2012-11-03 02:00:00"
          ],
          [
           3,
           49,
           13.94,
           "2012-11-03 03:00:00"
          ],
          [
           4,
           49,
           13.12,
           "2012-11-03 04:00:00"
          ],
          [
           5,
           49,
           13.12,
           "2012-11-03 05:00:00"
          ],
          [
           6,
           49,
           13.12,
           "2012-11-03 06:00:00"
          ],
          [
           7,
           49,
           13.12,
           "2012-11-03 07:00:00"
          ],
          [
           8,
           46,
           13.94,
           "2012-11-03 08:00:00"
          ],
          [
           9,
           49,
           13.94,
           "2012-11-03 09:00:00"
          ],
          [
           10,
           46,
           14.76,
           "2012-11-03 10:00:00"
          ],
          [
           11,
           46,
           14.76,
           "2012-11-03 11:00:00"
          ],
          [
           12,
           46,
           14.76,
           "2012-11-03 12:00:00"
          ],
          [
           13,
           46,
           14.76,
           "2012-11-03 13:00:00"
          ],
          [
           14,
           50,
           14.76,
           "2012-11-03 14:00:00"
          ],
          [
           15,
           46,
           14.76,
           "2012-11-03 15:00:00"
          ],
          [
           16,
           46,
           14.76,
           "2012-11-03 16:00:00"
          ],
          [
           17,
           46,
           14.76,
           "2012-11-03 17:00:00"
          ],
          [
           18,
           46,
           14.76,
           "2012-11-03 18:00:00"
          ],
          [
           19,
           50,
           14.76,
           "2012-11-03 19:00:00"
          ],
          [
           20,
           53,
           13.94,
           "2012-11-03 20:00:00"
          ],
          [
           21,
           53,
           13.94,
           "2012-11-03 21:00:00"
          ],
          [
           22,
           57,
           13.12,
           "2012-11-03 22:00:00"
          ],
          [
           23,
           57,
           13.12,
           "2012-11-03 23:00:00"
          ],
          [
           0,
           61,
           12.3,
           "2012-11-04 00:00:00"
          ],
          [
           1,
           81,
           10.66,
           "2012-11-04 01:00:00"
          ],
          [
           2,
           65,
           12.3,
           "2012-11-04 02:00:00"
          ],
          [
           3,
           61,
           11.48,
           "2012-11-04 03:00:00"
          ],
          [
           4,
           65,
           10.66,
           "2012-11-04 04:00:00"
          ],
          [
           5,
           65,
           10.66,
           "2012-11-04 05:00:00"
          ],
          [
           6,
           61,
           11.48,
           "2012-11-04 06:00:00"
          ],
          [
           7,
           65,
           10.66,
           "2012-11-04 07:00:00"
          ],
          [
           8,
           56,
           12.3,
           "2012-11-04 08:00:00"
          ],
          [
           9,
           53,
           13.12,
           "2012-11-04 09:00:00"
          ],
          [
           10,
           49,
           13.94,
           "2012-11-04 10:00:00"
          ],
          [
           11,
           46,
           15.58,
           "2012-11-04 11:00:00"
          ],
          [
           12,
           46,
           15.58,
           "2012-11-04 12:00:00"
          ],
          [
           13,
           43,
           16.4,
           "2012-11-04 13:00:00"
          ],
          [
           14,
           40,
           16.4,
           "2012-11-04 14:00:00"
          ],
          [
           15,
           40,
           16.4,
           "2012-11-04 15:00:00"
          ],
          [
           16,
           40,
           16.4,
           "2012-11-04 16:00:00"
          ],
          [
           17,
           43,
           14.76,
           "2012-11-04 17:00:00"
          ],
          [
           18,
           43,
           14.76,
           "2012-11-04 18:00:00"
          ],
          [
           19,
           43,
           14.76,
           "2012-11-04 19:00:00"
          ],
          [
           20,
           53,
           13.12,
           "2012-11-04 20:00:00"
          ],
          [
           21,
           52,
           12.3,
           "2012-11-04 21:00:00"
          ],
          [
           22,
           52,
           12.3,
           "2012-11-04 22:00:00"
          ],
          [
           23,
           56,
           12.3,
           "2012-11-04 23:00:00"
          ],
          [
           0,
           56,
           12.3,
           "2012-11-05 00:00:00"
          ],
          [
           1,
           56,
           12.3,
           "2012-11-05 01:00:00"
          ],
          [
           2,
           56,
           12.3,
           "2012-11-05 02:00:00"
          ],
          [
           3,
           56,
           12.3,
           "2012-11-05 03:00:00"
          ],
          [
           4,
           52,
           12.3,
           "2012-11-05 04:00:00"
          ],
          [
           5,
           52,
           12.3,
           "2012-11-05 05:00:00"
          ],
          [
           6,
           49,
           12.3,
           "2012-11-05 06:00:00"
          ],
          [
           7,
           49,
           12.3,
           "2012-11-05 07:00:00"
          ],
          [
           8,
           49,
           12.3,
           "2012-11-05 08:00:00"
          ],
          [
           9,
           52,
           12.3,
           "2012-11-05 09:00:00"
          ],
          [
           10,
           49,
           13.12,
           "2012-11-05 10:00:00"
          ],
          [
           11,
           46,
           13.94,
           "2012-11-05 11:00:00"
          ],
          [
           12,
           43,
           14.76,
           "2012-11-05 12:00:00"
          ],
          [
           13,
           40,
           14.76,
           "2012-11-05 13:00:00"
          ],
          [
           14,
           40,
           15.58,
           "2012-11-05 14:00:00"
          ],
          [
           15,
           40,
           15.58,
           "2012-11-05 15:00:00"
          ],
          [
           16,
           43,
           14.76,
           "2012-11-05 16:00:00"
          ],
          [
           17,
           46,
           13.94,
           "2012-11-05 17:00:00"
          ],
          [
           18,
           46,
           13.94,
           "2012-11-05 18:00:00"
          ],
          [
           19,
           49,
           13.12,
           "2012-11-05 19:00:00"
          ],
          [
           20,
           49,
           13.12,
           "2012-11-05 20:00:00"
          ],
          [
           21,
           52,
           12.3,
           "2012-11-05 21:00:00"
          ],
          [
           22,
           56,
           11.48,
           "2012-11-05 22:00:00"
          ],
          [
           23,
           60,
           10.66,
           "2012-11-05 23:00:00"
          ],
          [
           0,
           60,
           9.84,
           "2012-11-06 00:00:00"
          ],
          [
           1,
           60,
           9.84,
           "2012-11-06 01:00:00"
          ],
          [
           2,
           65,
           9.84,
           "2012-11-06 02:00:00"
          ],
          [
           3,
           64,
           9.02,
           "2012-11-06 03:00:00"
          ],
          [
           4,
           69,
           9.02,
           "2012-11-06 04:00:00"
          ],
          [
           5,
           64,
           9.02,
           "2012-11-06 05:00:00"
          ],
          [
           6,
           69,
           9.02,
           "2012-11-06 06:00:00"
          ],
          [
           7,
           69,
           8.2,
           "2012-11-06 07:00:00"
          ],
          [
           8,
           69,
           9.02,
           "2012-11-06 08:00:00"
          ],
          [
           9,
           60,
           10.66,
           "2012-11-06 09:00:00"
          ],
          [
           10,
           49,
           12.3,
           "2012-11-06 10:00:00"
          ],
          [
           11,
           45,
           13.12,
           "2012-11-06 11:00:00"
          ],
          [
           12,
           45,
           13.12,
           "2012-11-06 12:00:00"
          ],
          [
           13,
           46,
           13.94,
           "2012-11-06 13:00:00"
          ],
          [
           14,
           40,
           14.76,
           "2012-11-06 14:00:00"
          ],
          [
           15,
           46,
           13.94,
           "2012-11-06 15:00:00"
          ],
          [
           16,
           46,
           13.94,
           "2012-11-06 16:00:00"
          ],
          [
           17,
           53,
           13.12,
           "2012-11-06 17:00:00"
          ],
          [
           18,
           57,
           13.12,
           "2012-11-06 18:00:00"
          ],
          [
           19,
           56,
           12.3,
           "2012-11-06 19:00:00"
          ],
          [
           20,
           61,
           12.3,
           "2012-11-06 20:00:00"
          ],
          [
           21,
           56,
           12.3,
           "2012-11-06 21:00:00"
          ],
          [
           22,
           56,
           12.3,
           "2012-11-06 22:00:00"
          ],
          [
           23,
           56,
           12.3,
           "2012-11-06 23:00:00"
          ],
          [
           0,
           56,
           12.3,
           "2012-11-07 00:00:00"
          ],
          [
           1,
           61,
           11.48,
           "2012-11-07 01:00:00"
          ],
          [
           2,
           56,
           11.48,
           "2012-11-07 02:00:00"
          ],
          [
           3,
           52,
           11.48,
           "2012-11-07 03:00:00"
          ],
          [
           4,
           52,
           11.48,
           "2012-11-07 04:00:00"
          ],
          [
           5,
           52,
           11.48,
           "2012-11-07 05:00:00"
          ],
          [
           6,
           56,
           10.66,
           "2012-11-07 06:00:00"
          ],
          [
           7,
           56,
           10.66,
           "2012-11-07 07:00:00"
          ],
          [
           8,
           60,
           10.66,
           "2012-11-07 08:00:00"
          ],
          [
           9,
           60,
           10.66,
           "2012-11-07 09:00:00"
          ],
          [
           10,
           56,
           11.48,
           "2012-11-07 10:00:00"
          ],
          [
           11,
           51,
           13.12,
           "2012-11-07 11:00:00"
          ],
          [
           12,
           53,
           13.12,
           "2012-11-07 12:00:00"
          ],
          [
           13,
           53,
           13.12,
           "2012-11-07 13:00:00"
          ],
          [
           14,
           53,
           13.12,
           "2012-11-07 14:00:00"
          ],
          [
           15,
           53,
           13.12,
           "2012-11-07 15:00:00"
          ],
          [
           16,
           53,
           13.12,
           "2012-11-07 16:00:00"
          ],
          [
           17,
           53,
           13.12,
           "2012-11-07 17:00:00"
          ],
          [
           18,
           53,
           13.12,
           "2012-11-07 18:00:00"
          ],
          [
           19,
           56,
           12.3,
           "2012-11-07 19:00:00"
          ],
          [
           20,
           49,
           13.12,
           "2012-11-07 20:00:00"
          ],
          [
           21,
           49,
           13.12,
           "2012-11-07 21:00:00"
          ],
          [
           22,
           56,
           12.3,
           "2012-11-07 22:00:00"
          ],
          [
           23,
           65,
           11.48,
           "2012-11-07 23:00:00"
          ],
          [
           0,
           61,
           11.48,
           "2012-11-08 00:00:00"
          ],
          [
           1,
           52,
           12.3,
           "2012-11-08 01:00:00"
          ],
          [
           2,
           49,
           12.3,
           "2012-11-08 02:00:00"
          ],
          [
           4,
           45,
           12.3,
           "2012-11-08 04:00:00"
          ],
          [
           5,
           42,
           12.3,
           "2012-11-08 05:00:00"
          ],
          [
           6,
           39,
           12.3,
           "2012-11-08 06:00:00"
          ],
          [
           7,
           36,
           11.48,
           "2012-11-08 07:00:00"
          ],
          [
           8,
           33,
           12.3,
           "2012-11-08 08:00:00"
          ],
          [
           9,
           31,
           13.12,
           "2012-11-08 09:00:00"
          ],
          [
           10,
           31,
           13.12,
           "2012-11-08 10:00:00"
          ],
          [
           11,
           29,
           14.76,
           "2012-11-08 11:00:00"
          ],
          [
           12,
           24,
           16.4,
           "2012-11-08 12:00:00"
          ],
          [
           13,
           18,
           18.04,
           "2012-11-08 13:00:00"
          ],
          [
           14,
           18,
           18.04,
           "2012-11-08 14:00:00"
          ],
          [
           15,
           18,
           18.04,
           "2012-11-08 15:00:00"
          ],
          [
           16,
           16,
           17.22,
           "2012-11-08 16:00:00"
          ],
          [
           17,
           20,
           16.4,
           "2012-11-08 17:00:00"
          ],
          [
           18,
           24,
           16.4,
           "2012-11-08 18:00:00"
          ],
          [
           19,
           27,
           15.58,
           "2012-11-08 19:00:00"
          ],
          [
           20,
           29,
           15.58,
           "2012-11-08 20:00:00"
          ],
          [
           21,
           37,
           14.76,
           "2012-11-08 21:00:00"
          ],
          [
           22,
           42,
           13.94,
           "2012-11-08 22:00:00"
          ],
          [
           23,
           46,
           13.94,
           "2012-11-08 23:00:00"
          ],
          [
           0,
           49,
           13.94,
           "2012-11-09 00:00:00"
          ],
          [
           1,
           53,
           13.12,
           "2012-11-09 01:00:00"
          ],
          [
           2,
           53,
           13.12,
           "2012-11-09 02:00:00"
          ],
          [
           3,
           53,
           13.12,
           "2012-11-09 03:00:00"
          ],
          [
           4,
           53,
           13.12,
           "2012-11-09 04:00:00"
          ],
          [
           5,
           56,
           12.3,
           "2012-11-09 05:00:00"
          ],
          [
           6,
           65,
           10.66,
           "2012-11-09 06:00:00"
          ],
          [
           7,
           65,
           10.66,
           "2012-11-09 07:00:00"
          ],
          [
           8,
           57,
           13.12,
           "2012-11-09 08:00:00"
          ],
          [
           9,
           53,
           13.94,
           "2012-11-09 09:00:00"
          ],
          [
           10,
           50,
           14.76,
           "2012-11-09 10:00:00"
          ],
          [
           11,
           47,
           16.4,
           "2012-11-09 11:00:00"
          ],
          [
           12,
           41,
           18.04,
           "2012-11-09 12:00:00"
          ],
          [
           13,
           38,
           18.86,
           "2012-11-09 13:00:00"
          ],
          [
           14,
           38,
           18.86,
           "2012-11-09 14:00:00"
          ],
          [
           15,
           36,
           18.86,
           "2012-11-09 15:00:00"
          ],
          [
           16,
           38,
           18.86,
           "2012-11-09 16:00:00"
          ],
          [
           17,
           44,
           17.22,
           "2012-11-09 17:00:00"
          ],
          [
           18,
           44,
           17.22,
           "2012-11-09 18:00:00"
          ],
          [
           19,
           71,
           13.94,
           "2012-11-09 19:00:00"
          ],
          [
           20,
           66,
           14.76,
           "2012-11-09 20:00:00"
          ],
          [
           21,
           76,
           13.94,
           "2012-11-09 21:00:00"
          ],
          [
           22,
           71,
           13.94,
           "2012-11-09 22:00:00"
          ],
          [
           23,
           81,
           13.12,
           "2012-11-09 23:00:00"
          ],
          [
           0,
           76,
           13.12,
           "2012-11-10 00:00:00"
          ],
          [
           1,
           81,
           12.3,
           "2012-11-10 01:00:00"
          ],
          [
           2,
           81,
           13.12,
           "2012-11-10 02:00:00"
          ],
          [
           3,
           81,
           12.3,
           "2012-11-10 03:00:00"
          ],
          [
           4,
           87,
           10.66,
           "2012-11-10 04:00:00"
          ],
          [
           5,
           87,
           11.48,
           "2012-11-10 05:00:00"
          ],
          [
           6,
           93,
           9.84,
           "2012-11-10 06:00:00"
          ],
          [
           7,
           87,
           10.66,
           "2012-11-10 07:00:00"
          ],
          [
           8,
           76,
           13.12,
           "2012-11-10 08:00:00"
          ],
          [
           9,
           66,
           14.76,
           "2012-11-10 09:00:00"
          ],
          [
           10,
           58,
           16.4,
           "2012-11-10 10:00:00"
          ],
          [
           11,
           58,
           16.4,
           "2012-11-10 11:00:00"
          ],
          [
           12,
           48,
           19.68,
           "2012-11-10 12:00:00"
          ],
          [
           13,
           39,
           21.32,
           "2012-11-10 13:00:00"
          ],
          [
           14,
           37,
           22.14,
           "2012-11-10 14:00:00"
          ],
          [
           15,
           45,
           21.32,
           "2012-11-10 15:00:00"
          ],
          [
           16,
           37,
           22.14,
           "2012-11-10 16:00:00"
          ],
          [
           17,
           45,
           20.5,
           "2012-11-10 17:00:00"
          ],
          [
           18,
           54,
           18.04,
           "2012-11-10 18:00:00"
          ],
          [
           19,
           51,
           18.86,
           "2012-11-10 19:00:00"
          ],
          [
           20,
           54,
           18.04,
           "2012-11-10 20:00:00"
          ],
          [
           21,
           66,
           16.4,
           "2012-11-10 21:00:00"
          ],
          [
           22,
           71,
           15.58,
           "2012-11-10 22:00:00"
          ],
          [
           23,
           71,
           14.76,
           "2012-11-10 23:00:00"
          ],
          [
           0,
           81,
           13.94,
           "2012-11-11 00:00:00"
          ],
          [
           1,
           76,
           13.94,
           "2012-11-11 01:00:00"
          ],
          [
           2,
           87,
           13.12,
           "2012-11-11 02:00:00"
          ],
          [
           3,
           81,
           13.94,
           "2012-11-11 03:00:00"
          ],
          [
           4,
           81,
           13.12,
           "2012-11-11 04:00:00"
          ],
          [
           5,
           87,
           12.3,
           "2012-11-11 05:00:00"
          ],
          [
           6,
           87,
           12.3,
           "2012-11-11 06:00:00"
          ],
          [
           7,
           89,
           12.3,
           "2012-11-11 07:00:00"
          ],
          [
           8,
           87,
           13.12,
           "2012-11-11 08:00:00"
          ],
          [
           9,
           77,
           14.76,
           "2012-11-11 09:00:00"
          ],
          [
           10,
           69,
           16.4,
           "2012-11-11 10:00:00"
          ],
          [
           11,
           59,
           18.86,
           "2012-11-11 11:00:00"
          ],
          [
           12,
           48,
           20.5,
           "2012-11-11 12:00:00"
          ],
          [
           13,
           45,
           22.14,
           "2012-11-11 13:00:00"
          ],
          [
           14,
           33,
           24.6,
           "2012-11-11 14:00:00"
          ],
          [
           15,
           37,
           22.96,
           "2012-11-11 15:00:00"
          ],
          [
           16,
           42,
           22.14,
           "2012-11-11 16:00:00"
          ],
          [
           17,
           45,
           22.14,
           "2012-11-11 17:00:00"
          ],
          [
           18,
           45,
           21.32,
           "2012-11-11 18:00:00"
          ],
          [
           19,
           55,
           19.68,
           "2012-11-11 19:00:00"
          ],
          [
           20,
           62,
           18.04,
           "2012-11-11 20:00:00"
          ],
          [
           21,
           67,
           18.04,
           "2012-11-11 21:00:00"
          ],
          [
           22,
           71,
           17.22,
           "2012-11-11 22:00:00"
          ],
          [
           23,
           71,
           17.22,
           "2012-11-11 23:00:00"
          ],
          [
           0,
           71,
           17.22,
           "2012-11-12 00:00:00"
          ],
          [
           1,
           76,
           16.4,
           "2012-11-12 01:00:00"
          ],
          [
           2,
           76,
           16.4,
           "2012-11-12 02:00:00"
          ],
          [
           3,
           76,
           16.4,
           "2012-11-12 03:00:00"
          ],
          [
           4,
           76,
           16.4,
           "2012-11-12 04:00:00"
          ],
          [
           5,
           87,
           15.58,
           "2012-11-12 05:00:00"
          ],
          [
           6,
           87,
           15.58,
           "2012-11-12 06:00:00"
          ],
          [
           7,
           87,
           16.4,
           "2012-11-12 07:00:00"
          ],
          [
           8,
           82,
           17.22,
           "2012-11-12 08:00:00"
          ],
          [
           9,
           88,
           18.04,
           "2012-11-12 09:00:00"
          ],
          [
           10,
           77,
           19.68,
           "2012-11-12 10:00:00"
          ],
          [
           11,
           72,
           21.32,
           "2012-11-12 11:00:00"
          ],
          [
           12,
           64,
           22.96,
           "2012-11-12 12:00:00"
          ],
          [
           13,
           60,
           24.6,
           "2012-11-12 13:00:00"
          ],
          [
           14,
           60,
           23.78,
           "2012-11-12 14:00:00"
          ],
          [
           15,
           64,
           22.96,
           "2012-11-12 15:00:00"
          ],
          [
           16,
           64,
           22.96,
           "2012-11-12 16:00:00"
          ],
          [
           17,
           64,
           22.96,
           "2012-11-12 17:00:00"
          ],
          [
           18,
           72,
           21.32,
           "2012-11-12 18:00:00"
          ],
          [
           19,
           73,
           22.14,
           "2012-11-12 19:00:00"
          ],
          [
           20,
           77,
           21.32,
           "2012-11-12 20:00:00"
          ],
          [
           21,
           73,
           22.14,
           "2012-11-12 21:00:00"
          ],
          [
           22,
           77,
           21.32,
           "2012-11-12 22:00:00"
          ],
          [
           23,
           77,
           22.14,
           "2012-11-12 23:00:00"
          ],
          [
           0,
           83,
           21.32,
           "2012-11-13 00:00:00"
          ],
          [
           1,
           88,
           18.04,
           "2012-11-13 01:00:00"
          ],
          [
           2,
           87,
           14.76,
           "2012-11-13 02:00:00"
          ],
          [
           3,
           87,
           14.76,
           "2012-11-13 03:00:00"
          ],
          [
           4,
           81,
           14.76,
           "2012-11-13 04:00:00"
          ],
          [
           5,
           87,
           13.94,
           "2012-11-13 05:00:00"
          ],
          [
           6,
           81,
           13.12,
           "2012-11-13 06:00:00"
          ],
          [
           7,
           87,
           13.12,
           "2012-11-13 07:00:00"
          ],
          [
           8,
           87,
           13.12,
           "2012-11-13 08:00:00"
          ],
          [
           9,
           81,
           13.12,
           "2012-11-13 09:00:00"
          ],
          [
           10,
           75,
           12.3,
           "2012-11-13 10:00:00"
          ],
          [
           11,
           70,
           13.12,
           "2012-11-13 11:00:00"
          ],
          [
           12,
           61,
           13.94,
           "2012-11-13 12:00:00"
          ],
          [
           13,
           53,
           13.94,
           "2012-11-13 13:00:00"
          ],
          [
           14,
           46,
           15.58,
           "2012-11-13 14:00:00"
          ],
          [
           15,
           40,
           16.4,
           "2012-11-13 15:00:00"
          ],
          [
           16,
           40,
           15.58,
           "2012-11-13 16:00:00"
          ],
          [
           17,
           49,
           13.94,
           "2012-11-13 17:00:00"
          ],
          [
           18,
           49,
           13.94,
           "2012-11-13 18:00:00"
          ],
          [
           19,
           49,
           13.12,
           "2012-11-13 19:00:00"
          ],
          [
           20,
           49,
           12.3,
           "2012-11-13 20:00:00"
          ],
          [
           21,
           49,
           12.3,
           "2012-11-13 21:00:00"
          ],
          [
           22,
           56,
           10.66,
           "2012-11-13 22:00:00"
          ],
          [
           23,
           56,
           10.66,
           "2012-11-13 23:00:00"
          ],
          [
           0,
           56,
           10.66,
           "2012-11-14 00:00:00"
          ],
          [
           1,
           60,
           9.84,
           "2012-11-14 01:00:00"
          ],
          [
           2,
           60,
           9.84,
           "2012-11-14 02:00:00"
          ],
          [
           3,
           65,
           9.84,
           "2012-11-14 03:00:00"
          ],
          [
           4,
           69,
           9.02,
           "2012-11-14 04:00:00"
          ],
          [
           5,
           69,
           9.02,
           "2012-11-14 05:00:00"
          ],
          [
           6,
           65,
           9.84,
           "2012-11-14 06:00:00"
          ],
          [
           7,
           65,
           9.84,
           "2012-11-14 07:00:00"
          ],
          [
           8,
           56,
           11.48,
           "2012-11-14 08:00:00"
          ],
          [
           9,
           52,
           12.3,
           "2012-11-14 09:00:00"
          ],
          [
           10,
           45,
           13.12,
           "2012-11-14 10:00:00"
          ],
          [
           11,
           49,
           13.12,
           "2012-11-14 11:00:00"
          ],
          [
           12,
           46,
           13.94,
           "2012-11-14 12:00:00"
          ],
          [
           13,
           43,
           14.76,
           "2012-11-14 13:00:00"
          ],
          [
           14,
           43,
           14.76,
           "2012-11-14 14:00:00"
          ],
          [
           15,
           43,
           14.76,
           "2012-11-14 15:00:00"
          ],
          [
           16,
           46,
           13.94,
           "2012-11-14 16:00:00"
          ],
          [
           17,
           49,
           13.12,
           "2012-11-14 17:00:00"
          ],
          [
           18,
           53,
           13.12,
           "2012-11-14 18:00:00"
          ],
          [
           19,
           52,
           12.3,
           "2012-11-14 19:00:00"
          ],
          [
           20,
           52,
           12.3,
           "2012-11-14 20:00:00"
          ],
          [
           21,
           56,
           12.3,
           "2012-11-14 21:00:00"
          ],
          [
           22,
           61,
           11.48,
           "2012-11-14 22:00:00"
          ],
          [
           23,
           70,
           9.84,
           "2012-11-14 23:00:00"
          ],
          [
           0,
           65,
           10.66,
           "2012-11-15 00:00:00"
          ],
          [
           1,
           65,
           10.66,
           "2012-11-15 01:00:00"
          ],
          [
           2,
           70,
           10.66,
           "2012-11-15 02:00:00"
          ],
          [
           3,
           70,
           10.66,
           "2012-11-15 03:00:00"
          ],
          [
           4,
           65,
           11.48,
           "2012-11-15 04:00:00"
          ],
          [
           5,
           61,
           12.3,
           "2012-11-15 05:00:00"
          ],
          [
           6,
           65,
           12.3,
           "2012-11-15 06:00:00"
          ],
          [
           7,
           65,
           12.3,
           "2012-11-15 07:00:00"
          ],
          [
           8,
           61,
           12.3,
           "2012-11-15 08:00:00"
          ],
          [
           9,
           61,
           13.12,
           "2012-11-15 09:00:00"
          ],
          [
           10,
           66,
           13.12,
           "2012-11-15 10:00:00"
          ],
          [
           11,
           61,
           13.94,
           "2012-11-15 11:00:00"
          ],
          [
           12,
           62,
           14.76,
           "2012-11-15 12:00:00"
          ],
          [
           13,
           54,
           15.58,
           "2012-11-15 13:00:00"
          ],
          [
           14,
           54,
           15.58,
           "2012-11-15 14:00:00"
          ],
          [
           15,
           58,
           15.58,
           "2012-11-15 15:00:00"
          ],
          [
           16,
           57,
           14.76,
           "2012-11-15 16:00:00"
          ],
          [
           17,
           57,
           14.76,
           "2012-11-15 17:00:00"
          ],
          [
           18,
           57,
           14.76,
           "2012-11-15 18:00:00"
          ],
          [
           19,
           61,
           13.94,
           "2012-11-15 19:00:00"
          ],
          [
           20,
           61,
           13.94,
           "2012-11-15 20:00:00"
          ],
          [
           21,
           66,
           13.12,
           "2012-11-15 21:00:00"
          ],
          [
           22,
           66,
           13.12,
           "2012-11-15 22:00:00"
          ],
          [
           23,
           61,
           13.12,
           "2012-11-15 23:00:00"
          ],
          [
           0,
           66,
           13.12,
           "2012-11-16 00:00:00"
          ],
          [
           1,
           65,
           12.3,
           "2012-11-16 01:00:00"
          ],
          [
           2,
           70,
           12.3,
           "2012-11-16 02:00:00"
          ],
          [
           3,
           65,
           12.3,
           "2012-11-16 03:00:00"
          ],
          [
           4,
           65,
           12.3,
           "2012-11-16 04:00:00"
          ],
          [
           5,
           65,
           12.3,
           "2012-11-16 05:00:00"
          ],
          [
           6,
           61,
           12.3,
           "2012-11-16 06:00:00"
          ],
          [
           7,
           61,
           12.3,
           "2012-11-16 07:00:00"
          ],
          [
           8,
           57,
           13.12,
           "2012-11-16 08:00:00"
          ],
          [
           9,
           53,
           13.94,
           "2012-11-16 09:00:00"
          ],
          [
           10,
           53,
           13.94,
           "2012-11-16 10:00:00"
          ],
          [
           11,
           43,
           15.58,
           "2012-11-16 11:00:00"
          ],
          [
           12,
           43,
           16.4,
           "2012-11-16 12:00:00"
          ],
          [
           13,
           38,
           17.22,
           "2012-11-16 13:00:00"
          ],
          [
           14,
           35,
           17.22,
           "2012-11-16 14:00:00"
          ],
          [
           15,
           38,
           17.22,
           "2012-11-16 15:00:00"
          ],
          [
           16,
           35,
           17.22,
           "2012-11-16 16:00:00"
          ],
          [
           17,
           46,
           14.76,
           "2012-11-16 17:00:00"
          ],
          [
           18,
           53,
           13.94,
           "2012-11-16 18:00:00"
          ],
          [
           19,
           46,
           14.76,
           "2012-11-16 19:00:00"
          ],
          [
           20,
           46,
           14.76,
           "2012-11-16 20:00:00"
          ],
          [
           21,
           49,
           13.94,
           "2012-11-16 21:00:00"
          ],
          [
           22,
           53,
           13.12,
           "2012-11-16 22:00:00"
          ],
          [
           23,
           53,
           13.12,
           "2012-11-16 23:00:00"
          ],
          [
           0,
           52,
           12.3,
           "2012-11-17 00:00:00"
          ],
          [
           1,
           60,
           10.66,
           "2012-11-17 01:00:00"
          ],
          [
           2,
           65,
           10.66,
           "2012-11-17 02:00:00"
          ],
          [
           3,
           65,
           10.66,
           "2012-11-17 03:00:00"
          ],
          [
           4,
           70,
           9.84,
           "2012-11-17 04:00:00"
          ],
          [
           5,
           70,
           9.84,
           "2012-11-17 05:00:00"
          ],
          [
           6,
           70,
           9.84,
           "2012-11-17 06:00:00"
          ],
          [
           7,
           70,
           9.84,
           "2012-11-17 07:00:00"
          ],
          [
           8,
           65,
           10.66,
           "2012-11-17 08:00:00"
          ],
          [
           9,
           49,
           13.94,
           "2012-11-17 09:00:00"
          ],
          [
           10,
           46,
           14.76,
           "2012-11-17 10:00:00"
          ],
          [
           11,
           43,
           15.58,
           "2012-11-17 11:00:00"
          ],
          [
           12,
           40,
           16.4,
           "2012-11-17 12:00:00"
          ],
          [
           13,
           38,
           17.22,
           "2012-11-17 13:00:00"
          ],
          [
           14,
           38,
           17.22,
           "2012-11-17 14:00:00"
          ],
          [
           15,
           35,
           17.22,
           "2012-11-17 15:00:00"
          ],
          [
           16,
           40,
           16.4,
           "2012-11-17 16:00:00"
          ],
          [
           17,
           40,
           15.58,
           "2012-11-17 17:00:00"
          ],
          [
           18,
           50,
           14.76,
           "2012-11-17 18:00:00"
          ],
          [
           19,
           53,
           13.94,
           "2012-11-17 19:00:00"
          ],
          [
           20,
           66,
           13.94,
           "2012-11-17 20:00:00"
          ],
          [
           21,
           57,
           13.12,
           "2012-11-17 21:00:00"
          ],
          [
           22,
           57,
           13.12,
           "2012-11-17 22:00:00"
          ],
          [
           23,
           70,
           12.3,
           "2012-11-17 23:00:00"
          ],
          [
           0,
           70,
           12.3,
           "2012-11-18 00:00:00"
          ],
          [
           1,
           70,
           12.3,
           "2012-11-18 01:00:00"
          ],
          [
           2,
           81,
           11.48,
           "2012-11-18 02:00:00"
          ],
          [
           3,
           81,
           12.3,
           "2012-11-18 03:00:00"
          ],
          [
           4,
           81,
           12.3,
           "2012-11-18 04:00:00"
          ],
          [
           5,
           81,
           11.48,
           "2012-11-18 05:00:00"
          ],
          [
           6,
           81,
           11.48,
           "2012-11-18 06:00:00"
          ],
          [
           7,
           81,
           11.48,
           "2012-11-18 07:00:00"
          ],
          [
           8,
           75,
           12.3,
           "2012-11-18 08:00:00"
          ],
          [
           9,
           70,
           13.12,
           "2012-11-18 09:00:00"
          ],
          [
           10,
           66,
           13.94,
           "2012-11-18 10:00:00"
          ],
          [
           11,
           62,
           15.58,
           "2012-11-18 11:00:00"
          ],
          [
           12,
           62,
           16.4,
           "2012-11-18 12:00:00"
          ],
          [
           13,
           62,
           16.4,
           "2012-11-18 13:00:00"
          ],
          [
           14,
           62,
           16.4,
           "2012-11-18 14:00:00"
          ],
          [
           15,
           54,
           17.22,
           "2012-11-18 15:00:00"
          ],
          [
           16,
           62,
           16.4,
           "2012-11-18 16:00:00"
          ],
          [
           17,
           66,
           15.58,
           "2012-11-18 17:00:00"
          ],
          [
           18,
           66,
           14.76,
           "2012-11-18 18:00:00"
          ],
          [
           19,
           66,
           14.76,
           "2012-11-18 19:00:00"
          ],
          [
           20,
           66,
           14.76,
           "2012-11-18 20:00:00"
          ],
          [
           21,
           66,
           14.76,
           "2012-11-18 21:00:00"
          ],
          [
           22,
           66,
           14.76,
           "2012-11-18 22:00:00"
          ],
          [
           23,
           66,
           14.76,
           "2012-11-18 23:00:00"
          ],
          [
           0,
           66,
           14.76,
           "2012-11-19 00:00:00"
          ],
          [
           1,
           66,
           14.76,
           "2012-11-19 01:00:00"
          ],
          [
           2,
           66,
           14.76,
           "2012-11-19 02:00:00"
          ],
          [
           3,
           66,
           14.76,
           "2012-11-19 03:00:00"
          ],
          [
           4,
           66,
           14.76,
           "2012-11-19 04:00:00"
          ],
          [
           5,
           66,
           14.76,
           "2012-11-19 05:00:00"
          ],
          [
           6,
           66,
           14.76,
           "2012-11-19 06:00:00"
          ],
          [
           7,
           66,
           14.76,
           "2012-11-19 07:00:00"
          ],
          [
           8,
           66,
           14.76,
           "2012-11-19 08:00:00"
          ],
          [
           9,
           66,
           14.76,
           "2012-11-19 09:00:00"
          ],
          [
           10,
           66,
           14.76,
           "2012-11-19 10:00:00"
          ],
          [
           11,
           66,
           15.58,
           "2012-11-19 11:00:00"
          ],
          [
           12,
           62,
           16.4,
           "2012-11-19 12:00:00"
          ],
          [
           13,
           54,
           18.04,
           "2012-11-19 13:00:00"
          ],
          [
           14,
           54,
           18.04,
           "2012-11-19 14:00:00"
          ],
          [
           15,
           54,
           18.04,
           "2012-11-19 15:00:00"
          ],
          [
           16,
           58,
           17.22,
           "2012-11-19 16:00:00"
          ],
          [
           17,
           58,
           17.22,
           "2012-11-19 17:00:00"
          ],
          [
           18,
           58,
           16.4,
           "2012-11-19 18:00:00"
          ],
          [
           19,
           58,
           16.4,
           "2012-11-19 19:00:00"
          ],
          [
           20,
           62,
           15.58,
           "2012-11-19 20:00:00"
          ],
          [
           21,
           54,
           15.58,
           "2012-11-19 21:00:00"
          ],
          [
           22,
           66,
           13.94,
           "2012-11-19 22:00:00"
          ],
          [
           23,
           66,
           13.94,
           "2012-11-19 23:00:00"
          ],
          [
           0,
           81,
           10.66,
           "2012-12-01 00:00:00"
          ],
          [
           1,
           81,
           10.66,
           "2012-12-01 01:00:00"
          ],
          [
           2,
           81,
           10.66,
           "2012-12-01 02:00:00"
          ],
          [
           3,
           81,
           10.66,
           "2012-12-01 03:00:00"
          ],
          [
           4,
           81,
           10.66,
           "2012-12-01 04:00:00"
          ],
          [
           5,
           87,
           9.84,
           "2012-12-01 05:00:00"
          ],
          [
           6,
           87,
           9.84,
           "2012-12-01 06:00:00"
          ],
          [
           7,
           87,
           9.84,
           "2012-12-01 07:00:00"
          ],
          [
           8,
           87,
           9.84,
           "2012-12-01 08:00:00"
          ],
          [
           9,
           93,
           10.66,
           "2012-12-01 09:00:00"
          ],
          [
           10,
           89,
           11.48,
           "2012-12-01 10:00:00"
          ],
          [
           11,
           76,
           13.12,
           "2012-12-01 11:00:00"
          ],
          [
           12,
           81,
           13.12,
           "2012-12-01 12:00:00"
          ],
          [
           13,
           76,
           13.94,
           "2012-12-01 13:00:00"
          ],
          [
           14,
           71,
           14.76,
           "2012-12-01 14:00:00"
          ],
          [
           15,
           62,
           16.4,
           "2012-12-01 15:00:00"
          ],
          [
           16,
           66,
           15.58,
           "2012-12-01 16:00:00"
          ],
          [
           17,
           76,
           13.94,
           "2012-12-01 17:00:00"
          ],
          [
           18,
           76,
           13.94,
           "2012-12-01 18:00:00"
          ],
          [
           19,
           81,
           13.12,
           "2012-12-01 19:00:00"
          ],
          [
           20,
           81,
           13.12,
           "2012-12-01 20:00:00"
          ],
          [
           21,
           87,
           12.3,
           "2012-12-01 21:00:00"
          ],
          [
           22,
           87,
           12.3,
           "2012-12-01 22:00:00"
          ],
          [
           23,
           81,
           13.12,
           "2012-12-01 23:00:00"
          ],
          [
           0,
           87,
           12.3,
           "2012-12-02 00:00:00"
          ],
          [
           1,
           87,
           12.3,
           "2012-12-02 01:00:00"
          ],
          [
           2,
           87,
           12.3,
           "2012-12-02 02:00:00"
          ],
          [
           3,
           93,
           10.66,
           "2012-12-02 03:00:00"
          ],
          [
           4,
           93,
           10.66,
           "2012-12-02 04:00:00"
          ],
          [
           5,
           93,
           10.66,
           "2012-12-02 05:00:00"
          ],
          [
           6,
           93,
           9.84,
           "2012-12-02 06:00:00"
          ],
          [
           7,
           93,
           9.84,
           "2012-12-02 07:00:00"
          ],
          [
           8,
           93,
           10.66,
           "2012-12-02 08:00:00"
          ],
          [
           9,
           93,
           11.48,
           "2012-12-02 09:00:00"
          ],
          [
           10,
           87,
           12.3,
           "2012-12-02 10:00:00"
          ],
          [
           11,
           81,
           13.12,
           "2012-12-02 11:00:00"
          ],
          [
           12,
           81,
           13.94,
           "2012-12-02 12:00:00"
          ],
          [
           13,
           71,
           16.4,
           "2012-12-02 13:00:00"
          ],
          [
           14,
           62,
           18.04,
           "2012-12-02 14:00:00"
          ],
          [
           15,
           67,
           18.04,
           "2012-12-02 15:00:00"
          ],
          [
           16,
           67,
           18.04,
           "2012-12-02 16:00:00"
          ],
          [
           17,
           76,
           16.4,
           "2012-12-02 17:00:00"
          ],
          [
           18,
           72,
           18.04,
           "2012-12-02 18:00:00"
          ],
          [
           19,
           82,
           16.4,
           "2012-12-02 19:00:00"
          ],
          [
           20,
           82,
           17.22,
           "2012-12-02 20:00:00"
          ],
          [
           21,
           77,
           18.04,
           "2012-12-02 21:00:00"
          ],
          [
           22,
           77,
           18.04,
           "2012-12-02 22:00:00"
          ],
          [
           23,
           82,
           17.22,
           "2012-12-02 23:00:00"
          ],
          [
           0,
           82,
           17.22,
           "2012-12-03 00:00:00"
          ],
          [
           1,
           82,
           16.4,
           "2012-12-03 01:00:00"
          ],
          [
           2,
           77,
           17.22,
           "2012-12-03 02:00:00"
          ],
          [
           3,
           87,
           15.58,
           "2012-12-03 03:00:00"
          ],
          [
           4,
           93,
           14.76,
           "2012-12-03 04:00:00"
          ],
          [
           5,
           93,
           13.94,
           "2012-12-03 05:00:00"
          ],
          [
           6,
           93,
           14.76,
           "2012-12-03 06:00:00"
          ],
          [
           7,
           93,
           13.94,
           "2012-12-03 07:00:00"
          ],
          [
           8,
           93,
           14.76,
           "2012-12-03 08:00:00"
          ],
          [
           9,
           87,
           16.4,
           "2012-12-03 09:00:00"
          ],
          [
           10,
           77,
           18.04,
           "2012-12-03 10:00:00"
          ],
          [
           11,
           77,
           19.68,
           "2012-12-03 11:00:00"
          ],
          [
           12,
           68,
           21.32,
           "2012-12-03 12:00:00"
          ],
          [
           13,
           56,
           23.78,
           "2012-12-03 13:00:00"
          ],
          [
           14,
           53,
           24.6,
           "2012-12-03 14:00:00"
          ],
          [
           15,
           56,
           24.6,
           "2012-12-03 15:00:00"
          ],
          [
           16,
           53,
           24.6,
           "2012-12-03 16:00:00"
          ],
          [
           17,
           63,
           21.32,
           "2012-12-03 17:00:00"
          ],
          [
           18,
           68,
           20.5,
           "2012-12-03 18:00:00"
          ],
          [
           19,
           68,
           20.5,
           "2012-12-03 19:00:00"
          ],
          [
           20,
           77,
           18.86,
           "2012-12-03 20:00:00"
          ],
          [
           21,
           82,
           18.04,
           "2012-12-03 21:00:00"
          ],
          [
           22,
           82,
           17.22,
           "2012-12-03 22:00:00"
          ],
          [
           23,
           82,
           17.22,
           "2012-12-03 23:00:00"
          ],
          [
           0,
           88,
           17.22,
           "2012-12-04 00:00:00"
          ],
          [
           1,
           82,
           17.22,
           "2012-12-04 01:00:00"
          ],
          [
           2,
           88,
           17.22,
           "2012-12-04 02:00:00"
          ],
          [
           3,
           87,
           16.4,
           "2012-12-04 03:00:00"
          ],
          [
           4,
           87,
           16.4,
           "2012-12-04 04:00:00"
          ],
          [
           5,
           88,
           18.04,
           "2012-12-04 05:00:00"
          ],
          [
           6,
           93,
           14.76,
           "2012-12-04 06:00:00"
          ],
          [
           7,
           88,
           17.22,
           "2012-12-04 07:00:00"
          ],
          [
           8,
           88,
           18.04,
           "2012-12-04 08:00:00"
          ],
          [
           9,
           82,
           18.86,
           "2012-12-04 09:00:00"
          ],
          [
           10,
           82,
           18.86,
           "2012-12-04 10:00:00"
          ],
          [
           11,
           77,
           19.68,
           "2012-12-04 11:00:00"
          ],
          [
           12,
           68,
           21.32,
           "2012-12-04 12:00:00"
          ],
          [
           13,
           64,
           22.14,
           "2012-12-04 13:00:00"
          ],
          [
           14,
           56,
           23.78,
           "2012-12-04 14:00:00"
          ],
          [
           15,
           49,
           24.6,
           "2012-12-04 15:00:00"
          ],
          [
           16,
           49,
           23.78,
           "2012-12-04 16:00:00"
          ],
          [
           17,
           59,
           21.32,
           "2012-12-04 17:00:00"
          ],
          [
           18,
           63,
           20.5,
           "2012-12-04 18:00:00"
          ],
          [
           19,
           67,
           19.68,
           "2012-12-04 19:00:00"
          ],
          [
           20,
           63,
           20.5,
           "2012-12-04 20:00:00"
          ],
          [
           21,
           63,
           20.5,
           "2012-12-04 21:00:00"
          ],
          [
           22,
           63,
           20.5,
           "2012-12-04 22:00:00"
          ],
          [
           23,
           67,
           19.68,
           "2012-12-04 23:00:00"
          ],
          [
           0,
           59,
           20.5,
           "2012-12-05 00:00:00"
          ],
          [
           1,
           55,
           21.32,
           "2012-12-05 01:00:00"
          ],
          [
           2,
           67,
           18.86,
           "2012-12-05 02:00:00"
          ],
          [
           3,
           67,
           19.68,
           "2012-12-05 03:00:00"
          ],
          [
           4,
           63,
           20.5,
           "2012-12-05 04:00:00"
          ],
          [
           5,
           59,
           20.5,
           "2012-12-05 05:00:00"
          ],
          [
           6,
           55,
           19.68,
           "2012-12-05 06:00:00"
          ],
          [
           7,
           59,
           18.86,
           "2012-12-05 07:00:00"
          ],
          [
           8,
           58,
           18.04,
           "2012-12-05 08:00:00"
          ],
          [
           9,
           51,
           18.04,
           "2012-12-05 09:00:00"
          ],
          [
           10,
           47,
           18.04,
           "2012-12-05 10:00:00"
          ],
          [
           11,
           44,
           18.04,
           "2012-12-05 11:00:00"
          ],
          [
           12,
           41,
           18.04,
           "2012-12-05 12:00:00"
          ],
          [
           13,
           41,
           18.86,
           "2012-12-05 13:00:00"
          ],
          [
           14,
           33,
           19.68,
           "2012-12-05 14:00:00"
          ],
          [
           15,
           33,
           19.68,
           "2012-12-05 15:00:00"
          ],
          [
           16,
           33,
           18.86,
           "2012-12-05 16:00:00"
          ],
          [
           17,
           35,
           18.04,
           "2012-12-05 17:00:00"
          ],
          [
           18,
           35,
           17.22,
           "2012-12-05 18:00:00"
          ],
          [
           19,
           43,
           15.58,
           "2012-12-05 19:00:00"
          ],
          [
           20,
           46,
           13.94,
           "2012-12-05 20:00:00"
          ],
          [
           21,
           46,
           13.94,
           "2012-12-05 21:00:00"
          ],
          [
           22,
           45,
           13.12,
           "2012-12-05 22:00:00"
          ],
          [
           23,
           49,
           12.3,
           "2012-12-05 23:00:00"
          ],
          [
           0,
           48,
           10.66,
           "2012-12-06 00:00:00"
          ],
          [
           1,
           48,
           10.66,
           "2012-12-06 01:00:00"
          ],
          [
           2,
           52,
           9.84,
           "2012-12-06 02:00:00"
          ],
          [
           3,
           55,
           9.02,
           "2012-12-06 03:00:00"
          ],
          [
           4,
           55,
           9.02,
           "2012-12-06 04:00:00"
          ],
          [
           5,
           55,
           9.02,
           "2012-12-06 05:00:00"
          ],
          [
           6,
           55,
           9.02,
           "2012-12-06 06:00:00"
          ],
          [
           7,
           51,
           9.02,
           "2012-12-06 07:00:00"
          ],
          [
           8,
           51,
           9.02,
           "2012-12-06 08:00:00"
          ],
          [
           9,
           48,
           9.84,
           "2012-12-06 09:00:00"
          ],
          [
           10,
           52,
           9.84,
           "2012-12-06 10:00:00"
          ],
          [
           11,
           48,
           10.66,
           "2012-12-06 11:00:00"
          ],
          [
           12,
           41,
           11.48,
           "2012-12-06 12:00:00"
          ],
          [
           13,
           39,
           12.3,
           "2012-12-06 13:00:00"
          ],
          [
           14,
           42,
           12.3,
           "2012-12-06 14:00:00"
          ],
          [
           15,
           39,
           13.12,
           "2012-12-06 15:00:00"
          ],
          [
           16,
           42,
           13.12,
           "2012-12-06 16:00:00"
          ],
          [
           17,
           45,
           12.3,
           "2012-12-06 17:00:00"
          ],
          [
           18,
           45,
           11.48,
           "2012-12-06 18:00:00"
          ],
          [
           19,
           60,
           10.66,
           "2012-12-06 19:00:00"
          ],
          [
           20,
           60,
           9.84,
           "2012-12-06 20:00:00"
          ],
          [
           21,
           60,
           9.84,
           "2012-12-06 21:00:00"
          ],
          [
           22,
           65,
           9.84,
           "2012-12-06 22:00:00"
          ],
          [
           23,
           65,
           9.84,
           "2012-12-06 23:00:00"
          ],
          [
           0,
           70,
           9.84,
           "2012-12-07 00:00:00"
          ],
          [
           1,
           70,
           9.84,
           "2012-12-07 01:00:00"
          ],
          [
           2,
           70,
           10.66,
           "2012-12-07 02:00:00"
          ],
          [
           3,
           81,
           10.66,
           "2012-12-07 03:00:00"
          ],
          [
           4,
           75,
           10.66,
           "2012-12-07 04:00:00"
          ],
          [
           5,
           81,
           10.66,
           "2012-12-07 05:00:00"
          ],
          [
           6,
           75,
           11.48,
           "2012-12-07 06:00:00"
          ],
          [
           7,
           81,
           11.48,
           "2012-12-07 07:00:00"
          ],
          [
           8,
           75,
           12.3,
           "2012-12-07 08:00:00"
          ],
          [
           9,
           81,
           12.3,
           "2012-12-07 09:00:00"
          ],
          [
           10,
           76,
           13.12,
           "2012-12-07 10:00:00"
          ],
          [
           11,
           76,
           13.12,
           "2012-12-07 11:00:00"
          ],
          [
           12,
           71,
           13.94,
           "2012-12-07 12:00:00"
          ],
          [
           13,
           66,
           14.76,
           "2012-12-07 13:00:00"
          ],
          [
           14,
           71,
           14.76,
           "2012-12-07 14:00:00"
          ],
          [
           15,
           71,
           14.76,
           "2012-12-07 15:00:00"
          ],
          [
           16,
           76,
           14.76,
           "2012-12-07 16:00:00"
          ],
          [
           17,
           66,
           15.58,
           "2012-12-07 17:00:00"
          ],
          [
           18,
           71,
           15.58,
           "2012-12-07 18:00:00"
          ],
          [
           19,
           76,
           15.58,
           "2012-12-07 19:00:00"
          ],
          [
           20,
           76,
           15.58,
           "2012-12-07 20:00:00"
          ],
          [
           21,
           93,
           14.76,
           "2012-12-07 21:00:00"
          ],
          [
           22,
           93,
           14.76,
           "2012-12-07 22:00:00"
          ],
          [
           23,
           93,
           14.76,
           "2012-12-07 23:00:00"
          ],
          [
           0,
           93,
           14.76,
           "2012-12-08 00:00:00"
          ],
          [
           1,
           93,
           14.76,
           "2012-12-08 01:00:00"
          ],
          [
           2,
           93,
           14.76,
           "2012-12-08 02:00:00"
          ],
          [
           3,
           93,
           14.76,
           "2012-12-08 03:00:00"
          ],
          [
           4,
           93,
           14.76,
           "2012-12-08 04:00:00"
          ],
          [
           5,
           93,
           14.76,
           "2012-12-08 05:00:00"
          ],
          [
           6,
           93,
           14.76,
           "2012-12-08 06:00:00"
          ],
          [
           7,
           100,
           14.76,
           "2012-12-08 07:00:00"
          ],
          [
           8,
           94,
           15.58,
           "2012-12-08 08:00:00"
          ],
          [
           9,
           94,
           15.58,
           "2012-12-08 09:00:00"
          ],
          [
           10,
           87,
           16.4,
           "2012-12-08 10:00:00"
          ],
          [
           11,
           87,
           16.4,
           "2012-12-08 11:00:00"
          ],
          [
           12,
           87,
           16.4,
           "2012-12-08 12:00:00"
          ],
          [
           13,
           87,
           16.4,
           "2012-12-08 13:00:00"
          ],
          [
           14,
           87,
           16.4,
           "2012-12-08 14:00:00"
          ],
          [
           15,
           82,
           17.22,
           "2012-12-08 15:00:00"
          ],
          [
           16,
           82,
           17.22,
           "2012-12-08 16:00:00"
          ],
          [
           17,
           87,
           15.58,
           "2012-12-08 17:00:00"
          ],
          [
           18,
           87,
           16.4,
           "2012-12-08 18:00:00"
          ],
          [
           19,
           87,
           16.4,
           "2012-12-08 19:00:00"
          ],
          [
           20,
           100,
           14.76,
           "2012-12-08 20:00:00"
          ],
          [
           21,
           100,
           14.76,
           "2012-12-08 21:00:00"
          ],
          [
           22,
           94,
           15.58,
           "2012-12-08 22:00:00"
          ],
          [
           23,
           94,
           16.4,
           "2012-12-08 23:00:00"
          ],
          [
           0,
           87,
           16.4,
           "2012-12-09 00:00:00"
          ],
          [
           1,
           87,
           16.4,
           "2012-12-09 01:00:00"
          ],
          [
           2,
           87,
           16.4,
           "2012-12-09 02:00:00"
          ],
          [
           3,
           87,
           16.4,
           "2012-12-09 03:00:00"
          ],
          [
           4,
           94,
           16.4,
           "2012-12-09 04:00:00"
          ],
          [
           5,
           87,
           16.4,
           "2012-12-09 05:00:00"
          ],
          [
           6,
           94,
           16.4,
           "2012-12-09 06:00:00"
          ],
          [
           7,
           87,
           16.4,
           "2012-12-09 07:00:00"
          ],
          [
           8,
           87,
           16.4,
           "2012-12-09 08:00:00"
          ],
          [
           9,
           87,
           16.4,
           "2012-12-09 09:00:00"
          ],
          [
           10,
           87,
           16.4,
           "2012-12-09 10:00:00"
          ],
          [
           11,
           87,
           16.4,
           "2012-12-09 11:00:00"
          ],
          [
           12,
           82,
           16.4,
           "2012-12-09 12:00:00"
          ],
          [
           13,
           87,
           15.58,
           "2012-12-09 13:00:00"
          ],
          [
           14,
           87,
           15.58,
           "2012-12-09 14:00:00"
          ],
          [
           15,
           93,
           14.76,
           "2012-12-09 15:00:00"
          ],
          [
           16,
           93,
           14.76,
           "2012-12-09 16:00:00"
          ],
          [
           17,
           93,
           14.76,
           "2012-12-09 17:00:00"
          ],
          [
           18,
           93,
           14.76,
           "2012-12-09 18:00:00"
          ],
          [
           19,
           94,
           15.58,
           "2012-12-09 19:00:00"
          ],
          [
           20,
           100,
           14.76,
           "2012-12-09 20:00:00"
          ],
          [
           21,
           100,
           14.76,
           "2012-12-09 21:00:00"
          ],
          [
           22,
           93,
           14.76,
           "2012-12-09 22:00:00"
          ],
          [
           23,
           100,
           14.76,
           "2012-12-09 23:00:00"
          ],
          [
           0,
           100,
           14.76,
           "2012-12-10 00:00:00"
          ],
          [
           1,
           100,
           14.76,
           "2012-12-10 01:00:00"
          ],
          [
           2,
           94,
           15.58,
           "2012-12-10 02:00:00"
          ],
          [
           3,
           94,
           15.58,
           "2012-12-10 03:00:00"
          ],
          [
           4,
           94,
           15.58,
           "2012-12-10 04:00:00"
          ],
          [
           5,
           94,
           15.58,
           "2012-12-10 05:00:00"
          ],
          [
           6,
           94,
           15.58,
           "2012-12-10 06:00:00"
          ],
          [
           7,
           94,
           15.58,
           "2012-12-10 07:00:00"
          ],
          [
           8,
           100,
           17.22,
           "2012-12-10 08:00:00"
          ],
          [
           9,
           100,
           17.22,
           "2012-12-10 09:00:00"
          ],
          [
           10,
           94,
           18.04,
           "2012-12-10 10:00:00"
          ],
          [
           11,
           94,
           18.86,
           "2012-12-10 11:00:00"
          ],
          [
           12,
           100,
           18.04,
           "2012-12-10 12:00:00"
          ],
          [
           13,
           100,
           18.04,
           "2012-12-10 13:00:00"
          ],
          [
           14,
           94,
           20.5,
           "2012-12-10 14:00:00"
          ],
          [
           15,
           87,
           20.5,
           "2012-12-10 15:00:00"
          ],
          [
           16,
           88,
           20.5,
           "2012-12-10 16:00:00"
          ],
          [
           17,
           82,
           19.68,
           "2012-12-10 17:00:00"
          ],
          [
           18,
           88,
           18.86,
           "2012-12-10 18:00:00"
          ],
          [
           19,
           77,
           21.32,
           "2012-12-10 19:00:00"
          ],
          [
           20,
           88,
           18.86,
           "2012-12-10 20:00:00"
          ],
          [
           21,
           94,
           18.86,
           "2012-12-10 21:00:00"
          ],
          [
           22,
           82,
           20.5,
           "2012-12-10 22:00:00"
          ],
          [
           23,
           88,
           18.86,
           "2012-12-10 23:00:00"
          ],
          [
           0,
           77,
           18.86,
           "2012-12-11 00:00:00"
          ],
          [
           1,
           71,
           17.22,
           "2012-12-11 01:00:00"
          ],
          [
           2,
           66,
           16.4,
           "2012-12-11 02:00:00"
          ],
          [
           3,
           76,
           14.76,
           "2012-12-11 03:00:00"
          ],
          [
           4,
           76,
           13.94,
           "2012-12-11 04:00:00"
          ],
          [
           5,
           71,
           13.94,
           "2012-12-11 05:00:00"
          ],
          [
           6,
           71,
           13.94,
           "2012-12-11 06:00:00"
          ],
          [
           7,
           66,
           13.94,
           "2012-12-11 07:00:00"
          ],
          [
           8,
           61,
           13.94,
           "2012-12-11 08:00:00"
          ],
          [
           9,
           61,
           13.94,
           "2012-12-11 09:00:00"
          ],
          [
           10,
           57,
           14.76,
           "2012-12-11 10:00:00"
          ],
          [
           11,
           53,
           14.76,
           "2012-12-11 11:00:00"
          ],
          [
           12,
           53,
           14.76,
           "2012-12-11 12:00:00"
          ],
          [
           13,
           50,
           15.58,
           "2012-12-11 13:00:00"
          ],
          [
           14,
           50,
           15.58,
           "2012-12-11 14:00:00"
          ],
          [
           15,
           50,
           15.58,
           "2012-12-11 15:00:00"
          ],
          [
           16,
           50,
           15.58,
           "2012-12-11 16:00:00"
          ],
          [
           17,
           53,
           13.12,
           "2012-12-11 17:00:00"
          ],
          [
           18,
           53,
           13.12,
           "2012-12-11 18:00:00"
          ],
          [
           19,
           53,
           13.12,
           "2012-12-11 19:00:00"
          ],
          [
           20,
           53,
           13.12,
           "2012-12-11 20:00:00"
          ],
          [
           21,
           53,
           13.12,
           "2012-12-11 21:00:00"
          ],
          [
           22,
           56,
           12.3,
           "2012-12-11 22:00:00"
          ],
          [
           23,
           52,
           12.3,
           "2012-12-11 23:00:00"
          ],
          [
           0,
           52,
           12.3,
           "2012-12-12 00:00:00"
          ],
          [
           1,
           61,
           11.48,
           "2012-12-12 01:00:00"
          ],
          [
           2,
           56,
           11.48,
           "2012-12-12 02:00:00"
          ],
          [
           3,
           60,
           10.66,
           "2012-12-12 03:00:00"
          ],
          [
           4,
           60,
           10.66,
           "2012-12-12 04:00:00"
          ],
          [
           5,
           60,
           10.66,
           "2012-12-12 05:00:00"
          ],
          [
           6,
           60,
           10.66,
           "2012-12-12 06:00:00"
          ],
          [
           7,
           60,
           10.66,
           "2012-12-12 07:00:00"
          ],
          [
           8,
           65,
           10.66,
           "2012-12-12 08:00:00"
          ],
          [
           9,
           61,
           11.48,
           "2012-12-12 09:00:00"
          ],
          [
           10,
           56,
           12.3,
           "2012-12-12 10:00:00"
          ],
          [
           11,
           49,
           13.12,
           "2012-12-12 11:00:00"
          ],
          [
           12,
           42,
           13.94,
           "2012-12-12 12:00:00"
          ],
          [
           13,
           42,
           13.94,
           "2012-12-12 13:00:00"
          ],
          [
           14,
           46,
           13.94,
           "2012-12-12 14:00:00"
          ],
          [
           15,
           46,
           13.94,
           "2012-12-12 15:00:00"
          ],
          [
           16,
           46,
           13.94,
           "2012-12-12 16:00:00"
          ],
          [
           17,
           53,
           13.12,
           "2012-12-12 17:00:00"
          ],
          [
           18,
           49,
           13.12,
           "2012-12-12 18:00:00"
          ],
          [
           19,
           56,
           12.3,
           "2012-12-12 19:00:00"
          ],
          [
           20,
           52,
           12.3,
           "2012-12-12 20:00:00"
          ],
          [
           21,
           52,
           12.3,
           "2012-12-12 21:00:00"
          ],
          [
           22,
           52,
           12.3,
           "2012-12-12 22:00:00"
          ],
          [
           23,
           56,
           11.48,
           "2012-12-12 23:00:00"
          ],
          [
           0,
           52,
           11.48,
           "2012-12-13 00:00:00"
          ],
          [
           1,
           52,
           11.48,
           "2012-12-13 01:00:00"
          ],
          [
           2,
           56,
           10.66,
           "2012-12-13 02:00:00"
          ],
          [
           3,
           56,
           10.66,
           "2012-12-13 03:00:00"
          ],
          [
           4,
           56,
           10.66,
           "2012-12-13 04:00:00"
          ],
          [
           5,
           56,
           10.66,
           "2012-12-13 05:00:00"
          ],
          [
           6,
           56,
           10.66,
           "2012-12-13 06:00:00"
          ],
          [
           7,
           60,
           9.84,
           "2012-12-13 07:00:00"
          ],
          [
           8,
           60,
           9.84,
           "2012-12-13 08:00:00"
          ],
          [
           9,
           52,
           11.48,
           "2012-12-13 09:00:00"
          ],
          [
           10,
           45,
           13.12,
           "2012-12-13 10:00:00"
          ],
          [
           11,
           42,
           13.94,
           "2012-12-13 11:00:00"
          ],
          [
           12,
           40,
           14.76,
           "2012-12-13 12:00:00"
          ],
          [
           13,
           34,
           14.76,
           "2012-12-13 13:00:00"
          ],
          [
           14,
           34,
           14.76,
           "2012-12-13 14:00:00"
          ],
          [
           15,
           34,
           14.76,
           "2012-12-13 15:00:00"
          ],
          [
           16,
           39,
           13.94,
           "2012-12-13 16:00:00"
          ],
          [
           17,
           42,
           13.12,
           "2012-12-13 17:00:00"
          ],
          [
           18,
           42,
           13.12,
           "2012-12-13 18:00:00"
          ],
          [
           19,
           45,
           12.3,
           "2012-12-13 19:00:00"
          ],
          [
           20,
           45,
           12.3,
           "2012-12-13 20:00:00"
          ],
          [
           21,
           48,
           11.48,
           "2012-12-13 21:00:00"
          ],
          [
           22,
           60,
           10.66,
           "2012-12-13 22:00:00"
          ],
          [
           23,
           60,
           10.66,
           "2012-12-13 23:00:00"
          ],
          [
           0,
           64,
           9.02,
           "2012-12-14 00:00:00"
          ],
          [
           1,
           69,
           9.02,
           "2012-12-14 01:00:00"
          ],
          [
           2,
           69,
           9.02,
           "2012-12-14 02:00:00"
          ],
          [
           3,
           69,
           8.2,
           "2012-12-14 03:00:00"
          ],
          [
           4,
           75,
           8.2,
           "2012-12-14 04:00:00"
          ],
          [
           5,
           69,
           8.2,
           "2012-12-14 05:00:00"
          ],
          [
           6,
           80,
           6.56,
           "2012-12-14 06:00:00"
          ],
          [
           7,
           72,
           8.2,
           "2012-12-14 07:00:00"
          ],
          [
           8,
           69,
           8.2,
           "2012-12-14 08:00:00"
          ],
          [
           9,
           75,
           9.84,
           "2012-12-14 09:00:00"
          ],
          [
           10,
           81,
           10.66,
           "2012-12-14 10:00:00"
          ],
          [
           11,
           65,
           13.12,
           "2012-12-14 11:00:00"
          ],
          [
           12,
           50,
           14.76,
           "2012-12-14 12:00:00"
          ],
          [
           13,
           50,
           14.76,
           "2012-12-14 13:00:00"
          ],
          [
           14,
           43,
           16.4,
           "2012-12-14 14:00:00"
          ],
          [
           15,
           47,
           16.4,
           "2012-12-14 15:00:00"
          ],
          [
           16,
           54,
           15.58,
           "2012-12-14 16:00:00"
          ],
          [
           17,
           57,
           13.94,
           "2012-12-14 17:00:00"
          ],
          [
           18,
           46,
           14.76,
           "2012-12-14 18:00:00"
          ],
          [
           19,
           53,
           13.94,
           "2012-12-14 19:00:00"
          ],
          [
           20,
           61,
           13.12,
           "2012-12-14 20:00:00"
          ],
          [
           21,
           75,
           12.3,
           "2012-12-14 21:00:00"
          ],
          [
           22,
           75,
           11.48,
           "2012-12-14 22:00:00"
          ],
          [
           23,
           75,
           11.48,
           "2012-12-14 23:00:00"
          ],
          [
           0,
           70,
           12.3,
           "2012-12-15 00:00:00"
          ],
          [
           1,
           81,
           10.66,
           "2012-12-15 01:00:00"
          ],
          [
           2,
           81,
           10.66,
           "2012-12-15 02:00:00"
          ],
          [
           3,
           81,
           9.84,
           "2012-12-15 03:00:00"
          ],
          [
           4,
           87,
           9.84,
           "2012-12-15 04:00:00"
          ],
          [
           5,
           75,
           10.66,
           "2012-12-15 05:00:00"
          ],
          [
           6,
           75,
           9.84,
           "2012-12-15 06:00:00"
          ],
          [
           7,
           75,
           9.84,
           "2012-12-15 07:00:00"
          ],
          [
           8,
           75,
           10.66,
           "2012-12-15 08:00:00"
          ],
          [
           9,
           75,
           10.66,
           "2012-12-15 09:00:00"
          ],
          [
           10,
           61,
           13.12,
           "2012-12-15 10:00:00"
          ],
          [
           11,
           61,
           13.94,
           "2012-12-15 11:00:00"
          ],
          [
           12,
           50,
           15.58,
           "2012-12-15 12:00:00"
          ],
          [
           13,
           54,
           15.58,
           "2012-12-15 13:00:00"
          ],
          [
           14,
           50,
           16.4,
           "2012-12-15 14:00:00"
          ],
          [
           15,
           47,
           17.22,
           "2012-12-15 15:00:00"
          ],
          [
           16,
           50,
           16.4,
           "2012-12-15 16:00:00"
          ],
          [
           17,
           50,
           16.4,
           "2012-12-15 17:00:00"
          ],
          [
           18,
           58,
           15.58,
           "2012-12-15 18:00:00"
          ],
          [
           19,
           62,
           14.76,
           "2012-12-15 19:00:00"
          ],
          [
           20,
           57,
           14.76,
           "2012-12-15 20:00:00"
          ],
          [
           21,
           62,
           14.76,
           "2012-12-15 21:00:00"
          ],
          [
           22,
           62,
           14.76,
           "2012-12-15 22:00:00"
          ],
          [
           23,
           62,
           14.76,
           "2012-12-15 23:00:00"
          ],
          [
           0,
           62,
           14.76,
           "2012-12-16 00:00:00"
          ],
          [
           1,
           76,
           13.94,
           "2012-12-16 01:00:00"
          ],
          [
           2,
           87,
           13.94,
           "2012-12-16 02:00:00"
          ],
          [
           3,
           87,
           13.94,
           "2012-12-16 03:00:00"
          ],
          [
           4,
           87,
           13.94,
           "2012-12-16 04:00:00"
          ],
          [
           5,
           87,
           13.94,
           "2012-12-16 05:00:00"
          ],
          [
           6,
           87,
           13.94,
           "2012-12-16 06:00:00"
          ],
          [
           7,
           87,
           13.94,
           "2012-12-16 07:00:00"
          ],
          [
           8,
           87,
           14.76,
           "2012-12-16 08:00:00"
          ],
          [
           9,
           87,
           14.76,
           "2012-12-16 09:00:00"
          ],
          [
           10,
           87,
           14.76,
           "2012-12-16 10:00:00"
          ],
          [
           11,
           87,
           14.76,
           "2012-12-16 11:00:00"
          ],
          [
           12,
           82,
           15.58,
           "2012-12-16 12:00:00"
          ],
          [
           13,
           76,
           15.58,
           "2012-12-16 13:00:00"
          ],
          [
           14,
           76,
           15.58,
           "2012-12-16 14:00:00"
          ],
          [
           15,
           82,
           15.58,
           "2012-12-16 15:00:00"
          ],
          [
           16,
           82,
           15.58,
           "2012-12-16 16:00:00"
          ],
          [
           17,
           82,
           15.58,
           "2012-12-16 17:00:00"
          ],
          [
           18,
           82,
           15.58,
           "2012-12-16 18:00:00"
          ],
          [
           19,
           93,
           14.76,
           "2012-12-16 19:00:00"
          ],
          [
           20,
           82,
           15.58,
           "2012-12-16 20:00:00"
          ],
          [
           21,
           93,
           14.76,
           "2012-12-16 21:00:00"
          ],
          [
           22,
           82,
           16.4,
           "2012-12-16 22:00:00"
          ],
          [
           23,
           93,
           14.76,
           "2012-12-16 23:00:00"
          ],
          [
           0,
           87,
           15.58,
           "2012-12-17 00:00:00"
          ],
          [
           1,
           87,
           15.58,
           "2012-12-17 01:00:00"
          ],
          [
           2,
           94,
           15.58,
           "2012-12-17 02:00:00"
          ],
          [
           3,
           93,
           14.76,
           "2012-12-17 03:00:00"
          ],
          [
           4,
           100,
           14.76,
           "2012-12-17 04:00:00"
          ],
          [
           5,
           87,
           15.58,
           "2012-12-17 05:00:00"
          ],
          [
           6,
           93,
           14.76,
           "2012-12-17 06:00:00"
          ],
          [
           7,
           93,
           14.76,
           "2012-12-17 07:00:00"
          ],
          [
           8,
           87,
           15.58,
           "2012-12-17 08:00:00"
          ],
          [
           9,
           87,
           16.4,
           "2012-12-17 09:00:00"
          ],
          [
           10,
           87,
           15.58,
           "2012-12-17 10:00:00"
          ],
          [
           11,
           87,
           16.4,
           "2012-12-17 11:00:00"
          ],
          [
           12,
           87,
           16.4,
           "2012-12-17 12:00:00"
          ],
          [
           13,
           87,
           16.4,
           "2012-12-17 13:00:00"
          ],
          [
           14,
           87,
           16.4,
           "2012-12-17 14:00:00"
          ],
          [
           15,
           88,
           17.22,
           "2012-12-17 15:00:00"
          ],
          [
           16,
           94,
           16.4,
           "2012-12-17 16:00:00"
          ],
          [
           17,
           94,
           16.4,
           "2012-12-17 17:00:00"
          ],
          [
           18,
           94,
           16.4,
           "2012-12-17 18:00:00"
          ],
          [
           19,
           88,
           17.22,
           "2012-12-17 19:00:00"
          ],
          [
           20,
           94,
           17.22,
           "2012-12-17 20:00:00"
          ],
          [
           21,
           94,
           17.22,
           "2012-12-17 21:00:00"
          ],
          [
           22,
           94,
           17.22,
           "2012-12-17 22:00:00"
          ],
          [
           23,
           94,
           17.22,
           "2012-12-17 23:00:00"
          ],
          [
           0,
           94,
           18.04,
           "2012-12-18 00:00:00"
          ],
          [
           1,
           94,
           18.04,
           "2012-12-18 01:00:00"
          ],
          [
           2,
           88,
           18.04,
           "2012-12-18 02:00:00"
          ],
          [
           3,
           88,
           17.22,
           "2012-12-18 03:00:00"
          ],
          [
           4,
           82,
           17.22,
           "2012-12-18 04:00:00"
          ],
          [
           5,
           87,
           15.58,
           "2012-12-18 05:00:00"
          ],
          [
           6,
           93,
           14.76,
           "2012-12-18 06:00:00"
          ],
          [
           7,
           93,
           14.76,
           "2012-12-18 07:00:00"
          ],
          [
           8,
           94,
           15.58,
           "2012-12-18 08:00:00"
          ],
          [
           9,
           87,
           16.4,
           "2012-12-18 09:00:00"
          ],
          [
           10,
           77,
           18.04,
           "2012-12-18 10:00:00"
          ],
          [
           11,
           63,
           19.68,
           "2012-12-18 11:00:00"
          ],
          [
           12,
           48,
           19.68,
           "2012-12-18 12:00:00"
          ],
          [
           13,
           42,
           20.5,
           "2012-12-18 13:00:00"
          ],
          [
           14,
           47,
           18.86,
           "2012-12-18 14:00:00"
          ],
          [
           15,
           44,
           18.86,
           "2012-12-18 15:00:00"
          ],
          [
           16,
           41,
           18.04,
           "2012-12-18 16:00:00"
          ],
          [
           17,
           47,
           16.4,
           "2012-12-18 17:00:00"
          ],
          [
           18,
           46,
           15.58,
           "2012-12-18 18:00:00"
          ],
          [
           19,
           46,
           15.58,
           "2012-12-18 19:00:00"
          ],
          [
           20,
           50,
           14.76,
           "2012-12-18 20:00:00"
          ],
          [
           21,
           50,
           14.76,
           "2012-12-18 21:00:00"
          ],
          [
           22,
           49,
           13.94,
           "2012-12-18 22:00:00"
          ],
          [
           23,
           49,
           13.94,
           "2012-12-18 23:00:00"
          ],
          [
           0,
           61,
           12.3,
           "2012-12-19 00:00:00"
          ],
          [
           1,
           65,
           12.3,
           "2012-12-19 01:00:00"
          ],
          [
           2,
           65,
           11.48,
           "2012-12-19 02:00:00"
          ],
          [
           3,
           75,
           10.66,
           "2012-12-19 03:00:00"
          ],
          [
           4,
           75,
           9.84,
           "2012-12-19 04:00:00"
          ],
          [
           5,
           75,
           10.66,
           "2012-12-19 05:00:00"
          ],
          [
           6,
           75,
           9.84,
           "2012-12-19 06:00:00"
          ],
          [
           7,
           75,
           10.66,
           "2012-12-19 07:00:00"
          ],
          [
           8,
           87,
           9.84,
           "2012-12-19 08:00:00"
          ],
          [
           9,
           75,
           11.48,
           "2012-12-19 09:00:00"
          ],
          [
           10,
           70,
           13.12,
           "2012-12-19 10:00:00"
          ],
          [
           11,
           54,
           16.4,
           "2012-12-19 11:00:00"
          ],
          [
           12,
           54,
           16.4,
           "2012-12-19 12:00:00"
          ],
          [
           13,
           50,
           17.22,
           "2012-12-19 13:00:00"
          ],
          [
           14,
           50,
           17.22,
           "2012-12-19 14:00:00"
          ],
          [
           15,
           50,
           17.22,
           "2012-12-19 15:00:00"
          ],
          [
           16,
           50,
           17.22,
           "2012-12-19 16:00:00"
          ],
          [
           17,
           50,
           16.4,
           "2012-12-19 17:00:00"
          ],
          [
           18,
           50,
           15.58,
           "2012-12-19 18:00:00"
          ],
          [
           19,
           50,
           15.58,
           "2012-12-19 19:00:00"
          ],
          [
           20,
           57,
           14.76,
           "2012-12-19 20:00:00"
          ],
          [
           21,
           61,
           13.94,
           "2012-12-19 21:00:00"
          ],
          [
           22,
           61,
           13.94,
           "2012-12-19 22:00:00"
          ],
          [
           23,
           66,
           13.12,
           "2012-12-19 23:00:00"
          ]
         ],
         "hovertemplate": "index=%{x}<br>res=%{y}<br>heure=%{customdata[0]}<br>humidity=%{customdata[1]}<br>temp=%{customdata[2]}<br>date=%{customdata[3]}<extra></extra>",
         "legendgroup": "",
         "marker": {
          "color": "#636efa",
          "symbol": "circle"
         },
         "mode": "markers",
         "name": "",
         "showlegend": false,
         "type": "scattergl",
         "x": [
          0,
          1,
          2,
          3,
          4,
          5,
          6,
          7,
          8,
          9,
          10,
          11,
          12,
          13,
          14,
          15,
          16,
          17,
          18,
          19,
          20,
          21,
          22,
          23,
          24,
          25,
          26,
          27,
          28,
          29,
          30,
          31,
          32,
          33,
          34,
          35,
          36,
          37,
          38,
          39,
          40,
          41,
          42,
          43,
          44,
          45,
          46,
          47,
          48,
          49,
          50,
          51,
          52,
          53,
          54,
          55,
          56,
          57,
          58,
          59,
          60,
          61,
          62,
          63,
          64,
          65,
          66,
          67,
          68,
          69,
          70,
          71,
          72,
          73,
          74,
          75,
          76,
          77,
          78,
          79,
          80,
          81,
          82,
          83,
          84,
          85,
          86,
          87,
          88,
          89,
          90,
          91,
          92,
          93,
          94,
          95,
          96,
          97,
          98,
          99,
          100,
          101,
          102,
          103,
          104,
          105,
          106,
          107,
          108,
          109,
          110,
          111,
          112,
          113,
          114,
          115,
          116,
          117,
          118,
          119,
          120,
          121,
          122,
          123,
          124,
          125,
          126,
          127,
          128,
          129,
          130,
          131,
          132,
          133,
          134,
          135,
          136,
          137,
          138,
          139,
          140,
          141,
          142,
          143,
          144,
          145,
          146,
          147,
          148,
          149,
          150,
          151,
          152,
          153,
          154,
          155,
          156,
          157,
          158,
          159,
          160,
          161,
          162,
          163,
          164,
          165,
          166,
          167,
          168,
          169,
          170,
          171,
          172,
          173,
          174,
          175,
          176,
          177,
          178,
          179,
          180,
          181,
          182,
          183,
          184,
          185,
          186,
          187,
          188,
          189,
          190,
          191,
          192,
          193,
          194,
          195,
          196,
          197,
          198,
          199,
          200,
          201,
          202,
          203,
          204,
          205,
          206,
          207,
          208,
          209,
          210,
          211,
          212,
          213,
          214,
          215,
          216,
          217,
          218,
          219,
          220,
          221,
          222,
          223,
          224,
          225,
          226,
          227,
          228,
          229,
          230,
          231,
          232,
          233,
          234,
          235,
          236,
          237,
          238,
          239,
          240,
          241,
          242,
          243,
          244,
          245,
          246,
          247,
          248,
          249,
          250,
          251,
          252,
          253,
          254,
          255,
          256,
          257,
          258,
          259,
          260,
          261,
          262,
          263,
          264,
          265,
          266,
          267,
          268,
          269,
          270,
          271,
          272,
          273,
          274,
          275,
          276,
          277,
          278,
          279,
          280,
          281,
          282,
          283,
          284,
          285,
          286,
          287,
          288,
          289,
          290,
          291,
          292,
          293,
          294,
          295,
          296,
          297,
          298,
          299,
          300,
          301,
          302,
          303,
          304,
          305,
          306,
          307,
          308,
          309,
          310,
          311,
          312,
          313,
          314,
          315,
          316,
          317,
          318,
          319,
          320,
          321,
          322,
          323,
          324,
          325,
          326,
          327,
          328,
          329,
          330,
          331,
          332,
          333,
          334,
          335,
          336,
          337,
          338,
          339,
          340,
          341,
          342,
          343,
          344,
          345,
          346,
          347,
          348,
          349,
          350,
          351,
          352,
          353,
          354,
          355,
          356,
          357,
          358,
          359,
          360,
          361,
          362,
          363,
          364,
          365,
          366,
          367,
          368,
          369,
          370,
          371,
          372,
          373,
          374,
          375,
          376,
          377,
          378,
          379,
          380,
          381,
          382,
          383,
          384,
          385,
          386,
          387,
          388,
          389,
          390,
          391,
          392,
          393,
          394,
          395,
          396,
          397,
          398,
          399,
          400,
          401,
          402,
          403,
          404,
          405,
          406,
          407,
          408,
          409,
          410,
          411,
          412,
          413,
          414,
          415,
          416,
          417,
          418,
          419,
          420,
          421,
          422,
          423,
          424,
          425,
          426,
          427,
          428,
          429,
          430,
          431,
          432,
          433,
          434,
          435,
          436,
          437,
          438,
          439,
          440,
          441,
          442,
          443,
          444,
          445,
          446,
          447,
          448,
          449,
          450,
          451,
          452,
          453,
          454,
          455,
          456,
          457,
          458,
          459,
          460,
          461,
          462,
          463,
          464,
          465,
          466,
          467,
          468,
          469,
          470,
          471,
          472,
          473,
          474,
          475,
          476,
          477,
          478,
          479,
          480,
          481,
          482,
          483,
          484,
          485,
          486,
          487,
          488,
          489,
          490,
          491,
          492,
          493,
          494,
          495,
          496,
          497,
          498,
          499,
          500,
          501,
          502,
          503,
          504,
          505,
          506,
          507,
          508,
          509,
          510,
          511,
          512,
          513,
          514,
          515,
          516,
          517,
          518,
          519,
          520,
          521,
          522,
          523,
          524,
          525,
          526,
          527,
          528,
          529,
          530,
          531,
          532,
          533,
          534,
          535,
          536,
          537,
          538,
          539,
          540,
          541,
          542,
          543,
          544,
          545,
          546,
          547,
          548,
          549,
          550,
          551,
          552,
          553,
          554,
          555,
          556,
          557,
          558,
          559,
          560,
          561,
          562,
          563,
          564,
          565,
          566,
          567,
          568,
          569,
          570,
          571,
          572,
          573,
          574,
          575,
          576,
          577,
          578,
          579,
          580,
          581,
          582,
          583,
          584,
          585,
          586,
          587,
          588,
          589,
          590,
          591,
          592,
          593,
          594,
          595,
          596,
          597,
          598,
          599,
          600,
          601,
          602,
          603,
          604,
          605,
          606,
          607,
          608,
          609,
          610,
          611,
          612,
          613,
          614,
          615,
          616,
          617,
          618,
          619,
          620,
          621,
          622,
          623,
          624,
          625,
          626,
          627,
          628,
          629,
          630,
          631,
          632,
          633,
          634,
          635,
          636,
          637,
          638,
          639,
          640,
          641,
          642,
          643,
          644,
          645,
          646,
          647,
          648,
          649,
          650,
          651,
          652,
          653,
          654,
          655,
          656,
          657,
          658,
          659,
          660,
          661,
          662,
          663,
          664,
          665,
          666,
          667,
          668,
          669,
          670,
          671,
          672,
          673,
          674,
          675,
          676,
          677,
          678,
          679,
          680,
          681,
          682,
          683,
          684,
          685,
          686,
          687,
          688,
          689,
          690,
          691,
          692,
          693,
          694,
          695,
          696,
          697,
          698,
          699,
          700,
          701,
          702,
          703,
          704,
          705,
          706,
          707,
          708,
          709,
          710,
          711,
          712,
          713,
          714,
          715,
          716,
          717,
          718,
          719,
          720,
          721,
          722,
          723,
          724,
          725,
          726,
          727,
          728,
          729,
          730,
          731,
          732,
          733,
          734,
          735,
          736,
          737,
          738,
          739,
          740,
          741,
          742,
          743,
          744,
          745,
          746,
          747,
          748,
          749,
          750,
          751,
          752,
          753,
          754,
          755,
          756,
          757,
          758,
          759,
          760,
          761,
          762,
          763,
          764,
          765,
          766,
          767,
          768,
          769,
          770,
          771,
          772,
          773,
          774,
          775,
          776,
          777,
          778,
          779,
          780,
          781,
          782,
          783,
          784,
          785,
          786,
          787,
          788,
          789,
          790,
          791,
          792,
          793,
          794,
          795,
          796,
          797,
          798,
          799,
          800,
          801,
          802,
          803,
          804,
          805,
          806,
          807,
          808,
          809,
          810,
          811,
          812,
          813,
          814,
          815,
          816,
          817,
          818,
          819,
          820,
          821,
          822,
          823,
          824,
          825,
          826,
          827,
          828,
          829,
          830,
          831,
          832,
          833,
          834,
          835,
          836,
          837,
          838,
          839,
          840,
          841,
          842,
          843,
          844,
          845,
          846,
          847,
          848,
          849,
          850,
          851,
          852,
          853,
          854,
          855,
          856,
          857,
          858,
          859,
          860,
          861,
          862,
          863,
          864,
          865,
          866,
          867,
          868,
          869,
          870,
          871,
          872,
          873,
          874,
          875,
          876,
          877,
          878,
          879,
          880,
          881,
          882,
          883,
          884,
          885,
          886,
          887,
          888,
          889,
          890,
          891,
          892,
          893,
          894,
          895,
          896,
          897,
          898,
          899,
          900,
          901,
          902,
          903,
          904,
          905,
          906,
          907,
          908,
          909,
          910,
          911,
          912,
          913,
          914,
          915,
          916,
          917,
          918,
          919,
          920,
          921,
          922,
          923,
          924,
          925,
          926,
          927,
          928,
          929,
          930,
          931,
          932,
          933,
          934,
          935,
          936,
          937,
          938,
          939,
          940,
          941,
          942,
          943,
          944,
          945,
          946,
          947,
          948,
          949,
          950,
          951,
          952,
          953,
          954,
          955,
          956,
          957,
          958,
          959,
          960,
          961,
          962,
          963,
          964,
          965,
          966,
          967,
          968,
          969,
          970,
          971,
          972,
          973,
          974,
          975,
          976,
          977,
          978,
          979,
          980,
          981,
          982,
          983,
          984,
          985,
          986,
          987,
          988,
          989,
          990,
          991,
          992,
          993,
          994,
          995,
          996,
          997,
          998,
          999,
          1000,
          1001,
          1002,
          1003,
          1004,
          1005,
          1006,
          1007,
          1008,
          1009,
          1010,
          1011,
          1012,
          1013,
          1014,
          1015,
          1016,
          1017,
          1018,
          1019,
          1020,
          1021,
          1022,
          1023,
          1024,
          1025,
          1026,
          1027,
          1028,
          1029,
          1030,
          1031,
          1032,
          1033,
          1034,
          1035,
          1036,
          1037,
          1038,
          1039,
          1040,
          1041,
          1042,
          1043,
          1044,
          1045,
          1046,
          1047,
          1048,
          1049,
          1050,
          1051,
          1052,
          1053,
          1054,
          1055,
          1056,
          1057,
          1058,
          1059,
          1060,
          1061,
          1062,
          1063,
          1064,
          1065,
          1066,
          1067,
          1068,
          1069,
          1070,
          1071,
          1072,
          1073,
          1074,
          1075,
          1076,
          1077,
          1078,
          1079,
          1080,
          1081,
          1082,
          1083,
          1084,
          1085,
          1086,
          1087,
          1088,
          1089,
          1090,
          1091,
          1092,
          1093,
          1094,
          1095,
          1096,
          1097,
          1098,
          1099,
          1100,
          1101,
          1102,
          1103,
          1104,
          1105,
          1106,
          1107,
          1108,
          1109,
          1110,
          1111,
          1112,
          1113,
          1114,
          1115,
          1116,
          1117,
          1118,
          1119,
          1120,
          1121,
          1122,
          1123,
          1124,
          1125,
          1126,
          1127,
          1128,
          1129,
          1130,
          1131,
          1132,
          1133,
          1134,
          1135,
          1136,
          1137,
          1138,
          1139,
          1140,
          1141,
          1142,
          1143,
          1144,
          1145,
          1146,
          1147,
          1148,
          1149,
          1150,
          1151,
          1152,
          1153,
          1154,
          1155,
          1156,
          1157,
          1158,
          1159,
          1160,
          1161,
          1162,
          1163,
          1164,
          1165,
          1166,
          1167,
          1168,
          1169,
          1170,
          1171,
          1172,
          1173,
          1174,
          1175,
          1176,
          1177,
          1178,
          1179,
          1180,
          1181,
          1182,
          1183,
          1184,
          1185,
          1186,
          1187,
          1188,
          1189,
          1190,
          1191,
          1192,
          1193,
          1194,
          1195,
          1196,
          1197,
          1198,
          1199,
          1200,
          1201,
          1202,
          1203,
          1204,
          1205,
          1206,
          1207,
          1208,
          1209,
          1210,
          1211,
          1212,
          1213,
          1214,
          1215,
          1216,
          1217,
          1218,
          1219,
          1220,
          1221,
          1222,
          1223,
          1224,
          1225,
          1226,
          1227,
          1228,
          1229,
          1230,
          1231,
          1232,
          1233,
          1234,
          1235,
          1236,
          1237,
          1238,
          1239,
          1240,
          1241,
          1242,
          1243,
          1244,
          1245,
          1246,
          1247,
          1248,
          1249,
          1250,
          1251,
          1252,
          1253,
          1254,
          1255,
          1256,
          1257,
          1258,
          1259,
          1260,
          1261,
          1262,
          1263,
          1264,
          1265,
          1266,
          1267,
          1268,
          1269,
          1270,
          1271,
          1272,
          1273,
          1274,
          1275,
          1276,
          1277,
          1278,
          1279,
          1280,
          1281,
          1282,
          1283,
          1284,
          1285,
          1286,
          1287,
          1288,
          1289,
          1290,
          1291,
          1292,
          1293,
          1294,
          1295,
          1296,
          1297,
          1298,
          1299,
          1300,
          1301,
          1302,
          1303,
          1304,
          1305,
          1306,
          1307,
          1308,
          1309,
          1310,
          1311,
          1312,
          1313,
          1314,
          1315,
          1316,
          1317,
          1318,
          1319,
          1320,
          1321,
          1322,
          1323,
          1324,
          1325,
          1326,
          1327,
          1328,
          1329,
          1330,
          1331,
          1332,
          1333,
          1334,
          1335,
          1336,
          1337,
          1338,
          1339,
          1340,
          1341,
          1342,
          1343,
          1344,
          1345,
          1346,
          1347,
          1348,
          1349,
          1350,
          1351,
          1352,
          1353,
          1354,
          1355,
          1356,
          1357,
          1358,
          1359,
          1360,
          1361,
          1362,
          1363,
          1364,
          1365,
          1366,
          1367,
          1368,
          1369,
          1370,
          1371,
          1372,
          1373,
          1374,
          1375,
          1376,
          1377,
          1378,
          1379,
          1380,
          1381,
          1382,
          1383,
          1384,
          1385,
          1386,
          1387,
          1388,
          1389,
          1390,
          1391,
          1392,
          1393,
          1394,
          1395,
          1396,
          1397,
          1398,
          1399,
          1400,
          1401,
          1402,
          1403,
          1404,
          1405,
          1406,
          1407,
          1408,
          1409,
          1410,
          1411,
          1412,
          1413,
          1414,
          1415,
          1416,
          1417,
          1418,
          1419,
          1420,
          1421,
          1422,
          1423,
          1424,
          1425,
          1426,
          1427,
          1428,
          1429,
          1430,
          1431,
          1432,
          1433,
          1434,
          1435,
          1436,
          1437,
          1438,
          1439,
          1440,
          1441,
          1442,
          1443,
          1444,
          1445,
          1446,
          1447,
          1448,
          1449,
          1450,
          1451,
          1452,
          1453,
          1454,
          1455,
          1456,
          1457,
          1458,
          1459,
          1460,
          1461,
          1462,
          1463,
          1464,
          1465,
          1466,
          1467,
          1468,
          1469,
          1470,
          1471,
          1472,
          1473,
          1474,
          1475,
          1476,
          1477,
          1478,
          1479,
          1480,
          1481,
          1482,
          1483,
          1484,
          1485,
          1486,
          1487,
          1488,
          1489,
          1490,
          1491,
          1492,
          1493,
          1494,
          1495,
          1496,
          1497,
          1498,
          1499,
          1500,
          1501,
          1502,
          1503,
          1504,
          1505,
          1506,
          1507,
          1508,
          1509,
          1510,
          1511,
          1512,
          1513,
          1514,
          1515,
          1516,
          1517,
          1518,
          1519,
          1520,
          1521,
          1522,
          1523,
          1524,
          1525,
          1526,
          1527,
          1528,
          1529,
          1530,
          1531,
          1532,
          1533,
          1534,
          1535,
          1536,
          1537,
          1538,
          1539,
          1540,
          1541,
          1542,
          1543,
          1544,
          1545,
          1546,
          1547,
          1548,
          1549,
          1550,
          1551,
          1552,
          1553,
          1554,
          1555,
          1556,
          1557,
          1558,
          1559,
          1560,
          1561,
          1562,
          1563,
          1564,
          1565,
          1566,
          1567,
          1568,
          1569,
          1570,
          1571,
          1572,
          1573,
          1574,
          1575,
          1576,
          1577,
          1578,
          1579,
          1580,
          1581,
          1582,
          1583,
          1584,
          1585,
          1586,
          1587,
          1588,
          1589,
          1590,
          1591,
          1592,
          1593,
          1594,
          1595,
          1596,
          1597,
          1598,
          1599,
          1600,
          1601,
          1602,
          1603,
          1604,
          1605,
          1606,
          1607,
          1608,
          1609,
          1610,
          1611,
          1612,
          1613,
          1614,
          1615,
          1616,
          1617,
          1618,
          1619,
          1620,
          1621,
          1622,
          1623,
          1624,
          1625,
          1626,
          1627,
          1628,
          1629,
          1630,
          1631,
          1632,
          1633,
          1634,
          1635,
          1636,
          1637,
          1638,
          1639,
          1640,
          1641,
          1642,
          1643,
          1644,
          1645,
          1646,
          1647,
          1648,
          1649,
          1650,
          1651,
          1652,
          1653,
          1654,
          1655,
          1656,
          1657,
          1658,
          1659,
          1660,
          1661,
          1662,
          1663,
          1664,
          1665,
          1666,
          1667,
          1668,
          1669,
          1670,
          1671,
          1672,
          1673,
          1674,
          1675,
          1676,
          1677,
          1678,
          1679,
          1680,
          1681,
          1682,
          1683,
          1684,
          1685,
          1686,
          1687,
          1688,
          1689,
          1690,
          1691,
          1692,
          1693,
          1694,
          1695,
          1696,
          1697,
          1698,
          1699,
          1700,
          1701,
          1702,
          1703,
          1704,
          1705,
          1706,
          1707,
          1708,
          1709,
          1710,
          1711,
          1712,
          1713,
          1714,
          1715,
          1716,
          1717,
          1718,
          1719,
          1720,
          1721,
          1722,
          1723,
          1724,
          1725,
          1726,
          1727,
          1728,
          1729,
          1730,
          1731,
          1732,
          1733,
          1734,
          1735,
          1736,
          1737,
          1738,
          1739,
          1740,
          1741,
          1742,
          1743,
          1744,
          1745,
          1746,
          1747,
          1748,
          1749,
          1750,
          1751,
          1752,
          1753,
          1754,
          1755,
          1756,
          1757,
          1758,
          1759,
          1760,
          1761,
          1762,
          1763,
          1764,
          1765,
          1766,
          1767,
          1768,
          1769,
          1770,
          1771,
          1772,
          1773,
          1774,
          1775,
          1776,
          1777,
          1778,
          1779,
          1780,
          1781,
          1782,
          1783,
          1784,
          1785,
          1786,
          1787,
          1788,
          1789,
          1790,
          1791,
          1792,
          1793,
          1794,
          1795,
          1796,
          1797,
          1798,
          1799,
          1800,
          1801,
          1802,
          1803,
          1804,
          1805,
          1806,
          1807,
          1808,
          1809,
          1810,
          1811,
          1812,
          1813,
          1814,
          1815,
          1816,
          1817,
          1818,
          1819,
          1820,
          1821,
          1822
         ],
         "xaxis": "x",
         "y": [
          9.213119506835938,
          -36.564361572265625,
          -12.557044982910156,
          0.41506195068359375,
          -5.83563232421875,
          9.701521873474121,
          10.760143280029297,
          -1.5655136108398438,
          -13.62353515625,
          -5.0362396240234375,
          54.752838134765625,
          38.12823486328125,
          -44.95819091796875,
          -69.115234375,
          -5.6317138671875,
          61.9493408203125,
          -11.85528564453125,
          -39.6973876953125,
          -24.861419677734375,
          67.06765747070312,
          -121.20504760742188,
          5.201942443847656,
          -98.70664978027344,
          -32.25959777832031,
          -36.897918701171875,
          -38.944984436035156,
          5.9742889404296875,
          12.858709335327148,
          10.024893760681152,
          -2.549025535583496,
          -12.088043212890625,
          -7.0347900390625,
          -53.21392822265625,
          -55.5489501953125,
          47.410400390625,
          30.501312255859375,
          132.933837890625,
          76.76559448242188,
          32.159881591796875,
          -76.3839111328125,
          -3.33197021484375,
          -8.711761474609375,
          95.50631713867188,
          -22.79510498046875,
          -157.07476806640625,
          -71.54736328125,
          88.63995361328125,
          -8.295608520507812,
          14.699676513671875,
          -11.794548034667969,
          3.7015609741210938,
          36.488365173339844,
          33.39069938659668,
          26.3548641204834,
          26.21745491027832,
          -80.94213104248047,
          -87.86404418945312,
          -84.994140625,
          38.880340576171875,
          89.96224975585938,
          94.65280151367188,
          90.8148193359375,
          135.38327026367188,
          -7.527435302734375,
          7.895111083984375,
          58.519683837890625,
          -20.688262939453125,
          -22.619354248046875,
          -80.42254638671875,
          -78.1629638671875,
          -85.86344909667969,
          -114.82452392578125,
          -13.072185516357422,
          -16.27151870727539,
          -21.707387924194336,
          6.123038053512573,
          1.9123482704162598,
          6.153276443481445,
          4.83331298828125,
          93.75372314453125,
          35.28570556640625,
          -25.804046630859375,
          -55.927093505859375,
          -46.93603515625,
          21.30596923828125,
          25.7913818359375,
          35.55372619628906,
          44.130859375,
          124.51531982421875,
          256.4952392578125,
          102.48284912109375,
          55.374969482421875,
          -23.1795654296875,
          -52.02978515625,
          -40.847503662109375,
          -82.82243347167969,
          -22.28445053100586,
          -5.655113220214844,
          3.909017562866211,
          4.302632004022598,
          5.302632004022598,
          5.662830352783203,
          62.31120300292969,
          72.7515869140625,
          88.73040771484375,
          -42.167083740234375,
          6.86669921875,
          -28.610626220703125,
          11.336990356445312,
          -10.637619018554688,
          -6.39544677734375,
          1.1303863525390625,
          85.53399658203125,
          90.184814453125,
          93.144287109375,
          146.05853271484375,
          -34.97320556640625,
          15.9222412109375,
          -10.13165283203125,
          -43.62580871582031,
          14.460376739501953,
          -11.986234664916992,
          4.207979679107666,
          15.402073860168457,
          -2.7823734283447266,
          4.962047576904297,
          31.49664306640625,
          57.77569580078125,
          232.01300048828125,
          -108.72111511230469,
          -70.66267395019531,
          -122.86260986328125,
          -112.22714233398438,
          -57.860687255859375,
          -22.8048095703125,
          -6.92523193359375,
          47.298431396484375,
          212.148193359375,
          133.169189453125,
          24.87860107421875,
          -11.7305908203125,
          33.391632080078125,
          18.028717041015625,
          29.875503540039062,
          51.76551818847656,
          7.934535980224609,
          4.139786720275879,
          4.186354637145996,
          6.47516655921936,
          13.669662475585938,
          -14.554718017578125,
          95.75399780273438,
          132.3985595703125,
          -2.972869873046875,
          -10.241058349609375,
          53.71281433105469,
          77.2274169921875,
          115.30490112304688,
          40.97346496582031,
          52.182037353515625,
          67.611572265625,
          16.83746337890625,
          47.92779541015625,
          -1.71588134765625,
          -60.014434814453125,
          -14.208526611328125,
          46.181884765625,
          82.356689453125,
          -4.9410552978515625,
          9.696632385253906,
          7.586784362792969,
          7.931999206542969,
          -3.9035396575927734,
          9.144200325012207,
          9.639564514160156,
          30.849498748779297,
          18.401443481445312,
          42.501861572265625,
          100.55157470703125,
          132.53134155273438,
          248.419921875,
          187.15951538085938,
          148.08633422851562,
          207.43179321289062,
          -229.29519653320312,
          -136.36944580078125,
          -78.27650451660156,
          -6.533172607421875,
          -15.942184448242188,
          15.44976806640625,
          46.0535888671875,
          60.150184631347656,
          7.559989929199219,
          27.281959533691406,
          12.720794677734375,
          17.351675033569336,
          2.0657405853271484,
          35.4963436126709,
          -1.0252952575683594,
          -48.222373962402344,
          -37.792999267578125,
          54.890167236328125,
          117.40463256835938,
          95.43719482421875,
          195.63275146484375,
          127.874267578125,
          37.1435546875,
          74.073974609375,
          93.138916015625,
          34.6849365234375,
          -7.86700439453125,
          20.251495361328125,
          7.01568603515625,
          -67.24420166015625,
          -44.44879150390625,
          -74.65950012207031,
          0.4535179138183594,
          -6.3548583984375,
          14.47358226776123,
          -1.7943964004516602,
          -8.79439640045166,
          -2.1456756591796875,
          21.3297119140625,
          48.342071533203125,
          72.77764892578125,
          47.6417236328125,
          8.367279052734375,
          -4.280181884765625,
          40.84039306640625,
          16.02276611328125,
          41.17730712890625,
          27.23016357421875,
          19.407318115234375,
          52.8402099609375,
          181.1636962890625,
          71.7081298828125,
          -52.5614013671875,
          -20.9725341796875,
          -46.55094909667969,
          -49.7486572265625,
          -22.353492736816406,
          -13.966331481933594,
          -7.773613929748535,
          -1.0643739700317383,
          -3.647751808166504,
          12.683818817138672,
          59.759552001953125,
          185.72491455078125,
          138.98858642578125,
          2.28875732421875,
          -39.7135009765625,
          -21.53338623046875,
          0.649139404296875,
          -21.221893310546875,
          -81.62472534179688,
          -25.5130615234375,
          80.43072509765625,
          171.07171630859375,
          85.61138916015625,
          48.32244873046875,
          46.426910400390625,
          26.315460205078125,
          7.4827423095703125,
          -7.974723815917969,
          -8.568363189697266,
          -9.05841064453125,
          -2.321883201599121,
          -3.9246206283569336,
          -5.4292497634887695,
          15.004013061523438,
          50.54933166503906,
          147.35208129882812,
          107.63818359375,
          -21.061798095703125,
          -6.39569091796875,
          -18.049468994140625,
          17.0616455078125,
          -8.48577880859375,
          -29.954681396484375,
          -7.64739990234375,
          48.11505126953125,
          121.92315673828125,
          177.82098388671875,
          77.66912841796875,
          60.870361328125,
          9.199249267578125,
          5.2586669921875,
          -15.506637573242188,
          5.650600433349609,
          4.167388916015625,
          -3.5210256576538086,
          -0.8587446212768555,
          -5.8587446212768555,
          22.405471801757812,
          33.43132019042969,
          165.13232421875,
          99.863525390625,
          -6.516448974609375,
          7.9039154052734375,
          3.6250457763671875,
          -20.329193115234375,
          -44.500396728515625,
          -37.46923828125,
          32.232666015625,
          31.259429931640625,
          74.201416015625,
          70.373291015625,
          134.37066650390625,
          65.08279418945312,
          26.066009521484375,
          28.7091064453125,
          74.51627349853516,
          35.65060043334961,
          14.085111618041992,
          20.339152336120605,
          3.525540351867676,
          1.5255403518676758,
          9.108182907104492,
          -3.9799041748046875,
          37.5067138671875,
          143.09832763671875,
          -4.79376220703125,
          29.67657470703125,
          14.88568115234375,
          121.17153930664062,
          121.2470703125,
          71.37985229492188,
          62.033050537109375,
          114.6888427734375,
          91.3460693359375,
          33.2423095703125,
          -1.2972412109375,
          -19.881378173828125,
          11.776153564453125,
          65.79917907714844,
          52.62428283691406,
          64.62225341796875,
          0.279510498046875,
          13.981803894042969,
          3.3402748107910156,
          5.4460994601249695,
          2.308180809020996,
          12.203704833984375,
          -53.294029235839844,
          16.055557250976562,
          46.409149169921875,
          13.71685791015625,
          109.57550048828125,
          117.3270263671875,
          107.1717529296875,
          130.298828125,
          82.4110107421875,
          206.23822021484375,
          129.55572509765625,
          73.56878662109375,
          43.779205322265625,
          -25.194244384765625,
          44.35169982910156,
          60.67634582519531,
          77.93414306640625,
          12.410079956054688,
          9.954925537109375,
          11.390182495117188,
          15.04989242553711,
          -10.124187469482422,
          -6.879514694213867,
          -0.00469970703125,
          -56.602516174316406,
          -41.980194091796875,
          34.085845947265625,
          68.46044921875,
          65.54702758789062,
          74.6397705078125,
          108.89715576171875,
          34.00091552734375,
          -26.0372314453125,
          31.005126953125,
          -22.2056884765625,
          -25.47467041015625,
          -15.892730712890625,
          2.412841796875,
          -73.4937744140625,
          -71.6256103515625,
          -31.114891052246094,
          -6.159736633300781,
          -5.886014938354492,
          -2.574427604675293,
          -3.9246206283569336,
          -2.1771669387817383,
          1.7229728698730469,
          1.9818267822265625,
          83.42962646484375,
          69.61798095703125,
          -69.06295776367188,
          -3.1952667236328125,
          30.679214477539062,
          22.596954345703125,
          75.14614868164062,
          87.94410705566406,
          89.23167419433594,
          101.12106323242188,
          129.5101318359375,
          91.10211181640625,
          11.57403564453125,
          -24.379486083984375,
          175.7775115966797,
          91.24382019042969,
          29.49637222290039,
          -2.2679214477539062,
          2.7005951404571533,
          10.670512676239014,
          1.2187867164611816,
          24.27271270751953,
          28.16241455078125,
          26.913345336914062,
          -19.595489501953125,
          121.607421875,
          -17.89892578125,
          -9.659332275390625,
          -62.73164367675781,
          -84.36616516113281,
          -136.91995239257812,
          82.16375350952148,
          -47.60023498535156,
          -44.60795593261719,
          -33.70635986328125,
          -210.08590698242188,
          -60.94189453125,
          19.2227783203125,
          58.70783996582031,
          115.74587631225586,
          33.33122253417969,
          -6.319019317626953,
          -6.855142593383789,
          6.1719396114349365,
          -9.48987102508545,
          -0.43540287017822266,
          22.368995666503906,
          10.923675537109375,
          138.4893798828125,
          179.061279296875,
          6.180419921875,
          -7.7913818359375,
          -9.806365966796875,
          -3.3154296875,
          -32.181121826171875,
          -3.7769775390625,
          -10.968170166015625,
          10.712921142578125,
          85.472412109375,
          86.31500244140625,
          99.31661987304688,
          37.22100830078125,
          106.42269897460938,
          29.297683715820312,
          -1.9829330444335938,
          -20.90137481689453,
          -7.270959854125977,
          0.9987831115722656,
          0.5515217781066895,
          1.3351774215698242,
          6.263862609863281,
          2.681365966796875,
          50.142120361328125,
          166.511474609375,
          -28.745391845703125,
          -54.84428405761719,
          31.826828002929688,
          18.549072265625,
          1.624603271484375,
          -46.63946533203125,
          27.9564208984375,
          35.710235595703125,
          161.54925537109375,
          -36.47918701171875,
          65.80722045898438,
          113.84355163574219,
          -14.460784912109375,
          157.1049041748047,
          65.96266555786133,
          -3.351482391357422,
          -12.263629913330078,
          -8.56069278717041,
          -2.5922203063964844,
          5.426966667175293,
          18.688766479492188,
          106.07177734375,
          37.40840148925781,
          -220.5662841796875,
          -141.0795440673828,
          -58.98724365234375,
          0.6973190307617188,
          -64.46650695800781,
          -14.557815551757812,
          75.2903060913086,
          92.11101531982422,
          177.78500366210938,
          319.00909423828125,
          354.6294860839844,
          137.98135375976562,
          138.97784423828125,
          238.4174346923828,
          101.21185302734375,
          6.810905456542969,
          47.06846523284912,
          9.766199111938477,
          10.218799114227295,
          8.2562255859375,
          15.111533641815186,
          8.721246719360352,
          36.878265380859375,
          133.5926513671875,
          218.82696533203125,
          44.70806884765625,
          -25.1153564453125,
          7.9115753173828125,
          78.765625,
          1.867584228515625,
          0.150299072265625,
          60.02276611328125,
          66.614501953125,
          117.04241943359375,
          58.9627685546875,
          24.9349365234375,
          54.557373046875,
          -40.40046691894531,
          -14.049850463867188,
          89.69544982910156,
          48.10046577453613,
          15.766199111938477,
          -9.062675476074219,
          15.909837245941162,
          -6.676008224487305,
          30.45977210998535,
          92.99571990966797,
          0.99072265625,
          122.865966796875,
          56.08367919921875,
          7.51092529296875,
          -35.20832824707031,
          1.665802001953125,
          35.88739013671875,
          21.261016845703125,
          31.208740234375,
          72.76611328125,
          93.5450439453125,
          124.58074951171875,
          -14.31884765625,
          5.423675537109375,
          59.475921630859375,
          12.903701782226562,
          10.726837158203125,
          56.887184143066406,
          18.07537269592285,
          -2.019258499145508,
          0.5749282836914062,
          -2.214139938354492,
          3.123096466064453,
          -22.50836181640625,
          41.63812255859375,
          129.78192138671875,
          37.999786376953125,
          24.868820190429688,
          62.32591247558594,
          165.85195922851562,
          111.31625366210938,
          109.21267700195312,
          147.42355346679688,
          158.46063232421875,
          84.4954833984375,
          -9.55767822265625,
          20.8946533203125,
          -41.8895263671875,
          -9.8426513671875,
          31.348922729492188,
          74.6484375,
          49.67231750488281,
          36.43257141113281,
          0.2463836669921875,
          28.82321548461914,
          -2.5670623779296875,
          -10.308572769165039,
          -7.271839141845703,
          -46.06498718261719,
          71.45037841796875,
          88.789306640625,
          142.40921020507812,
          164.932861328125,
          192.65875244140625,
          185.3218994140625,
          63.91217041015625,
          82.05328369140625,
          85.6510009765625,
          121.6024169921875,
          43.846099853515625,
          -47.967376708984375,
          11.393478393554688,
          70.57365417480469,
          41.99122619628906,
          64.591796875,
          28.233047485351562,
          44.64708709716797,
          20.26806640625,
          -9.39759635925293,
          8.106393337249756,
          -5.599643707275391,
          1.7491035461425781,
          -36.98895263671875,
          -58.58964538574219,
          -69.3326416015625,
          -129.74725341796875,
          -43.451904296875,
          -28.74493408203125,
          -107.22476196289062,
          -99.6533203125,
          -11.520599365234375,
          25.2623291015625,
          -69.72457885742188,
          -62.37677001953125,
          -141.21054077148438,
          -46.5306396484375,
          8.486747741699219,
          -23.87389373779297,
          3.5491409301757812,
          -12.965076446533203,
          -43.035064697265625,
          -49.8323974609375,
          -40.29523468017578,
          -38.21910858154297,
          1.9738655090332031,
          3.5568084716796875,
          25.234893798828125,
          193.5782928466797,
          100.47715759277344,
          21.6878662109375,
          -34.2550048828125,
          -97.84918212890625,
          -44.205352783203125,
          -7.520599365234375,
          41.3016357421875,
          77.24566650390625,
          102.7198486328125,
          103.08615112304688,
          88.76596069335938,
          119.09510040283203,
          -0.284393310546875,
          35.65099334716797,
          -43.675384521484375,
          4.032543182373047,
          15.580005168914795,
          18.047595977783203,
          17.608760833740234,
          15.451807022094727,
          -7.968273162841797,
          35.79552459716797,
          7.769775390625,
          102.05035400390625,
          56.61895751953125,
          -19.538238525390625,
          -36.420623779296875,
          -4.9163818359375,
          -8.904983520507812,
          8.244384765625,
          19.414718627929688,
          45.311798095703125,
          131.64654541015625,
          145.9215087890625,
          65.36749267578125,
          70.99786376953125,
          20.476531982421875,
          -9.31365966796875,
          -21.54674530029297,
          -6.924213409423828,
          -14.91993522644043,
          -0.8478879928588867,
          -2.799199104309082,
          -1.7244873046875,
          11.48434066772461,
          24.528961181640625,
          72.92239379882812,
          225.61724853515625,
          8.95599365234375,
          24.8941650390625,
          47.588226318359375,
          119.3546142578125,
          23.372406005859375,
          -16.524505615234375,
          13.4093017578125,
          112.04595947265625,
          149.10418701171875,
          139.12298583984375,
          150.68930053710938,
          122.64361572265625,
          63.76286315917969,
          39.71916198730469,
          31.016578674316406,
          -10.68954086303711,
          -11.818754196166992,
          4.439201354980469,
          2.101019859313965,
          13.052012205123901,
          25.104267120361328,
          58.790687561035156,
          155.61563110351562,
          233.661865234375,
          36.927093505859375,
          -27.708023071289062,
          12.476165771484375,
          26.74212646484375,
          -30.8077392578125,
          46.00518798828125,
          151.64199829101562,
          48.3050537109375,
          151.02215576171875,
          119.52520751953125,
          377.49261474609375,
          147.35855102539062,
          43.80401611328125,
          45.8450927734375,
          74.08100128173828,
          25.870532989501953,
          22.798324584960938,
          12.233396768569946,
          0.4531393051147461,
          -0.2948179244995117,
          11.402524948120117,
          32.403526306152344,
          40.534332275390625,
          105.29541015625,
          47.617523193359375,
          36.523040771484375,
          54.42083740234375,
          73.69500732421875,
          97.39556884765625,
          91.62179565429688,
          179.03125,
          184.97955322265625,
          270.0582275390625,
          97.011962890625,
          102.79736328125,
          53.83180236816406,
          -14.129486083984375,
          27.639297485351562,
          35.346946716308594,
          167.55345916748047,
          77.71807861328125,
          11.504638671875,
          -4.244762420654297,
          9.699877500534058,
          2.5901222229003906,
          9.132217407226562,
          28.301651000976562,
          20.742340087890625,
          79.35380554199219,
          0.731109619140625,
          99.69091796875,
          68.210205078125,
          166.82711791992188,
          49.10601806640625,
          77.473876953125,
          88.5467529296875,
          71.6712646484375,
          96.58547973632812,
          31.54412841796875,
          70.26536560058594,
          80.04390716552734,
          45.56309509277344,
          11.173912048339844,
          10.948738098144531,
          55.08821487426758,
          13.202251434326172,
          4.467632293701172,
          11.07520079612732,
          -4.340262413024902,
          -14.309249877929688,
          -67.75357055664062,
          -51.601226806640625,
          -38.3114013671875,
          52.90313720703125,
          3.2269287109375,
          18.7362060546875,
          51.5853271484375,
          25.00970458984375,
          -5.1331787109375,
          -2.16387939453125,
          -42.03436279296875,
          -58.381378173828125,
          -75.95071411132812,
          -29.172698974609375,
          -3.9856719970703125,
          -27.703948974609375,
          -21.358978271484375,
          22.564727783203125,
          17.35647964477539,
          6.352137207984924,
          9.290915966033936,
          5.484102249145508,
          24.054511070251465,
          -5.7611846923828125,
          61.412689208984375,
          139.5225830078125,
          137.90060424804688,
          -19.749496459960938,
          57.98126220703125,
          129.38821411132812,
          6.391632080078125,
          -7.4078826904296875,
          43.74058532714844,
          79.87680053710938,
          9.23748779296875,
          107.00656127929688,
          -15.5455322265625,
          -39.944671630859375,
          -25.000778198242188,
          -61.48963928222656,
          -26.1397705078125,
          -8.807071685791016,
          -11.990020751953125,
          -7.364108085632324,
          -5.795000076293945,
          3.2586989402770996,
          27.87445831298828,
          29.056838989257812,
          126.52276611328125,
          188.19256591796875,
          5.751129150390625,
          10.020294189453125,
          -1.1347808837890625,
          42.73956298828125,
          48.867889404296875,
          14.95306396484375,
          51.91046142578125,
          26.943756103515625,
          256.15069580078125,
          177.6905517578125,
          84.59844970703125,
          159.05191040039062,
          -53.73350524902344,
          49.161041259765625,
          109.15135192871094,
          17.572723388671875,
          -1.8503494262695312,
          7.584720611572266,
          4.2251136302948,
          -1.7420811653137207,
          17.70464515686035,
          66.87071990966797,
          112.3524169921875,
          246.253173828125,
          48.420135498046875,
          39.814849853515625,
          14.50360107421875,
          39.191650390625,
          27.013946533203125,
          11.579559326171875,
          11.89739990234375,
          69.2802734375,
          240.5255126953125,
          248.803955078125,
          46.145416259765625,
          111.93209838867188,
          120.97715759277344,
          90.54661560058594,
          10.159713745117188,
          6.94024658203125,
          -11.787662506103516,
          2.5564537048339844,
          4.554295241832733,
          4.554295241832733,
          11.7435302734375,
          -8.412384033203125,
          111.12420654296875,
          210.96728515625,
          28.66558837890625,
          10.37213134765625,
          52.6026611328125,
          100.42449951171875,
          51.39013671875,
          33.12158203125,
          101.84403991699219,
          50.9974365234375,
          108.683837890625,
          134.11370849609375,
          97.211669921875,
          44.844635009765625,
          51.39830017089844,
          75.18788146972656,
          16.074371337890625,
          22.521568298339844,
          3.7966060638427734,
          2.056105136871338,
          4.1168800592422485,
          5.1168800592422485,
          8.228090286254883,
          85.63699340820312,
          -31.255126953125,
          -102.5133056640625,
          66.58505249023438,
          78.26470947265625,
          71.22041320800781,
          60.83941650390625,
          127.89736938476562,
          122.37803649902344,
          136.62301635742188,
          329.6047668457031,
          -122.537109375,
          -274.9899597167969,
          -200.821533203125,
          -83.23428344726562,
          -30.1563720703125,
          2.09368896484375,
          16.51721954345703,
          27.04047393798828,
          12.702409744262695,
          11.60948371887207,
          8.190496921539307,
          2.544699192047119,
          11.082817077636719,
          32.803932189941406,
          60.82135009765625,
          95.89324951171875,
          87.88316345214844,
          6.7683258056640625,
          17.726486206054688,
          64.34184265136719,
          34.261474609375,
          -12.29901123046875,
          -17.1905517578125,
          57.816986083984375,
          186.05950927734375,
          167.39898681640625,
          131.04342651367188,
          72.57781982421875,
          86.81690979003906,
          80.8377685546875,
          45.9422607421875,
          17.44190216064453,
          9.479166984558105,
          2.1327476501464844,
          0.040808916091918945,
          3.175926685333252,
          -11.287471771240234,
          6.9512939453125,
          23.096405029296875,
          101.1773681640625,
          79.0965576171875,
          8.730819702148438,
          -15.4163818359375,
          3.751708984375,
          35.096160888671875,
          35.010833740234375,
          72.39450073242188,
          105.33236694335938,
          76.06915283203125,
          17.121612548828125,
          30.740386962890625,
          4.5334930419921875,
          4.0854644775390625,
          43.51251220703125,
          50.48863983154297,
          14.970809936523438,
          14.508888244628906,
          -15.184070587158203,
          -7.993877410888672,
          -10.521177291870117,
          -19.607234954833984,
          -5.88409423828125,
          -8.829193115234375,
          -37.60186767578125,
          34.51676940917969,
          61.524261474609375,
          22.127197265625,
          39.14007568359375,
          87.208740234375,
          129.01580810546875,
          98.71646118164062,
          63.049072265625,
          136.21041870117188,
          70.91400146484375,
          37.7659912109375,
          20.052627563476562,
          54.514549255371094,
          25.437103271484375,
          51.395408630371094,
          22.946189880371094,
          96.46271514892578,
          -11.817245483398438,
          -12.624242782592773,
          1.2585783004760742,
          -6.66339111328125,
          -6.364925384521484,
          32.22399139404297,
          51.46797180175781,
          41.97505187988281,
          117.73654174804688,
          67.38558959960938,
          60.9398193359375,
          26.17230224609375,
          44.11572265625,
          -13.563262939453125,
          -0.286956787109375,
          12.898529052734375,
          -14.948699951171875,
          14.406112670898438,
          -42.03155517578125,
          -13.406295776367188,
          -13.3968505859375,
          -28.403762817382812,
          -10.751350402832031,
          -14.753715515136719,
          -10.10013198852539,
          -7.560366630554199,
          10.203856945037842,
          7.915384292602539,
          26.007003784179688,
          171.59765625,
          119.345703125,
          -6.745513916015625,
          1.8312530517578125,
          -22.842300415039062,
          -3.4934234619140625,
          -21.028030395507812,
          -45.378448486328125,
          -22.857406616210938,
          63.7542724609375,
          149.68572998046875,
          90.88870239257812,
          93.29403686523438,
          15.613418579101562,
          6.713287353515625,
          4.0269012451171875,
          -15.826789855957031,
          -10.066341400146484,
          -5.8174028396606445,
          -5.3930439949035645,
          3.581501215696335,
          6.624392986297607,
          10.22391128540039,
          40.27063751220703,
          78.28814697265625,
          75.12274169921875,
          85.1685791015625,
          103.98381805419922,
          58.24095153808594,
          47.29206848144531,
          70.24615478515625,
          14.447052001953125,
          64.25338745117188,
          123.50408935546875,
          151.60061645507812,
          80.91445922851562,
          95.28558349609375,
          11.884246826171875,
          7.673248291015625,
          37.96080780029297,
          136.72540283203125,
          258.1576347351074,
          74.95013618469238,
          61.413575172424316,
          3.92714262008667,
          3.7117409706115723,
          -4.084615707397461,
          -0.45198822021484375,
          -6.350128173828125,
          76.29278564453125,
          86.12701416015625,
          47.54356384277344,
          4.605926513671875,
          23.415817260742188,
          -1.1100006103515625,
          -1.0004119873046875,
          22.15985107421875,
          49.418487548828125,
          64.40936279296875,
          49.535125732421875,
          67.81037902832031,
          43.202911376953125,
          -28.032562255859375,
          -47.917442321777344,
          -59.860992431640625,
          -21.27361297607422,
          4.988654613494873,
          -7.170958518981934,
          -1.249281883239746,
          -13.407909393310547,
          5.307975769042969,
          108.35369873046875,
          126.22332763671875,
          -29.464752197265625,
          -21.435562133789062,
          -47.93304443359375,
          -28.59320068359375,
          -145.98861694335938,
          -187.3482666015625,
          -152.031005859375,
          -13.509552001953125,
          59.54437255859375,
          45.98797607421875,
          63.707489013671875,
          39.26844787597656,
          105.38005065917969,
          33.39977264404297,
          16.689208984375,
          31.630859375,
          13.55167531967163,
          4.8598313331604,
          5.152973413467407,
          9.690961360931396,
          -1.4484233856201172,
          17.63713836669922,
          19.840789794921875,
          108.486572265625,
          35.686767578125,
          30.302200317382812,
          47.949188232421875,
          -27.056121826171875,
          6.909393310546875,
          -7.274688720703125,
          44.01568603515625,
          61.05975341796875,
          49.768798828125,
          -63.03369140625,
          55.275604248046875,
          8.409072875976562,
          44.66136169433594,
          55.60369110107422,
          87.25324249267578,
          39.570762634277344,
          8.373199462890625,
          -8.40283203125,
          -7.872108459472656,
          -5.807253837585449,
          -5.339531898498535,
          -16.994640350341797,
          42.67695999145508,
          36.81889343261719,
          56.66944885253906,
          46.87554931640625,
          89.57412719726562,
          95.37521362304688,
          112.2994384765625,
          80.86553955078125,
          47.06622314453125,
          58.291748046875,
          20.82952880859375,
          -11.396331787109375,
          -24.62884521484375,
          -2.4316558837890625,
          99.32280731201172,
          85.99565887451172,
          75.98368072509766,
          35.352081298828125,
          40.9837646484375,
          19.302860260009766,
          20.23704719543457,
          -0.24593639373779297,
          -3.564504623413086,
          -18.50787353515625,
          17.759029388427734,
          1.8409042358398438,
          75.91609191894531,
          112.59561157226562,
          101.074951171875,
          80.54046630859375,
          166.6142578125,
          56.928955078125,
          145.0794677734375,
          119.8736572265625,
          0.9356689453125,
          -27.5528564453125,
          -106.00054931640625,
          15.810806274414062,
          22.666656494140625,
          3.190399169921875,
          9.156440734863281,
          -26.308197021484375,
          -17.523094177246094,
          -21.470287322998047,
          -10.022101402282715,
          -6.485955238342285,
          -43.2886962890625,
          -31.908554077148438,
          13.333938598632812,
          187.92095947265625,
          19.22381591796875,
          -90.94937133789062,
          -62.93603515625,
          -84.8521728515625,
          -65.71401977539062,
          -27.0145263671875,
          -100.22607421875,
          -69.29522705078125,
          21.04168701171875,
          79.4482421875,
          -87.46792602539062,
          21.649658203125,
          40.595985412597656,
          -77.04519653320312,
          -84.22250366210938,
          -17.556705474853516,
          -4.557848930358887,
          -9.844976425170898,
          1.9439857006072998,
          -17.902883529663086,
          -8.854333877563477,
          -40.61610412597656,
          -128.98631286621094,
          -155.85427856445312,
          -91.92906188964844,
          33.449554443359375,
          7.99127197265625,
          -2.861053466796875,
          15.909225463867188,
          -26.715850830078125,
          -43.2188720703125,
          -9.36309814453125,
          134.32073974609375,
          104.23428344726562,
          80.35464477539062,
          9.131729125976562,
          43.09352111816406,
          29.190261840820312,
          23.20970916748047,
          -0.4164600372314453,
          0.18330764770507812,
          -6.736410617828369,
          3.469308018684387,
          6.841175556182861,
          16.892602920532227,
          32.0301513671875,
          94.1278076171875,
          155.25115966796875,
          66.77484130859375,
          19.753250122070312,
          -0.284423828125,
          29.586013793945312,
          -26.306259155273438,
          -42.58306884765625,
          22.69268798828125,
          53.962127685546875,
          109.70941162109375,
          106.91842651367188,
          135.0777587890625,
          49.565704345703125,
          56.38212585449219,
          56.039825439453125,
          36.20166778564453,
          3.1706905364990234,
          -3.8612060546875,
          -8.234577178955078,
          -9.399913787841797,
          -8.812002182006836,
          2.3066978454589844,
          29.236984252929688,
          81.56610107421875,
          110.355712890625,
          29.3690185546875,
          6.9359130859375,
          -0.2773590087890625,
          10.481979370117188,
          -11.667129516601562,
          -8.935714721679688,
          21.7054443359375,
          94.02967834472656,
          83.47998046875,
          117.47158813476562,
          125.60455322265625,
          55.92376708984375,
          82.51426696777344,
          32.32959747314453,
          39.92882537841797,
          33.299102783203125,
          0.15241622924804688,
          -7.018121719360352,
          -7.812002182006836,
          -6.4420623779296875,
          2.3341064453125,
          8.428077697753906,
          37.848388671875,
          129.1998291015625,
          48.0965576171875,
          40.55702209472656,
          10.862472534179688,
          31.42315673828125,
          -16.8209228515625,
          -36.485748291015625,
          -29.170989990234375,
          54.654632568359375,
          71.54281616210938,
          28.254913330078125,
          27.4339599609375,
          -3.420623779296875,
          23.838226318359375,
          33.32585144042969,
          43.211326599121094,
          28.975433349609375,
          23.581249237060547,
          -0.8854331970214844,
          -3.0857810974121094,
          0.9389505386352539,
          -0.644618034362793,
          -5.483829498291016,
          53.19743347167969,
          84.59767150878906,
          69.96090698242188,
          53.930450439453125,
          36.811920166015625,
          -2.51165771484375,
          26.496917724609375,
          48.21484375,
          73.6475830078125,
          30.989227294921875,
          12.783111572265625,
          27.192062377929688,
          47.337982177734375,
          34.20542907714844,
          4.029144287109375,
          22.368865966796875,
          60.689353942871094,
          43.15489196777344,
          34.86537551879883,
          19.949352264404297,
          12.33944320678711,
          -2.4274864196777344,
          -1.241006851196289,
          -17.859466552734375,
          12.053169250488281,
          22.53412628173828,
          36.241912841796875,
          89.39767456054688,
          11.0067138671875,
          53.14080810546875,
          69.32058715820312,
          75.52786254882812,
          -26.166259765625,
          42.187347412109375,
          -26.015594482421875,
          36.83775329589844,
          -1.0503997802734375,
          -46.605224609375,
          -5.695167541503906,
          -24.172821044921875,
          -24.988800048828125,
          -2.225940704345703,
          -1.7080307006835938,
          -1.0998625755310059,
          -6.017844200134277,
          3.9821557998657227,
          10.501180648803711,
          19.27265167236328,
          33.897979736328125,
          89.60345458984375,
          -15.310333251953125,
          -18.925491333007812,
          6.66400146484375,
          34.23316955566406,
          -13.60186767578125,
          -25.088760375976562,
          -23.838470458984375,
          88.46630859375,
          77.48870849609375,
          103.9736328125,
          85.1026611328125,
          41.77690124511719,
          26.026412963867188,
          -0.7322158813476562,
          2.134552001953125,
          20.054275512695312,
          -2.6948089599609375,
          -10.659801483154297,
          -17.707443237304688,
          -13.096359252929688,
          -4.152072906494141,
          -4.092201232910156,
          37.71094512939453,
          61.15454864501953,
          75.51759338378906,
          66.28213500976562,
          133.07022094726562,
          144.27261352539062,
          200.72052001953125,
          161.521484375,
          98.39935302734375,
          118.26113891601562,
          91.32537841796875,
          118.64756774902344,
          84.87834167480469,
          19.326339721679688,
          55.555946350097656,
          55.44732666015625,
          45.433509826660156,
          31.004371643066406,
          23.13892364501953,
          15.890480041503906,
          -8.879810333251953,
          -10.451509475708008,
          -7.011336326599121,
          -10.464313507080078,
          3.795726776123047,
          1.3912200927734375,
          33.7431640625,
          79.56796264648438,
          93.73052978515625,
          195.92684936523438,
          38.477630615234375,
          41.110626220703125,
          -17.458465576171875,
          70.30130004882812,
          71.34820556640625,
          -105.57150268554688,
          -56.547760009765625,
          22.588241577148438,
          -42.129730224609375,
          -32.18458557128906,
          -43.60652160644531,
          -24.112213134765625,
          -16.273639678955078,
          -5.549741744995117,
          2.052035331726074,
          -2.5977611541748047,
          13.367877960205078,
          28.11310577392578,
          99.54815673828125,
          161.74896240234375,
          -12.12841796875,
          -71.40998840332031,
          2.3858184814453125,
          17.94354248046875,
          99.19548034667969,
          22.318618774414062,
          34.37835693359375,
          57.405670166015625,
          113.83282470703125,
          85.79266357421875,
          16.5302734375,
          54.53977966308594,
          25.007949829101562,
          1.4347076416015625,
          1.3014297485351562,
          13.888301849365234,
          0.7483386993408203,
          -4.091182708740234,
          -2.45847749710083,
          0.5415225028991699,
          19.802942276000977,
          44.790794372558594,
          102.34893798828125,
          98.7957763671875,
          -29.897247314453125,
          -48.222076416015625,
          -13.021011352539062,
          69.19398498535156,
          39.3792724609375,
          74.10960388183594,
          60.888641357421875,
          77.57766723632812,
          165.26519775390625,
          127.31158447265625,
          7.06097412109375,
          37.314056396484375,
          80.10823059082031,
          19.602783203125,
          -1.7733688354492188,
          -10.557563781738281,
          5.872864723205566,
          -2.7127017974853516,
          -0.027760028839111328,
          3.721120834350586,
          41.628992557525635,
          57.159690856933594,
          116.07638549804688,
          131.3226318359375,
          47.73260498046875,
          -63.57710266113281,
          -47.39897155761719,
          -38.617401123046875,
          -52.058319091796875,
          -61.57196044921875,
          14.821319580078125,
          52.557769775390625,
          27.069580078125,
          81.86944580078125,
          42.079925537109375,
          60.336090087890625,
          45.41937255859375,
          -6.515754699707031,
          29.232189178466797,
          24.09237289428711,
          12.196773290634155,
          13.853325366973877,
          4.442506551742554,
          8.584577888250351,
          15.225044250488281,
          26.99671173095703,
          110.55343627929688,
          146.06610107421875,
          6.671722412109375,
          39.05485534667969,
          53.18846893310547,
          29.132080078125,
          49.9290771484375,
          45.84309387207031,
          57.84413146972656,
          58.8516845703125,
          187.9779052734375,
          148.21551513671875,
          124.27459716796875,
          38.484649658203125,
          62.03099060058594,
          40.94762420654297,
          37.28700637817383,
          10.807243347167969,
          16.204031944274902,
          -0.31122779846191406,
          -0.9857540130615234,
          0.9329471588134766,
          -1.6083297729492188,
          -30.312973022460938,
          0.4994049072265625,
          -82.276123046875,
          17.0654296875,
          48.29546356201172,
          69.68936157226562,
          62.43913269042969,
          17.895462036132812,
          37.278167724609375,
          112.62506103515625,
          112.1397705078125,
          93.77093505859375,
          9.298919677734375,
          18.84674072265625,
          136.27164459228516,
          40.549346923828125,
          69.23065185546875,
          62.075462341308594,
          23.164138793945312,
          34.03794860839844,
          14.292045593261719,
          -0.4054603576660156,
          -0.013737678527832031,
          -6.670633316040039,
          -11.478981018066406,
          15.08535385131836,
          -10.094825744628906,
          10.218276977539062,
          27.932708740234375,
          68.8504638671875,
          143.88668823242188,
          171.07095336914062,
          216.41494750976562,
          103.31201171875,
          105.80288696289062,
          17.179595947265625,
          18.078582763671875,
          -26.95867919921875,
          66.91556549072266,
          138.38900756835938,
          64.65628814697266,
          82.72753143310547,
          20.859786987304688,
          32.25806427001953,
          21.347991943359375,
          21.410314559936523,
          0.8282661437988281,
          -5.636513710021973,
          18.067569732666016,
          -22.40375518798828,
          -30.550575256347656,
          -64.34158325195312,
          -13.187637329101562,
          -58.47265625,
          -29.49169921875,
          -35.600067138671875,
          -131.45895385742188,
          -0.668304443359375,
          54.6512451171875,
          93.49769592285156,
          119.70982360839844,
          -26.74365234375,
          76.38300895690918,
          19.969589233398438,
          43.97608184814453,
          21.775894165039062,
          24.389153480529785,
          -10.898446083068848,
          -5.641844749450684,
          -4.9187517166137695,
          3.0812482833862305,
          10.3839111328125,
          22.516136169433594,
          1.208404541015625,
          60.05206298828125,
          -2.436004638671875,
          -12.788772583007812,
          68.54798889160156,
          129.45090866088867,
          176.64712524414062,
          65.558837890625,
          39.97975158691406,
          55.923492431640625,
          144.87460327148438,
          177.26339721679688,
          -39.982391357421875,
          85.76043701171875,
          75.78060913085938,
          -30.039566040039062,
          8.411605834960938,
          15.403894424438477,
          -19.7166805267334,
          -9.319405555725098,
          -0.5830447673797607,
          -12.036458969116211,
          23.763219833374023,
          -12.1822509765625,
          -3.77203369140625,
          132.6744384765625,
          11.28094482421875,
          -16.863372802734375,
          7.01141357421875,
          21.0943603515625,
          30.627960205078125,
          1.428558349609375,
          56.585906982421875,
          92.5628662109375,
          154.16275024414062,
          117.56399536132812,
          163.17108154296875,
          25.429351806640625,
          39.56379699707031,
          -4.342979431152344,
          -0.5346450805664062,
          12.011817932128906,
          7.511272430419922,
          -0.2916536331176758,
          4.1278791427612305,
          -1.9532604217529297,
          14.160415649414062,
          25.25501251220703,
          55.431915283203125,
          150.24188232421875,
          7.105010986328125,
          13.592399597167969,
          35.823089599609375,
          6.0986175537109375,
          21.220474243164062,
          40.02500915527344,
          31.742233276367188,
          73.66999816894531,
          133.0445556640625,
          127.59451293945312,
          159.9564666748047,
          53.12602233886719,
          59.788604736328125,
          9.609786987304688,
          16.470802307128906,
          11.872861862182617,
          22.425015091896057,
          4.755686283111572,
          -0.07710456848144531,
          1.4287166595458984,
          6.709384918212891,
          7.896476745605469,
          80.12326049804688,
          151.06256103515625,
          54.213470458984375,
          33.04689025878906,
          10.046356201171875,
          44.082794189453125,
          18.52337646484375,
          25.302581787109375,
          46.49031066894531,
          122.88125610351562,
          89.33145141601562,
          15.16156005859375,
          90.10784912109375,
          30.5791015625,
          60.675933837890625,
          31.36761474609375,
          45.07493591308594,
          23.897214889526367,
          16.425804138183594,
          3.8065481185913086,
          11.624528497457504,
          6.83995509147644,
          16.862457275390625,
          12.891548156738281,
          2.303863525390625,
          126.72573852539062,
          65.78598022460938,
          97.57240295410156,
          59.717498779296875,
          57.58641052246094,
          98.23733520507812,
          79.21266174316406,
          79.1591796875,
          131.44989013671875,
          132.75326538085938,
          -34.490966796875,
          8.034759521484375,
          -18.76019287109375,
          12.637863159179688,
          21.258499145507812,
          58.907310485839844,
          4.478263854980469,
          21.588638305664062,
          8.011764526367188,
          -1.9482975006103516,
          -5.711950302124023,
          -11.92758560180664,
          -13.454841613769531,
          29.486618041992188,
          36.792442321777344,
          97.20159912109375,
          61.72135925292969,
          98.23892211914062,
          20.706817626953125,
          49.7506103515625,
          -0.080841064453125,
          -17.95806884765625,
          7.899444580078125,
          -41.7508544921875,
          -22.229156494140625,
          49.08320617675781,
          42.7049560546875,
          73.24507141113281,
          60.50520324707031,
          42.885414123535156,
          28.771522521972656,
          40.108802795410156,
          28.065715789794922,
          -6.534465789794922,
          -0.7157917022705078,
          -5.347775459289551,
          -23.466815948486328,
          -32.94374465942383,
          -34.03474426269531,
          -35.8306884765625,
          31.67095947265625,
          9.101348876953125,
          38.31292724609375,
          -27.6715087890625,
          -79.54425048828125,
          -38.334014892578125,
          53.52008056640625,
          -63.634552001953125,
          -58.67750549316406,
          -77.30764770507812,
          -18.205612182617188,
          26.6165771484375,
          -7.9203948974609375,
          -26.122173309326172,
          0.502838134765625,
          -5.0634307861328125,
          -5.117947578430176,
          -5.74748420715332,
          15.914067268371582,
          0.3426074981689453,
          1.3388900756835938,
          24.09625244140625,
          4.721923828125,
          -24.114715576171875,
          -15.690353393554688,
          17.501846313476562,
          46.55204772949219,
          27.81646728515625,
          16.643356323242188,
          16.736801147460938,
          203.8446273803711,
          227.50717163085938,
          186.9073486328125,
          -8.6422119140625,
          26.869171142578125,
          -41.626708984375,
          -61.206748962402344,
          44.107760429382324,
          -13.369539260864258,
          -6.25358772277832,
          0.5817422866821289,
          -2.4693217277526855,
          -6.332819938659668,
          10.060972213745117,
          9.336257934570312,
          46.478759765625,
          101.3270263671875,
          5.87158203125,
          -22.253646850585938,
          40.25984191894531,
          158.5294952392578,
          19.547637939453125,
          13.001068115234375,
          -3.1505584716796875,
          61.521820068359375,
          73.57632446289062,
          26.440155029296875,
          -5.48016357421875,
          26.68756103515625,
          2.20526123046875,
          9.92974853515625,
          4.014564514160156,
          10.165252685546875,
          -1.2502174377441406,
          -6.383489608764648,
          -3.867818832397461,
          0.5649938583374023,
          5.073097229003906,
          3.7382583618164062,
          46.874786376953125,
          146.0953369140625,
          32.603973388671875,
          21.061203002929688,
          12.538330078125,
          5.5303955078125,
          -39.840118408203125,
          -8.418258666992188,
          5.914031982421875,
          55.565582275390625,
          53.895599365234375,
          78.3892822265625,
          -14.773956298828125,
          2.3665313720703125,
          3.63226318359375,
          7.682746887207031,
          3.5815582275390625
         ],
         "yaxis": "y"
        }
       ],
       "layout": {
        "legend": {
         "tracegroupgap": 0
        },
        "margin": {
         "t": 60
        },
        "template": {
         "data": {
          "bar": [
           {
            "error_x": {
             "color": "#2a3f5f"
            },
            "error_y": {
             "color": "#2a3f5f"
            },
            "marker": {
             "line": {
              "color": "#E5ECF6",
              "width": 0.5
             },
             "pattern": {
              "fillmode": "overlay",
              "size": 10,
              "solidity": 0.2
             }
            },
            "type": "bar"
           }
          ],
          "barpolar": [
           {
            "marker": {
             "line": {
              "color": "#E5ECF6",
              "width": 0.5
             },
             "pattern": {
              "fillmode": "overlay",
              "size": 10,
              "solidity": 0.2
             }
            },
            "type": "barpolar"
           }
          ],
          "carpet": [
           {
            "aaxis": {
             "endlinecolor": "#2a3f5f",
             "gridcolor": "white",
             "linecolor": "white",
             "minorgridcolor": "white",
             "startlinecolor": "#2a3f5f"
            },
            "baxis": {
             "endlinecolor": "#2a3f5f",
             "gridcolor": "white",
             "linecolor": "white",
             "minorgridcolor": "white",
             "startlinecolor": "#2a3f5f"
            },
            "type": "carpet"
           }
          ],
          "choropleth": [
           {
            "colorbar": {
             "outlinewidth": 0,
             "ticks": ""
            },
            "type": "choropleth"
           }
          ],
          "contour": [
           {
            "colorbar": {
             "outlinewidth": 0,
             "ticks": ""
            },
            "colorscale": [
             [
              0,
              "#0d0887"
             ],
             [
              0.1111111111111111,
              "#46039f"
             ],
             [
              0.2222222222222222,
              "#7201a8"
             ],
             [
              0.3333333333333333,
              "#9c179e"
             ],
             [
              0.4444444444444444,
              "#bd3786"
             ],
             [
              0.5555555555555556,
              "#d8576b"
             ],
             [
              0.6666666666666666,
              "#ed7953"
             ],
             [
              0.7777777777777778,
              "#fb9f3a"
             ],
             [
              0.8888888888888888,
              "#fdca26"
             ],
             [
              1,
              "#f0f921"
             ]
            ],
            "type": "contour"
           }
          ],
          "contourcarpet": [
           {
            "colorbar": {
             "outlinewidth": 0,
             "ticks": ""
            },
            "type": "contourcarpet"
           }
          ],
          "heatmap": [
           {
            "colorbar": {
             "outlinewidth": 0,
             "ticks": ""
            },
            "colorscale": [
             [
              0,
              "#0d0887"
             ],
             [
              0.1111111111111111,
              "#46039f"
             ],
             [
              0.2222222222222222,
              "#7201a8"
             ],
             [
              0.3333333333333333,
              "#9c179e"
             ],
             [
              0.4444444444444444,
              "#bd3786"
             ],
             [
              0.5555555555555556,
              "#d8576b"
             ],
             [
              0.6666666666666666,
              "#ed7953"
             ],
             [
              0.7777777777777778,
              "#fb9f3a"
             ],
             [
              0.8888888888888888,
              "#fdca26"
             ],
             [
              1,
              "#f0f921"
             ]
            ],
            "type": "heatmap"
           }
          ],
          "heatmapgl": [
           {
            "colorbar": {
             "outlinewidth": 0,
             "ticks": ""
            },
            "colorscale": [
             [
              0,
              "#0d0887"
             ],
             [
              0.1111111111111111,
              "#46039f"
             ],
             [
              0.2222222222222222,
              "#7201a8"
             ],
             [
              0.3333333333333333,
              "#9c179e"
             ],
             [
              0.4444444444444444,
              "#bd3786"
             ],
             [
              0.5555555555555556,
              "#d8576b"
             ],
             [
              0.6666666666666666,
              "#ed7953"
             ],
             [
              0.7777777777777778,
              "#fb9f3a"
             ],
             [
              0.8888888888888888,
              "#fdca26"
             ],
             [
              1,
              "#f0f921"
             ]
            ],
            "type": "heatmapgl"
           }
          ],
          "histogram": [
           {
            "marker": {
             "pattern": {
              "fillmode": "overlay",
              "size": 10,
              "solidity": 0.2
             }
            },
            "type": "histogram"
           }
          ],
          "histogram2d": [
           {
            "colorbar": {
             "outlinewidth": 0,
             "ticks": ""
            },
            "colorscale": [
             [
              0,
              "#0d0887"
             ],
             [
              0.1111111111111111,
              "#46039f"
             ],
             [
              0.2222222222222222,
              "#7201a8"
             ],
             [
              0.3333333333333333,
              "#9c179e"
             ],
             [
              0.4444444444444444,
              "#bd3786"
             ],
             [
              0.5555555555555556,
              "#d8576b"
             ],
             [
              0.6666666666666666,
              "#ed7953"
             ],
             [
              0.7777777777777778,
              "#fb9f3a"
             ],
             [
              0.8888888888888888,
              "#fdca26"
             ],
             [
              1,
              "#f0f921"
             ]
            ],
            "type": "histogram2d"
           }
          ],
          "histogram2dcontour": [
           {
            "colorbar": {
             "outlinewidth": 0,
             "ticks": ""
            },
            "colorscale": [
             [
              0,
              "#0d0887"
             ],
             [
              0.1111111111111111,
              "#46039f"
             ],
             [
              0.2222222222222222,
              "#7201a8"
             ],
             [
              0.3333333333333333,
              "#9c179e"
             ],
             [
              0.4444444444444444,
              "#bd3786"
             ],
             [
              0.5555555555555556,
              "#d8576b"
             ],
             [
              0.6666666666666666,
              "#ed7953"
             ],
             [
              0.7777777777777778,
              "#fb9f3a"
             ],
             [
              0.8888888888888888,
              "#fdca26"
             ],
             [
              1,
              "#f0f921"
             ]
            ],
            "type": "histogram2dcontour"
           }
          ],
          "mesh3d": [
           {
            "colorbar": {
             "outlinewidth": 0,
             "ticks": ""
            },
            "type": "mesh3d"
           }
          ],
          "parcoords": [
           {
            "line": {
             "colorbar": {
              "outlinewidth": 0,
              "ticks": ""
             }
            },
            "type": "parcoords"
           }
          ],
          "pie": [
           {
            "automargin": true,
            "type": "pie"
           }
          ],
          "scatter": [
           {
            "marker": {
             "colorbar": {
              "outlinewidth": 0,
              "ticks": ""
             }
            },
            "type": "scatter"
           }
          ],
          "scatter3d": [
           {
            "line": {
             "colorbar": {
              "outlinewidth": 0,
              "ticks": ""
             }
            },
            "marker": {
             "colorbar": {
              "outlinewidth": 0,
              "ticks": ""
             }
            },
            "type": "scatter3d"
           }
          ],
          "scattercarpet": [
           {
            "marker": {
             "colorbar": {
              "outlinewidth": 0,
              "ticks": ""
             }
            },
            "type": "scattercarpet"
           }
          ],
          "scattergeo": [
           {
            "marker": {
             "colorbar": {
              "outlinewidth": 0,
              "ticks": ""
             }
            },
            "type": "scattergeo"
           }
          ],
          "scattergl": [
           {
            "marker": {
             "colorbar": {
              "outlinewidth": 0,
              "ticks": ""
             }
            },
            "type": "scattergl"
           }
          ],
          "scattermapbox": [
           {
            "marker": {
             "colorbar": {
              "outlinewidth": 0,
              "ticks": ""
             }
            },
            "type": "scattermapbox"
           }
          ],
          "scatterpolar": [
           {
            "marker": {
             "colorbar": {
              "outlinewidth": 0,
              "ticks": ""
             }
            },
            "type": "scatterpolar"
           }
          ],
          "scatterpolargl": [
           {
            "marker": {
             "colorbar": {
              "outlinewidth": 0,
              "ticks": ""
             }
            },
            "type": "scatterpolargl"
           }
          ],
          "scatterternary": [
           {
            "marker": {
             "colorbar": {
              "outlinewidth": 0,
              "ticks": ""
             }
            },
            "type": "scatterternary"
           }
          ],
          "surface": [
           {
            "colorbar": {
             "outlinewidth": 0,
             "ticks": ""
            },
            "colorscale": [
             [
              0,
              "#0d0887"
             ],
             [
              0.1111111111111111,
              "#46039f"
             ],
             [
              0.2222222222222222,
              "#7201a8"
             ],
             [
              0.3333333333333333,
              "#9c179e"
             ],
             [
              0.4444444444444444,
              "#bd3786"
             ],
             [
              0.5555555555555556,
              "#d8576b"
             ],
             [
              0.6666666666666666,
              "#ed7953"
             ],
             [
              0.7777777777777778,
              "#fb9f3a"
             ],
             [
              0.8888888888888888,
              "#fdca26"
             ],
             [
              1,
              "#f0f921"
             ]
            ],
            "type": "surface"
           }
          ],
          "table": [
           {
            "cells": {
             "fill": {
              "color": "#EBF0F8"
             },
             "line": {
              "color": "white"
             }
            },
            "header": {
             "fill": {
              "color": "#C8D4E3"
             },
             "line": {
              "color": "white"
             }
            },
            "type": "table"
           }
          ]
         },
         "layout": {
          "annotationdefaults": {
           "arrowcolor": "#2a3f5f",
           "arrowhead": 0,
           "arrowwidth": 1
          },
          "autotypenumbers": "strict",
          "coloraxis": {
           "colorbar": {
            "outlinewidth": 0,
            "ticks": ""
           }
          },
          "colorscale": {
           "diverging": [
            [
             0,
             "#8e0152"
            ],
            [
             0.1,
             "#c51b7d"
            ],
            [
             0.2,
             "#de77ae"
            ],
            [
             0.3,
             "#f1b6da"
            ],
            [
             0.4,
             "#fde0ef"
            ],
            [
             0.5,
             "#f7f7f7"
            ],
            [
             0.6,
             "#e6f5d0"
            ],
            [
             0.7,
             "#b8e186"
            ],
            [
             0.8,
             "#7fbc41"
            ],
            [
             0.9,
             "#4d9221"
            ],
            [
             1,
             "#276419"
            ]
           ],
           "sequential": [
            [
             0,
             "#0d0887"
            ],
            [
             0.1111111111111111,
             "#46039f"
            ],
            [
             0.2222222222222222,
             "#7201a8"
            ],
            [
             0.3333333333333333,
             "#9c179e"
            ],
            [
             0.4444444444444444,
             "#bd3786"
            ],
            [
             0.5555555555555556,
             "#d8576b"
            ],
            [
             0.6666666666666666,
             "#ed7953"
            ],
            [
             0.7777777777777778,
             "#fb9f3a"
            ],
            [
             0.8888888888888888,
             "#fdca26"
            ],
            [
             1,
             "#f0f921"
            ]
           ],
           "sequentialminus": [
            [
             0,
             "#0d0887"
            ],
            [
             0.1111111111111111,
             "#46039f"
            ],
            [
             0.2222222222222222,
             "#7201a8"
            ],
            [
             0.3333333333333333,
             "#9c179e"
            ],
            [
             0.4444444444444444,
             "#bd3786"
            ],
            [
             0.5555555555555556,
             "#d8576b"
            ],
            [
             0.6666666666666666,
             "#ed7953"
            ],
            [
             0.7777777777777778,
             "#fb9f3a"
            ],
            [
             0.8888888888888888,
             "#fdca26"
            ],
            [
             1,
             "#f0f921"
            ]
           ]
          },
          "colorway": [
           "#636efa",
           "#EF553B",
           "#00cc96",
           "#ab63fa",
           "#FFA15A",
           "#19d3f3",
           "#FF6692",
           "#B6E880",
           "#FF97FF",
           "#FECB52"
          ],
          "font": {
           "color": "#2a3f5f"
          },
          "geo": {
           "bgcolor": "white",
           "lakecolor": "white",
           "landcolor": "#E5ECF6",
           "showlakes": true,
           "showland": true,
           "subunitcolor": "white"
          },
          "hoverlabel": {
           "align": "left"
          },
          "hovermode": "closest",
          "mapbox": {
           "style": "light"
          },
          "paper_bgcolor": "white",
          "plot_bgcolor": "#E5ECF6",
          "polar": {
           "angularaxis": {
            "gridcolor": "white",
            "linecolor": "white",
            "ticks": ""
           },
           "bgcolor": "#E5ECF6",
           "radialaxis": {
            "gridcolor": "white",
            "linecolor": "white",
            "ticks": ""
           }
          },
          "scene": {
           "xaxis": {
            "backgroundcolor": "#E5ECF6",
            "gridcolor": "white",
            "gridwidth": 2,
            "linecolor": "white",
            "showbackground": true,
            "ticks": "",
            "zerolinecolor": "white"
           },
           "yaxis": {
            "backgroundcolor": "#E5ECF6",
            "gridcolor": "white",
            "gridwidth": 2,
            "linecolor": "white",
            "showbackground": true,
            "ticks": "",
            "zerolinecolor": "white"
           },
           "zaxis": {
            "backgroundcolor": "#E5ECF6",
            "gridcolor": "white",
            "gridwidth": 2,
            "linecolor": "white",
            "showbackground": true,
            "ticks": "",
            "zerolinecolor": "white"
           }
          },
          "shapedefaults": {
           "line": {
            "color": "#2a3f5f"
           }
          },
          "ternary": {
           "aaxis": {
            "gridcolor": "white",
            "linecolor": "white",
            "ticks": ""
           },
           "baxis": {
            "gridcolor": "white",
            "linecolor": "white",
            "ticks": ""
           },
           "bgcolor": "#E5ECF6",
           "caxis": {
            "gridcolor": "white",
            "linecolor": "white",
            "ticks": ""
           }
          },
          "title": {
           "x": 0.05
          },
          "xaxis": {
           "automargin": true,
           "gridcolor": "white",
           "linecolor": "white",
           "ticks": "",
           "title": {
            "standoff": 15
           },
           "zerolinecolor": "white",
           "zerolinewidth": 2
          },
          "yaxis": {
           "automargin": true,
           "gridcolor": "white",
           "linecolor": "white",
           "ticks": "",
           "title": {
            "standoff": 15
           },
           "zerolinecolor": "white",
           "zerolinewidth": 2
          }
         }
        },
        "xaxis": {
         "anchor": "y",
         "domain": [
          0,
          1
         ],
         "title": {
          "text": "index"
         }
        },
        "yaxis": {
         "anchor": "x",
         "domain": [
          0,
          1
         ],
         "title": {
          "text": "res"
         }
        }
       }
      }
     },
     "metadata": {},
     "output_type": "display_data"
    }
   ],
   "source": [
    "X_test_res = X_test\n",
    "X_test_res[\"res\"] = res\n",
    "X_test_res[\"date\"] = date\n",
    "\n",
    "fig = px.scatter(X_test_res,y=\"res\",hover_data=[\"heure\",\"humidity\",\"temp\",\"date\"])\n",
    "#fig.update_traces(mode=\"markers\")\n",
    "fig.show()"
   ]
  },
  {
   "cell_type": "code",
   "execution_count": 149,
   "metadata": {},
   "outputs": [
    {
     "data": {
      "text/plain": [
       "29.432841318571104"
      ]
     },
     "execution_count": 149,
     "metadata": {},
     "output_type": "execute_result"
    }
   ],
   "source": [
    "res.mean()"
   ]
  },
  {
   "cell_type": "code",
   "execution_count": 236,
   "metadata": {},
   "outputs": [
    {
     "data": {
      "text/plain": [
       "[0        False\n",
       " 1        False\n",
       " 2        False\n",
       " 3         True\n",
       " 4        False\n",
       "          ...  \n",
       " 10881    False\n",
       " 10882    False\n",
       " 10883    False\n",
       " 10884    False\n",
       " 10885    False\n",
       " Name: heure, Length: 10886, dtype: bool]"
      ]
     },
     "execution_count": 236,
     "metadata": {},
     "output_type": "execute_result"
    }
   ],
   "source": [
    "masque = [df_analyses[\"heure\"]==3]\n",
    "masque"
   ]
  },
  {
   "cell_type": "code",
   "execution_count": 244,
   "metadata": {},
   "outputs": [
    {
     "data": {
      "text/html": [
       "<div>\n",
       "<style scoped>\n",
       "    .dataframe tbody tr th:only-of-type {\n",
       "        vertical-align: middle;\n",
       "    }\n",
       "\n",
       "    .dataframe tbody tr th {\n",
       "        vertical-align: top;\n",
       "    }\n",
       "\n",
       "    .dataframe thead th {\n",
       "        text-align: right;\n",
       "    }\n",
       "</style>\n",
       "<table border=\"1\" class=\"dataframe\">\n",
       "  <thead>\n",
       "    <tr style=\"text-align: right;\">\n",
       "      <th></th>\n",
       "      <th>datetime</th>\n",
       "      <th>season</th>\n",
       "      <th>holiday</th>\n",
       "      <th>workingday</th>\n",
       "      <th>weather</th>\n",
       "      <th>temp</th>\n",
       "      <th>atemp</th>\n",
       "      <th>humidity</th>\n",
       "      <th>windspeed</th>\n",
       "      <th>casual</th>\n",
       "      <th>registered</th>\n",
       "      <th>count</th>\n",
       "      <th>heure</th>\n",
       "      <th>jour</th>\n",
       "      <th>mois</th>\n",
       "    </tr>\n",
       "  </thead>\n",
       "  <tbody>\n",
       "    <tr>\n",
       "      <th>3691</th>\n",
       "      <td>2011-09-04 17:00:00</td>\n",
       "      <td>3</td>\n",
       "      <td>0</td>\n",
       "      <td>0</td>\n",
       "      <td>1</td>\n",
       "      <td>31.16</td>\n",
       "      <td>36.365</td>\n",
       "      <td>66</td>\n",
       "      <td>15.0013</td>\n",
       "      <td>204</td>\n",
       "      <td>172</td>\n",
       "      <td>376</td>\n",
       "      <td>17</td>\n",
       "      <td>4</td>\n",
       "      <td>9</td>\n",
       "    </tr>\n",
       "    <tr>\n",
       "      <th>9152</th>\n",
       "      <td>2012-09-04 17:00:00</td>\n",
       "      <td>3</td>\n",
       "      <td>0</td>\n",
       "      <td>1</td>\n",
       "      <td>1</td>\n",
       "      <td>31.16</td>\n",
       "      <td>36.365</td>\n",
       "      <td>70</td>\n",
       "      <td>23.9994</td>\n",
       "      <td>110</td>\n",
       "      <td>746</td>\n",
       "      <td>856</td>\n",
       "      <td>17</td>\n",
       "      <td>4</td>\n",
       "      <td>9</td>\n",
       "    </tr>\n",
       "    <tr>\n",
       "      <th>3729</th>\n",
       "      <td>2011-09-06 08:00:00</td>\n",
       "      <td>3</td>\n",
       "      <td>0</td>\n",
       "      <td>1</td>\n",
       "      <td>3</td>\n",
       "      <td>22.14</td>\n",
       "      <td>25.760</td>\n",
       "      <td>83</td>\n",
       "      <td>26.0027</td>\n",
       "      <td>15</td>\n",
       "      <td>349</td>\n",
       "      <td>364</td>\n",
       "      <td>8</td>\n",
       "      <td>6</td>\n",
       "      <td>9</td>\n",
       "    </tr>\n",
       "    <tr>\n",
       "      <th>9191</th>\n",
       "      <td>2012-09-06 08:00:00</td>\n",
       "      <td>3</td>\n",
       "      <td>0</td>\n",
       "      <td>1</td>\n",
       "      <td>3</td>\n",
       "      <td>28.70</td>\n",
       "      <td>33.335</td>\n",
       "      <td>79</td>\n",
       "      <td>0.0000</td>\n",
       "      <td>24</td>\n",
       "      <td>622</td>\n",
       "      <td>646</td>\n",
       "      <td>8</td>\n",
       "      <td>6</td>\n",
       "      <td>9</td>\n",
       "    </tr>\n",
       "    <tr>\n",
       "      <th>3738</th>\n",
       "      <td>2011-09-06 17:00:00</td>\n",
       "      <td>3</td>\n",
       "      <td>0</td>\n",
       "      <td>1</td>\n",
       "      <td>2</td>\n",
       "      <td>22.14</td>\n",
       "      <td>25.760</td>\n",
       "      <td>88</td>\n",
       "      <td>26.0027</td>\n",
       "      <td>15</td>\n",
       "      <td>276</td>\n",
       "      <td>291</td>\n",
       "      <td>17</td>\n",
       "      <td>6</td>\n",
       "      <td>9</td>\n",
       "    </tr>\n",
       "    <tr>\n",
       "      <th>9200</th>\n",
       "      <td>2012-09-06 17:00:00</td>\n",
       "      <td>3</td>\n",
       "      <td>0</td>\n",
       "      <td>1</td>\n",
       "      <td>1</td>\n",
       "      <td>30.34</td>\n",
       "      <td>34.850</td>\n",
       "      <td>70</td>\n",
       "      <td>16.9979</td>\n",
       "      <td>67</td>\n",
       "      <td>741</td>\n",
       "      <td>808</td>\n",
       "      <td>17</td>\n",
       "      <td>6</td>\n",
       "      <td>9</td>\n",
       "    </tr>\n",
       "    <tr>\n",
       "      <th>3780</th>\n",
       "      <td>2011-09-08 12:00:00</td>\n",
       "      <td>3</td>\n",
       "      <td>0</td>\n",
       "      <td>1</td>\n",
       "      <td>2</td>\n",
       "      <td>27.06</td>\n",
       "      <td>29.545</td>\n",
       "      <td>94</td>\n",
       "      <td>15.0013</td>\n",
       "      <td>17</td>\n",
       "      <td>85</td>\n",
       "      <td>102</td>\n",
       "      <td>12</td>\n",
       "      <td>8</td>\n",
       "      <td>9</td>\n",
       "    </tr>\n",
       "    <tr>\n",
       "      <th>9243</th>\n",
       "      <td>2012-09-08 12:00:00</td>\n",
       "      <td>3</td>\n",
       "      <td>0</td>\n",
       "      <td>0</td>\n",
       "      <td>1</td>\n",
       "      <td>32.80</td>\n",
       "      <td>37.880</td>\n",
       "      <td>55</td>\n",
       "      <td>32.9975</td>\n",
       "      <td>220</td>\n",
       "      <td>474</td>\n",
       "      <td>694</td>\n",
       "      <td>12</td>\n",
       "      <td>8</td>\n",
       "      <td>9</td>\n",
       "    </tr>\n",
       "    <tr>\n",
       "      <th>3783</th>\n",
       "      <td>2011-09-08 15:00:00</td>\n",
       "      <td>3</td>\n",
       "      <td>0</td>\n",
       "      <td>1</td>\n",
       "      <td>3</td>\n",
       "      <td>27.06</td>\n",
       "      <td>29.545</td>\n",
       "      <td>89</td>\n",
       "      <td>19.9995</td>\n",
       "      <td>24</td>\n",
       "      <td>115</td>\n",
       "      <td>139</td>\n",
       "      <td>15</td>\n",
       "      <td>8</td>\n",
       "      <td>9</td>\n",
       "    </tr>\n",
       "    <tr>\n",
       "      <th>9246</th>\n",
       "      <td>2012-09-08 15:00:00</td>\n",
       "      <td>3</td>\n",
       "      <td>0</td>\n",
       "      <td>0</td>\n",
       "      <td>3</td>\n",
       "      <td>22.96</td>\n",
       "      <td>26.515</td>\n",
       "      <td>88</td>\n",
       "      <td>16.9979</td>\n",
       "      <td>175</td>\n",
       "      <td>337</td>\n",
       "      <td>512</td>\n",
       "      <td>15</td>\n",
       "      <td>8</td>\n",
       "      <td>9</td>\n",
       "    </tr>\n",
       "    <tr>\n",
       "      <th>3784</th>\n",
       "      <td>2011-09-08 16:00:00</td>\n",
       "      <td>3</td>\n",
       "      <td>0</td>\n",
       "      <td>1</td>\n",
       "      <td>3</td>\n",
       "      <td>26.24</td>\n",
       "      <td>28.030</td>\n",
       "      <td>94</td>\n",
       "      <td>19.0012</td>\n",
       "      <td>5</td>\n",
       "      <td>151</td>\n",
       "      <td>156</td>\n",
       "      <td>16</td>\n",
       "      <td>8</td>\n",
       "      <td>9</td>\n",
       "    </tr>\n",
       "    <tr>\n",
       "      <th>9247</th>\n",
       "      <td>2012-09-08 16:00:00</td>\n",
       "      <td>3</td>\n",
       "      <td>0</td>\n",
       "      <td>0</td>\n",
       "      <td>3</td>\n",
       "      <td>22.96</td>\n",
       "      <td>26.515</td>\n",
       "      <td>88</td>\n",
       "      <td>12.9980</td>\n",
       "      <td>19</td>\n",
       "      <td>95</td>\n",
       "      <td>114</td>\n",
       "      <td>16</td>\n",
       "      <td>8</td>\n",
       "      <td>9</td>\n",
       "    </tr>\n",
       "    <tr>\n",
       "      <th>3951</th>\n",
       "      <td>2011-09-15 16:00:00</td>\n",
       "      <td>3</td>\n",
       "      <td>0</td>\n",
       "      <td>1</td>\n",
       "      <td>2</td>\n",
       "      <td>22.14</td>\n",
       "      <td>25.760</td>\n",
       "      <td>77</td>\n",
       "      <td>31.0009</td>\n",
       "      <td>29</td>\n",
       "      <td>193</td>\n",
       "      <td>222</td>\n",
       "      <td>16</td>\n",
       "      <td>15</td>\n",
       "      <td>9</td>\n",
       "    </tr>\n",
       "    <tr>\n",
       "      <th>9415</th>\n",
       "      <td>2012-09-15 16:00:00</td>\n",
       "      <td>3</td>\n",
       "      <td>0</td>\n",
       "      <td>0</td>\n",
       "      <td>2</td>\n",
       "      <td>27.06</td>\n",
       "      <td>31.060</td>\n",
       "      <td>36</td>\n",
       "      <td>15.0013</td>\n",
       "      <td>350</td>\n",
       "      <td>433</td>\n",
       "      <td>783</td>\n",
       "      <td>16</td>\n",
       "      <td>15</td>\n",
       "      <td>9</td>\n",
       "    </tr>\n",
       "    <tr>\n",
       "      <th>4025</th>\n",
       "      <td>2011-09-18 18:00:00</td>\n",
       "      <td>3</td>\n",
       "      <td>0</td>\n",
       "      <td>0</td>\n",
       "      <td>2</td>\n",
       "      <td>22.96</td>\n",
       "      <td>26.515</td>\n",
       "      <td>60</td>\n",
       "      <td>7.0015</td>\n",
       "      <td>66</td>\n",
       "      <td>223</td>\n",
       "      <td>289</td>\n",
       "      <td>18</td>\n",
       "      <td>18</td>\n",
       "      <td>9</td>\n",
       "    </tr>\n",
       "    <tr>\n",
       "      <th>9489</th>\n",
       "      <td>2012-09-18 18:00:00</td>\n",
       "      <td>3</td>\n",
       "      <td>0</td>\n",
       "      <td>1</td>\n",
       "      <td>2</td>\n",
       "      <td>24.60</td>\n",
       "      <td>27.275</td>\n",
       "      <td>88</td>\n",
       "      <td>11.0014</td>\n",
       "      <td>19</td>\n",
       "      <td>262</td>\n",
       "      <td>281</td>\n",
       "      <td>18</td>\n",
       "      <td>18</td>\n",
       "      <td>9</td>\n",
       "    </tr>\n",
       "    <tr>\n",
       "      <th>4087</th>\n",
       "      <td>2011-10-02 08:00:00</td>\n",
       "      <td>4</td>\n",
       "      <td>0</td>\n",
       "      <td>0</td>\n",
       "      <td>2</td>\n",
       "      <td>13.94</td>\n",
       "      <td>16.665</td>\n",
       "      <td>76</td>\n",
       "      <td>12.9980</td>\n",
       "      <td>14</td>\n",
       "      <td>50</td>\n",
       "      <td>64</td>\n",
       "      <td>8</td>\n",
       "      <td>2</td>\n",
       "      <td>10</td>\n",
       "    </tr>\n",
       "    <tr>\n",
       "      <th>9551</th>\n",
       "      <td>2012-10-02 08:00:00</td>\n",
       "      <td>4</td>\n",
       "      <td>0</td>\n",
       "      <td>1</td>\n",
       "      <td>3</td>\n",
       "      <td>24.60</td>\n",
       "      <td>27.275</td>\n",
       "      <td>88</td>\n",
       "      <td>0.0000</td>\n",
       "      <td>6</td>\n",
       "      <td>128</td>\n",
       "      <td>134</td>\n",
       "      <td>8</td>\n",
       "      <td>2</td>\n",
       "      <td>10</td>\n",
       "    </tr>\n",
       "    <tr>\n",
       "      <th>4096</th>\n",
       "      <td>2011-10-02 17:00:00</td>\n",
       "      <td>4</td>\n",
       "      <td>0</td>\n",
       "      <td>0</td>\n",
       "      <td>3</td>\n",
       "      <td>14.76</td>\n",
       "      <td>17.425</td>\n",
       "      <td>87</td>\n",
       "      <td>11.0014</td>\n",
       "      <td>32</td>\n",
       "      <td>135</td>\n",
       "      <td>167</td>\n",
       "      <td>17</td>\n",
       "      <td>2</td>\n",
       "      <td>10</td>\n",
       "    </tr>\n",
       "    <tr>\n",
       "      <th>9560</th>\n",
       "      <td>2012-10-02 17:00:00</td>\n",
       "      <td>4</td>\n",
       "      <td>0</td>\n",
       "      <td>1</td>\n",
       "      <td>3</td>\n",
       "      <td>25.42</td>\n",
       "      <td>28.030</td>\n",
       "      <td>88</td>\n",
       "      <td>7.0015</td>\n",
       "      <td>38</td>\n",
       "      <td>677</td>\n",
       "      <td>715</td>\n",
       "      <td>17</td>\n",
       "      <td>2</td>\n",
       "      <td>10</td>\n",
       "    </tr>\n",
       "    <tr>\n",
       "      <th>4097</th>\n",
       "      <td>2011-10-02 18:00:00</td>\n",
       "      <td>4</td>\n",
       "      <td>0</td>\n",
       "      <td>0</td>\n",
       "      <td>2</td>\n",
       "      <td>14.76</td>\n",
       "      <td>17.425</td>\n",
       "      <td>81</td>\n",
       "      <td>12.9980</td>\n",
       "      <td>16</td>\n",
       "      <td>158</td>\n",
       "      <td>174</td>\n",
       "      <td>18</td>\n",
       "      <td>2</td>\n",
       "      <td>10</td>\n",
       "    </tr>\n",
       "    <tr>\n",
       "      <th>9561</th>\n",
       "      <td>2012-10-02 18:00:00</td>\n",
       "      <td>4</td>\n",
       "      <td>0</td>\n",
       "      <td>1</td>\n",
       "      <td>3</td>\n",
       "      <td>25.42</td>\n",
       "      <td>27.275</td>\n",
       "      <td>94</td>\n",
       "      <td>6.0032</td>\n",
       "      <td>48</td>\n",
       "      <td>639</td>\n",
       "      <td>687</td>\n",
       "      <td>18</td>\n",
       "      <td>2</td>\n",
       "      <td>10</td>\n",
       "    </tr>\n",
       "    <tr>\n",
       "      <th>4100</th>\n",
       "      <td>2011-10-02 21:00:00</td>\n",
       "      <td>4</td>\n",
       "      <td>0</td>\n",
       "      <td>0</td>\n",
       "      <td>1</td>\n",
       "      <td>14.76</td>\n",
       "      <td>17.425</td>\n",
       "      <td>71</td>\n",
       "      <td>15.0013</td>\n",
       "      <td>17</td>\n",
       "      <td>71</td>\n",
       "      <td>88</td>\n",
       "      <td>21</td>\n",
       "      <td>2</td>\n",
       "      <td>10</td>\n",
       "    </tr>\n",
       "    <tr>\n",
       "      <th>9564</th>\n",
       "      <td>2012-10-02 21:00:00</td>\n",
       "      <td>4</td>\n",
       "      <td>0</td>\n",
       "      <td>1</td>\n",
       "      <td>3</td>\n",
       "      <td>25.42</td>\n",
       "      <td>27.275</td>\n",
       "      <td>94</td>\n",
       "      <td>7.0015</td>\n",
       "      <td>24</td>\n",
       "      <td>265</td>\n",
       "      <td>289</td>\n",
       "      <td>21</td>\n",
       "      <td>2</td>\n",
       "      <td>10</td>\n",
       "    </tr>\n",
       "    <tr>\n",
       "      <th>4111</th>\n",
       "      <td>2011-10-03 08:00:00</td>\n",
       "      <td>4</td>\n",
       "      <td>0</td>\n",
       "      <td>1</td>\n",
       "      <td>2</td>\n",
       "      <td>14.76</td>\n",
       "      <td>18.180</td>\n",
       "      <td>71</td>\n",
       "      <td>7.0015</td>\n",
       "      <td>13</td>\n",
       "      <td>359</td>\n",
       "      <td>372</td>\n",
       "      <td>8</td>\n",
       "      <td>3</td>\n",
       "      <td>10</td>\n",
       "    </tr>\n",
       "    <tr>\n",
       "      <th>9575</th>\n",
       "      <td>2012-10-03 08:00:00</td>\n",
       "      <td>4</td>\n",
       "      <td>0</td>\n",
       "      <td>1</td>\n",
       "      <td>2</td>\n",
       "      <td>25.42</td>\n",
       "      <td>28.030</td>\n",
       "      <td>88</td>\n",
       "      <td>7.0015</td>\n",
       "      <td>28</td>\n",
       "      <td>781</td>\n",
       "      <td>809</td>\n",
       "      <td>8</td>\n",
       "      <td>3</td>\n",
       "      <td>10</td>\n",
       "    </tr>\n",
       "    <tr>\n",
       "      <th>4279</th>\n",
       "      <td>2011-10-10 08:00:00</td>\n",
       "      <td>4</td>\n",
       "      <td>1</td>\n",
       "      <td>0</td>\n",
       "      <td>1</td>\n",
       "      <td>21.32</td>\n",
       "      <td>25.000</td>\n",
       "      <td>83</td>\n",
       "      <td>0.0000</td>\n",
       "      <td>27</td>\n",
       "      <td>227</td>\n",
       "      <td>254</td>\n",
       "      <td>8</td>\n",
       "      <td>10</td>\n",
       "      <td>10</td>\n",
       "    </tr>\n",
       "    <tr>\n",
       "      <th>9743</th>\n",
       "      <td>2012-10-10 08:00:00</td>\n",
       "      <td>4</td>\n",
       "      <td>0</td>\n",
       "      <td>1</td>\n",
       "      <td>1</td>\n",
       "      <td>20.50</td>\n",
       "      <td>24.240</td>\n",
       "      <td>77</td>\n",
       "      <td>11.0014</td>\n",
       "      <td>33</td>\n",
       "      <td>806</td>\n",
       "      <td>839</td>\n",
       "      <td>8</td>\n",
       "      <td>10</td>\n",
       "      <td>10</td>\n",
       "    </tr>\n",
       "    <tr>\n",
       "      <th>4303</th>\n",
       "      <td>2011-10-11 08:00:00</td>\n",
       "      <td>4</td>\n",
       "      <td>0</td>\n",
       "      <td>1</td>\n",
       "      <td>2</td>\n",
       "      <td>22.96</td>\n",
       "      <td>26.515</td>\n",
       "      <td>83</td>\n",
       "      <td>7.0015</td>\n",
       "      <td>31</td>\n",
       "      <td>375</td>\n",
       "      <td>406</td>\n",
       "      <td>8</td>\n",
       "      <td>11</td>\n",
       "      <td>10</td>\n",
       "    </tr>\n",
       "    <tr>\n",
       "      <th>9767</th>\n",
       "      <td>2012-10-11 08:00:00</td>\n",
       "      <td>4</td>\n",
       "      <td>0</td>\n",
       "      <td>1</td>\n",
       "      <td>1</td>\n",
       "      <td>15.58</td>\n",
       "      <td>19.695</td>\n",
       "      <td>46</td>\n",
       "      <td>26.0027</td>\n",
       "      <td>25</td>\n",
       "      <td>773</td>\n",
       "      <td>798</td>\n",
       "      <td>8</td>\n",
       "      <td>11</td>\n",
       "      <td>10</td>\n",
       "    </tr>\n",
       "    <tr>\n",
       "      <th>4314</th>\n",
       "      <td>2011-10-11 19:00:00</td>\n",
       "      <td>4</td>\n",
       "      <td>0</td>\n",
       "      <td>1</td>\n",
       "      <td>2</td>\n",
       "      <td>23.78</td>\n",
       "      <td>27.275</td>\n",
       "      <td>83</td>\n",
       "      <td>15.0013</td>\n",
       "      <td>33</td>\n",
       "      <td>285</td>\n",
       "      <td>318</td>\n",
       "      <td>19</td>\n",
       "      <td>11</td>\n",
       "      <td>10</td>\n",
       "    </tr>\n",
       "    <tr>\n",
       "      <th>9778</th>\n",
       "      <td>2012-10-11 19:00:00</td>\n",
       "      <td>4</td>\n",
       "      <td>0</td>\n",
       "      <td>1</td>\n",
       "      <td>1</td>\n",
       "      <td>18.04</td>\n",
       "      <td>21.970</td>\n",
       "      <td>51</td>\n",
       "      <td>8.9981</td>\n",
       "      <td>81</td>\n",
       "      <td>662</td>\n",
       "      <td>743</td>\n",
       "      <td>19</td>\n",
       "      <td>11</td>\n",
       "      <td>10</td>\n",
       "    </tr>\n",
       "    <tr>\n",
       "      <th>4336</th>\n",
       "      <td>2011-10-12 17:00:00</td>\n",
       "      <td>4</td>\n",
       "      <td>0</td>\n",
       "      <td>1</td>\n",
       "      <td>3</td>\n",
       "      <td>22.14</td>\n",
       "      <td>25.760</td>\n",
       "      <td>94</td>\n",
       "      <td>15.0013</td>\n",
       "      <td>16</td>\n",
       "      <td>235</td>\n",
       "      <td>251</td>\n",
       "      <td>17</td>\n",
       "      <td>12</td>\n",
       "      <td>10</td>\n",
       "    </tr>\n",
       "    <tr>\n",
       "      <th>9800</th>\n",
       "      <td>2012-10-12 17:00:00</td>\n",
       "      <td>4</td>\n",
       "      <td>0</td>\n",
       "      <td>1</td>\n",
       "      <td>1</td>\n",
       "      <td>18.86</td>\n",
       "      <td>22.725</td>\n",
       "      <td>38</td>\n",
       "      <td>26.0027</td>\n",
       "      <td>131</td>\n",
       "      <td>706</td>\n",
       "      <td>837</td>\n",
       "      <td>17</td>\n",
       "      <td>12</td>\n",
       "      <td>10</td>\n",
       "    </tr>\n",
       "    <tr>\n",
       "      <th>4432</th>\n",
       "      <td>2011-10-16 17:00:00</td>\n",
       "      <td>4</td>\n",
       "      <td>0</td>\n",
       "      <td>0</td>\n",
       "      <td>1</td>\n",
       "      <td>23.78</td>\n",
       "      <td>27.275</td>\n",
       "      <td>49</td>\n",
       "      <td>31.0009</td>\n",
       "      <td>152</td>\n",
       "      <td>253</td>\n",
       "      <td>405</td>\n",
       "      <td>17</td>\n",
       "      <td>16</td>\n",
       "      <td>10</td>\n",
       "    </tr>\n",
       "    <tr>\n",
       "      <th>9896</th>\n",
       "      <td>2012-10-16 17:00:00</td>\n",
       "      <td>4</td>\n",
       "      <td>0</td>\n",
       "      <td>1</td>\n",
       "      <td>1</td>\n",
       "      <td>21.32</td>\n",
       "      <td>25.000</td>\n",
       "      <td>39</td>\n",
       "      <td>12.9980</td>\n",
       "      <td>104</td>\n",
       "      <td>839</td>\n",
       "      <td>943</td>\n",
       "      <td>17</td>\n",
       "      <td>16</td>\n",
       "      <td>10</td>\n",
       "    </tr>\n",
       "    <tr>\n",
       "      <th>4447</th>\n",
       "      <td>2011-10-17 08:00:00</td>\n",
       "      <td>4</td>\n",
       "      <td>0</td>\n",
       "      <td>1</td>\n",
       "      <td>2</td>\n",
       "      <td>20.50</td>\n",
       "      <td>24.240</td>\n",
       "      <td>51</td>\n",
       "      <td>16.9979</td>\n",
       "      <td>33</td>\n",
       "      <td>381</td>\n",
       "      <td>414</td>\n",
       "      <td>8</td>\n",
       "      <td>17</td>\n",
       "      <td>10</td>\n",
       "    </tr>\n",
       "    <tr>\n",
       "      <th>9911</th>\n",
       "      <td>2012-10-17 08:00:00</td>\n",
       "      <td>4</td>\n",
       "      <td>0</td>\n",
       "      <td>1</td>\n",
       "      <td>2</td>\n",
       "      <td>16.40</td>\n",
       "      <td>20.455</td>\n",
       "      <td>76</td>\n",
       "      <td>0.0000</td>\n",
       "      <td>38</td>\n",
       "      <td>779</td>\n",
       "      <td>817</td>\n",
       "      <td>8</td>\n",
       "      <td>17</td>\n",
       "      <td>10</td>\n",
       "    </tr>\n",
       "    <tr>\n",
       "      <th>4456</th>\n",
       "      <td>2011-10-17 17:00:00</td>\n",
       "      <td>4</td>\n",
       "      <td>0</td>\n",
       "      <td>1</td>\n",
       "      <td>1</td>\n",
       "      <td>22.96</td>\n",
       "      <td>26.515</td>\n",
       "      <td>64</td>\n",
       "      <td>8.9981</td>\n",
       "      <td>80</td>\n",
       "      <td>540</td>\n",
       "      <td>620</td>\n",
       "      <td>17</td>\n",
       "      <td>17</td>\n",
       "      <td>10</td>\n",
       "    </tr>\n",
       "    <tr>\n",
       "      <th>9920</th>\n",
       "      <td>2012-10-17 17:00:00</td>\n",
       "      <td>4</td>\n",
       "      <td>0</td>\n",
       "      <td>1</td>\n",
       "      <td>1</td>\n",
       "      <td>22.14</td>\n",
       "      <td>25.760</td>\n",
       "      <td>56</td>\n",
       "      <td>7.0015</td>\n",
       "      <td>122</td>\n",
       "      <td>766</td>\n",
       "      <td>888</td>\n",
       "      <td>17</td>\n",
       "      <td>17</td>\n",
       "      <td>10</td>\n",
       "    </tr>\n",
       "    <tr>\n",
       "      <th>4457</th>\n",
       "      <td>2011-10-17 18:00:00</td>\n",
       "      <td>4</td>\n",
       "      <td>0</td>\n",
       "      <td>1</td>\n",
       "      <td>1</td>\n",
       "      <td>22.96</td>\n",
       "      <td>26.515</td>\n",
       "      <td>60</td>\n",
       "      <td>0.0000</td>\n",
       "      <td>49</td>\n",
       "      <td>469</td>\n",
       "      <td>518</td>\n",
       "      <td>18</td>\n",
       "      <td>17</td>\n",
       "      <td>10</td>\n",
       "    </tr>\n",
       "    <tr>\n",
       "      <th>9921</th>\n",
       "      <td>2012-10-17 18:00:00</td>\n",
       "      <td>4</td>\n",
       "      <td>0</td>\n",
       "      <td>1</td>\n",
       "      <td>1</td>\n",
       "      <td>21.32</td>\n",
       "      <td>25.000</td>\n",
       "      <td>59</td>\n",
       "      <td>11.0014</td>\n",
       "      <td>90</td>\n",
       "      <td>794</td>\n",
       "      <td>884</td>\n",
       "      <td>18</td>\n",
       "      <td>17</td>\n",
       "      <td>10</td>\n",
       "    </tr>\n",
       "    <tr>\n",
       "      <th>4471</th>\n",
       "      <td>2011-10-18 08:00:00</td>\n",
       "      <td>4</td>\n",
       "      <td>0</td>\n",
       "      <td>1</td>\n",
       "      <td>1</td>\n",
       "      <td>20.50</td>\n",
       "      <td>24.240</td>\n",
       "      <td>77</td>\n",
       "      <td>6.0032</td>\n",
       "      <td>25</td>\n",
       "      <td>474</td>\n",
       "      <td>499</td>\n",
       "      <td>8</td>\n",
       "      <td>18</td>\n",
       "      <td>10</td>\n",
       "    </tr>\n",
       "    <tr>\n",
       "      <th>9935</th>\n",
       "      <td>2012-10-18 08:00:00</td>\n",
       "      <td>4</td>\n",
       "      <td>0</td>\n",
       "      <td>1</td>\n",
       "      <td>1</td>\n",
       "      <td>18.86</td>\n",
       "      <td>22.725</td>\n",
       "      <td>82</td>\n",
       "      <td>16.9979</td>\n",
       "      <td>31</td>\n",
       "      <td>803</td>\n",
       "      <td>834</td>\n",
       "      <td>8</td>\n",
       "      <td>18</td>\n",
       "      <td>10</td>\n",
       "    </tr>\n",
       "    <tr>\n",
       "      <th>4502</th>\n",
       "      <td>2011-10-19 16:00:00</td>\n",
       "      <td>4</td>\n",
       "      <td>0</td>\n",
       "      <td>1</td>\n",
       "      <td>3</td>\n",
       "      <td>22.96</td>\n",
       "      <td>26.515</td>\n",
       "      <td>94</td>\n",
       "      <td>11.0014</td>\n",
       "      <td>21</td>\n",
       "      <td>180</td>\n",
       "      <td>201</td>\n",
       "      <td>16</td>\n",
       "      <td>19</td>\n",
       "      <td>10</td>\n",
       "    </tr>\n",
       "    <tr>\n",
       "      <th>9967</th>\n",
       "      <td>2012-10-19 16:00:00</td>\n",
       "      <td>4</td>\n",
       "      <td>0</td>\n",
       "      <td>1</td>\n",
       "      <td>3</td>\n",
       "      <td>25.42</td>\n",
       "      <td>30.305</td>\n",
       "      <td>69</td>\n",
       "      <td>23.9994</td>\n",
       "      <td>131</td>\n",
       "      <td>434</td>\n",
       "      <td>565</td>\n",
       "      <td>16</td>\n",
       "      <td>19</td>\n",
       "      <td>10</td>\n",
       "    </tr>\n",
       "    <tr>\n",
       "      <th>4504</th>\n",
       "      <td>2011-10-19 18:00:00</td>\n",
       "      <td>4</td>\n",
       "      <td>0</td>\n",
       "      <td>1</td>\n",
       "      <td>3</td>\n",
       "      <td>22.96</td>\n",
       "      <td>26.515</td>\n",
       "      <td>100</td>\n",
       "      <td>11.0014</td>\n",
       "      <td>8</td>\n",
       "      <td>132</td>\n",
       "      <td>140</td>\n",
       "      <td>18</td>\n",
       "      <td>19</td>\n",
       "      <td>10</td>\n",
       "    </tr>\n",
       "    <tr>\n",
       "      <th>9969</th>\n",
       "      <td>2012-10-19 18:00:00</td>\n",
       "      <td>4</td>\n",
       "      <td>0</td>\n",
       "      <td>1</td>\n",
       "      <td>1</td>\n",
       "      <td>22.96</td>\n",
       "      <td>26.515</td>\n",
       "      <td>83</td>\n",
       "      <td>7.0015</td>\n",
       "      <td>21</td>\n",
       "      <td>212</td>\n",
       "      <td>233</td>\n",
       "      <td>18</td>\n",
       "      <td>19</td>\n",
       "      <td>10</td>\n",
       "    </tr>\n",
       "    <tr>\n",
       "      <th>4505</th>\n",
       "      <td>2011-10-19 19:00:00</td>\n",
       "      <td>4</td>\n",
       "      <td>0</td>\n",
       "      <td>1</td>\n",
       "      <td>2</td>\n",
       "      <td>24.60</td>\n",
       "      <td>27.275</td>\n",
       "      <td>88</td>\n",
       "      <td>8.9981</td>\n",
       "      <td>8</td>\n",
       "      <td>189</td>\n",
       "      <td>197</td>\n",
       "      <td>19</td>\n",
       "      <td>19</td>\n",
       "      <td>10</td>\n",
       "    </tr>\n",
       "    <tr>\n",
       "      <th>9970</th>\n",
       "      <td>2012-10-19 19:00:00</td>\n",
       "      <td>4</td>\n",
       "      <td>0</td>\n",
       "      <td>1</td>\n",
       "      <td>1</td>\n",
       "      <td>22.14</td>\n",
       "      <td>25.760</td>\n",
       "      <td>88</td>\n",
       "      <td>11.0014</td>\n",
       "      <td>19</td>\n",
       "      <td>213</td>\n",
       "      <td>232</td>\n",
       "      <td>19</td>\n",
       "      <td>19</td>\n",
       "      <td>10</td>\n",
       "    </tr>\n",
       "    <tr>\n",
       "      <th>4654</th>\n",
       "      <td>2011-11-07 00:00:00</td>\n",
       "      <td>4</td>\n",
       "      <td>0</td>\n",
       "      <td>1</td>\n",
       "      <td>1</td>\n",
       "      <td>13.94</td>\n",
       "      <td>18.180</td>\n",
       "      <td>87</td>\n",
       "      <td>0.0000</td>\n",
       "      <td>1</td>\n",
       "      <td>14</td>\n",
       "      <td>15</td>\n",
       "      <td>0</td>\n",
       "      <td>7</td>\n",
       "      <td>11</td>\n",
       "    </tr>\n",
       "    <tr>\n",
       "      <th>10119</th>\n",
       "      <td>2012-11-07 00:00:00</td>\n",
       "      <td>4</td>\n",
       "      <td>0</td>\n",
       "      <td>1</td>\n",
       "      <td>2</td>\n",
       "      <td>12.30</td>\n",
       "      <td>14.395</td>\n",
       "      <td>56</td>\n",
       "      <td>19.0012</td>\n",
       "      <td>49</td>\n",
       "      <td>234</td>\n",
       "      <td>283</td>\n",
       "      <td>0</td>\n",
       "      <td>7</td>\n",
       "      <td>11</td>\n",
       "    </tr>\n",
       "    <tr>\n",
       "      <th>4979</th>\n",
       "      <td>2011-12-01 13:00:00</td>\n",
       "      <td>4</td>\n",
       "      <td>0</td>\n",
       "      <td>1</td>\n",
       "      <td>1</td>\n",
       "      <td>16.40</td>\n",
       "      <td>20.455</td>\n",
       "      <td>40</td>\n",
       "      <td>15.0013</td>\n",
       "      <td>17</td>\n",
       "      <td>137</td>\n",
       "      <td>154</td>\n",
       "      <td>13</td>\n",
       "      <td>1</td>\n",
       "      <td>12</td>\n",
       "    </tr>\n",
       "    <tr>\n",
       "      <th>10443</th>\n",
       "      <td>2012-12-01 13:00:00</td>\n",
       "      <td>4</td>\n",
       "      <td>0</td>\n",
       "      <td>0</td>\n",
       "      <td>2</td>\n",
       "      <td>13.94</td>\n",
       "      <td>18.180</td>\n",
       "      <td>76</td>\n",
       "      <td>0.0000</td>\n",
       "      <td>123</td>\n",
       "      <td>386</td>\n",
       "      <td>509</td>\n",
       "      <td>13</td>\n",
       "      <td>1</td>\n",
       "      <td>12</td>\n",
       "    </tr>\n",
       "    <tr>\n",
       "      <th>5148</th>\n",
       "      <td>2011-12-08 14:00:00</td>\n",
       "      <td>4</td>\n",
       "      <td>0</td>\n",
       "      <td>1</td>\n",
       "      <td>1</td>\n",
       "      <td>13.12</td>\n",
       "      <td>15.150</td>\n",
       "      <td>45</td>\n",
       "      <td>16.9979</td>\n",
       "      <td>16</td>\n",
       "      <td>121</td>\n",
       "      <td>137</td>\n",
       "      <td>14</td>\n",
       "      <td>8</td>\n",
       "      <td>12</td>\n",
       "    </tr>\n",
       "    <tr>\n",
       "      <th>10612</th>\n",
       "      <td>2012-12-08 14:00:00</td>\n",
       "      <td>4</td>\n",
       "      <td>0</td>\n",
       "      <td>0</td>\n",
       "      <td>2</td>\n",
       "      <td>16.40</td>\n",
       "      <td>20.455</td>\n",
       "      <td>87</td>\n",
       "      <td>19.0012</td>\n",
       "      <td>164</td>\n",
       "      <td>378</td>\n",
       "      <td>542</td>\n",
       "      <td>14</td>\n",
       "      <td>8</td>\n",
       "      <td>12</td>\n",
       "    </tr>\n",
       "    <tr>\n",
       "      <th>5366</th>\n",
       "      <td>2011-12-17 16:00:00</td>\n",
       "      <td>4</td>\n",
       "      <td>0</td>\n",
       "      <td>0</td>\n",
       "      <td>1</td>\n",
       "      <td>11.48</td>\n",
       "      <td>13.635</td>\n",
       "      <td>45</td>\n",
       "      <td>15.0013</td>\n",
       "      <td>30</td>\n",
       "      <td>192</td>\n",
       "      <td>222</td>\n",
       "      <td>16</td>\n",
       "      <td>17</td>\n",
       "      <td>12</td>\n",
       "    </tr>\n",
       "    <tr>\n",
       "      <th>10830</th>\n",
       "      <td>2012-12-17 16:00:00</td>\n",
       "      <td>4</td>\n",
       "      <td>0</td>\n",
       "      <td>1</td>\n",
       "      <td>3</td>\n",
       "      <td>16.40</td>\n",
       "      <td>20.455</td>\n",
       "      <td>94</td>\n",
       "      <td>16.9979</td>\n",
       "      <td>15</td>\n",
       "      <td>287</td>\n",
       "      <td>302</td>\n",
       "      <td>16</td>\n",
       "      <td>17</td>\n",
       "      <td>12</td>\n",
       "    </tr>\n",
       "    <tr>\n",
       "      <th>5367</th>\n",
       "      <td>2011-12-17 17:00:00</td>\n",
       "      <td>4</td>\n",
       "      <td>0</td>\n",
       "      <td>0</td>\n",
       "      <td>1</td>\n",
       "      <td>10.66</td>\n",
       "      <td>12.880</td>\n",
       "      <td>48</td>\n",
       "      <td>15.0013</td>\n",
       "      <td>12</td>\n",
       "      <td>153</td>\n",
       "      <td>165</td>\n",
       "      <td>17</td>\n",
       "      <td>17</td>\n",
       "      <td>12</td>\n",
       "    </tr>\n",
       "    <tr>\n",
       "      <th>10831</th>\n",
       "      <td>2012-12-17 17:00:00</td>\n",
       "      <td>4</td>\n",
       "      <td>0</td>\n",
       "      <td>1</td>\n",
       "      <td>2</td>\n",
       "      <td>16.40</td>\n",
       "      <td>20.455</td>\n",
       "      <td>94</td>\n",
       "      <td>16.9979</td>\n",
       "      <td>17</td>\n",
       "      <td>478</td>\n",
       "      <td>495</td>\n",
       "      <td>17</td>\n",
       "      <td>17</td>\n",
       "      <td>12</td>\n",
       "    </tr>\n",
       "  </tbody>\n",
       "</table>\n",
       "</div>"
      ],
      "text/plain": [
       "                 datetime  season  holiday  workingday  weather   temp  \\\n",
       "3691  2011-09-04 17:00:00       3        0           0        1  31.16   \n",
       "9152  2012-09-04 17:00:00       3        0           1        1  31.16   \n",
       "3729  2011-09-06 08:00:00       3        0           1        3  22.14   \n",
       "9191  2012-09-06 08:00:00       3        0           1        3  28.70   \n",
       "3738  2011-09-06 17:00:00       3        0           1        2  22.14   \n",
       "9200  2012-09-06 17:00:00       3        0           1        1  30.34   \n",
       "3780  2011-09-08 12:00:00       3        0           1        2  27.06   \n",
       "9243  2012-09-08 12:00:00       3        0           0        1  32.80   \n",
       "3783  2011-09-08 15:00:00       3        0           1        3  27.06   \n",
       "9246  2012-09-08 15:00:00       3        0           0        3  22.96   \n",
       "3784  2011-09-08 16:00:00       3        0           1        3  26.24   \n",
       "9247  2012-09-08 16:00:00       3        0           0        3  22.96   \n",
       "3951  2011-09-15 16:00:00       3        0           1        2  22.14   \n",
       "9415  2012-09-15 16:00:00       3        0           0        2  27.06   \n",
       "4025  2011-09-18 18:00:00       3        0           0        2  22.96   \n",
       "9489  2012-09-18 18:00:00       3        0           1        2  24.60   \n",
       "4087  2011-10-02 08:00:00       4        0           0        2  13.94   \n",
       "9551  2012-10-02 08:00:00       4        0           1        3  24.60   \n",
       "4096  2011-10-02 17:00:00       4        0           0        3  14.76   \n",
       "9560  2012-10-02 17:00:00       4        0           1        3  25.42   \n",
       "4097  2011-10-02 18:00:00       4        0           0        2  14.76   \n",
       "9561  2012-10-02 18:00:00       4        0           1        3  25.42   \n",
       "4100  2011-10-02 21:00:00       4        0           0        1  14.76   \n",
       "9564  2012-10-02 21:00:00       4        0           1        3  25.42   \n",
       "4111  2011-10-03 08:00:00       4        0           1        2  14.76   \n",
       "9575  2012-10-03 08:00:00       4        0           1        2  25.42   \n",
       "4279  2011-10-10 08:00:00       4        1           0        1  21.32   \n",
       "9743  2012-10-10 08:00:00       4        0           1        1  20.50   \n",
       "4303  2011-10-11 08:00:00       4        0           1        2  22.96   \n",
       "9767  2012-10-11 08:00:00       4        0           1        1  15.58   \n",
       "4314  2011-10-11 19:00:00       4        0           1        2  23.78   \n",
       "9778  2012-10-11 19:00:00       4        0           1        1  18.04   \n",
       "4336  2011-10-12 17:00:00       4        0           1        3  22.14   \n",
       "9800  2012-10-12 17:00:00       4        0           1        1  18.86   \n",
       "4432  2011-10-16 17:00:00       4        0           0        1  23.78   \n",
       "9896  2012-10-16 17:00:00       4        0           1        1  21.32   \n",
       "4447  2011-10-17 08:00:00       4        0           1        2  20.50   \n",
       "9911  2012-10-17 08:00:00       4        0           1        2  16.40   \n",
       "4456  2011-10-17 17:00:00       4        0           1        1  22.96   \n",
       "9920  2012-10-17 17:00:00       4        0           1        1  22.14   \n",
       "4457  2011-10-17 18:00:00       4        0           1        1  22.96   \n",
       "9921  2012-10-17 18:00:00       4        0           1        1  21.32   \n",
       "4471  2011-10-18 08:00:00       4        0           1        1  20.50   \n",
       "9935  2012-10-18 08:00:00       4        0           1        1  18.86   \n",
       "4502  2011-10-19 16:00:00       4        0           1        3  22.96   \n",
       "9967  2012-10-19 16:00:00       4        0           1        3  25.42   \n",
       "4504  2011-10-19 18:00:00       4        0           1        3  22.96   \n",
       "9969  2012-10-19 18:00:00       4        0           1        1  22.96   \n",
       "4505  2011-10-19 19:00:00       4        0           1        2  24.60   \n",
       "9970  2012-10-19 19:00:00       4        0           1        1  22.14   \n",
       "4654  2011-11-07 00:00:00       4        0           1        1  13.94   \n",
       "10119 2012-11-07 00:00:00       4        0           1        2  12.30   \n",
       "4979  2011-12-01 13:00:00       4        0           1        1  16.40   \n",
       "10443 2012-12-01 13:00:00       4        0           0        2  13.94   \n",
       "5148  2011-12-08 14:00:00       4        0           1        1  13.12   \n",
       "10612 2012-12-08 14:00:00       4        0           0        2  16.40   \n",
       "5366  2011-12-17 16:00:00       4        0           0        1  11.48   \n",
       "10830 2012-12-17 16:00:00       4        0           1        3  16.40   \n",
       "5367  2011-12-17 17:00:00       4        0           0        1  10.66   \n",
       "10831 2012-12-17 17:00:00       4        0           1        2  16.40   \n",
       "\n",
       "        atemp  humidity  windspeed  casual  registered  count  heure  jour  \\\n",
       "3691   36.365        66    15.0013     204         172    376     17     4   \n",
       "9152   36.365        70    23.9994     110         746    856     17     4   \n",
       "3729   25.760        83    26.0027      15         349    364      8     6   \n",
       "9191   33.335        79     0.0000      24         622    646      8     6   \n",
       "3738   25.760        88    26.0027      15         276    291     17     6   \n",
       "9200   34.850        70    16.9979      67         741    808     17     6   \n",
       "3780   29.545        94    15.0013      17          85    102     12     8   \n",
       "9243   37.880        55    32.9975     220         474    694     12     8   \n",
       "3783   29.545        89    19.9995      24         115    139     15     8   \n",
       "9246   26.515        88    16.9979     175         337    512     15     8   \n",
       "3784   28.030        94    19.0012       5         151    156     16     8   \n",
       "9247   26.515        88    12.9980      19          95    114     16     8   \n",
       "3951   25.760        77    31.0009      29         193    222     16    15   \n",
       "9415   31.060        36    15.0013     350         433    783     16    15   \n",
       "4025   26.515        60     7.0015      66         223    289     18    18   \n",
       "9489   27.275        88    11.0014      19         262    281     18    18   \n",
       "4087   16.665        76    12.9980      14          50     64      8     2   \n",
       "9551   27.275        88     0.0000       6         128    134      8     2   \n",
       "4096   17.425        87    11.0014      32         135    167     17     2   \n",
       "9560   28.030        88     7.0015      38         677    715     17     2   \n",
       "4097   17.425        81    12.9980      16         158    174     18     2   \n",
       "9561   27.275        94     6.0032      48         639    687     18     2   \n",
       "4100   17.425        71    15.0013      17          71     88     21     2   \n",
       "9564   27.275        94     7.0015      24         265    289     21     2   \n",
       "4111   18.180        71     7.0015      13         359    372      8     3   \n",
       "9575   28.030        88     7.0015      28         781    809      8     3   \n",
       "4279   25.000        83     0.0000      27         227    254      8    10   \n",
       "9743   24.240        77    11.0014      33         806    839      8    10   \n",
       "4303   26.515        83     7.0015      31         375    406      8    11   \n",
       "9767   19.695        46    26.0027      25         773    798      8    11   \n",
       "4314   27.275        83    15.0013      33         285    318     19    11   \n",
       "9778   21.970        51     8.9981      81         662    743     19    11   \n",
       "4336   25.760        94    15.0013      16         235    251     17    12   \n",
       "9800   22.725        38    26.0027     131         706    837     17    12   \n",
       "4432   27.275        49    31.0009     152         253    405     17    16   \n",
       "9896   25.000        39    12.9980     104         839    943     17    16   \n",
       "4447   24.240        51    16.9979      33         381    414      8    17   \n",
       "9911   20.455        76     0.0000      38         779    817      8    17   \n",
       "4456   26.515        64     8.9981      80         540    620     17    17   \n",
       "9920   25.760        56     7.0015     122         766    888     17    17   \n",
       "4457   26.515        60     0.0000      49         469    518     18    17   \n",
       "9921   25.000        59    11.0014      90         794    884     18    17   \n",
       "4471   24.240        77     6.0032      25         474    499      8    18   \n",
       "9935   22.725        82    16.9979      31         803    834      8    18   \n",
       "4502   26.515        94    11.0014      21         180    201     16    19   \n",
       "9967   30.305        69    23.9994     131         434    565     16    19   \n",
       "4504   26.515       100    11.0014       8         132    140     18    19   \n",
       "9969   26.515        83     7.0015      21         212    233     18    19   \n",
       "4505   27.275        88     8.9981       8         189    197     19    19   \n",
       "9970   25.760        88    11.0014      19         213    232     19    19   \n",
       "4654   18.180        87     0.0000       1          14     15      0     7   \n",
       "10119  14.395        56    19.0012      49         234    283      0     7   \n",
       "4979   20.455        40    15.0013      17         137    154     13     1   \n",
       "10443  18.180        76     0.0000     123         386    509     13     1   \n",
       "5148   15.150        45    16.9979      16         121    137     14     8   \n",
       "10612  20.455        87    19.0012     164         378    542     14     8   \n",
       "5366   13.635        45    15.0013      30         192    222     16    17   \n",
       "10830  20.455        94    16.9979      15         287    302     16    17   \n",
       "5367   12.880        48    15.0013      12         153    165     17    17   \n",
       "10831  20.455        94    16.9979      17         478    495     17    17   \n",
       "\n",
       "       mois  \n",
       "3691      9  \n",
       "9152      9  \n",
       "3729      9  \n",
       "9191      9  \n",
       "3738      9  \n",
       "9200      9  \n",
       "3780      9  \n",
       "9243      9  \n",
       "3783      9  \n",
       "9246      9  \n",
       "3784      9  \n",
       "9247      9  \n",
       "3951      9  \n",
       "9415      9  \n",
       "4025      9  \n",
       "9489      9  \n",
       "4087     10  \n",
       "9551     10  \n",
       "4096     10  \n",
       "9560     10  \n",
       "4097     10  \n",
       "9561     10  \n",
       "4100     10  \n",
       "9564     10  \n",
       "4111     10  \n",
       "9575     10  \n",
       "4279     10  \n",
       "9743     10  \n",
       "4303     10  \n",
       "9767     10  \n",
       "4314     10  \n",
       "9778     10  \n",
       "4336     10  \n",
       "9800     10  \n",
       "4432     10  \n",
       "9896     10  \n",
       "4447     10  \n",
       "9911     10  \n",
       "4456     10  \n",
       "9920     10  \n",
       "4457     10  \n",
       "9921     10  \n",
       "4471     10  \n",
       "9935     10  \n",
       "4502     10  \n",
       "9967     10  \n",
       "4504     10  \n",
       "9969     10  \n",
       "4505     10  \n",
       "9970     10  \n",
       "4654     11  \n",
       "10119    11  \n",
       "4979     12  \n",
       "10443    12  \n",
       "5148     12  \n",
       "10612    12  \n",
       "5366     12  \n",
       "10830    12  \n",
       "5367     12  \n",
       "10831    12  "
      ]
     },
     "execution_count": 244,
     "metadata": {},
     "output_type": "execute_result"
    }
   ],
   "source": [
    "dates_foireuses = list(X_test_res[abs(X_test_res[\"res\"]) > 200][\"date\"])\n",
    "df_analyses = pd.read_csv(\"Datas/train.csv\")\n",
    "df_analyses[\"datetime\"] = pd.to_datetime(df_analyses[\"datetime\"])\n",
    "\n",
    "# for i in df_analyses[\"datetime\"]:\n",
    "#     if i in \n",
    "df_analyses[\"heure\"] = [d.time().hour for d in df_analyses[\"datetime\"]]\n",
    "df_analyses[\"jour\"] = [d.day for d in df_analyses[\"datetime\"]]\n",
    "df_analyses[\"mois\"] = [d.month for d in df_analyses[\"datetime\"]]\n",
    "\n",
    "df_date = df_analyses[[str(d) in dates_foireuses for d in df_analyses[\"datetime\"]]]\n",
    "\n",
    "df_date.reset_index(inplace=True)\n",
    "\n",
    "\n",
    "df_test = pd.DataFrame()\n",
    "for i in range(0,df_date.shape[0]):\n",
    "    masque = (df_analyses[\"heure\"]==df_date.loc[i][\"heure\"]) & (df_analyses[\"mois\"]==df_date.loc[i][\"mois\"]) & (df_analyses[\"jour\"]==df_date.loc[i][\"jour\"])\n",
    "    #masque = [(d[\"heure\"]==row[\"heure\"]) & (d[\"jour\"]==row[\"jour\"]) & (d[\"mois\"]==row[\"mois\"]) for d in df_analyses]\n",
    "    df_test = df_test.append(df_analyses[masque])\n",
    "    \n",
    "\n",
    "df_test\n",
    "\n",
    "\n",
    "# df_date[\"datetime\"][9152]\n",
    "\n",
    "# df_test = pd.DataFrame()\n",
    "# for d in df_date:\n",
    "#     df_test = df_test.append(d)\n",
    "#     date = d[\"datetime\"]\n",
    "#     if \n"
   ]
  },
  {
   "cell_type": "code",
   "execution_count": 206,
   "metadata": {},
   "outputs": [
    {
     "data": {
      "text/html": [
       "<div>\n",
       "<style scoped>\n",
       "    .dataframe tbody tr th:only-of-type {\n",
       "        vertical-align: middle;\n",
       "    }\n",
       "\n",
       "    .dataframe tbody tr th {\n",
       "        vertical-align: top;\n",
       "    }\n",
       "\n",
       "    .dataframe thead th {\n",
       "        text-align: right;\n",
       "    }\n",
       "</style>\n",
       "<table border=\"1\" class=\"dataframe\">\n",
       "  <thead>\n",
       "    <tr style=\"text-align: right;\">\n",
       "      <th></th>\n",
       "      <th>datetime</th>\n",
       "      <th>season</th>\n",
       "      <th>holiday</th>\n",
       "      <th>workingday</th>\n",
       "      <th>weather</th>\n",
       "      <th>temp</th>\n",
       "      <th>atemp</th>\n",
       "      <th>humidity</th>\n",
       "      <th>windspeed</th>\n",
       "      <th>casual</th>\n",
       "      <th>registered</th>\n",
       "      <th>count</th>\n",
       "    </tr>\n",
       "  </thead>\n",
       "  <tbody>\n",
       "    <tr>\n",
       "      <th>0</th>\n",
       "      <td>2011-01-01</td>\n",
       "      <td>1.0</td>\n",
       "      <td>0.0</td>\n",
       "      <td>0.0</td>\n",
       "      <td>1.0</td>\n",
       "      <td>9.84</td>\n",
       "      <td>14.395</td>\n",
       "      <td>81.0</td>\n",
       "      <td>0.0</td>\n",
       "      <td>3.0</td>\n",
       "      <td>13.0</td>\n",
       "      <td>16.0</td>\n",
       "    </tr>\n",
       "  </tbody>\n",
       "</table>\n",
       "</div>"
      ],
      "text/plain": [
       "    datetime  season  holiday  workingday  weather  temp   atemp  humidity  \\\n",
       "0 2011-01-01     1.0      0.0         0.0      1.0  9.84  14.395      81.0   \n",
       "\n",
       "   windspeed  casual  registered  count  \n",
       "0        0.0     3.0        13.0   16.0  "
      ]
     },
     "execution_count": 206,
     "metadata": {},
     "output_type": "execute_result"
    }
   ],
   "source": [
    "df_test = pd.DataFrame()\n",
    "df_test = df_test.append(df_analyses.loc[0])\n",
    "df_test\n"
   ]
  },
  {
   "cell_type": "markdown",
   "metadata": {},
   "source": [
    "importance ?"
   ]
  },
  {
   "cell_type": "code",
   "execution_count": 147,
   "metadata": {},
   "outputs": [
    {
     "data": {
      "text/plain": [
       "['season_1',\n",
       " 'season_2',\n",
       " 'season_3',\n",
       " 'season_4',\n",
       " 'weather_1',\n",
       " 'weather_2',\n",
       " 'weather_3',\n",
       " 'year_2011',\n",
       " 'year_2012',\n",
       " 'temp',\n",
       " 'humidity',\n",
       " 'windspeed',\n",
       " 'heure',\n",
       " 'month',\n",
       " 'holiday',\n",
       " 'workingday']"
      ]
     },
     "execution_count": 147,
     "metadata": {},
     "output_type": "execute_result"
    }
   ],
   "source": [
    "liste_feature.remove(\"weather_4\")\n",
    "liste_feature"
   ]
  },
  {
   "cell_type": "code",
   "execution_count": 148,
   "metadata": {},
   "outputs": [
    {
     "data": {
      "text/plain": [
       "([<matplotlib.axis.YTick at 0x7f24d37a83a0>,\n",
       "  <matplotlib.axis.YTick at 0x7f24d37f5190>,\n",
       "  <matplotlib.axis.YTick at 0x7f24d37a11f0>,\n",
       "  <matplotlib.axis.YTick at 0x7f24d3711460>,\n",
       "  <matplotlib.axis.YTick at 0x7f24d3711bb0>,\n",
       "  <matplotlib.axis.YTick at 0x7f24d36b2340>,\n",
       "  <matplotlib.axis.YTick at 0x7f24d36b2a90>,\n",
       "  <matplotlib.axis.YTick at 0x7f24d36b8220>,\n",
       "  <matplotlib.axis.YTick at 0x7f24d36b2d60>,\n",
       "  <matplotlib.axis.YTick at 0x7f24d3711af0>,\n",
       "  <matplotlib.axis.YTick at 0x7f24d36b8250>,\n",
       "  <matplotlib.axis.YTick at 0x7f24d36c1130>,\n",
       "  <matplotlib.axis.YTick at 0x7f24d36c17c0>,\n",
       "  <matplotlib.axis.YTick at 0x7f24d36c1f10>,\n",
       "  <matplotlib.axis.YTick at 0x7f24d36c86a0>,\n",
       "  <matplotlib.axis.YTick at 0x7f24d36c1700>],\n",
       " [Text(0, 0, 'season_1'),\n",
       "  Text(0, 1, 'season_2'),\n",
       "  Text(0, 2, 'season_3'),\n",
       "  Text(0, 3, 'season_4'),\n",
       "  Text(0, 4, 'weather_1'),\n",
       "  Text(0, 5, 'weather_2'),\n",
       "  Text(0, 6, 'weather_3'),\n",
       "  Text(0, 7, 'year_2011'),\n",
       "  Text(0, 8, 'year_2012'),\n",
       "  Text(0, 9, 'temp'),\n",
       "  Text(0, 10, 'humidity'),\n",
       "  Text(0, 11, 'windspeed'),\n",
       "  Text(0, 12, 'heure'),\n",
       "  Text(0, 13, 'month'),\n",
       "  Text(0, 14, 'holiday'),\n",
       "  Text(0, 15, 'workingday')])"
      ]
     },
     "execution_count": 148,
     "metadata": {},
     "output_type": "execute_result"
    },
    {
     "data": {
      "image/png": "[encoded data removed]",
      "text/plain": [
       "<Figure size 1440x720 with 1 Axes>"
      ]
     },
     "metadata": {},
     "output_type": "display_data"
    }
   ],
   "source": [
    "l_one_hot = list(model_xgb[0].transformers_[0][1][\"onehotencoder\"].get_feature_names(cat_feature))\n",
    "l_standard = model_xgb[0].transformers_[1][2]\n",
    "l_reminder = [ X_train.columns[i] for i in model_xgb[0].transformers_[2][2] ]\n",
    "\n",
    "liste_feature = l_one_hot + l_standard + l_reminder\n",
    "# a automatiser ???\n",
    "liste_feature.remove(\"weather_4\")\n",
    "\n",
    "xgb_score = model_xgb[1].get_booster().get_fscore()\n",
    "\n",
    "\n",
    "fig = plt.figure(figsize=(20,10))\n",
    "y_pos = range(0,len(liste_feature))\n",
    "\n",
    "plt.barh(y_pos,list(xgb_score.values()))\n",
    "plt.yticks(y_pos,liste_feature)\n"
   ]
  },
  {
   "cell_type": "code",
   "execution_count": 139,
   "metadata": {},
   "outputs": [
    {
     "data": {
      "text/plain": [
       "[2, 3]"
      ]
     },
     "execution_count": 139,
     "metadata": {},
     "output_type": "execute_result"
    }
   ],
   "source": [
    "test = [1,2,3,4,5]\n",
    "[test[i] for i in l]"
   ]
  },
  {
   "cell_type": "code",
   "execution_count": null,
   "metadata": {},
   "outputs": [],
   "source": []
  }
 ],
 "metadata": {
  "interpreter": {
   "hash": "c31f9a8c3aa1c3c728ca9635375839dde89f8ec10169db463330867a67196863"
  },
  "kernelspec": {
   "display_name": "Python 3.9.7 ('base')",
   "language": "python",
   "name": "python3"
  },
  "language_info": {
   "codemirror_mode": {
    "name": "ipython",
    "version": 3
   },
   "file_extension": ".py",
   "mimetype": "text/x-python",
   "name": "python",
   "nbconvert_exporter": "python",
   "pygments_lexer": "ipython3",
   "version": "3.9.7"
  },
  "orig_nbformat": 4
 },
 "nbformat": 4,
 "nbformat_minor": 2
}
